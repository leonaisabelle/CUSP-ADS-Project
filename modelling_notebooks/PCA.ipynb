{
 "cells": [
  {
   "cell_type": "code",
   "execution_count": null,
   "metadata": {},
   "outputs": [],
   "source": [
    "# are gardens all in a specific type of neighborhoods? e.g. rich/gentrified areas?\n",
    "\n",
    "# side idea: use random forest/logistic regression for predicting\n",
    "# whether a specific NTA would have a garden (note: not including crime)"
   ]
  },
  {
   "cell_type": "code",
   "execution_count": 1,
   "metadata": {},
   "outputs": [],
   "source": [
    "import pandas as pd\n",
    "import numpy as np\n",
    "from sklearn.datasets import make_classification\n",
    "from sklearn.datasets import make_blobs\n",
    "from matplotlib.pylab import plt\n",
    "%matplotlib inline\n",
    "from sklearn.linear_model import LogisticRegression\n",
    "from sklearn.cluster import KMeans\n",
    "from sklearn.metrics import silhouette_samples, silhouette_score"
   ]
  },
  {
   "cell_type": "code",
   "execution_count": 92,
   "metadata": {},
   "outputs": [
    {
     "data": {
      "text/html": [
       "<div>\n",
       "<style scoped>\n",
       "    .dataframe tbody tr th:only-of-type {\n",
       "        vertical-align: middle;\n",
       "    }\n",
       "\n",
       "    .dataframe tbody tr th {\n",
       "        vertical-align: top;\n",
       "    }\n",
       "\n",
       "    .dataframe thead th {\n",
       "        text-align: right;\n",
       "    }\n",
       "</style>\n",
       "<table border=\"1\" class=\"dataframe\">\n",
       "  <thead>\n",
       "    <tr style=\"text-align: right;\">\n",
       "      <th></th>\n",
       "      <th>GeogName</th>\n",
       "      <th>GeoID</th>\n",
       "      <th>Population</th>\n",
       "      <th>MalePop</th>\n",
       "      <th>FemalePop</th>\n",
       "      <th>PopUnder18</th>\n",
       "      <th>PopOver65</th>\n",
       "      <th>MedianAge</th>\n",
       "      <th>PopHispanic</th>\n",
       "      <th>PopNotHisp</th>\n",
       "      <th>...</th>\n",
       "      <th>Edu9t12</th>\n",
       "      <th>EduHS</th>\n",
       "      <th>EduCollND</th>\n",
       "      <th>EduAssoc</th>\n",
       "      <th>EduBachelor</th>\n",
       "      <th>EduGradProf</th>\n",
       "      <th>EduLessHS</th>\n",
       "      <th>EduaboveBach</th>\n",
       "      <th>GardenCounts</th>\n",
       "      <th>HasGarden</th>\n",
       "    </tr>\n",
       "  </thead>\n",
       "  <tbody>\n",
       "    <tr>\n",
       "      <th>0</th>\n",
       "      <td>Bath Beach</td>\n",
       "      <td>BK27</td>\n",
       "      <td>33163.0</td>\n",
       "      <td>16686.0</td>\n",
       "      <td>16477.0</td>\n",
       "      <td>7103.0</td>\n",
       "      <td>4888.0</td>\n",
       "      <td>38.3</td>\n",
       "      <td>5861.0</td>\n",
       "      <td>27302.0</td>\n",
       "      <td>...</td>\n",
       "      <td>2326.0</td>\n",
       "      <td>6188.0</td>\n",
       "      <td>2486.0</td>\n",
       "      <td>1667.0</td>\n",
       "      <td>5345.0</td>\n",
       "      <td>2664.0</td>\n",
       "      <td>5472.0</td>\n",
       "      <td>8009.0</td>\n",
       "      <td>0</td>\n",
       "      <td>0</td>\n",
       "    </tr>\n",
       "    <tr>\n",
       "      <th>1</th>\n",
       "      <td>Bay Ridge</td>\n",
       "      <td>BK31</td>\n",
       "      <td>79134.0</td>\n",
       "      <td>37829.0</td>\n",
       "      <td>41305.0</td>\n",
       "      <td>15110.0</td>\n",
       "      <td>12380.0</td>\n",
       "      <td>39.5</td>\n",
       "      <td>14134.0</td>\n",
       "      <td>65000.0</td>\n",
       "      <td>...</td>\n",
       "      <td>3900.0</td>\n",
       "      <td>11165.0</td>\n",
       "      <td>8251.0</td>\n",
       "      <td>3746.0</td>\n",
       "      <td>15823.0</td>\n",
       "      <td>11187.0</td>\n",
       "      <td>8006.0</td>\n",
       "      <td>27010.0</td>\n",
       "      <td>0</td>\n",
       "      <td>0</td>\n",
       "    </tr>\n",
       "    <tr>\n",
       "      <th>2</th>\n",
       "      <td>Bedford</td>\n",
       "      <td>BK75</td>\n",
       "      <td>75318.0</td>\n",
       "      <td>36491.0</td>\n",
       "      <td>38827.0</td>\n",
       "      <td>22379.0</td>\n",
       "      <td>5816.0</td>\n",
       "      <td>29.1</td>\n",
       "      <td>14682.0</td>\n",
       "      <td>60636.0</td>\n",
       "      <td>...</td>\n",
       "      <td>5791.0</td>\n",
       "      <td>11608.0</td>\n",
       "      <td>6838.0</td>\n",
       "      <td>2215.0</td>\n",
       "      <td>9148.0</td>\n",
       "      <td>5258.0</td>\n",
       "      <td>9699.0</td>\n",
       "      <td>14406.0</td>\n",
       "      <td>23</td>\n",
       "      <td>1</td>\n",
       "    </tr>\n",
       "    <tr>\n",
       "      <th>3</th>\n",
       "      <td>Bensonhurst East</td>\n",
       "      <td>BK29</td>\n",
       "      <td>64267.0</td>\n",
       "      <td>31283.0</td>\n",
       "      <td>32984.0</td>\n",
       "      <td>12773.0</td>\n",
       "      <td>10107.0</td>\n",
       "      <td>39.6</td>\n",
       "      <td>7923.0</td>\n",
       "      <td>56344.0</td>\n",
       "      <td>...</td>\n",
       "      <td>4700.0</td>\n",
       "      <td>12871.0</td>\n",
       "      <td>4433.0</td>\n",
       "      <td>3262.0</td>\n",
       "      <td>9412.0</td>\n",
       "      <td>4476.0</td>\n",
       "      <td>11556.0</td>\n",
       "      <td>13888.0</td>\n",
       "      <td>1</td>\n",
       "      <td>1</td>\n",
       "    </tr>\n",
       "    <tr>\n",
       "      <th>4</th>\n",
       "      <td>Bensonhurst West</td>\n",
       "      <td>BK28</td>\n",
       "      <td>91646.0</td>\n",
       "      <td>44651.0</td>\n",
       "      <td>46995.0</td>\n",
       "      <td>19288.0</td>\n",
       "      <td>13071.0</td>\n",
       "      <td>37.8</td>\n",
       "      <td>13378.0</td>\n",
       "      <td>78268.0</td>\n",
       "      <td>...</td>\n",
       "      <td>7191.0</td>\n",
       "      <td>18127.0</td>\n",
       "      <td>6748.0</td>\n",
       "      <td>4796.0</td>\n",
       "      <td>12275.0</td>\n",
       "      <td>4784.0</td>\n",
       "      <td>18286.0</td>\n",
       "      <td>17059.0</td>\n",
       "      <td>2</td>\n",
       "      <td>1</td>\n",
       "    </tr>\n",
       "  </tbody>\n",
       "</table>\n",
       "<p>5 rows × 41 columns</p>\n",
       "</div>"
      ],
      "text/plain": [
       "           GeogName GeoID  Population  MalePop  FemalePop  PopUnder18  \\\n",
       "0        Bath Beach  BK27     33163.0  16686.0    16477.0      7103.0   \n",
       "1         Bay Ridge  BK31     79134.0  37829.0    41305.0     15110.0   \n",
       "2           Bedford  BK75     75318.0  36491.0    38827.0     22379.0   \n",
       "3  Bensonhurst East  BK29     64267.0  31283.0    32984.0     12773.0   \n",
       "4  Bensonhurst West  BK28     91646.0  44651.0    46995.0     19288.0   \n",
       "\n",
       "   PopOver65  MedianAge  PopHispanic  PopNotHisp    ...      Edu9t12    EduHS  \\\n",
       "0     4888.0       38.3       5861.0     27302.0    ...       2326.0   6188.0   \n",
       "1    12380.0       39.5      14134.0     65000.0    ...       3900.0  11165.0   \n",
       "2     5816.0       29.1      14682.0     60636.0    ...       5791.0  11608.0   \n",
       "3    10107.0       39.6       7923.0     56344.0    ...       4700.0  12871.0   \n",
       "4    13071.0       37.8      13378.0     78268.0    ...       7191.0  18127.0   \n",
       "\n",
       "   EduCollND  EduAssoc  EduBachelor  EduGradProf  EduLessHS  EduaboveBach  \\\n",
       "0     2486.0    1667.0       5345.0       2664.0     5472.0        8009.0   \n",
       "1     8251.0    3746.0      15823.0      11187.0     8006.0       27010.0   \n",
       "2     6838.0    2215.0       9148.0       5258.0     9699.0       14406.0   \n",
       "3     4433.0    3262.0       9412.0       4476.0    11556.0       13888.0   \n",
       "4     6748.0    4796.0      12275.0       4784.0    18286.0       17059.0   \n",
       "\n",
       "   GardenCounts  HasGarden  \n",
       "0             0          0  \n",
       "1             0          0  \n",
       "2            23          1  \n",
       "3             1          1  \n",
       "4             2          1  \n",
       "\n",
       "[5 rows x 41 columns]"
      ]
     },
     "execution_count": 92,
     "metadata": {},
     "output_type": "execute_result"
    }
   ],
   "source": [
    "data = pd.read_csv('../data/ACS_Merged_renamed.csv', index_col=0) # 2012-2016\n",
    "data.head()"
   ]
  },
  {
   "cell_type": "code",
   "execution_count": 93,
   "metadata": {},
   "outputs": [],
   "source": [
    "data.set_index('GeogName', inplace=True) "
   ]
  },
  {
   "cell_type": "code",
   "execution_count": 94,
   "metadata": {},
   "outputs": [
    {
     "data": {
      "text/html": [
       "<div>\n",
       "<style scoped>\n",
       "    .dataframe tbody tr th:only-of-type {\n",
       "        vertical-align: middle;\n",
       "    }\n",
       "\n",
       "    .dataframe tbody tr th {\n",
       "        vertical-align: top;\n",
       "    }\n",
       "\n",
       "    .dataframe thead th {\n",
       "        text-align: right;\n",
       "    }\n",
       "</style>\n",
       "<table border=\"1\" class=\"dataframe\">\n",
       "  <thead>\n",
       "    <tr style=\"text-align: right;\">\n",
       "      <th></th>\n",
       "      <th>Population</th>\n",
       "      <th>MalePop</th>\n",
       "      <th>FemalePop</th>\n",
       "      <th>PopUnder18</th>\n",
       "      <th>PopOver65</th>\n",
       "      <th>MedianAge</th>\n",
       "      <th>PopHispanic</th>\n",
       "      <th>PopNotHisp</th>\n",
       "      <th>PopWhite</th>\n",
       "      <th>PopBlack</th>\n",
       "      <th>...</th>\n",
       "      <th>Edu9t12</th>\n",
       "      <th>EduHS</th>\n",
       "      <th>EduCollND</th>\n",
       "      <th>EduAssoc</th>\n",
       "      <th>EduBachelor</th>\n",
       "      <th>EduGradProf</th>\n",
       "      <th>EduLessHS</th>\n",
       "      <th>EduaboveBach</th>\n",
       "      <th>GardenCounts</th>\n",
       "      <th>HasGarden</th>\n",
       "    </tr>\n",
       "    <tr>\n",
       "      <th>GeogName</th>\n",
       "      <th></th>\n",
       "      <th></th>\n",
       "      <th></th>\n",
       "      <th></th>\n",
       "      <th></th>\n",
       "      <th></th>\n",
       "      <th></th>\n",
       "      <th></th>\n",
       "      <th></th>\n",
       "      <th></th>\n",
       "      <th></th>\n",
       "      <th></th>\n",
       "      <th></th>\n",
       "      <th></th>\n",
       "      <th></th>\n",
       "      <th></th>\n",
       "      <th></th>\n",
       "      <th></th>\n",
       "      <th></th>\n",
       "      <th></th>\n",
       "      <th></th>\n",
       "    </tr>\n",
       "  </thead>\n",
       "  <tbody>\n",
       "    <tr>\n",
       "      <th>Bath Beach</th>\n",
       "      <td>33163.0</td>\n",
       "      <td>16686.0</td>\n",
       "      <td>16477.0</td>\n",
       "      <td>7103.0</td>\n",
       "      <td>4888.0</td>\n",
       "      <td>38.3</td>\n",
       "      <td>5861.0</td>\n",
       "      <td>27302.0</td>\n",
       "      <td>14490.0</td>\n",
       "      <td>404.0</td>\n",
       "      <td>...</td>\n",
       "      <td>2326.0</td>\n",
       "      <td>6188.0</td>\n",
       "      <td>2486.0</td>\n",
       "      <td>1667.0</td>\n",
       "      <td>5345.0</td>\n",
       "      <td>2664.0</td>\n",
       "      <td>5472.0</td>\n",
       "      <td>8009.0</td>\n",
       "      <td>0</td>\n",
       "      <td>0</td>\n",
       "    </tr>\n",
       "    <tr>\n",
       "      <th>Bay Ridge</th>\n",
       "      <td>79134.0</td>\n",
       "      <td>37829.0</td>\n",
       "      <td>41305.0</td>\n",
       "      <td>15110.0</td>\n",
       "      <td>12380.0</td>\n",
       "      <td>39.5</td>\n",
       "      <td>14134.0</td>\n",
       "      <td>65000.0</td>\n",
       "      <td>50197.0</td>\n",
       "      <td>1511.0</td>\n",
       "      <td>...</td>\n",
       "      <td>3900.0</td>\n",
       "      <td>11165.0</td>\n",
       "      <td>8251.0</td>\n",
       "      <td>3746.0</td>\n",
       "      <td>15823.0</td>\n",
       "      <td>11187.0</td>\n",
       "      <td>8006.0</td>\n",
       "      <td>27010.0</td>\n",
       "      <td>0</td>\n",
       "      <td>0</td>\n",
       "    </tr>\n",
       "  </tbody>\n",
       "</table>\n",
       "<p>2 rows × 39 columns</p>\n",
       "</div>"
      ],
      "text/plain": [
       "            Population  MalePop  FemalePop  PopUnder18  PopOver65  MedianAge  \\\n",
       "GeogName                                                                       \n",
       "Bath Beach     33163.0  16686.0    16477.0      7103.0     4888.0       38.3   \n",
       "Bay Ridge      79134.0  37829.0    41305.0     15110.0    12380.0       39.5   \n",
       "\n",
       "            PopHispanic  PopNotHisp  PopWhite  PopBlack    ...      Edu9t12  \\\n",
       "GeogName                                                   ...                \n",
       "Bath Beach       5861.0     27302.0   14490.0     404.0    ...       2326.0   \n",
       "Bay Ridge       14134.0     65000.0   50197.0    1511.0    ...       3900.0   \n",
       "\n",
       "              EduHS  EduCollND  EduAssoc  EduBachelor  EduGradProf  EduLessHS  \\\n",
       "GeogName                                                                        \n",
       "Bath Beach   6188.0     2486.0    1667.0       5345.0       2664.0     5472.0   \n",
       "Bay Ridge   11165.0     8251.0    3746.0      15823.0      11187.0     8006.0   \n",
       "\n",
       "            EduaboveBach  GardenCounts  HasGarden  \n",
       "GeogName                                           \n",
       "Bath Beach        8009.0             0          0  \n",
       "Bay Ridge        27010.0             0          0  \n",
       "\n",
       "[2 rows x 39 columns]"
      ]
     },
     "execution_count": 94,
     "metadata": {},
     "output_type": "execute_result"
    }
   ],
   "source": [
    "data = data.drop(columns=['GeoID'])\n",
    "data.head(2)"
   ]
  },
  {
   "cell_type": "code",
   "execution_count": 95,
   "metadata": {},
   "outputs": [
    {
     "data": {
      "text/plain": [
       "(195, 39)"
      ]
     },
     "execution_count": 95,
     "metadata": {},
     "output_type": "execute_result"
    }
   ],
   "source": [
    "data.shape"
   ]
  },
  {
   "cell_type": "code",
   "execution_count": 96,
   "metadata": {},
   "outputs": [],
   "source": [
    "data.dropna(inplace=True)"
   ]
  },
  {
   "cell_type": "code",
   "execution_count": 174,
   "metadata": {},
   "outputs": [
    {
     "data": {
      "text/html": [
       "<div>\n",
       "<style scoped>\n",
       "    .dataframe tbody tr th:only-of-type {\n",
       "        vertical-align: middle;\n",
       "    }\n",
       "\n",
       "    .dataframe tbody tr th {\n",
       "        vertical-align: top;\n",
       "    }\n",
       "\n",
       "    .dataframe thead th {\n",
       "        text-align: right;\n",
       "    }\n",
       "</style>\n",
       "<table border=\"1\" class=\"dataframe\">\n",
       "  <thead>\n",
       "    <tr style=\"text-align: right;\">\n",
       "      <th></th>\n",
       "      <th>Population</th>\n",
       "      <th>MalePop</th>\n",
       "      <th>FemalePop</th>\n",
       "      <th>PopUnder18</th>\n",
       "      <th>PopOver65</th>\n",
       "      <th>MedianAge</th>\n",
       "      <th>PopHispanic</th>\n",
       "      <th>PopNotHisp</th>\n",
       "      <th>PopWhite</th>\n",
       "      <th>PopBlack</th>\n",
       "      <th>...</th>\n",
       "      <th>EduBelow9</th>\n",
       "      <th>Edu9t12</th>\n",
       "      <th>EduHS</th>\n",
       "      <th>EduCollND</th>\n",
       "      <th>EduAssoc</th>\n",
       "      <th>EduBachelor</th>\n",
       "      <th>EduGradProf</th>\n",
       "      <th>EduLessHS</th>\n",
       "      <th>EduaboveBach</th>\n",
       "      <th>GardenCounts</th>\n",
       "    </tr>\n",
       "    <tr>\n",
       "      <th>GeogName</th>\n",
       "      <th></th>\n",
       "      <th></th>\n",
       "      <th></th>\n",
       "      <th></th>\n",
       "      <th></th>\n",
       "      <th></th>\n",
       "      <th></th>\n",
       "      <th></th>\n",
       "      <th></th>\n",
       "      <th></th>\n",
       "      <th></th>\n",
       "      <th></th>\n",
       "      <th></th>\n",
       "      <th></th>\n",
       "      <th></th>\n",
       "      <th></th>\n",
       "      <th></th>\n",
       "      <th></th>\n",
       "      <th></th>\n",
       "      <th></th>\n",
       "      <th></th>\n",
       "    </tr>\n",
       "  </thead>\n",
       "  <tbody>\n",
       "    <tr>\n",
       "      <th>Bath Beach</th>\n",
       "      <td>33163.0</td>\n",
       "      <td>16686.0</td>\n",
       "      <td>16477.0</td>\n",
       "      <td>7103.0</td>\n",
       "      <td>4888.0</td>\n",
       "      <td>38.3</td>\n",
       "      <td>5861.0</td>\n",
       "      <td>27302.0</td>\n",
       "      <td>14490.0</td>\n",
       "      <td>404.0</td>\n",
       "      <td>...</td>\n",
       "      <td>3146.0</td>\n",
       "      <td>2326.0</td>\n",
       "      <td>6188.0</td>\n",
       "      <td>2486.0</td>\n",
       "      <td>1667.0</td>\n",
       "      <td>5345.0</td>\n",
       "      <td>2664.0</td>\n",
       "      <td>5472.0</td>\n",
       "      <td>8009.0</td>\n",
       "      <td>0</td>\n",
       "    </tr>\n",
       "    <tr>\n",
       "      <th>Bay Ridge</th>\n",
       "      <td>79134.0</td>\n",
       "      <td>37829.0</td>\n",
       "      <td>41305.0</td>\n",
       "      <td>15110.0</td>\n",
       "      <td>12380.0</td>\n",
       "      <td>39.5</td>\n",
       "      <td>14134.0</td>\n",
       "      <td>65000.0</td>\n",
       "      <td>50197.0</td>\n",
       "      <td>1511.0</td>\n",
       "      <td>...</td>\n",
       "      <td>4106.0</td>\n",
       "      <td>3900.0</td>\n",
       "      <td>11165.0</td>\n",
       "      <td>8251.0</td>\n",
       "      <td>3746.0</td>\n",
       "      <td>15823.0</td>\n",
       "      <td>11187.0</td>\n",
       "      <td>8006.0</td>\n",
       "      <td>27010.0</td>\n",
       "      <td>0</td>\n",
       "    </tr>\n",
       "  </tbody>\n",
       "</table>\n",
       "<p>2 rows × 38 columns</p>\n",
       "</div>"
      ],
      "text/plain": [
       "            Population  MalePop  FemalePop  PopUnder18  PopOver65  MedianAge  \\\n",
       "GeogName                                                                       \n",
       "Bath Beach     33163.0  16686.0    16477.0      7103.0     4888.0       38.3   \n",
       "Bay Ridge      79134.0  37829.0    41305.0     15110.0    12380.0       39.5   \n",
       "\n",
       "            PopHispanic  PopNotHisp  PopWhite  PopBlack      ...       \\\n",
       "GeogName                                                     ...        \n",
       "Bath Beach       5861.0     27302.0   14490.0     404.0      ...        \n",
       "Bay Ridge       14134.0     65000.0   50197.0    1511.0      ...        \n",
       "\n",
       "            EduBelow9  Edu9t12    EduHS  EduCollND  EduAssoc  EduBachelor  \\\n",
       "GeogName                                                                    \n",
       "Bath Beach     3146.0   2326.0   6188.0     2486.0    1667.0       5345.0   \n",
       "Bay Ridge      4106.0   3900.0  11165.0     8251.0    3746.0      15823.0   \n",
       "\n",
       "            EduGradProf  EduLessHS  EduaboveBach  GardenCounts  \n",
       "GeogName                                                        \n",
       "Bath Beach       2664.0     5472.0        8009.0             0  \n",
       "Bay Ridge       11187.0     8006.0       27010.0             0  \n",
       "\n",
       "[2 rows x 38 columns]"
      ]
     },
     "execution_count": 174,
     "metadata": {},
     "output_type": "execute_result"
    }
   ],
   "source": [
    "data_x = data.iloc[:, :38]\n",
    "data_x.head(2)"
   ]
  },
  {
   "cell_type": "code",
   "execution_count": 102,
   "metadata": {},
   "outputs": [],
   "source": [
    "data_garden_cts = data['GardenCounts']\n",
    "data_has_garden = data['HasGarden']"
   ]
  },
  {
   "cell_type": "code",
   "execution_count": 175,
   "metadata": {},
   "outputs": [
    {
     "name": "stderr",
     "output_type": "stream",
     "text": [
      "/usr/local/Cellar/python3/3.6.2/Frameworks/Python.framework/Versions/3.6/lib/python3.6/site-packages/sklearn/preprocessing/data.py:645: DataConversionWarning: Data with input dtype int64, float64 were all converted to float64 by StandardScaler.\n",
      "  return self.partial_fit(X, y)\n",
      "/usr/local/Cellar/python3/3.6.2/Frameworks/Python.framework/Versions/3.6/lib/python3.6/site-packages/ipykernel_launcher.py:3: DataConversionWarning: Data with input dtype int64, float64 were all converted to float64 by StandardScaler.\n",
      "  This is separate from the ipykernel package so we can avoid doing imports until\n"
     ]
    }
   ],
   "source": [
    "from sklearn import preprocessing\n",
    "scaler = preprocessing.StandardScaler().fit(data_x)\n",
    "data_xscaled = scaler.transform(data_x)"
   ]
  },
  {
   "cell_type": "code",
   "execution_count": 176,
   "metadata": {
    "scrolled": true
   },
   "outputs": [
    {
     "data": {
      "text/plain": [
       "array([0.47686879, 0.70608353, 0.7661704 , 0.81442507, 0.85541629,\n",
       "       0.8803121 , 0.90253656, 0.92138573, 0.93706221, 0.94969627,\n",
       "       0.96051554, 0.96876578, 0.97370826, 0.97816779, 0.98229662,\n",
       "       0.98580593, 0.98794769, 0.98971344, 0.99140441, 0.99294207,\n",
       "       0.9942451 , 0.99534302, 0.99623486, 0.99705175, 0.99773115,\n",
       "       0.99838516, 0.9988246 , 0.99923528, 0.99954226, 0.99977226,\n",
       "       0.99990936, 1.        , 1.        , 1.        , 1.        ,\n",
       "       1.        , 1.        , 1.        ])"
      ]
     },
     "execution_count": 176,
     "metadata": {},
     "output_type": "execute_result"
    }
   ],
   "source": [
    "from sklearn.decomposition import PCA\n",
    "pca = PCA(data_x.shape[1])\n",
    "pca_model = pca.fit_transform(data_xscaled) # exclude GardenCounts and HasGarden\n",
    "pca.explained_variance_ratio_.cumsum()"
   ]
  },
  {
   "cell_type": "code",
   "execution_count": 179,
   "metadata": {},
   "outputs": [
    {
     "data": {
      "text/plain": [
       "<matplotlib.collections.PathCollection at 0x11a89ac50>"
      ]
     },
     "execution_count": 179,
     "metadata": {},
     "output_type": "execute_result"
    },
    {
     "data": {
      "image/png": "[encoded data removed]",
      "text/plain": [
       "<Figure size 576x576 with 1 Axes>"
      ]
     },
     "metadata": {
      "needs_background": "light"
     },
     "output_type": "display_data"
    }
   ],
   "source": [
    "#2-d plot\n",
    "fig = plt.figure(figsize=(8,8))\n",
    "\n",
    "plt.scatter(x=pca_model[:, 0], y=pca_model[:, 1])"
   ]
  },
  {
   "cell_type": "code",
   "execution_count": 164,
   "metadata": {},
   "outputs": [
    {
     "data": {
      "text/plain": [
       "<matplotlib.axes._subplots.AxesSubplot at 0x116e72a20>"
      ]
     },
     "execution_count": 164,
     "metadata": {},
     "output_type": "execute_result"
    },
    {
     "data": {
      "image/png": "[encoded data removed]",
      "text/plain": [
       "<Figure size 432x288 with 1 Axes>"
      ]
     },
     "metadata": {
      "needs_background": "light"
     },
     "output_type": "display_data"
    }
   ],
   "source": [
    "data_garden_cts.hist() # Number of gardens per NTA"
   ]
  },
  {
   "cell_type": "code",
   "execution_count": 173,
   "metadata": {},
   "outputs": [],
   "source": [
    "# scaler_garden_cts = preprocessing.StandardScaler().fit(data_garden_cts)\n",
    "# scaler_garden_cts.transform(data_garden_cts)\n",
    "\n",
    "preprocessing.StandardScaler?"
   ]
  }
 ],
 "metadata": {
  "kernelspec": {
   "display_name": "Python 3",
   "language": "python",
   "name": "python3"
  },
  "language_info": {
   "codemirror_mode": {
    "name": "ipython",
    "version": 3
   },
   "file_extension": ".py",
   "mimetype": "text/x-python",
   "name": "python",
   "nbconvert_exporter": "python",
   "pygments_lexer": "ipython3",
   "version": "3.6.2"
  }
 },
 "nbformat": 4,
 "nbformat_minor": 2
}
