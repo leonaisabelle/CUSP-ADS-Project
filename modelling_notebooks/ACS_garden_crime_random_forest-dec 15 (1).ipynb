{
 "cells": [
  {
   "cell_type": "code",
   "execution_count": 2,
   "metadata": {},
   "outputs": [
    {
     "name": "stdout",
     "output_type": "stream",
     "text": [
      "The autoreload extension is already loaded. To reload it, use:\n",
      "  %reload_ext autoreload\n"
     ]
    }
   ],
   "source": [
    "import pandas as pd\n",
    "from pandas.api.types import is_string_dtype, is_numeric_dtype\n",
    "import pandas_profiling\n",
    "import numpy as np\n",
    "import re\n",
    "import requests\n",
    "from IPython.display import display\n",
    "import seaborn as sns\n",
    "from scipy.stats import norm\n",
    "from scipy import stats\n",
    "import matplotlib.pyplot as plt\n",
    "import matplotlib.ticker as ticker\n",
    "from matplotlib.ticker import NullFormatter\n",
    "import matplotlib.image as mpimg\n",
    "import pydotplus\n",
    "from sklearn import preprocessing\n",
    "from sklearn.model_selection import train_test_split, GridSearchCV\n",
    "from sklearn.tree import DecisionTreeClassifier\n",
    "from sklearn.ensemble import RandomForestClassifier\n",
    "from sklearn import metrics\n",
    "from sklearn.metrics import classification_report, confusion_matrix\n",
    "from sklearn.externals.six import StringIO\n",
    "from sklearn import tree\n",
    "from sklearn.preprocessing import LabelEncoder, OneHotEncoder\n",
    "from sklearn.ensemble import RandomForestClassifier\n",
    "\n",
    "import warnings\n",
    "import types\n",
    "\n",
    "%load_ext autoreload\n",
    "%autoreload 2\n",
    " \n",
    "%matplotlib inline"
   ]
  },
  {
   "cell_type": "code",
   "execution_count": 3,
   "metadata": {},
   "outputs": [
    {
     "data": {
      "text/html": [
       "<div>\n",
       "<style scoped>\n",
       "    .dataframe tbody tr th:only-of-type {\n",
       "        vertical-align: middle;\n",
       "    }\n",
       "\n",
       "    .dataframe tbody tr th {\n",
       "        vertical-align: top;\n",
       "    }\n",
       "\n",
       "    .dataframe thead th {\n",
       "        text-align: right;\n",
       "    }\n",
       "</style>\n",
       "<table border=\"1\" class=\"dataframe\">\n",
       "  <thead>\n",
       "    <tr style=\"text-align: right;\">\n",
       "      <th></th>\n",
       "      <th>GeoType</th>\n",
       "      <th>NTA</th>\n",
       "      <th>GeoID</th>\n",
       "      <th>Borough</th>\n",
       "      <th>Pop_1E</th>\n",
       "      <th>MaleEN</th>\n",
       "      <th>FemEN</th>\n",
       "      <th>PopUnd18N</th>\n",
       "      <th>PopOv65N</th>\n",
       "      <th>HispN</th>\n",
       "      <th>...</th>\n",
       "      <th>FELONY</th>\n",
       "      <th>MISDEMEANOR</th>\n",
       "      <th>VIOLATION</th>\n",
       "      <th>TOTAL_CRIME</th>\n",
       "      <th>Population</th>\n",
       "      <th>GardenCounts_y</th>\n",
       "      <th>FELONY_norm</th>\n",
       "      <th>MISDEMEANOR_norm</th>\n",
       "      <th>VIOLATION_norm</th>\n",
       "      <th>TOTAL_CRIME_norm</th>\n",
       "    </tr>\n",
       "  </thead>\n",
       "  <tbody>\n",
       "    <tr>\n",
       "      <th>0</th>\n",
       "      <td>NTA2010</td>\n",
       "      <td>Bath Beach</td>\n",
       "      <td>BK27</td>\n",
       "      <td>Brooklyn</td>\n",
       "      <td>33163</td>\n",
       "      <td>0.503151</td>\n",
       "      <td>0.496849</td>\n",
       "      <td>0.214184</td>\n",
       "      <td>0.147393</td>\n",
       "      <td>0.176733</td>\n",
       "      <td>...</td>\n",
       "      <td>996.0</td>\n",
       "      <td>2177.0</td>\n",
       "      <td>479.0</td>\n",
       "      <td>3652.0</td>\n",
       "      <td>33163.0</td>\n",
       "      <td>0.0</td>\n",
       "      <td>0.030033</td>\n",
       "      <td>0.065645</td>\n",
       "      <td>0.014444</td>\n",
       "      <td>0.110123</td>\n",
       "    </tr>\n",
       "    <tr>\n",
       "      <th>1</th>\n",
       "      <td>NTA2010</td>\n",
       "      <td>Bay Ridge</td>\n",
       "      <td>BK31</td>\n",
       "      <td>Brooklyn</td>\n",
       "      <td>79134</td>\n",
       "      <td>0.478037</td>\n",
       "      <td>0.521963</td>\n",
       "      <td>0.190942</td>\n",
       "      <td>0.156444</td>\n",
       "      <td>0.178608</td>\n",
       "      <td>...</td>\n",
       "      <td>2661.0</td>\n",
       "      <td>6493.0</td>\n",
       "      <td>1886.0</td>\n",
       "      <td>11040.0</td>\n",
       "      <td>79134.0</td>\n",
       "      <td>0.0</td>\n",
       "      <td>0.033627</td>\n",
       "      <td>0.082051</td>\n",
       "      <td>0.023833</td>\n",
       "      <td>0.139510</td>\n",
       "    </tr>\n",
       "    <tr>\n",
       "      <th>2</th>\n",
       "      <td>NTA2010</td>\n",
       "      <td>Bedford</td>\n",
       "      <td>BK75</td>\n",
       "      <td>Brooklyn</td>\n",
       "      <td>75318</td>\n",
       "      <td>0.484492</td>\n",
       "      <td>0.515508</td>\n",
       "      <td>0.297127</td>\n",
       "      <td>0.077219</td>\n",
       "      <td>0.194933</td>\n",
       "      <td>...</td>\n",
       "      <td>6178.0</td>\n",
       "      <td>9390.0</td>\n",
       "      <td>2485.0</td>\n",
       "      <td>18053.0</td>\n",
       "      <td>75318.0</td>\n",
       "      <td>23.0</td>\n",
       "      <td>0.082026</td>\n",
       "      <td>0.124671</td>\n",
       "      <td>0.032993</td>\n",
       "      <td>0.239690</td>\n",
       "    </tr>\n",
       "    <tr>\n",
       "      <th>3</th>\n",
       "      <td>NTA2010</td>\n",
       "      <td>Bensonhurst East</td>\n",
       "      <td>BK29</td>\n",
       "      <td>Brooklyn</td>\n",
       "      <td>64267</td>\n",
       "      <td>0.486766</td>\n",
       "      <td>0.513234</td>\n",
       "      <td>0.198749</td>\n",
       "      <td>0.157266</td>\n",
       "      <td>0.123283</td>\n",
       "      <td>...</td>\n",
       "      <td>1888.0</td>\n",
       "      <td>3085.0</td>\n",
       "      <td>962.0</td>\n",
       "      <td>5935.0</td>\n",
       "      <td>64267.0</td>\n",
       "      <td>1.0</td>\n",
       "      <td>0.029377</td>\n",
       "      <td>0.048003</td>\n",
       "      <td>0.014969</td>\n",
       "      <td>0.092349</td>\n",
       "    </tr>\n",
       "    <tr>\n",
       "      <th>4</th>\n",
       "      <td>NTA2010</td>\n",
       "      <td>Bensonhurst West</td>\n",
       "      <td>BK28</td>\n",
       "      <td>Brooklyn</td>\n",
       "      <td>91646</td>\n",
       "      <td>0.487212</td>\n",
       "      <td>0.512788</td>\n",
       "      <td>0.210462</td>\n",
       "      <td>0.142625</td>\n",
       "      <td>0.145975</td>\n",
       "      <td>...</td>\n",
       "      <td>2539.0</td>\n",
       "      <td>4214.0</td>\n",
       "      <td>1201.0</td>\n",
       "      <td>7954.0</td>\n",
       "      <td>91646.0</td>\n",
       "      <td>2.0</td>\n",
       "      <td>0.027704</td>\n",
       "      <td>0.045981</td>\n",
       "      <td>0.013105</td>\n",
       "      <td>0.086790</td>\n",
       "    </tr>\n",
       "  </tbody>\n",
       "</table>\n",
       "<p>5 rows × 56 columns</p>\n",
       "</div>"
      ],
      "text/plain": [
       "   GeoType               NTA GeoID   Borough  Pop_1E    MaleEN     FemEN  \\\n",
       "0  NTA2010        Bath Beach  BK27  Brooklyn   33163  0.503151  0.496849   \n",
       "1  NTA2010         Bay Ridge  BK31  Brooklyn   79134  0.478037  0.521963   \n",
       "2  NTA2010           Bedford  BK75  Brooklyn   75318  0.484492  0.515508   \n",
       "3  NTA2010  Bensonhurst East  BK29  Brooklyn   64267  0.486766  0.513234   \n",
       "4  NTA2010  Bensonhurst West  BK28  Brooklyn   91646  0.487212  0.512788   \n",
       "\n",
       "   PopUnd18N  PopOv65N     HispN  ...  FELONY  MISDEMEANOR  VIOLATION  \\\n",
       "0   0.214184  0.147393  0.176733  ...   996.0       2177.0      479.0   \n",
       "1   0.190942  0.156444  0.178608  ...  2661.0       6493.0     1886.0   \n",
       "2   0.297127  0.077219  0.194933  ...  6178.0       9390.0     2485.0   \n",
       "3   0.198749  0.157266  0.123283  ...  1888.0       3085.0      962.0   \n",
       "4   0.210462  0.142625  0.145975  ...  2539.0       4214.0     1201.0   \n",
       "\n",
       "   TOTAL_CRIME  Population  GardenCounts_y  FELONY_norm  MISDEMEANOR_norm  \\\n",
       "0       3652.0     33163.0             0.0     0.030033          0.065645   \n",
       "1      11040.0     79134.0             0.0     0.033627          0.082051   \n",
       "2      18053.0     75318.0            23.0     0.082026          0.124671   \n",
       "3       5935.0     64267.0             1.0     0.029377          0.048003   \n",
       "4       7954.0     91646.0             2.0     0.027704          0.045981   \n",
       "\n",
       "   VIOLATION_norm  TOTAL_CRIME_norm  \n",
       "0        0.014444          0.110123  \n",
       "1        0.023833          0.139510  \n",
       "2        0.032993          0.239690  \n",
       "3        0.014969          0.092349  \n",
       "4        0.013105          0.086790  \n",
       "\n",
       "[5 rows x 56 columns]"
      ]
     },
     "execution_count": 3,
     "metadata": {},
     "output_type": "execute_result"
    }
   ],
   "source": [
    "acsgc = pd.read_csv('ACSG_crime_merged.csv', index_col=0) \n",
    "acsgc.head()\n"
   ]
  },
  {
   "cell_type": "code",
   "execution_count": 4,
   "metadata": {},
   "outputs": [
    {
     "data": {
      "text/plain": [
       "(195, 56)"
      ]
     },
     "execution_count": 4,
     "metadata": {},
     "output_type": "execute_result"
    }
   ],
   "source": [
    "acsgc.shape"
   ]
  },
  {
   "cell_type": "code",
   "execution_count": 5,
   "metadata": {},
   "outputs": [
    {
     "data": {
      "text/plain": [
       "Index(['GeoType', 'NTA', 'GeoID', 'Borough', 'Pop_1E', 'MaleEN', 'FemEN',\n",
       "       'PopUnd18N', 'PopOv65N', 'HispN', 'NotHispN', 'WhiteN', 'BlackN',\n",
       "       'NativeN', 'AsianN', 'PacificN', 'OtherRace1N', 'OtherRace2N', 'HHPop',\n",
       "       'HHINC_U10N', 'HHINC_10t14N', 'HHINC_15t24N', 'HHINC_25t34N',\n",
       "       'HHINC_35t49N', 'HHINC_50t74N', 'HHINC_75t99N', 'HHINC_100t149N',\n",
       "       'HHINC_150t199N', 'HHINC_200plN', 'Pop16yrsOver', 'Labor_forceN',\n",
       "       'CivilianLF', 'CLF_UnemployedN', 'PopOver25', 'EduOtherN',\n",
       "       'EduBachelor', 'EduGradProf', 'GardenCounts_x', 'HasGarden',\n",
       "       'GardenNorm', 'Inc_low', 'Inc_mid', 'Inc_high', 'Race_other',\n",
       "       'Asian_other', 'ntaname', 'FELONY', 'MISDEMEANOR', 'VIOLATION',\n",
       "       'TOTAL_CRIME', 'Population', 'GardenCounts_y', 'FELONY_norm',\n",
       "       'MISDEMEANOR_norm', 'VIOLATION_norm', 'TOTAL_CRIME_norm'],\n",
       "      dtype='object')"
      ]
     },
     "execution_count": 5,
     "metadata": {},
     "output_type": "execute_result"
    }
   ],
   "source": [
    "acsgc.columns"
   ]
  },
  {
   "cell_type": "code",
   "execution_count": null,
   "metadata": {},
   "outputs": [],
   "source": [
    "# Find percentage of missing values.\n",
    "(acsgc.isnull().sum().sort_index()/len(acsgc))"
   ]
  },
  {
   "cell_type": "code",
   "execution_count": 6,
   "metadata": {},
   "outputs": [
    {
     "data": {
      "text/plain": [
       "GeoType             0\n",
       "NTA                 0\n",
       "GeoID               0\n",
       "Borough             0\n",
       "Pop_1E              0\n",
       "MaleEN              2\n",
       "FemEN               2\n",
       "PopUnd18N           2\n",
       "PopOv65N            2\n",
       "HispN               2\n",
       "NotHispN            2\n",
       "WhiteN              2\n",
       "BlackN              2\n",
       "NativeN             2\n",
       "AsianN              2\n",
       "PacificN            2\n",
       "OtherRace1N         2\n",
       "OtherRace2N         2\n",
       "HHPop               0\n",
       "HHINC_U10N          4\n",
       "HHINC_10t14N        4\n",
       "HHINC_15t24N        4\n",
       "HHINC_25t34N        4\n",
       "HHINC_35t49N        4\n",
       "HHINC_50t74N        4\n",
       "HHINC_75t99N        4\n",
       "HHINC_100t149N      4\n",
       "HHINC_150t199N      4\n",
       "HHINC_200plN        4\n",
       "Pop16yrsOver        0\n",
       "Labor_forceN        2\n",
       "CivilianLF          0\n",
       "CLF_UnemployedN     3\n",
       "PopOver25           0\n",
       "EduOtherN           2\n",
       "EduBachelor         2\n",
       "EduGradProf         2\n",
       "GardenCounts_x      0\n",
       "HasGarden           0\n",
       "GardenNorm          0\n",
       "Inc_low             4\n",
       "Inc_mid             4\n",
       "Inc_high            4\n",
       "Race_other          2\n",
       "Asian_other         2\n",
       "ntaname             0\n",
       "FELONY              3\n",
       "MISDEMEANOR         3\n",
       "VIOLATION           3\n",
       "TOTAL_CRIME         3\n",
       "Population          3\n",
       "GardenCounts_y      3\n",
       "FELONY_norm         3\n",
       "MISDEMEANOR_norm    3\n",
       "VIOLATION_norm      3\n",
       "TOTAL_CRIME_norm    3\n",
       "dtype: int64"
      ]
     },
     "execution_count": 6,
     "metadata": {},
     "output_type": "execute_result"
    }
   ],
   "source": [
    "# Find percentage of missing values.\n",
    "acsgc.isnull().sum()"
   ]
  },
  {
   "cell_type": "code",
   "execution_count": 12,
   "metadata": {},
   "outputs": [
    {
     "data": {
      "text/html": [
       "\n",
       "        <iframe\n",
       "            width=\"100%\"\n",
       "            height=\"800px\"\n",
       "            src=\"ipynb_tmp/profile_7627268171.html\"\n",
       "            frameborder=\"0\"\n",
       "            allowfullscreen\n",
       "        ></iframe>\n",
       "        "
      ],
      "text/plain": [
       "<IPython.lib.display.IFrame at 0x1a216db6d8>"
      ]
     },
     "metadata": {},
     "output_type": "display_data"
    },
    {
     "data": {
      "text/plain": []
     },
     "execution_count": 12,
     "metadata": {},
     "output_type": "execute_result"
    }
   ],
   "source": [
    "pandas_profiling.ProfileReport(acsgc)"
   ]
  },
  {
   "cell_type": "code",
   "execution_count": 7,
   "metadata": {},
   "outputs": [],
   "source": [
    "#select features for decision tree / random forest model\n",
    "\n",
    "rf = acsgc[['NTA','MaleEN', 'FemEN','PopOv65N','HispN','WhiteN', 'BlackN','Asian_other',\n",
    "           'CLF_UnemployedN','EduOtherN',\n",
    "       'EduBachelor', 'EduGradProf','Inc_low', 'Inc_mid', 'Inc_high',\n",
    "           'FELONY_norm',\n",
    "       'MISDEMEANOR_norm', 'VIOLATION_norm','HasGarden']].copy()"
   ]
  },
  {
   "cell_type": "code",
   "execution_count": 8,
   "metadata": {},
   "outputs": [
    {
     "data": {
      "text/html": [
       "<div>\n",
       "<style scoped>\n",
       "    .dataframe tbody tr th:only-of-type {\n",
       "        vertical-align: middle;\n",
       "    }\n",
       "\n",
       "    .dataframe tbody tr th {\n",
       "        vertical-align: top;\n",
       "    }\n",
       "\n",
       "    .dataframe thead th {\n",
       "        text-align: right;\n",
       "    }\n",
       "</style>\n",
       "<table border=\"1\" class=\"dataframe\">\n",
       "  <thead>\n",
       "    <tr style=\"text-align: right;\">\n",
       "      <th></th>\n",
       "      <th>NTA</th>\n",
       "      <th>MaleEN</th>\n",
       "      <th>FemEN</th>\n",
       "      <th>PopOv65N</th>\n",
       "      <th>HispN</th>\n",
       "      <th>WhiteN</th>\n",
       "      <th>BlackN</th>\n",
       "      <th>Asian_other</th>\n",
       "      <th>CLF_UnemployedN</th>\n",
       "      <th>EduOtherN</th>\n",
       "      <th>EduBachelor</th>\n",
       "      <th>EduGradProf</th>\n",
       "      <th>Inc_low</th>\n",
       "      <th>Inc_mid</th>\n",
       "      <th>Inc_high</th>\n",
       "      <th>FELONY_norm</th>\n",
       "      <th>MISDEMEANOR_norm</th>\n",
       "      <th>VIOLATION_norm</th>\n",
       "      <th>HasGarden</th>\n",
       "    </tr>\n",
       "  </thead>\n",
       "  <tbody>\n",
       "    <tr>\n",
       "      <th>0</th>\n",
       "      <td>Bath Beach</td>\n",
       "      <td>0.503151</td>\n",
       "      <td>0.496849</td>\n",
       "      <td>0.147393</td>\n",
       "      <td>0.176733</td>\n",
       "      <td>0.436933</td>\n",
       "      <td>0.012182</td>\n",
       "      <td>0.374152</td>\n",
       "      <td>0.070566</td>\n",
       "      <td>0.663798</td>\n",
       "      <td>0.224372</td>\n",
       "      <td>0.111829</td>\n",
       "      <td>0.433409</td>\n",
       "      <td>0.299790</td>\n",
       "      <td>0.266801</td>\n",
       "      <td>0.030033</td>\n",
       "      <td>0.065645</td>\n",
       "      <td>0.014444</td>\n",
       "      <td>0</td>\n",
       "    </tr>\n",
       "    <tr>\n",
       "      <th>1</th>\n",
       "      <td>Bay Ridge</td>\n",
       "      <td>0.478037</td>\n",
       "      <td>0.521963</td>\n",
       "      <td>0.156444</td>\n",
       "      <td>0.178608</td>\n",
       "      <td>0.634329</td>\n",
       "      <td>0.019094</td>\n",
       "      <td>0.167968</td>\n",
       "      <td>0.074922</td>\n",
       "      <td>0.535735</td>\n",
       "      <td>0.271976</td>\n",
       "      <td>0.192289</td>\n",
       "      <td>0.409413</td>\n",
       "      <td>0.289008</td>\n",
       "      <td>0.301580</td>\n",
       "      <td>0.033627</td>\n",
       "      <td>0.082051</td>\n",
       "      <td>0.023833</td>\n",
       "      <td>0</td>\n",
       "    </tr>\n",
       "    <tr>\n",
       "      <th>2</th>\n",
       "      <td>Bedford</td>\n",
       "      <td>0.484492</td>\n",
       "      <td>0.515508</td>\n",
       "      <td>0.077219</td>\n",
       "      <td>0.194933</td>\n",
       "      <td>0.350607</td>\n",
       "      <td>0.405826</td>\n",
       "      <td>0.048634</td>\n",
       "      <td>0.125027</td>\n",
       "      <td>0.678193</td>\n",
       "      <td>0.204352</td>\n",
       "      <td>0.117455</td>\n",
       "      <td>0.575924</td>\n",
       "      <td>0.229287</td>\n",
       "      <td>0.194789</td>\n",
       "      <td>0.082026</td>\n",
       "      <td>0.124671</td>\n",
       "      <td>0.032993</td>\n",
       "      <td>1</td>\n",
       "    </tr>\n",
       "    <tr>\n",
       "      <th>3</th>\n",
       "      <td>Bensonhurst East</td>\n",
       "      <td>0.486766</td>\n",
       "      <td>0.513234</td>\n",
       "      <td>0.157266</td>\n",
       "      <td>0.123283</td>\n",
       "      <td>0.465153</td>\n",
       "      <td>0.008262</td>\n",
       "      <td>0.403302</td>\n",
       "      <td>0.085202</td>\n",
       "      <td>0.698153</td>\n",
       "      <td>0.204564</td>\n",
       "      <td>0.097283</td>\n",
       "      <td>0.510524</td>\n",
       "      <td>0.290981</td>\n",
       "      <td>0.198495</td>\n",
       "      <td>0.029377</td>\n",
       "      <td>0.048003</td>\n",
       "      <td>0.014969</td>\n",
       "      <td>1</td>\n",
       "    </tr>\n",
       "    <tr>\n",
       "      <th>4</th>\n",
       "      <td>Bensonhurst West</td>\n",
       "      <td>0.487212</td>\n",
       "      <td>0.512788</td>\n",
       "      <td>0.142625</td>\n",
       "      <td>0.145975</td>\n",
       "      <td>0.426773</td>\n",
       "      <td>0.008740</td>\n",
       "      <td>0.418513</td>\n",
       "      <td>0.088342</td>\n",
       "      <td>0.737618</td>\n",
       "      <td>0.188800</td>\n",
       "      <td>0.073582</td>\n",
       "      <td>0.492862</td>\n",
       "      <td>0.285700</td>\n",
       "      <td>0.221438</td>\n",
       "      <td>0.027704</td>\n",
       "      <td>0.045981</td>\n",
       "      <td>0.013105</td>\n",
       "      <td>1</td>\n",
       "    </tr>\n",
       "  </tbody>\n",
       "</table>\n",
       "</div>"
      ],
      "text/plain": [
       "                NTA    MaleEN     FemEN  PopOv65N     HispN    WhiteN  \\\n",
       "0        Bath Beach  0.503151  0.496849  0.147393  0.176733  0.436933   \n",
       "1         Bay Ridge  0.478037  0.521963  0.156444  0.178608  0.634329   \n",
       "2           Bedford  0.484492  0.515508  0.077219  0.194933  0.350607   \n",
       "3  Bensonhurst East  0.486766  0.513234  0.157266  0.123283  0.465153   \n",
       "4  Bensonhurst West  0.487212  0.512788  0.142625  0.145975  0.426773   \n",
       "\n",
       "     BlackN  Asian_other  CLF_UnemployedN  EduOtherN  EduBachelor  \\\n",
       "0  0.012182     0.374152         0.070566   0.663798     0.224372   \n",
       "1  0.019094     0.167968         0.074922   0.535735     0.271976   \n",
       "2  0.405826     0.048634         0.125027   0.678193     0.204352   \n",
       "3  0.008262     0.403302         0.085202   0.698153     0.204564   \n",
       "4  0.008740     0.418513         0.088342   0.737618     0.188800   \n",
       "\n",
       "   EduGradProf   Inc_low   Inc_mid  Inc_high  FELONY_norm  MISDEMEANOR_norm  \\\n",
       "0     0.111829  0.433409  0.299790  0.266801     0.030033          0.065645   \n",
       "1     0.192289  0.409413  0.289008  0.301580     0.033627          0.082051   \n",
       "2     0.117455  0.575924  0.229287  0.194789     0.082026          0.124671   \n",
       "3     0.097283  0.510524  0.290981  0.198495     0.029377          0.048003   \n",
       "4     0.073582  0.492862  0.285700  0.221438     0.027704          0.045981   \n",
       "\n",
       "   VIOLATION_norm  HasGarden  \n",
       "0        0.014444          0  \n",
       "1        0.023833          0  \n",
       "2        0.032993          1  \n",
       "3        0.014969          1  \n",
       "4        0.013105          1  "
      ]
     },
     "execution_count": 8,
     "metadata": {},
     "output_type": "execute_result"
    }
   ],
   "source": [
    "rf.head()"
   ]
  },
  {
   "cell_type": "code",
   "execution_count": 9,
   "metadata": {},
   "outputs": [],
   "source": [
    "rf = rf.replace([np.inf, -np.inf, np.nan], 0)"
   ]
  },
  {
   "cell_type": "code",
   "execution_count": 10,
   "metadata": {},
   "outputs": [],
   "source": [
    "from sklearn.model_selection import train_test_split"
   ]
  },
  {
   "cell_type": "code",
   "execution_count": 11,
   "metadata": {},
   "outputs": [],
   "source": [
    "feature_cols = ['MaleEN', 'FemEN','PopOv65N','HispN','WhiteN', 'BlackN','Asian_other',\n",
    "           'CLF_UnemployedN','EduOtherN','EduBachelor', 'EduGradProf','Inc_low', 'Inc_mid', \n",
    "                'Inc_high','FELONY_norm','MISDEMEANOR_norm', 'VIOLATION_norm']\n",
    "\n",
    "X=rf[['MaleEN', 'FemEN','PopOv65N','HispN','WhiteN', 'BlackN','Asian_other',\n",
    "           'CLF_UnemployedN','EduOtherN','EduBachelor', 'EduGradProf','Inc_low', 'Inc_mid', 'Inc_high',\n",
    "           'FELONY_norm','MISDEMEANOR_norm', 'VIOLATION_norm']]  # Features\n",
    "\n",
    "y=rf['HasGarden']  # Labels"
   ]
  },
  {
   "cell_type": "code",
   "execution_count": 12,
   "metadata": {},
   "outputs": [],
   "source": [
    "X_train, X_test, y_train, y_test = train_test_split(X, y, test_size=0.3, random_state = 1)"
   ]
  },
  {
   "cell_type": "code",
   "execution_count": 13,
   "metadata": {},
   "outputs": [
    {
     "data": {
      "text/html": [
       "<div>\n",
       "<style scoped>\n",
       "    .dataframe tbody tr th:only-of-type {\n",
       "        vertical-align: middle;\n",
       "    }\n",
       "\n",
       "    .dataframe tbody tr th {\n",
       "        vertical-align: top;\n",
       "    }\n",
       "\n",
       "    .dataframe thead th {\n",
       "        text-align: right;\n",
       "    }\n",
       "</style>\n",
       "<table border=\"1\" class=\"dataframe\">\n",
       "  <thead>\n",
       "    <tr style=\"text-align: right;\">\n",
       "      <th></th>\n",
       "      <th>MaleEN</th>\n",
       "      <th>FemEN</th>\n",
       "      <th>PopOv65N</th>\n",
       "      <th>HispN</th>\n",
       "      <th>WhiteN</th>\n",
       "      <th>BlackN</th>\n",
       "      <th>Asian_other</th>\n",
       "      <th>CLF_UnemployedN</th>\n",
       "      <th>EduOtherN</th>\n",
       "      <th>EduBachelor</th>\n",
       "      <th>EduGradProf</th>\n",
       "      <th>Inc_low</th>\n",
       "      <th>Inc_mid</th>\n",
       "      <th>Inc_high</th>\n",
       "      <th>FELONY_norm</th>\n",
       "      <th>MISDEMEANOR_norm</th>\n",
       "      <th>VIOLATION_norm</th>\n",
       "    </tr>\n",
       "  </thead>\n",
       "  <tbody>\n",
       "    <tr>\n",
       "      <th>MaleEN</th>\n",
       "      <td>1.000000</td>\n",
       "      <td>-0.006060</td>\n",
       "      <td>-0.017339</td>\n",
       "      <td>0.146840</td>\n",
       "      <td>0.109487</td>\n",
       "      <td>-0.040818</td>\n",
       "      <td>0.120378</td>\n",
       "      <td>0.243101</td>\n",
       "      <td>0.324633</td>\n",
       "      <td>0.052903</td>\n",
       "      <td>-0.003366</td>\n",
       "      <td>-0.029464</td>\n",
       "      <td>0.068945</td>\n",
       "      <td>0.052775</td>\n",
       "      <td>0.281273</td>\n",
       "      <td>0.254223</td>\n",
       "      <td>0.260199</td>\n",
       "    </tr>\n",
       "    <tr>\n",
       "      <th>FemEN</th>\n",
       "      <td>-0.006060</td>\n",
       "      <td>1.000000</td>\n",
       "      <td>0.392044</td>\n",
       "      <td>0.045129</td>\n",
       "      <td>0.064279</td>\n",
       "      <td>0.159980</td>\n",
       "      <td>0.031216</td>\n",
       "      <td>0.040128</td>\n",
       "      <td>0.146749</td>\n",
       "      <td>0.247246</td>\n",
       "      <td>0.189288</td>\n",
       "      <td>0.411656</td>\n",
       "      <td>0.514437</td>\n",
       "      <td>0.202791</td>\n",
       "      <td>-0.226264</td>\n",
       "      <td>-0.201524</td>\n",
       "      <td>-0.188336</td>\n",
       "    </tr>\n",
       "    <tr>\n",
       "      <th>PopOv65N</th>\n",
       "      <td>-0.017339</td>\n",
       "      <td>0.392044</td>\n",
       "      <td>1.000000</td>\n",
       "      <td>-0.413753</td>\n",
       "      <td>0.457420</td>\n",
       "      <td>-0.169209</td>\n",
       "      <td>0.198705</td>\n",
       "      <td>-0.223653</td>\n",
       "      <td>-0.180832</td>\n",
       "      <td>0.291193</td>\n",
       "      <td>0.348424</td>\n",
       "      <td>-0.170876</td>\n",
       "      <td>0.312350</td>\n",
       "      <td>0.369154</td>\n",
       "      <td>-0.048126</td>\n",
       "      <td>-0.033866</td>\n",
       "      <td>-0.099716</td>\n",
       "    </tr>\n",
       "    <tr>\n",
       "      <th>HispN</th>\n",
       "      <td>0.146840</td>\n",
       "      <td>0.045129</td>\n",
       "      <td>-0.413753</td>\n",
       "      <td>1.000000</td>\n",
       "      <td>-0.546927</td>\n",
       "      <td>-0.044034</td>\n",
       "      <td>-0.231161</td>\n",
       "      <td>0.418896</td>\n",
       "      <td>0.533652</td>\n",
       "      <td>-0.470721</td>\n",
       "      <td>-0.472539</td>\n",
       "      <td>0.632231</td>\n",
       "      <td>-0.122579</td>\n",
       "      <td>-0.578870</td>\n",
       "      <td>-0.027111</td>\n",
       "      <td>-0.010950</td>\n",
       "      <td>0.007045</td>\n",
       "    </tr>\n",
       "    <tr>\n",
       "      <th>WhiteN</th>\n",
       "      <td>0.109487</td>\n",
       "      <td>0.064279</td>\n",
       "      <td>0.457420</td>\n",
       "      <td>-0.546927</td>\n",
       "      <td>1.000000</td>\n",
       "      <td>-0.614807</td>\n",
       "      <td>0.031027</td>\n",
       "      <td>-0.493426</td>\n",
       "      <td>-0.590723</td>\n",
       "      <td>0.654779</td>\n",
       "      <td>0.665785</td>\n",
       "      <td>-0.516700</td>\n",
       "      <td>0.055019</td>\n",
       "      <td>0.713176</td>\n",
       "      <td>0.055591</td>\n",
       "      <td>0.059785</td>\n",
       "      <td>0.030554</td>\n",
       "    </tr>\n",
       "    <tr>\n",
       "      <th>BlackN</th>\n",
       "      <td>-0.040818</td>\n",
       "      <td>0.159980</td>\n",
       "      <td>-0.169209</td>\n",
       "      <td>-0.044034</td>\n",
       "      <td>-0.614807</td>\n",
       "      <td>1.000000</td>\n",
       "      <td>-0.405770</td>\n",
       "      <td>0.401948</td>\n",
       "      <td>0.395499</td>\n",
       "      <td>-0.369210</td>\n",
       "      <td>-0.344067</td>\n",
       "      <td>0.239361</td>\n",
       "      <td>0.033740</td>\n",
       "      <td>-0.329919</td>\n",
       "      <td>0.019004</td>\n",
       "      <td>0.004340</td>\n",
       "      <td>0.038969</td>\n",
       "    </tr>\n",
       "    <tr>\n",
       "      <th>Asian_other</th>\n",
       "      <td>0.120378</td>\n",
       "      <td>0.031216</td>\n",
       "      <td>0.198705</td>\n",
       "      <td>-0.231161</td>\n",
       "      <td>0.031027</td>\n",
       "      <td>-0.405770</td>\n",
       "      <td>1.000000</td>\n",
       "      <td>-0.213165</td>\n",
       "      <td>-0.096719</td>\n",
       "      <td>0.210650</td>\n",
       "      <td>0.098518</td>\n",
       "      <td>-0.147933</td>\n",
       "      <td>0.290984</td>\n",
       "      <td>0.168743</td>\n",
       "      <td>-0.073267</td>\n",
       "      <td>-0.079852</td>\n",
       "      <td>-0.099500</td>\n",
       "    </tr>\n",
       "    <tr>\n",
       "      <th>CLF_UnemployedN</th>\n",
       "      <td>0.243101</td>\n",
       "      <td>0.040128</td>\n",
       "      <td>-0.223653</td>\n",
       "      <td>0.418896</td>\n",
       "      <td>-0.493426</td>\n",
       "      <td>0.401948</td>\n",
       "      <td>-0.213165</td>\n",
       "      <td>1.000000</td>\n",
       "      <td>0.540112</td>\n",
       "      <td>-0.433614</td>\n",
       "      <td>-0.457196</td>\n",
       "      <td>0.468106</td>\n",
       "      <td>-0.189300</td>\n",
       "      <td>-0.550593</td>\n",
       "      <td>0.032649</td>\n",
       "      <td>0.045633</td>\n",
       "      <td>0.134177</td>\n",
       "    </tr>\n",
       "    <tr>\n",
       "      <th>EduOtherN</th>\n",
       "      <td>0.324633</td>\n",
       "      <td>0.146749</td>\n",
       "      <td>-0.180832</td>\n",
       "      <td>0.533652</td>\n",
       "      <td>-0.590723</td>\n",
       "      <td>0.395499</td>\n",
       "      <td>-0.096719</td>\n",
       "      <td>0.540112</td>\n",
       "      <td>1.000000</td>\n",
       "      <td>-0.819481</td>\n",
       "      <td>-0.865374</td>\n",
       "      <td>0.663569</td>\n",
       "      <td>0.150348</td>\n",
       "      <td>-0.718360</td>\n",
       "      <td>-0.016971</td>\n",
       "      <td>-0.014716</td>\n",
       "      <td>0.004097</td>\n",
       "    </tr>\n",
       "    <tr>\n",
       "      <th>EduBachelor</th>\n",
       "      <td>0.052903</td>\n",
       "      <td>0.247246</td>\n",
       "      <td>0.291193</td>\n",
       "      <td>-0.470721</td>\n",
       "      <td>0.654779</td>\n",
       "      <td>-0.369210</td>\n",
       "      <td>0.210650</td>\n",
       "      <td>-0.433614</td>\n",
       "      <td>-0.819481</td>\n",
       "      <td>1.000000</td>\n",
       "      <td>0.883933</td>\n",
       "      <td>-0.510275</td>\n",
       "      <td>0.150863</td>\n",
       "      <td>0.811213</td>\n",
       "      <td>0.048346</td>\n",
       "      <td>0.043795</td>\n",
       "      <td>0.050488</td>\n",
       "    </tr>\n",
       "    <tr>\n",
       "      <th>EduGradProf</th>\n",
       "      <td>-0.003366</td>\n",
       "      <td>0.189288</td>\n",
       "      <td>0.348424</td>\n",
       "      <td>-0.472539</td>\n",
       "      <td>0.665785</td>\n",
       "      <td>-0.344067</td>\n",
       "      <td>0.098518</td>\n",
       "      <td>-0.457196</td>\n",
       "      <td>-0.865374</td>\n",
       "      <td>0.883933</td>\n",
       "      <td>1.000000</td>\n",
       "      <td>-0.549799</td>\n",
       "      <td>-0.020439</td>\n",
       "      <td>0.829156</td>\n",
       "      <td>0.020264</td>\n",
       "      <td>0.019114</td>\n",
       "      <td>-0.010125</td>\n",
       "    </tr>\n",
       "    <tr>\n",
       "      <th>Inc_low</th>\n",
       "      <td>-0.029464</td>\n",
       "      <td>0.411656</td>\n",
       "      <td>-0.170876</td>\n",
       "      <td>0.632231</td>\n",
       "      <td>-0.516700</td>\n",
       "      <td>0.239361</td>\n",
       "      <td>-0.147933</td>\n",
       "      <td>0.468106</td>\n",
       "      <td>0.663569</td>\n",
       "      <td>-0.510275</td>\n",
       "      <td>-0.549799</td>\n",
       "      <td>1.000000</td>\n",
       "      <td>-0.098575</td>\n",
       "      <td>-0.735754</td>\n",
       "      <td>-0.123947</td>\n",
       "      <td>-0.099162</td>\n",
       "      <td>-0.089401</td>\n",
       "    </tr>\n",
       "    <tr>\n",
       "      <th>Inc_mid</th>\n",
       "      <td>0.068945</td>\n",
       "      <td>0.514437</td>\n",
       "      <td>0.312350</td>\n",
       "      <td>-0.122579</td>\n",
       "      <td>0.055019</td>\n",
       "      <td>0.033740</td>\n",
       "      <td>0.290984</td>\n",
       "      <td>-0.189300</td>\n",
       "      <td>0.150348</td>\n",
       "      <td>0.150863</td>\n",
       "      <td>-0.020439</td>\n",
       "      <td>-0.098575</td>\n",
       "      <td>1.000000</td>\n",
       "      <td>0.258322</td>\n",
       "      <td>-0.042878</td>\n",
       "      <td>-0.035415</td>\n",
       "      <td>-0.017378</td>\n",
       "    </tr>\n",
       "    <tr>\n",
       "      <th>Inc_high</th>\n",
       "      <td>0.052775</td>\n",
       "      <td>0.202791</td>\n",
       "      <td>0.369154</td>\n",
       "      <td>-0.578870</td>\n",
       "      <td>0.713176</td>\n",
       "      <td>-0.329919</td>\n",
       "      <td>0.168743</td>\n",
       "      <td>-0.550593</td>\n",
       "      <td>-0.718360</td>\n",
       "      <td>0.811213</td>\n",
       "      <td>0.829156</td>\n",
       "      <td>-0.735754</td>\n",
       "      <td>0.258322</td>\n",
       "      <td>1.000000</td>\n",
       "      <td>0.060343</td>\n",
       "      <td>0.056710</td>\n",
       "      <td>0.037783</td>\n",
       "    </tr>\n",
       "    <tr>\n",
       "      <th>FELONY_norm</th>\n",
       "      <td>0.281273</td>\n",
       "      <td>-0.226264</td>\n",
       "      <td>-0.048126</td>\n",
       "      <td>-0.027111</td>\n",
       "      <td>0.055591</td>\n",
       "      <td>0.019004</td>\n",
       "      <td>-0.073267</td>\n",
       "      <td>0.032649</td>\n",
       "      <td>-0.016971</td>\n",
       "      <td>0.048346</td>\n",
       "      <td>0.020264</td>\n",
       "      <td>-0.123947</td>\n",
       "      <td>-0.042878</td>\n",
       "      <td>0.060343</td>\n",
       "      <td>1.000000</td>\n",
       "      <td>0.995530</td>\n",
       "      <td>0.967630</td>\n",
       "    </tr>\n",
       "    <tr>\n",
       "      <th>MISDEMEANOR_norm</th>\n",
       "      <td>0.254223</td>\n",
       "      <td>-0.201524</td>\n",
       "      <td>-0.033866</td>\n",
       "      <td>-0.010950</td>\n",
       "      <td>0.059785</td>\n",
       "      <td>0.004340</td>\n",
       "      <td>-0.079852</td>\n",
       "      <td>0.045633</td>\n",
       "      <td>-0.014716</td>\n",
       "      <td>0.043795</td>\n",
       "      <td>0.019114</td>\n",
       "      <td>-0.099162</td>\n",
       "      <td>-0.035415</td>\n",
       "      <td>0.056710</td>\n",
       "      <td>0.995530</td>\n",
       "      <td>1.000000</td>\n",
       "      <td>0.969994</td>\n",
       "    </tr>\n",
       "    <tr>\n",
       "      <th>VIOLATION_norm</th>\n",
       "      <td>0.260199</td>\n",
       "      <td>-0.188336</td>\n",
       "      <td>-0.099716</td>\n",
       "      <td>0.007045</td>\n",
       "      <td>0.030554</td>\n",
       "      <td>0.038969</td>\n",
       "      <td>-0.099500</td>\n",
       "      <td>0.134177</td>\n",
       "      <td>0.004097</td>\n",
       "      <td>0.050488</td>\n",
       "      <td>-0.010125</td>\n",
       "      <td>-0.089401</td>\n",
       "      <td>-0.017378</td>\n",
       "      <td>0.037783</td>\n",
       "      <td>0.967630</td>\n",
       "      <td>0.969994</td>\n",
       "      <td>1.000000</td>\n",
       "    </tr>\n",
       "  </tbody>\n",
       "</table>\n",
       "</div>"
      ],
      "text/plain": [
       "                    MaleEN     FemEN  PopOv65N     HispN    WhiteN    BlackN  \\\n",
       "MaleEN            1.000000 -0.006060 -0.017339  0.146840  0.109487 -0.040818   \n",
       "FemEN            -0.006060  1.000000  0.392044  0.045129  0.064279  0.159980   \n",
       "PopOv65N         -0.017339  0.392044  1.000000 -0.413753  0.457420 -0.169209   \n",
       "HispN             0.146840  0.045129 -0.413753  1.000000 -0.546927 -0.044034   \n",
       "WhiteN            0.109487  0.064279  0.457420 -0.546927  1.000000 -0.614807   \n",
       "BlackN           -0.040818  0.159980 -0.169209 -0.044034 -0.614807  1.000000   \n",
       "Asian_other       0.120378  0.031216  0.198705 -0.231161  0.031027 -0.405770   \n",
       "CLF_UnemployedN   0.243101  0.040128 -0.223653  0.418896 -0.493426  0.401948   \n",
       "EduOtherN         0.324633  0.146749 -0.180832  0.533652 -0.590723  0.395499   \n",
       "EduBachelor       0.052903  0.247246  0.291193 -0.470721  0.654779 -0.369210   \n",
       "EduGradProf      -0.003366  0.189288  0.348424 -0.472539  0.665785 -0.344067   \n",
       "Inc_low          -0.029464  0.411656 -0.170876  0.632231 -0.516700  0.239361   \n",
       "Inc_mid           0.068945  0.514437  0.312350 -0.122579  0.055019  0.033740   \n",
       "Inc_high          0.052775  0.202791  0.369154 -0.578870  0.713176 -0.329919   \n",
       "FELONY_norm       0.281273 -0.226264 -0.048126 -0.027111  0.055591  0.019004   \n",
       "MISDEMEANOR_norm  0.254223 -0.201524 -0.033866 -0.010950  0.059785  0.004340   \n",
       "VIOLATION_norm    0.260199 -0.188336 -0.099716  0.007045  0.030554  0.038969   \n",
       "\n",
       "                  Asian_other  CLF_UnemployedN  EduOtherN  EduBachelor  \\\n",
       "MaleEN               0.120378         0.243101   0.324633     0.052903   \n",
       "FemEN                0.031216         0.040128   0.146749     0.247246   \n",
       "PopOv65N             0.198705        -0.223653  -0.180832     0.291193   \n",
       "HispN               -0.231161         0.418896   0.533652    -0.470721   \n",
       "WhiteN               0.031027        -0.493426  -0.590723     0.654779   \n",
       "BlackN              -0.405770         0.401948   0.395499    -0.369210   \n",
       "Asian_other          1.000000        -0.213165  -0.096719     0.210650   \n",
       "CLF_UnemployedN     -0.213165         1.000000   0.540112    -0.433614   \n",
       "EduOtherN           -0.096719         0.540112   1.000000    -0.819481   \n",
       "EduBachelor          0.210650        -0.433614  -0.819481     1.000000   \n",
       "EduGradProf          0.098518        -0.457196  -0.865374     0.883933   \n",
       "Inc_low             -0.147933         0.468106   0.663569    -0.510275   \n",
       "Inc_mid              0.290984        -0.189300   0.150348     0.150863   \n",
       "Inc_high             0.168743        -0.550593  -0.718360     0.811213   \n",
       "FELONY_norm         -0.073267         0.032649  -0.016971     0.048346   \n",
       "MISDEMEANOR_norm    -0.079852         0.045633  -0.014716     0.043795   \n",
       "VIOLATION_norm      -0.099500         0.134177   0.004097     0.050488   \n",
       "\n",
       "                  EduGradProf   Inc_low   Inc_mid  Inc_high  FELONY_norm  \\\n",
       "MaleEN              -0.003366 -0.029464  0.068945  0.052775     0.281273   \n",
       "FemEN                0.189288  0.411656  0.514437  0.202791    -0.226264   \n",
       "PopOv65N             0.348424 -0.170876  0.312350  0.369154    -0.048126   \n",
       "HispN               -0.472539  0.632231 -0.122579 -0.578870    -0.027111   \n",
       "WhiteN               0.665785 -0.516700  0.055019  0.713176     0.055591   \n",
       "BlackN              -0.344067  0.239361  0.033740 -0.329919     0.019004   \n",
       "Asian_other          0.098518 -0.147933  0.290984  0.168743    -0.073267   \n",
       "CLF_UnemployedN     -0.457196  0.468106 -0.189300 -0.550593     0.032649   \n",
       "EduOtherN           -0.865374  0.663569  0.150348 -0.718360    -0.016971   \n",
       "EduBachelor          0.883933 -0.510275  0.150863  0.811213     0.048346   \n",
       "EduGradProf          1.000000 -0.549799 -0.020439  0.829156     0.020264   \n",
       "Inc_low             -0.549799  1.000000 -0.098575 -0.735754    -0.123947   \n",
       "Inc_mid             -0.020439 -0.098575  1.000000  0.258322    -0.042878   \n",
       "Inc_high             0.829156 -0.735754  0.258322  1.000000     0.060343   \n",
       "FELONY_norm          0.020264 -0.123947 -0.042878  0.060343     1.000000   \n",
       "MISDEMEANOR_norm     0.019114 -0.099162 -0.035415  0.056710     0.995530   \n",
       "VIOLATION_norm      -0.010125 -0.089401 -0.017378  0.037783     0.967630   \n",
       "\n",
       "                  MISDEMEANOR_norm  VIOLATION_norm  \n",
       "MaleEN                    0.254223        0.260199  \n",
       "FemEN                    -0.201524       -0.188336  \n",
       "PopOv65N                 -0.033866       -0.099716  \n",
       "HispN                    -0.010950        0.007045  \n",
       "WhiteN                    0.059785        0.030554  \n",
       "BlackN                    0.004340        0.038969  \n",
       "Asian_other              -0.079852       -0.099500  \n",
       "CLF_UnemployedN           0.045633        0.134177  \n",
       "EduOtherN                -0.014716        0.004097  \n",
       "EduBachelor               0.043795        0.050488  \n",
       "EduGradProf               0.019114       -0.010125  \n",
       "Inc_low                  -0.099162       -0.089401  \n",
       "Inc_mid                  -0.035415       -0.017378  \n",
       "Inc_high                  0.056710        0.037783  \n",
       "FELONY_norm               0.995530        0.967630  \n",
       "MISDEMEANOR_norm          1.000000        0.969994  \n",
       "VIOLATION_norm            0.969994        1.000000  "
      ]
     },
     "execution_count": 13,
     "metadata": {},
     "output_type": "execute_result"
    }
   ],
   "source": [
    "corr = X.corr()\n",
    "corr"
   ]
  },
  {
   "cell_type": "code",
   "execution_count": 14,
   "metadata": {},
   "outputs": [
    {
     "name": "stdout",
     "output_type": "stream",
     "text": [
      "Training set:  (136, 17) (136,)\n",
      "Testing set:  (59, 17) (59,)\n"
     ]
    }
   ],
   "source": [
    "print('Training set: ', X_train.shape, y_train.shape)\n",
    "print('Testing set: ', X_test.shape, y_test.shape)"
   ]
  },
  {
   "cell_type": "code",
   "execution_count": 15,
   "metadata": {},
   "outputs": [],
   "source": [
    "#Building Decision Tree Model\n",
    "\n",
    "# Create Decision Tree classifer object\n",
    "dtc = DecisionTreeClassifier()\n",
    "\n",
    "# Train Decision Tree Classifer\n",
    "dtc = DecisionTreeClassifier(criterion='entropy', max_depth=2).fit(X_train, y_train)\n",
    "\n",
    "#max depth = 2 to control for overfitting"
   ]
  },
  {
   "cell_type": "code",
   "execution_count": 16,
   "metadata": {},
   "outputs": [],
   "source": [
    "#Predict the response for test dataset\n",
    "yhat = dtc.predict(X_test)"
   ]
  },
  {
   "cell_type": "code",
   "execution_count": 17,
   "metadata": {},
   "outputs": [],
   "source": [
    "#Evaluate Model:\n",
    "\n",
    "from sklearn import metrics\n",
    "from sklearn.metrics import classification_report, confusion_matrix"
   ]
  },
  {
   "cell_type": "code",
   "execution_count": 18,
   "metadata": {},
   "outputs": [
    {
     "name": "stdout",
     "output_type": "stream",
     "text": [
      "Train set Accuracy:  0.75\n",
      "Test set Accuracy:  0.559322033898305\n"
     ]
    }
   ],
   "source": [
    "print('Train set Accuracy: ', metrics.accuracy_score(y_train, dtc.predict(X_train)))\n",
    "print('Test set Accuracy: ', metrics.accuracy_score(y_test, yhat))"
   ]
  },
  {
   "cell_type": "code",
   "execution_count": 19,
   "metadata": {},
   "outputs": [
    {
     "data": {
      "image/png": "[encoded data removed]",
      "text/plain": [
       "<IPython.core.display.Image object>"
      ]
     },
     "execution_count": 19,
     "metadata": {},
     "output_type": "execute_result"
    }
   ],
   "source": [
    "#visualizing decision tree\n",
    "\n",
    "from sklearn.tree import export_graphviz\n",
    "from sklearn.externals.six import StringIO  \n",
    "from IPython.display import Image  \n",
    "import pydotplus\n",
    "\n",
    "dot_data = StringIO()\n",
    "export_graphviz(dtc, out_file=dot_data,  \n",
    "                filled=True, rounded=True,\n",
    "                special_characters=True,feature_names = feature_cols,class_names=['0','1'])\n",
    "graph = pydotplus.graph_from_dot_data(dot_data.getvalue())  \n",
    "graph.write_png('gardens.png')\n",
    "Image(graph.create_png())"
   ]
  },
  {
   "cell_type": "code",
   "execution_count": null,
   "metadata": {},
   "outputs": [],
   "source": []
  },
  {
   "cell_type": "code",
   "execution_count": 20,
   "metadata": {},
   "outputs": [
    {
     "name": "stdout",
     "output_type": "stream",
     "text": [
      "[[14 16]\n",
      " [10 19]]\n"
     ]
    },
    {
     "data": {
      "image/png": "[encoded data removed]",
      "text/plain": [
       "<Figure size 432x288 with 2 Axes>"
      ]
     },
     "metadata": {
      "needs_background": "light"
     },
     "output_type": "display_data"
    }
   ],
   "source": [
    "# Visualise classical Confusion Matrix\n",
    "from sklearn.metrics import confusion_matrix\n",
    "\n",
    "CM = confusion_matrix(y_test, yhat)\n",
    "print(CM)\n",
    "\n",
    "# Visualize it as a heatmap\n",
    "import seaborn\n",
    "seaborn.heatmap(CM)\n",
    "plt.show()"
   ]
  },
  {
   "cell_type": "code",
   "execution_count": 38,
   "metadata": {},
   "outputs": [],
   "source": [
    "# Import RandomForestClassifier from scikit's ensemble module\n",
    "from sklearn.ensemble import RandomForestClassifier\n",
    "\n",
    "# Instanitate your Random Forest Classifier model object with n_estimators or\n",
    "# the number of trees in the forest set to 20 (default is 10)\n",
    "model = RandomForestClassifier(n_estimators = 20,min_samples_leaf = 5)\n",
    "\n",
    "#rf_clf = RandomForestClassifier(n_estimators=100 , max_depth=25, min_samples_split = 2, min_samples_leaf = 2 )\n",
    "\n",
    "rfc = RandomForestClassifier(n_estimators = 20, min_samples_leaf = 5).fit(X_train, y_train)\n"
   ]
  },
  {
   "cell_type": "code",
   "execution_count": 39,
   "metadata": {},
   "outputs": [],
   "source": [
    "# Fit your model on the features (X) and the target (y)\n",
    "\n",
    "yhatRF = rfc.predict(X_test)"
   ]
  },
  {
   "cell_type": "code",
   "execution_count": 40,
   "metadata": {},
   "outputs": [
    {
     "name": "stdout",
     "output_type": "stream",
     "text": [
      "Train set Accuracy:  0.8970588235294118\n",
      "Test set Accuracy:  0.6440677966101694\n"
     ]
    }
   ],
   "source": [
    "print('Train set Accuracy: ', metrics.accuracy_score(y_train, rfc.predict(X_train)))\n",
    "print('Test set Accuracy: ', metrics.accuracy_score(y_test, yhatRF))"
   ]
  },
  {
   "cell_type": "code",
   "execution_count": 41,
   "metadata": {},
   "outputs": [
    {
     "data": {
      "text/plain": [
       "<matplotlib.axes._subplots.AxesSubplot at 0x1a24195ac8>"
      ]
     },
     "execution_count": 41,
     "metadata": {},
     "output_type": "execute_result"
    },
    {
     "data": {
      "image/png": "[encoded data removed]",
      "text/plain": [
       "<Figure size 1080x576 with 1 Axes>"
      ]
     },
     "metadata": {
      "needs_background": "light"
     },
     "output_type": "display_data"
    }
   ],
   "source": [
    "df_feat_importance = pd.DataFrame({'importance' : rfc.feature_importances_}, index = X.columns)\n",
    "df_feat_importance.sort_values(by='importance', ascending=True ).plot(kind='barh',colormap ='Accent', figsize=(15,8))"
   ]
  },
  {
   "cell_type": "code",
   "execution_count": 42,
   "metadata": {},
   "outputs": [
    {
     "data": {
      "text/html": [
       "<div>\n",
       "<style scoped>\n",
       "    .dataframe tbody tr th:only-of-type {\n",
       "        vertical-align: middle;\n",
       "    }\n",
       "\n",
       "    .dataframe tbody tr th {\n",
       "        vertical-align: top;\n",
       "    }\n",
       "\n",
       "    .dataframe thead th {\n",
       "        text-align: right;\n",
       "    }\n",
       "</style>\n",
       "<table border=\"1\" class=\"dataframe\">\n",
       "  <thead>\n",
       "    <tr style=\"text-align: right;\">\n",
       "      <th></th>\n",
       "      <th>importance</th>\n",
       "    </tr>\n",
       "  </thead>\n",
       "  <tbody>\n",
       "    <tr>\n",
       "      <th>CLF_UnemployedN</th>\n",
       "      <td>0.154181</td>\n",
       "    </tr>\n",
       "    <tr>\n",
       "      <th>FELONY_norm</th>\n",
       "      <td>0.111116</td>\n",
       "    </tr>\n",
       "    <tr>\n",
       "      <th>BlackN</th>\n",
       "      <td>0.104053</td>\n",
       "    </tr>\n",
       "    <tr>\n",
       "      <th>MISDEMEANOR_norm</th>\n",
       "      <td>0.082146</td>\n",
       "    </tr>\n",
       "    <tr>\n",
       "      <th>Inc_mid</th>\n",
       "      <td>0.078953</td>\n",
       "    </tr>\n",
       "    <tr>\n",
       "      <th>PopOv65N</th>\n",
       "      <td>0.077302</td>\n",
       "    </tr>\n",
       "    <tr>\n",
       "      <th>Inc_low</th>\n",
       "      <td>0.074727</td>\n",
       "    </tr>\n",
       "    <tr>\n",
       "      <th>EduGradProf</th>\n",
       "      <td>0.048855</td>\n",
       "    </tr>\n",
       "    <tr>\n",
       "      <th>EduOtherN</th>\n",
       "      <td>0.045178</td>\n",
       "    </tr>\n",
       "    <tr>\n",
       "      <th>FemEN</th>\n",
       "      <td>0.043161</td>\n",
       "    </tr>\n",
       "    <tr>\n",
       "      <th>WhiteN</th>\n",
       "      <td>0.041896</td>\n",
       "    </tr>\n",
       "    <tr>\n",
       "      <th>MaleEN</th>\n",
       "      <td>0.030158</td>\n",
       "    </tr>\n",
       "    <tr>\n",
       "      <th>Asian_other</th>\n",
       "      <td>0.028628</td>\n",
       "    </tr>\n",
       "    <tr>\n",
       "      <th>Inc_high</th>\n",
       "      <td>0.026861</td>\n",
       "    </tr>\n",
       "    <tr>\n",
       "      <th>EduBachelor</th>\n",
       "      <td>0.021009</td>\n",
       "    </tr>\n",
       "    <tr>\n",
       "      <th>VIOLATION_norm</th>\n",
       "      <td>0.020134</td>\n",
       "    </tr>\n",
       "    <tr>\n",
       "      <th>HispN</th>\n",
       "      <td>0.011641</td>\n",
       "    </tr>\n",
       "  </tbody>\n",
       "</table>\n",
       "</div>"
      ],
      "text/plain": [
       "                  importance\n",
       "CLF_UnemployedN     0.154181\n",
       "FELONY_norm         0.111116\n",
       "BlackN              0.104053\n",
       "MISDEMEANOR_norm    0.082146\n",
       "Inc_mid             0.078953\n",
       "PopOv65N            0.077302\n",
       "Inc_low             0.074727\n",
       "EduGradProf         0.048855\n",
       "EduOtherN           0.045178\n",
       "FemEN               0.043161\n",
       "WhiteN              0.041896\n",
       "MaleEN              0.030158\n",
       "Asian_other         0.028628\n",
       "Inc_high            0.026861\n",
       "EduBachelor         0.021009\n",
       "VIOLATION_norm      0.020134\n",
       "HispN               0.011641"
      ]
     },
     "execution_count": 42,
     "metadata": {},
     "output_type": "execute_result"
    }
   ],
   "source": [
    "df = pd.DataFrame({'importance' : rfc.feature_importances_}, index = X.columns)\n",
    "df.sort_values(by='importance', ascending=False )"
   ]
  },
  {
   "cell_type": "code",
   "execution_count": 32,
   "metadata": {},
   "outputs": [
    {
     "name": "stdout",
     "output_type": "stream",
     "text": [
      "Index(['PopOv65N', 'BlackN', 'CLF_UnemployedN', 'EduOtherN', 'Inc_low',\n",
      "       'Inc_mid', 'FELONY_norm', 'MISDEMEANOR_norm'],\n",
      "      dtype='object')\n"
     ]
    },
    {
     "data": {
      "text/plain": [
       "8"
      ]
     },
     "execution_count": 32,
     "metadata": {},
     "output_type": "execute_result"
    }
   ],
   "source": [
    "from sklearn.feature_selection import SelectFromModel\n",
    "\n",
    "sel = SelectFromModel(RandomForestClassifier(n_estimators = 100))\n",
    "sel.fit(X_train, y_train)\n",
    "\n",
    "sel.get_support()\n",
    "\n",
    "selected_feat= X_train.columns[(sel.get_support())]\n",
    "len(selected_feat)\n",
    "\n",
    "print(selected_feat)\n",
    "sel.get_support().sum() "
   ]
  },
  {
   "cell_type": "code",
   "execution_count": 33,
   "metadata": {},
   "outputs": [
    {
     "name": "stdout",
     "output_type": "stream",
     "text": [
      "CV AUC [0.58547794 0.54933586 0.7688172 ], Average AUC 0.634543669618385\n",
      "n trees: 1, CV AUC [0.50183824 0.4288425  0.64076246], Average AUC 0.5238144011270197\n",
      "n trees: 11, CV AUC [0.57490809 0.44734345 0.72043011], Average AUC 0.5808938830908709\n",
      "n trees: 21, CV AUC [0.56479779 0.5256167  0.72434018], Average AUC 0.6049182227876487\n",
      "n trees: 31, CV AUC [0.49540441 0.44354839 0.81524927], Average AUC 0.5847340219078835\n",
      "n trees: 41, CV AUC [0.55928309 0.49905123 0.73851417], Average AUC 0.5989494985433078\n",
      "n trees: 51, CV AUC [0.56571691 0.51185958 0.76392962], Average AUC 0.613835371025243\n",
      "n trees: 61, CV AUC [0.56571691 0.55645161 0.73167155], Average AUC 0.6179466929733769\n",
      "n trees: 71, CV AUC [0.55744485 0.51850095 0.71554252], Average AUC 0.5971627745673049\n",
      "n trees: 81, CV AUC [0.52435662 0.53842505 0.7086999 ], Average AUC 0.5904938557778928\n",
      "n trees: 91, CV AUC [0.52849265 0.49857685 0.7228739 ], Average AUC 0.5833144658156518\n"
     ]
    }
   ],
   "source": [
    "# http://scikit-learn.org/stable/modules/generated/sklearn.model_selection.cross_val_score.html\n",
    "# cross_val_score(estimator, features, target, chosen scoring method) assigned to the variable \"scores.\"\n",
    "# scores will be a numpy array\n",
    "scores = cross_val_score(rfc, X, y, cv=3, scoring='roc_auc')\n",
    "print('CV AUC {}, Average AUC {}'.format(scores, scores.mean()))\n",
    "\n",
    "# A for loop for running a Random Forest Classifier with n-estimators (or number of trees in your forest).\n",
    "# The is 1 to 100 in steps of 10 - range(start, end, step)\n",
    "for n_trees in range(1, 100, 10):\n",
    "    rfc = RandomForestClassifier(n_estimators = n_trees)\n",
    "    scores = cross_val_score(rfc, X, y, cv=3, scoring='roc_auc')\n",
    "    print('n trees: {}, CV AUC {}, Average AUC {}'.format(n_trees, scores, scores.mean()))"
   ]
  },
  {
   "cell_type": "code",
   "execution_count": null,
   "metadata": {},
   "outputs": [],
   "source": [
    "# Trying WITHOUT CRIME data"
   ]
  },
  {
   "cell_type": "code",
   "execution_count": 43,
   "metadata": {},
   "outputs": [],
   "source": [
    "rf1 = acsgc[['NTA','MaleEN', 'FemEN','PopOv65N','HispN','WhiteN', 'BlackN','Asian_other',\n",
    "           'CLF_UnemployedN','EduOtherN',\n",
    "       'EduBachelor', 'EduGradProf','Inc_low', 'Inc_mid', 'Inc_high',\n",
    "           'HasGarden']].copy()"
   ]
  },
  {
   "cell_type": "code",
   "execution_count": 44,
   "metadata": {},
   "outputs": [],
   "source": [
    "rf1 = rf1.replace([np.inf, -np.inf, np.nan], 0)"
   ]
  },
  {
   "cell_type": "code",
   "execution_count": 47,
   "metadata": {},
   "outputs": [],
   "source": [
    "feature_cols1 = ['MaleEN', 'FemEN','PopOv65N','HispN','WhiteN', 'BlackN','Asian_other',\n",
    "           'CLF_UnemployedN','EduOtherN','EduBachelor', 'EduGradProf','Inc_low', 'Inc_mid', \n",
    "                'Inc_high']\n",
    "\n",
    "X1=rf1[['MaleEN', 'FemEN','PopOv65N','HispN','WhiteN', 'BlackN','Asian_other',\n",
    "           'CLF_UnemployedN','EduOtherN','EduBachelor', 'EduGradProf','Inc_low', 'Inc_mid', 'Inc_high']]  # Features\n",
    "\n",
    "y1=rf1['HasGarden']  # Labels"
   ]
  },
  {
   "cell_type": "code",
   "execution_count": 48,
   "metadata": {},
   "outputs": [],
   "source": [
    "X1_train, X1_test, y1_train, y1_test = train_test_split(X1, y1, test_size=0.3, random_state = 1)"
   ]
  },
  {
   "cell_type": "code",
   "execution_count": 49,
   "metadata": {},
   "outputs": [
    {
     "name": "stdout",
     "output_type": "stream",
     "text": [
      "Training set:  (136, 14) (136,)\n",
      "Testing set:  (59, 14) (59,)\n"
     ]
    }
   ],
   "source": [
    "print('Training set: ', X1_train.shape, y1_train.shape)\n",
    "print('Testing set: ', X1_test.shape, y1_test.shape)"
   ]
  },
  {
   "cell_type": "code",
   "execution_count": 50,
   "metadata": {},
   "outputs": [],
   "source": [
    "#Building Decision Tree Model\n",
    "\n",
    "# Create Decision Tree classifer object\n",
    "dtc1 = DecisionTreeClassifier()\n",
    "\n",
    "# Train Decision Tree Classifer\n",
    "dtc1 = DecisionTreeClassifier(criterion='entropy', max_depth=2).fit(X1_train, y1_train)\n",
    "\n",
    "#max depth = 2 to control for overfitting"
   ]
  },
  {
   "cell_type": "code",
   "execution_count": 51,
   "metadata": {},
   "outputs": [],
   "source": [
    "#Predict the response for test dataset\n",
    "yhat1 = dtc1.predict(X1_test)"
   ]
  },
  {
   "cell_type": "code",
   "execution_count": 52,
   "metadata": {},
   "outputs": [
    {
     "name": "stdout",
     "output_type": "stream",
     "text": [
      "Train set Accuracy:  0.75\n",
      "Test set Accuracy:  0.559322033898305\n"
     ]
    }
   ],
   "source": [
    "print('Train set Accuracy: ', metrics.accuracy_score(y1_train, dtc1.predict(X1_train)))\n",
    "print('Test set Accuracy: ', metrics.accuracy_score(y1_test, yhat1))"
   ]
  },
  {
   "cell_type": "code",
   "execution_count": 54,
   "metadata": {},
   "outputs": [
    {
     "data": {
      "image/png": "[encoded data removed]",
      "text/plain": [
       "<IPython.core.display.Image object>"
      ]
     },
     "execution_count": 54,
     "metadata": {},
     "output_type": "execute_result"
    }
   ],
   "source": [
    "#visualizing decision tree\n",
    "\n",
    "from sklearn.tree import export_graphviz\n",
    "from sklearn.externals.six import StringIO  \n",
    "from IPython.display import Image  \n",
    "import pydotplus\n",
    "\n",
    "dot_data = StringIO()\n",
    "export_graphviz(dtc1, out_file=dot_data,  \n",
    "                filled=True, rounded=True,\n",
    "                special_characters=True,feature_names = feature_cols1,class_names=['0','1'])\n",
    "graph = pydotplus.graph_from_dot_data(dot_data.getvalue())  \n",
    "graph.write_png('gardens.png')\n",
    "Image(graph.create_png())"
   ]
  },
  {
   "cell_type": "code",
   "execution_count": 57,
   "metadata": {},
   "outputs": [
    {
     "name": "stdout",
     "output_type": "stream",
     "text": [
      "[[14 16]\n",
      " [10 19]]\n"
     ]
    },
    {
     "data": {
      "image/png": "[encoded data removed]",
      "text/plain": [
       "<Figure size 432x288 with 2 Axes>"
      ]
     },
     "metadata": {
      "needs_background": "light"
     },
     "output_type": "display_data"
    }
   ],
   "source": [
    "# Visualise classical Confusion Matrix\n",
    "from sklearn.metrics import confusion_matrix\n",
    "\n",
    "CM1 = confusion_matrix(y1_test, yhat1)\n",
    "print(CM1)\n",
    "\n",
    "# Visualize it as a heatmap\n",
    "import seaborn\n",
    "seaborn.heatmap(CM1)\n",
    "plt.show()"
   ]
  },
  {
   "cell_type": "code",
   "execution_count": 58,
   "metadata": {},
   "outputs": [],
   "source": [
    "# Import RandomForestClassifier from scikit's ensemble module\n",
    "from sklearn.ensemble import RandomForestClassifier\n",
    "\n",
    "# Instanitate your Random Forest Classifier model object with n_estimators or\n",
    "# the number of trees in the forest set to 20 (default is 10)\n",
    "model = RandomForestClassifier(n_estimators = 20,min_samples_leaf = 5)\n",
    "\n",
    "#rf_clf = RandomForestClassifier(n_estimators=100 , max_depth=25, min_samples_split = 2, min_samples_leaf = 2 )\n",
    "\n",
    "rfc1 = RandomForestClassifier(n_estimators = 20, min_samples_leaf = 5).fit(X1_train, y1_train)\n"
   ]
  },
  {
   "cell_type": "code",
   "execution_count": 59,
   "metadata": {},
   "outputs": [],
   "source": [
    "# Fit your model on the features (X) and the target (y)\n",
    "\n",
    "yhatRF1 = rfc1.predict(X1_test)"
   ]
  },
  {
   "cell_type": "code",
   "execution_count": 61,
   "metadata": {},
   "outputs": [
    {
     "name": "stdout",
     "output_type": "stream",
     "text": [
      "Train set Accuracy:  0.8897058823529411\n",
      "Test set Accuracy:  0.711864406779661\n"
     ]
    }
   ],
   "source": [
    "print('Train set Accuracy: ', metrics.accuracy_score(y1_train, rfc1.predict(X1_train)))\n",
    "print('Test set Accuracy: ', metrics.accuracy_score(y1_test, yhatRF1))"
   ]
  },
  {
   "cell_type": "code",
   "execution_count": 62,
   "metadata": {},
   "outputs": [
    {
     "data": {
      "text/plain": [
       "<matplotlib.axes._subplots.AxesSubplot at 0x1a22d67b70>"
      ]
     },
     "execution_count": 62,
     "metadata": {},
     "output_type": "execute_result"
    },
    {
     "data": {
      "image/png": "[encoded data removed]",
      "text/plain": [
       "<Figure size 1080x576 with 1 Axes>"
      ]
     },
     "metadata": {
      "needs_background": "light"
     },
     "output_type": "display_data"
    }
   ],
   "source": [
    "df_feat_importance = pd.DataFrame({'importance' : rfc1.feature_importances_}, index = X1.columns)\n",
    "df_feat_importance.sort_values(by='importance', ascending=True ).plot(kind='barh',colormap ='Accent', figsize=(15,8))"
   ]
  },
  {
   "cell_type": "code",
   "execution_count": 63,
   "metadata": {},
   "outputs": [
    {
     "data": {
      "text/html": [
       "<div>\n",
       "<style scoped>\n",
       "    .dataframe tbody tr th:only-of-type {\n",
       "        vertical-align: middle;\n",
       "    }\n",
       "\n",
       "    .dataframe tbody tr th {\n",
       "        vertical-align: top;\n",
       "    }\n",
       "\n",
       "    .dataframe thead th {\n",
       "        text-align: right;\n",
       "    }\n",
       "</style>\n",
       "<table border=\"1\" class=\"dataframe\">\n",
       "  <thead>\n",
       "    <tr style=\"text-align: right;\">\n",
       "      <th></th>\n",
       "      <th>importance</th>\n",
       "    </tr>\n",
       "  </thead>\n",
       "  <tbody>\n",
       "    <tr>\n",
       "      <th>PopOv65N</th>\n",
       "      <td>0.113997</td>\n",
       "    </tr>\n",
       "    <tr>\n",
       "      <th>CLF_UnemployedN</th>\n",
       "      <td>0.112500</td>\n",
       "    </tr>\n",
       "    <tr>\n",
       "      <th>Inc_low</th>\n",
       "      <td>0.108787</td>\n",
       "    </tr>\n",
       "    <tr>\n",
       "      <th>HispN</th>\n",
       "      <td>0.104606</td>\n",
       "    </tr>\n",
       "    <tr>\n",
       "      <th>EduBachelor</th>\n",
       "      <td>0.082389</td>\n",
       "    </tr>\n",
       "    <tr>\n",
       "      <th>WhiteN</th>\n",
       "      <td>0.077745</td>\n",
       "    </tr>\n",
       "    <tr>\n",
       "      <th>Inc_high</th>\n",
       "      <td>0.075298</td>\n",
       "    </tr>\n",
       "    <tr>\n",
       "      <th>EduOtherN</th>\n",
       "      <td>0.072322</td>\n",
       "    </tr>\n",
       "    <tr>\n",
       "      <th>Asian_other</th>\n",
       "      <td>0.068566</td>\n",
       "    </tr>\n",
       "    <tr>\n",
       "      <th>EduGradProf</th>\n",
       "      <td>0.052129</td>\n",
       "    </tr>\n",
       "    <tr>\n",
       "      <th>BlackN</th>\n",
       "      <td>0.050874</td>\n",
       "    </tr>\n",
       "    <tr>\n",
       "      <th>MaleEN</th>\n",
       "      <td>0.029951</td>\n",
       "    </tr>\n",
       "    <tr>\n",
       "      <th>Inc_mid</th>\n",
       "      <td>0.028244</td>\n",
       "    </tr>\n",
       "    <tr>\n",
       "      <th>FemEN</th>\n",
       "      <td>0.022590</td>\n",
       "    </tr>\n",
       "  </tbody>\n",
       "</table>\n",
       "</div>"
      ],
      "text/plain": [
       "                 importance\n",
       "PopOv65N           0.113997\n",
       "CLF_UnemployedN    0.112500\n",
       "Inc_low            0.108787\n",
       "HispN              0.104606\n",
       "EduBachelor        0.082389\n",
       "WhiteN             0.077745\n",
       "Inc_high           0.075298\n",
       "EduOtherN          0.072322\n",
       "Asian_other        0.068566\n",
       "EduGradProf        0.052129\n",
       "BlackN             0.050874\n",
       "MaleEN             0.029951\n",
       "Inc_mid            0.028244\n",
       "FemEN              0.022590"
      ]
     },
     "execution_count": 63,
     "metadata": {},
     "output_type": "execute_result"
    }
   ],
   "source": [
    "df = pd.DataFrame({'importance' : rfc1.feature_importances_}, index = X1.columns)\n",
    "df.sort_values(by='importance', ascending=False)"
   ]
  },
  {
   "cell_type": "code",
   "execution_count": null,
   "metadata": {},
   "outputs": [],
   "source": []
  }
 ],
 "metadata": {
  "kernelspec": {
   "display_name": "Python 3",
   "language": "python",
   "name": "python3"
  },
  "language_info": {
   "codemirror_mode": {
    "name": "ipython",
    "version": 3
   },
   "file_extension": ".py",
   "mimetype": "text/x-python",
   "name": "python",
   "nbconvert_exporter": "python",
   "pygments_lexer": "ipython3",
   "version": "3.7.1"
  }
 },
 "nbformat": 4,
 "nbformat_minor": 2
}
