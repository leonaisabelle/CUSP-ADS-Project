{
 "cells": [
  {
   "cell_type": "code",
   "execution_count": 9,
   "metadata": {},
   "outputs": [
    {
     "name": "stdout",
     "output_type": "stream",
     "text": [
      "Populating the interactive namespace from numpy and matplotlib\n"
     ]
    }
   ],
   "source": [
    "#import all the libraries\n",
    "import numpy as np\n",
    "import pandas as pd\n",
    "import matplotlib.pyplot as plt\n",
    "from sklearn.linear_model import LogisticRegression\n",
    "from sklearn import preprocessing, svm\n",
    "from sklearn.metrics import confusion_matrix\n",
    "from sklearn.decomposition import PCA\n",
    "%pylab inline\n",
    "\n",
    "# To ignore some warnings\n",
    "import warnings\n",
    "warnings.simplefilter(action='ignore', category=FutureWarning) # comes up when not specifying solver for LogisticRegression\n",
    "# warnings.simplefilter(action='ignore', category=UserWarning)"
   ]
  },
  {
   "cell_type": "code",
   "execution_count": 2,
   "metadata": {},
   "outputs": [
    {
     "data": {
      "text/html": [
       "<div>\n",
       "<style scoped>\n",
       "    .dataframe tbody tr th:only-of-type {\n",
       "        vertical-align: middle;\n",
       "    }\n",
       "\n",
       "    .dataframe tbody tr th {\n",
       "        vertical-align: top;\n",
       "    }\n",
       "\n",
       "    .dataframe thead th {\n",
       "        text-align: right;\n",
       "    }\n",
       "</style>\n",
       "<table border=\"1\" class=\"dataframe\">\n",
       "  <thead>\n",
       "    <tr style=\"text-align: right;\">\n",
       "      <th></th>\n",
       "      <th>Pop_1E</th>\n",
       "      <th>MaleEN</th>\n",
       "      <th>FemEN</th>\n",
       "      <th>PopUnd18N</th>\n",
       "      <th>PopOv65N</th>\n",
       "      <th>HispN</th>\n",
       "      <th>NotHispN</th>\n",
       "      <th>WhiteN</th>\n",
       "      <th>BlackN</th>\n",
       "      <th>NativeN</th>\n",
       "      <th>...</th>\n",
       "      <th>PopOver25</th>\n",
       "      <th>EduOtherN</th>\n",
       "      <th>EduBachelor</th>\n",
       "      <th>EduGradProf</th>\n",
       "      <th>GardenCounts</th>\n",
       "      <th>HasGarden</th>\n",
       "      <th>FELONY_norm</th>\n",
       "      <th>MISDEMEANOR_norm</th>\n",
       "      <th>VIOLATION_norm</th>\n",
       "      <th>TOTAL_CRIME_norm</th>\n",
       "    </tr>\n",
       "    <tr>\n",
       "      <th>NTA</th>\n",
       "      <th></th>\n",
       "      <th></th>\n",
       "      <th></th>\n",
       "      <th></th>\n",
       "      <th></th>\n",
       "      <th></th>\n",
       "      <th></th>\n",
       "      <th></th>\n",
       "      <th></th>\n",
       "      <th></th>\n",
       "      <th></th>\n",
       "      <th></th>\n",
       "      <th></th>\n",
       "      <th></th>\n",
       "      <th></th>\n",
       "      <th></th>\n",
       "      <th></th>\n",
       "      <th></th>\n",
       "      <th></th>\n",
       "      <th></th>\n",
       "      <th></th>\n",
       "    </tr>\n",
       "  </thead>\n",
       "  <tbody>\n",
       "    <tr>\n",
       "      <th>Bath Beach</th>\n",
       "      <td>33163.0</td>\n",
       "      <td>0.503151</td>\n",
       "      <td>0.496849</td>\n",
       "      <td>0.214184</td>\n",
       "      <td>0.147393</td>\n",
       "      <td>0.176733</td>\n",
       "      <td>0.823267</td>\n",
       "      <td>0.436933</td>\n",
       "      <td>0.012182</td>\n",
       "      <td>0.000332</td>\n",
       "      <td>...</td>\n",
       "      <td>23822.0</td>\n",
       "      <td>0.663798</td>\n",
       "      <td>0.224372</td>\n",
       "      <td>0.111829</td>\n",
       "      <td>0.0</td>\n",
       "      <td>0.0</td>\n",
       "      <td>0.030033</td>\n",
       "      <td>0.065645</td>\n",
       "      <td>0.014444</td>\n",
       "      <td>0.110123</td>\n",
       "    </tr>\n",
       "    <tr>\n",
       "      <th>Bay Ridge</th>\n",
       "      <td>79134.0</td>\n",
       "      <td>0.478037</td>\n",
       "      <td>0.521963</td>\n",
       "      <td>0.190942</td>\n",
       "      <td>0.156444</td>\n",
       "      <td>0.178608</td>\n",
       "      <td>0.821392</td>\n",
       "      <td>0.634329</td>\n",
       "      <td>0.019094</td>\n",
       "      <td>0.002287</td>\n",
       "      <td>...</td>\n",
       "      <td>58178.0</td>\n",
       "      <td>0.535735</td>\n",
       "      <td>0.271976</td>\n",
       "      <td>0.192289</td>\n",
       "      <td>0.0</td>\n",
       "      <td>0.0</td>\n",
       "      <td>0.033627</td>\n",
       "      <td>0.082051</td>\n",
       "      <td>0.023833</td>\n",
       "      <td>0.139510</td>\n",
       "    </tr>\n",
       "    <tr>\n",
       "      <th>Bedford</th>\n",
       "      <td>75318.0</td>\n",
       "      <td>0.484492</td>\n",
       "      <td>0.515508</td>\n",
       "      <td>0.297127</td>\n",
       "      <td>0.077219</td>\n",
       "      <td>0.194933</td>\n",
       "      <td>0.805067</td>\n",
       "      <td>0.350607</td>\n",
       "      <td>0.405826</td>\n",
       "      <td>0.000876</td>\n",
       "      <td>...</td>\n",
       "      <td>44766.0</td>\n",
       "      <td>0.678193</td>\n",
       "      <td>0.204352</td>\n",
       "      <td>0.117455</td>\n",
       "      <td>23.0</td>\n",
       "      <td>1.0</td>\n",
       "      <td>0.082026</td>\n",
       "      <td>0.124671</td>\n",
       "      <td>0.032993</td>\n",
       "      <td>0.239690</td>\n",
       "    </tr>\n",
       "    <tr>\n",
       "      <th>Bensonhurst East</th>\n",
       "      <td>64267.0</td>\n",
       "      <td>0.486766</td>\n",
       "      <td>0.513234</td>\n",
       "      <td>0.198749</td>\n",
       "      <td>0.157266</td>\n",
       "      <td>0.123283</td>\n",
       "      <td>0.876717</td>\n",
       "      <td>0.465153</td>\n",
       "      <td>0.008262</td>\n",
       "      <td>0.000000</td>\n",
       "      <td>...</td>\n",
       "      <td>46010.0</td>\n",
       "      <td>0.698153</td>\n",
       "      <td>0.204564</td>\n",
       "      <td>0.097283</td>\n",
       "      <td>1.0</td>\n",
       "      <td>1.0</td>\n",
       "      <td>0.029377</td>\n",
       "      <td>0.048003</td>\n",
       "      <td>0.014969</td>\n",
       "      <td>0.092349</td>\n",
       "    </tr>\n",
       "    <tr>\n",
       "      <th>Bensonhurst West</th>\n",
       "      <td>91646.0</td>\n",
       "      <td>0.487212</td>\n",
       "      <td>0.512788</td>\n",
       "      <td>0.210462</td>\n",
       "      <td>0.142625</td>\n",
       "      <td>0.145975</td>\n",
       "      <td>0.854025</td>\n",
       "      <td>0.426773</td>\n",
       "      <td>0.008740</td>\n",
       "      <td>0.001211</td>\n",
       "      <td>...</td>\n",
       "      <td>65016.0</td>\n",
       "      <td>0.737618</td>\n",
       "      <td>0.188800</td>\n",
       "      <td>0.073582</td>\n",
       "      <td>2.0</td>\n",
       "      <td>1.0</td>\n",
       "      <td>0.027704</td>\n",
       "      <td>0.045981</td>\n",
       "      <td>0.013105</td>\n",
       "      <td>0.086790</td>\n",
       "    </tr>\n",
       "  </tbody>\n",
       "</table>\n",
       "<p>5 rows × 39 columns</p>\n",
       "</div>"
      ],
      "text/plain": [
       "                   Pop_1E    MaleEN     FemEN  PopUnd18N  PopOv65N     HispN  \\\n",
       "NTA                                                                            \n",
       "Bath Beach        33163.0  0.503151  0.496849   0.214184  0.147393  0.176733   \n",
       "Bay Ridge         79134.0  0.478037  0.521963   0.190942  0.156444  0.178608   \n",
       "Bedford           75318.0  0.484492  0.515508   0.297127  0.077219  0.194933   \n",
       "Bensonhurst East  64267.0  0.486766  0.513234   0.198749  0.157266  0.123283   \n",
       "Bensonhurst West  91646.0  0.487212  0.512788   0.210462  0.142625  0.145975   \n",
       "\n",
       "                  NotHispN    WhiteN    BlackN   NativeN        ...         \\\n",
       "NTA                                                             ...          \n",
       "Bath Beach        0.823267  0.436933  0.012182  0.000332        ...          \n",
       "Bay Ridge         0.821392  0.634329  0.019094  0.002287        ...          \n",
       "Bedford           0.805067  0.350607  0.405826  0.000876        ...          \n",
       "Bensonhurst East  0.876717  0.465153  0.008262  0.000000        ...          \n",
       "Bensonhurst West  0.854025  0.426773  0.008740  0.001211        ...          \n",
       "\n",
       "                  PopOver25  EduOtherN  EduBachelor  EduGradProf  \\\n",
       "NTA                                                                \n",
       "Bath Beach          23822.0   0.663798     0.224372     0.111829   \n",
       "Bay Ridge           58178.0   0.535735     0.271976     0.192289   \n",
       "Bedford             44766.0   0.678193     0.204352     0.117455   \n",
       "Bensonhurst East    46010.0   0.698153     0.204564     0.097283   \n",
       "Bensonhurst West    65016.0   0.737618     0.188800     0.073582   \n",
       "\n",
       "                  GardenCounts  HasGarden  FELONY_norm  MISDEMEANOR_norm  \\\n",
       "NTA                                                                        \n",
       "Bath Beach                 0.0        0.0     0.030033          0.065645   \n",
       "Bay Ridge                  0.0        0.0     0.033627          0.082051   \n",
       "Bedford                   23.0        1.0     0.082026          0.124671   \n",
       "Bensonhurst East           1.0        1.0     0.029377          0.048003   \n",
       "Bensonhurst West           2.0        1.0     0.027704          0.045981   \n",
       "\n",
       "                  VIOLATION_norm  TOTAL_CRIME_norm  \n",
       "NTA                                                 \n",
       "Bath Beach              0.014444          0.110123  \n",
       "Bay Ridge               0.023833          0.139510  \n",
       "Bedford                 0.032993          0.239690  \n",
       "Bensonhurst East        0.014969          0.092349  \n",
       "Bensonhurst West        0.013105          0.086790  \n",
       "\n",
       "[5 rows x 39 columns]"
      ]
     },
     "execution_count": 2,
     "metadata": {},
     "output_type": "execute_result"
    }
   ],
   "source": [
    "data = pd.read_csv('../data/Norm_Data_Final.csv', index_col=0)\n",
    "data.head()"
   ]
  },
  {
   "cell_type": "code",
   "execution_count": 53,
   "metadata": {},
   "outputs": [],
   "source": [
    "# split into train, test, and validate data\n",
    "from sklearn.model_selection import train_test_split\n",
    "\n",
    "y = data[['GardenCounts', 'HasGarden']]\n",
    "X = data.drop(columns=['GardenCounts', 'HasGarden'])\n",
    "\n",
    "Xtrain, Xtest, Ytrain, Ytest = train_test_split(X, y, test_size=0.20, random_state=42)\n",
    "# not generating validation set here cos we will use cross-validation later"
   ]
  },
  {
   "cell_type": "code",
   "execution_count": 54,
   "metadata": {},
   "outputs": [
    {
     "data": {
      "text/plain": [
       "((152, 37), (31, 37), (39, 37))"
      ]
     },
     "execution_count": 54,
     "metadata": {},
     "output_type": "execute_result"
    }
   ],
   "source": [
    "Xtrain.shape, Xvalidate.shape, Xtest.shape"
   ]
  },
  {
   "cell_type": "code",
   "execution_count": 55,
   "metadata": {},
   "outputs": [],
   "source": [
    "# scale X data\n",
    "scaler = preprocessing.StandardScaler().fit(Xtrain)\n",
    "XtrainS = pd.DataFrame(scaler.transform(Xtrain))\n",
    "XtestS = pd.DataFrame(scaler.transform(Xtest))"
   ]
  },
  {
   "cell_type": "code",
   "execution_count": 56,
   "metadata": {},
   "outputs": [
    {
     "data": {
      "text/plain": [
       "(0, 0)"
      ]
     },
     "execution_count": 56,
     "metadata": {},
     "output_type": "execute_result"
    }
   ],
   "source": [
    "# check for null vals\n",
    "XtrainS.isnull().values.sum(), XtestS.isnull().values.sum()"
   ]
  },
  {
   "cell_type": "markdown",
   "metadata": {},
   "source": [
    "## Logistic Model with all features"
   ]
  },
  {
   "cell_type": "code",
   "execution_count": 57,
   "metadata": {},
   "outputs": [],
   "source": [
    "# Learn logistic regression over the training sample\n",
    "logit = LogisticRegression(C=1) # i imagine that c=10000 might be too severe\n",
    "logit = logit.fit(XtrainS, Ytrain['HasGarden']) #fit logistic regression model to training data"
   ]
  },
  {
   "cell_type": "code",
   "execution_count": 58,
   "metadata": {},
   "outputs": [
    {
     "data": {
      "text/plain": [
       "0.7435897435897436"
      ]
     },
     "execution_count": 58,
     "metadata": {},
     "output_type": "execute_result"
    }
   ],
   "source": [
    "# calculate out of sample accuracy\n",
    "logit.score(XtestS, Ytest['HasGarden'])"
   ]
  },
  {
   "cell_type": "markdown",
   "metadata": {},
   "source": [
    "### Hyperparam tuning of regularisation constant C"
   ]
  },
  {
   "cell_type": "code",
   "execution_count": 62,
   "metadata": {},
   "outputs": [
    {
     "data": {
      "image/png": "[encoded data removed]",
      "text/plain": [
       "<Figure size 1440x360 with 1 Axes>"
      ]
     },
     "metadata": {
      "needs_background": "light"
     },
     "output_type": "display_data"
    }
   ],
   "source": [
    "# try a smaller range with smaller intervals\n",
    "# and use cross validation\n",
    "from sklearn.model_selection import cross_val_score\n",
    "\n",
    "train_acc = []\n",
    "mean_cross_val_acc = []\n",
    "C_candidates = np.linspace(start=0.001, stop=100, num=100)\n",
    "\n",
    "for c in C_candidates:\n",
    "    logit = LogisticRegression(C=c).fit(XtrainS, Ytrain['HasGarden'])\n",
    "    train_acc.append(logit.score(XtrainS, Ytrain['HasGarden']))\n",
    "    mean_cross_val_acc.append(mean(cross_val_score(logit, XtrainS, Ytrain['HasGarden'])))\n",
    "\n",
    "# plot to see where it overfits\n",
    "plt.figure(figsize=(20,5))\n",
    "plt.plot(C_candidates, mean_cross_val_acc, label='Val Acc')\n",
    "plt.plot(C_candidates, train_acc, label='Train Acc')\n",
    "plt.xticks(np.linspace(start=0.001, stop=100, num=30))\n",
    "plt.legend()\n",
    "plt.show()\n",
    "\n",
    "# looks like we want the region between 0.001 to 3"
   ]
  },
  {
   "cell_type": "code",
   "execution_count": 68,
   "metadata": {},
   "outputs": [
    {
     "data": {
      "image/png": "[encoded data removed]",
      "text/plain": [
       "<Figure size 1440x360 with 1 Axes>"
      ]
     },
     "metadata": {
      "needs_background": "light"
     },
     "output_type": "display_data"
    }
   ],
   "source": [
    "train_acc = []\n",
    "mean_cross_val_acc = []\n",
    "C_candidates = np.linspace(start=0.001, stop=3, num=100)\n",
    "\n",
    "for c in C_candidates:\n",
    "    logit = LogisticRegression(C=c).fit(XtrainS, Ytrain['HasGarden'])\n",
    "    train_acc.append(logit.score(XtrainS, Ytrain['HasGarden']))\n",
    "    mean_cross_val_acc.append(mean(cross_val_score(logit, XtrainS, Ytrain['HasGarden'])))\n",
    "\n",
    "# plot to see where it overfits\n",
    "plt.figure(figsize=(20,5))\n",
    "plt.plot(C_candidates, mean_cross_val_acc, label='Val Acc')\n",
    "plt.plot(C_candidates, train_acc, label='Train Acc')\n",
    "\n",
    "plt.legend()\n",
    "plt.show()"
   ]
  },
  {
   "cell_type": "code",
   "execution_count": 69,
   "metadata": {},
   "outputs": [
    {
     "data": {
      "image/png": "[encoded data removed]",
      "text/plain": [
       "<Figure size 720x360 with 1 Axes>"
      ]
     },
     "metadata": {
      "needs_background": "light"
     },
     "output_type": "display_data"
    }
   ],
   "source": [
    "train_acc = []\n",
    "mean_cross_val_acc = []\n",
    "C_candidates = np.linspace(start=0.001, stop=0.25, num=100)\n",
    "\n",
    "for c in C_candidates:\n",
    "    logit = LogisticRegression(C=c).fit(XtrainS, Ytrain['HasGarden'])\n",
    "    train_acc.append(logit.score(XtrainS, Ytrain['HasGarden']))\n",
    "    mean_cross_val_acc.append(mean(cross_val_score(logit, XtrainS, Ytrain['HasGarden'])))\n",
    "\n",
    "# plot to see where it overfits\n",
    "plt.figure(figsize=(10,5))\n",
    "plt.plot(C_candidates, mean_cross_val_acc, label='Val Acc')\n",
    "plt.plot(C_candidates, train_acc, label='Train Acc')\n",
    "\n",
    "plt.legend()\n",
    "plt.show()"
   ]
  },
  {
   "cell_type": "code",
   "execution_count": 70,
   "metadata": {},
   "outputs": [
    {
     "data": {
      "text/plain": [
       "0.0513030303030303"
      ]
     },
     "execution_count": 70,
     "metadata": {},
     "output_type": "execute_result"
    }
   ],
   "source": [
    "# best C value\n",
    "optimal_C = C_candidates[np.argmax(mean_cross_val_acc)]\n",
    "optimal_C"
   ]
  },
  {
   "cell_type": "markdown",
   "metadata": {},
   "source": [
    "### Logistic regression with optimal C"
   ]
  },
  {
   "cell_type": "code",
   "execution_count": 72,
   "metadata": {},
   "outputs": [
    {
     "data": {
      "text/plain": [
       "'out of sample accuracy=0.7435897435897436'"
      ]
     },
     "execution_count": 72,
     "metadata": {},
     "output_type": "execute_result"
    }
   ],
   "source": [
    "logit = LogisticRegression(C=optimal_C).fit(XtrainS, Ytrain['HasGarden'])\n",
    "f\"out of sample accuracy={logit.score(XtestS, Ytest['HasGarden'])}\""
   ]
  },
  {
   "cell_type": "markdown",
   "metadata": {},
   "source": [
    "### Logistic Model with Sparse PCA (try with n=10 principle components)"
   ]
  },
  {
   "cell_type": "code",
   "execution_count": 286,
   "metadata": {},
   "outputs": [],
   "source": [
    "from sklearn.decomposition import SparsePCA"
   ]
  },
  {
   "cell_type": "code",
   "execution_count": 288,
   "metadata": {
    "scrolled": true
   },
   "outputs": [
    {
     "name": "stderr",
     "output_type": "stream",
     "text": [
      "/Users/cmvandev/opt/anaconda3/lib/python3.7/site-packages/sklearn/decomposition/sparse_pca.py:170: DeprecationWarning: normalize_components=False is a backward-compatible setting that implements a non-standard definition of sparse PCA. This compatibility mode will be removed in 0.22.\n",
      "  DeprecationWarning)\n"
     ]
    }
   ],
   "source": [
    "# apply sparse PCA\n",
    "spca = SparsePCA(XtrainS.shape[1]) # doing .shape[1] solved an error but I don't know why\n",
    "XtrainP = spca.fit_transform(XtrainS)\n",
    "XvalidateP = spca.transform(XvalidateS)\n",
    "XtestP = spca.transform(XtestS)"
   ]
  },
  {
   "cell_type": "code",
   "execution_count": 289,
   "metadata": {},
   "outputs": [
    {
     "name": "stdout",
     "output_type": "stream",
     "text": [
      "(115, 37)\n",
      "(38, 37)\n",
      "(39, 37)\n"
     ]
    }
   ],
   "source": [
    "print(XtrainP.shape)\n",
    "print(XvalidateP.shape)\n",
    "print(XtestP.shape)"
   ]
  },
  {
   "cell_type": "code",
   "execution_count": 290,
   "metadata": {},
   "outputs": [],
   "source": [
    "# Learn logistic regression over the first 5 principle components of sparse PCA training sample\n",
    "logit_spca = LogisticRegression(C=10000)\n",
    "logit_spca = logit_spca.fit(XtrainP[:,:10], Ytrain['HasGarden']) #fit logistic regression model to training data"
   ]
  },
  {
   "cell_type": "code",
   "execution_count": 291,
   "metadata": {
    "scrolled": true
   },
   "outputs": [
    {
     "name": "stdout",
     "output_type": "stream",
     "text": [
      "[0. 0. 1. 0. 0. 0. 1. 0. 0. 1. 0. 0. 1. 0. 1. 0. 0. 1. 1. 1. 1. 1. 1. 1.\n",
      " 1. 1. 0. 0. 1. 0. 0. 1. 1. 1. 1. 1. 0. 0. 0.]\n"
     ]
    }
   ],
   "source": [
    "# create binary garden predictions over test sample\n",
    "labelPred_spca = logit_spca.predict(XtestP[:,:10])\n",
    "print(labelPred_spca)"
   ]
  },
  {
   "cell_type": "code",
   "execution_count": 292,
   "metadata": {},
   "outputs": [
    {
     "data": {
      "text/plain": [
       "0.7435897435897436"
      ]
     },
     "execution_count": 292,
     "metadata": {},
     "output_type": "execute_result"
    }
   ],
   "source": [
    "# compute out of sample accuracy\n",
    "test_accuracy_spca= logit_spca.score(XtestP[:,:10],Ytest['HasGarden'])\n",
    "test_accuracy_spca "
   ]
  },
  {
   "cell_type": "markdown",
   "metadata": {},
   "source": [
    "### Select optimal number of principle components for classification"
   ]
  },
  {
   "cell_type": "code",
   "execution_count": 293,
   "metadata": {},
   "outputs": [],
   "source": [
    "# select optimal number of principle components for the classification in terms of the out-of-sample accuracy measured over the validation sample\n",
    "optimal_SPCA = np.zeros(shape=(37,2))\n",
    "for n in range(1,37):\n",
    "    #Learn logistic regression over the training sample\n",
    "    logit_spca_opt = LogisticRegression(C=10000)\n",
    "    logit_spca_opt = logit_spca_opt.fit(XtrainP[:,:n], Ytrain['HasGarden']) #fit logistic regression model to training data\n",
    "    # compute out of sample accuracy over validation set\n",
    "    validation_accuracy = logit_spca_opt.score(XvalidateP[:,:n],Yvalidate['HasGarden'])\n",
    "    #print(n, validation_accuracy)\n",
    "    optimal_SPCA[n,0] = n\n",
    "    optimal_SPCA[n,1] = validation_accuracy"
   ]
  },
  {
   "cell_type": "code",
   "execution_count": 294,
   "metadata": {},
   "outputs": [
    {
     "data": {
      "text/html": [
       "<div>\n",
       "<style scoped>\n",
       "    .dataframe tbody tr th:only-of-type {\n",
       "        vertical-align: middle;\n",
       "    }\n",
       "\n",
       "    .dataframe tbody tr th {\n",
       "        vertical-align: top;\n",
       "    }\n",
       "\n",
       "    .dataframe thead th {\n",
       "        text-align: right;\n",
       "    }\n",
       "</style>\n",
       "<table border=\"1\" class=\"dataframe\">\n",
       "  <thead>\n",
       "    <tr style=\"text-align: right;\">\n",
       "      <th></th>\n",
       "      <th>n</th>\n",
       "      <th>accuracy</th>\n",
       "    </tr>\n",
       "  </thead>\n",
       "  <tbody>\n",
       "    <tr>\n",
       "      <td>12.0</td>\n",
       "      <td>12.0</td>\n",
       "      <td>0.684211</td>\n",
       "    </tr>\n",
       "  </tbody>\n",
       "</table>\n",
       "</div>"
      ],
      "text/plain": [
       "         n  accuracy\n",
       "12.0  12.0  0.684211"
      ]
     },
     "execution_count": 294,
     "metadata": {},
     "output_type": "execute_result"
    }
   ],
   "source": [
    "optimal_SPCA_df = pd.DataFrame(optimal_SPCA, index = optimal_SPCA[:,0])\n",
    "optimal_SPCA_df.columns = ['n', 'accuracy']\n",
    "optimal_SPCA_df.sort_values(by=['accuracy'], ascending = False).head(1)"
   ]
  },
  {
   "cell_type": "code",
   "execution_count": 295,
   "metadata": {},
   "outputs": [
    {
     "data": {
      "text/plain": [
       "0.6923076923076923"
      ]
     },
     "execution_count": 295,
     "metadata": {},
     "output_type": "execute_result"
    }
   ],
   "source": [
    "#Out of sample (test) accuracy for n = 6\n",
    "logit_n6 = LogisticRegression(C=10000)\n",
    "logit_n6 = logit_n6.fit(XtrainP[:,:7], Ytrain['HasGarden'])\n",
    "out_of_sample_accuracy_test_n6= logit_n6.score(XtestP[:,:7],Ytest['HasGarden'])\n",
    "out_of_sample_accuracy_test_n6\n",
    "#The out of sample accuracy over the test set for 7 principal components is 74%"
   ]
  },
  {
   "cell_type": "markdown",
   "metadata": {},
   "source": [
    "### Logistic Model with  Lasso Regularization"
   ]
  },
  {
   "cell_type": "code",
   "execution_count": 296,
   "metadata": {},
   "outputs": [],
   "source": [
    "logit_lasso = LogisticRegression(penalty='l1', C=10000) # lasso regression is penalty = l1; default is l2 which is ridge \n",
    "logit_lasso = logit_lasso.fit(XtrainS, Ytrain['HasGarden']) #fit logistic regression model to training data"
   ]
  },
  {
   "cell_type": "code",
   "execution_count": 297,
   "metadata": {},
   "outputs": [
    {
     "name": "stdout",
     "output_type": "stream",
     "text": [
      "[0. 0. 0. 0. 1. 0. 1. 1. 0. 1. 0. 0. 1. 0. 1. 0. 0. 1. 1. 1. 1. 1. 1. 1.\n",
      " 0. 0. 0. 1. 0. 0. 0. 0. 1. 1. 1. 1. 1. 0. 0.]\n"
     ]
    }
   ],
   "source": [
    "# create binary garden predictions over test sample\n",
    "labelPred_lasso = logit_lasso.predict(XtestS)\n",
    "print(labelPred_lasso)"
   ]
  },
  {
   "cell_type": "code",
   "execution_count": 298,
   "metadata": {},
   "outputs": [
    {
     "data": {
      "text/plain": [
       "0.717948717948718"
      ]
     },
     "execution_count": 298,
     "metadata": {},
     "output_type": "execute_result"
    }
   ],
   "source": [
    "# calculate out of sample accuracy\n",
    "test_accuracy_lasso = logit_lasso.score(XtestS,Ytest['HasGarden'])\n",
    "test_accuracy_lasso"
   ]
  }
 ],
 "metadata": {
  "kernelspec": {
   "display_name": "Python 3",
   "language": "python",
   "name": "python3"
  },
  "language_info": {
   "codemirror_mode": {
    "name": "ipython",
    "version": 3
   },
   "file_extension": ".py",
   "mimetype": "text/x-python",
   "name": "python",
   "nbconvert_exporter": "python",
   "pygments_lexer": "ipython3",
   "version": "3.6.2"
  }
 },
 "nbformat": 4,
 "nbformat_minor": 2
}
