{
 "cells": [
  {
   "cell_type": "code",
   "execution_count": 4,
   "metadata": {},
   "outputs": [
    {
     "name": "stdout",
     "output_type": "stream",
     "text": [
      "Populating the interactive namespace from numpy and matplotlib\n"
     ]
    }
   ],
   "source": [
    "#import all the libraries\n",
    "import numpy as np\n",
    "import pandas as pd\n",
    "import matplotlib.pyplot as plt\n",
    "from sklearn.linear_model import LogisticRegression\n",
    "from sklearn import preprocessing, svm\n",
    "from sklearn.metrics import confusion_matrix\n",
    "from sklearn.decomposition import PCA\n",
    "%pylab inline\n",
    "\n",
    "# To ignore some warnings\n",
    "import warnings\n",
    "warnings.simplefilter(action='ignore', category=FutureWarning) # comes up when not specifying solver for LogisticRegression\n",
    "warnings.simplefilter(action='ignore', category=UserWarning)"
   ]
  },
  {
   "cell_type": "code",
   "execution_count": 5,
   "metadata": {},
   "outputs": [
    {
     "data": {
      "text/html": [
       "<div>\n",
       "<style scoped>\n",
       "    .dataframe tbody tr th:only-of-type {\n",
       "        vertical-align: middle;\n",
       "    }\n",
       "\n",
       "    .dataframe tbody tr th {\n",
       "        vertical-align: top;\n",
       "    }\n",
       "\n",
       "    .dataframe thead th {\n",
       "        text-align: right;\n",
       "    }\n",
       "</style>\n",
       "<table border=\"1\" class=\"dataframe\">\n",
       "  <thead>\n",
       "    <tr style=\"text-align: right;\">\n",
       "      <th></th>\n",
       "      <th>HasGarden</th>\n",
       "      <th>GardenCounts_MMscaled</th>\n",
       "      <th>Gender_Female</th>\n",
       "      <th>Age_Over65</th>\n",
       "      <th>Unemployed</th>\n",
       "      <th>Race_Hisp</th>\n",
       "      <th>Race_White</th>\n",
       "      <th>Race_Black</th>\n",
       "      <th>Race_Asian</th>\n",
       "      <th>Race_Other</th>\n",
       "      <th>Income_Low</th>\n",
       "      <th>Income_Mid</th>\n",
       "      <th>Income_High</th>\n",
       "      <th>Edu_UnderBach</th>\n",
       "      <th>Edu_Bachelor</th>\n",
       "      <th>Edu_GradProf</th>\n",
       "      <th>Crime_Felony_MMscaled</th>\n",
       "      <th>Crime_Misdemeanor_MMscaled</th>\n",
       "      <th>Crime_Violation_MMscaled</th>\n",
       "      <th>Crime_Total_MMscaled</th>\n",
       "    </tr>\n",
       "    <tr>\n",
       "      <th>NTA</th>\n",
       "      <th></th>\n",
       "      <th></th>\n",
       "      <th></th>\n",
       "      <th></th>\n",
       "      <th></th>\n",
       "      <th></th>\n",
       "      <th></th>\n",
       "      <th></th>\n",
       "      <th></th>\n",
       "      <th></th>\n",
       "      <th></th>\n",
       "      <th></th>\n",
       "      <th></th>\n",
       "      <th></th>\n",
       "      <th></th>\n",
       "      <th></th>\n",
       "      <th></th>\n",
       "      <th></th>\n",
       "      <th></th>\n",
       "      <th></th>\n",
       "    </tr>\n",
       "  </thead>\n",
       "  <tbody>\n",
       "    <tr>\n",
       "      <td>Bath Beach</td>\n",
       "      <td>0.0</td>\n",
       "      <td>0.000000</td>\n",
       "      <td>0.496849</td>\n",
       "      <td>0.147393</td>\n",
       "      <td>0.070566</td>\n",
       "      <td>0.176733</td>\n",
       "      <td>0.436933</td>\n",
       "      <td>0.012182</td>\n",
       "      <td>0.361095</td>\n",
       "      <td>0.013057</td>\n",
       "      <td>0.433409</td>\n",
       "      <td>0.299790</td>\n",
       "      <td>0.266801</td>\n",
       "      <td>0.663798</td>\n",
       "      <td>0.224372</td>\n",
       "      <td>0.111829</td>\n",
       "      <td>0.010496</td>\n",
       "      <td>0.012187</td>\n",
       "      <td>0.016769</td>\n",
       "      <td>0.012089</td>\n",
       "    </tr>\n",
       "    <tr>\n",
       "      <td>Bay Ridge</td>\n",
       "      <td>0.0</td>\n",
       "      <td>0.000000</td>\n",
       "      <td>0.521963</td>\n",
       "      <td>0.156444</td>\n",
       "      <td>0.074922</td>\n",
       "      <td>0.178608</td>\n",
       "      <td>0.634329</td>\n",
       "      <td>0.019094</td>\n",
       "      <td>0.145513</td>\n",
       "      <td>0.022456</td>\n",
       "      <td>0.409413</td>\n",
       "      <td>0.289008</td>\n",
       "      <td>0.301580</td>\n",
       "      <td>0.535735</td>\n",
       "      <td>0.271976</td>\n",
       "      <td>0.192289</td>\n",
       "      <td>0.011752</td>\n",
       "      <td>0.015232</td>\n",
       "      <td>0.027670</td>\n",
       "      <td>0.015315</td>\n",
       "    </tr>\n",
       "    <tr>\n",
       "      <td>Bedford</td>\n",
       "      <td>1.0</td>\n",
       "      <td>0.638889</td>\n",
       "      <td>0.515508</td>\n",
       "      <td>0.077219</td>\n",
       "      <td>0.125027</td>\n",
       "      <td>0.194933</td>\n",
       "      <td>0.350607</td>\n",
       "      <td>0.405826</td>\n",
       "      <td>0.030404</td>\n",
       "      <td>0.018229</td>\n",
       "      <td>0.575924</td>\n",
       "      <td>0.229287</td>\n",
       "      <td>0.194789</td>\n",
       "      <td>0.678193</td>\n",
       "      <td>0.204352</td>\n",
       "      <td>0.117455</td>\n",
       "      <td>0.028667</td>\n",
       "      <td>0.023144</td>\n",
       "      <td>0.038305</td>\n",
       "      <td>0.026313</td>\n",
       "    </tr>\n",
       "    <tr>\n",
       "      <td>Bensonhurst East</td>\n",
       "      <td>1.0</td>\n",
       "      <td>0.027778</td>\n",
       "      <td>0.513234</td>\n",
       "      <td>0.157266</td>\n",
       "      <td>0.085202</td>\n",
       "      <td>0.123283</td>\n",
       "      <td>0.465153</td>\n",
       "      <td>0.008262</td>\n",
       "      <td>0.386793</td>\n",
       "      <td>0.016509</td>\n",
       "      <td>0.510524</td>\n",
       "      <td>0.290981</td>\n",
       "      <td>0.198495</td>\n",
       "      <td>0.698153</td>\n",
       "      <td>0.204564</td>\n",
       "      <td>0.097283</td>\n",
       "      <td>0.010267</td>\n",
       "      <td>0.008911</td>\n",
       "      <td>0.017379</td>\n",
       "      <td>0.010138</td>\n",
       "    </tr>\n",
       "    <tr>\n",
       "      <td>Bensonhurst West</td>\n",
       "      <td>1.0</td>\n",
       "      <td>0.055556</td>\n",
       "      <td>0.512788</td>\n",
       "      <td>0.142625</td>\n",
       "      <td>0.088342</td>\n",
       "      <td>0.145975</td>\n",
       "      <td>0.426773</td>\n",
       "      <td>0.008740</td>\n",
       "      <td>0.405168</td>\n",
       "      <td>0.013345</td>\n",
       "      <td>0.492862</td>\n",
       "      <td>0.285700</td>\n",
       "      <td>0.221438</td>\n",
       "      <td>0.737618</td>\n",
       "      <td>0.188800</td>\n",
       "      <td>0.073582</td>\n",
       "      <td>0.009682</td>\n",
       "      <td>0.008536</td>\n",
       "      <td>0.015215</td>\n",
       "      <td>0.009528</td>\n",
       "    </tr>\n",
       "  </tbody>\n",
       "</table>\n",
       "</div>"
      ],
      "text/plain": [
       "                  HasGarden  GardenCounts_MMscaled  Gender_Female  Age_Over65  \\\n",
       "NTA                                                                             \n",
       "Bath Beach              0.0               0.000000       0.496849    0.147393   \n",
       "Bay Ridge               0.0               0.000000       0.521963    0.156444   \n",
       "Bedford                 1.0               0.638889       0.515508    0.077219   \n",
       "Bensonhurst East        1.0               0.027778       0.513234    0.157266   \n",
       "Bensonhurst West        1.0               0.055556       0.512788    0.142625   \n",
       "\n",
       "                  Unemployed  Race_Hisp  Race_White  Race_Black  Race_Asian  \\\n",
       "NTA                                                                           \n",
       "Bath Beach          0.070566   0.176733    0.436933    0.012182    0.361095   \n",
       "Bay Ridge           0.074922   0.178608    0.634329    0.019094    0.145513   \n",
       "Bedford             0.125027   0.194933    0.350607    0.405826    0.030404   \n",
       "Bensonhurst East    0.085202   0.123283    0.465153    0.008262    0.386793   \n",
       "Bensonhurst West    0.088342   0.145975    0.426773    0.008740    0.405168   \n",
       "\n",
       "                  Race_Other  Income_Low  Income_Mid  Income_High  \\\n",
       "NTA                                                                 \n",
       "Bath Beach          0.013057    0.433409    0.299790     0.266801   \n",
       "Bay Ridge           0.022456    0.409413    0.289008     0.301580   \n",
       "Bedford             0.018229    0.575924    0.229287     0.194789   \n",
       "Bensonhurst East    0.016509    0.510524    0.290981     0.198495   \n",
       "Bensonhurst West    0.013345    0.492862    0.285700     0.221438   \n",
       "\n",
       "                  Edu_UnderBach  Edu_Bachelor  Edu_GradProf  \\\n",
       "NTA                                                           \n",
       "Bath Beach             0.663798      0.224372      0.111829   \n",
       "Bay Ridge              0.535735      0.271976      0.192289   \n",
       "Bedford                0.678193      0.204352      0.117455   \n",
       "Bensonhurst East       0.698153      0.204564      0.097283   \n",
       "Bensonhurst West       0.737618      0.188800      0.073582   \n",
       "\n",
       "                  Crime_Felony_MMscaled  Crime_Misdemeanor_MMscaled  \\\n",
       "NTA                                                                   \n",
       "Bath Beach                     0.010496                    0.012187   \n",
       "Bay Ridge                      0.011752                    0.015232   \n",
       "Bedford                        0.028667                    0.023144   \n",
       "Bensonhurst East               0.010267                    0.008911   \n",
       "Bensonhurst West               0.009682                    0.008536   \n",
       "\n",
       "                  Crime_Violation_MMscaled  Crime_Total_MMscaled  \n",
       "NTA                                                               \n",
       "Bath Beach                        0.016769              0.012089  \n",
       "Bay Ridge                         0.027670              0.015315  \n",
       "Bedford                           0.038305              0.026313  \n",
       "Bensonhurst East                  0.017379              0.010138  \n",
       "Bensonhurst West                  0.015215              0.009528  "
      ]
     },
     "execution_count": 5,
     "metadata": {},
     "output_type": "execute_result"
    }
   ],
   "source": [
    "# data = pd.read_csv('../data/Norm_Data_Final.csv', index_col=0)\n",
    "data = pd.read_csv('../data/Data_crimeMinMaxScaled.csv', index_col=0)\n",
    "data.head()"
   ]
  },
  {
   "cell_type": "code",
   "execution_count": 6,
   "metadata": {},
   "outputs": [],
   "source": [
    "# split into train, test, and validate data\n",
    "from sklearn.model_selection import train_test_split\n",
    "\n",
    "# y = data[['GardenCounts', 'HasGarden']]\n",
    "# X = data.drop(columns=['GardenCounts', 'HasGarden'])\n",
    "y = data[['GardenCounts_MMscaled', 'HasGarden']]\n",
    "X = data.drop(columns=['GardenCounts_MMscaled', 'HasGarden'])\n",
    "\n",
    "Xtrain, Xtest, Ytrain, Ytest = train_test_split(X, y, test_size=0.20, random_state=42)\n",
    "# not generating validation set here cos we will use cross-validation later"
   ]
  },
  {
   "cell_type": "code",
   "execution_count": 7,
   "metadata": {},
   "outputs": [
    {
     "data": {
      "text/plain": [
       "((152, 18), (39, 18))"
      ]
     },
     "execution_count": 7,
     "metadata": {},
     "output_type": "execute_result"
    }
   ],
   "source": [
    "Xtrain.shape, Xtest.shape"
   ]
  },
  {
   "cell_type": "markdown",
   "metadata": {},
   "source": [
    "#### Scale the data (no longer relevant bc new dataset is already scaled)"
   ]
  },
  {
   "cell_type": "code",
   "execution_count": 8,
   "metadata": {},
   "outputs": [],
   "source": [
    "# scale X data\n",
    "# scaler = preprocessing.StandardScaler().fit(Xtrain)\n",
    "# XtrainS = pd.DataFrame(scaler.transform(Xtrain))\n",
    "# XtestS = pd.DataFrame(scaler.transform(Xtest))"
   ]
  },
  {
   "cell_type": "code",
   "execution_count": 9,
   "metadata": {},
   "outputs": [
    {
     "data": {
      "text/plain": [
       "(0, 0)"
      ]
     },
     "execution_count": 9,
     "metadata": {},
     "output_type": "execute_result"
    }
   ],
   "source": [
    "# check for null vals\n",
    "# XtrainS.isnull().values.sum(), XtestS.isnull().values.sum()\n",
    "Xtrain.isnull().values.sum(), Xtest.isnull().values.sum()"
   ]
  },
  {
   "cell_type": "markdown",
   "metadata": {},
   "source": [
    "## 1) Logistic Regression with all features"
   ]
  },
  {
   "cell_type": "code",
   "execution_count": 134,
   "metadata": {},
   "outputs": [],
   "source": [
    "# Learn logistic regression over the training sample\n",
    "# logit = LogisticRegression(C=1) # i imagine that c=10000 might be too severe\n",
    "# logit = logit.fit(XtrainS, Ytrain['HasGarden']) #fit logistic regression model to training data\n",
    "logit = LogisticRegression(C=700) # i imagine that c=10000 might be too severe\n",
    "logit = logit.fit(Xtrain, Ytrain['HasGarden']) #fit logistic regression model to training data"
   ]
  },
  {
   "cell_type": "code",
   "execution_count": 135,
   "metadata": {},
   "outputs": [
    {
     "data": {
      "text/plain": [
       "0.7435897435897436"
      ]
     },
     "execution_count": 135,
     "metadata": {},
     "output_type": "execute_result"
    }
   ],
   "source": [
    "# calculate out of sample accuracy\n",
    "# logit.score(XtestS, Ytest['HasGarden'])\n",
    "logit.score(Xtest, Ytest['HasGarden'])"
   ]
  },
  {
   "cell_type": "code",
   "execution_count": 133,
   "metadata": {},
   "outputs": [
    {
     "data": {
      "text/plain": [
       "array([[10,  4],\n",
       "       [ 7, 18]])"
      ]
     },
     "execution_count": 133,
     "metadata": {},
     "output_type": "execute_result"
    }
   ],
   "source": [
    "# generate confusion matrix\n",
    "confusion_matrix(Ytest['HasGarden'], logit.predict(Xtest))"
   ]
  },
  {
   "cell_type": "markdown",
   "metadata": {},
   "source": [
    "### Hyperparam tuning of regularisation constant C"
   ]
  },
  {
   "cell_type": "code",
   "execution_count": 13,
   "metadata": {},
   "outputs": [
    {
     "data": {
      "image/png": "[encoded data removed]",
      "text/plain": [
       "<Figure size 1440x360 with 1 Axes>"
      ]
     },
     "metadata": {
      "needs_background": "light"
     },
     "output_type": "display_data"
    }
   ],
   "source": [
    "# try a smaller range with smaller intervals\n",
    "# and use cross validation\n",
    "from sklearn.model_selection import cross_val_score\n",
    "\n",
    "train_acc = []\n",
    "mean_cross_val_acc = []\n",
    "C_candidates = np.linspace(start=0.001, stop=100, num=100)\n",
    "\n",
    "for c in C_candidates:\n",
    "#     logit = LogisticRegression(C=c).fit(XtrainS, Ytrain['HasGarden'])\n",
    "#     train_acc.append(logit.score(XtrainS, Ytrain['HasGarden']))\n",
    "#     mean_cross_val_acc.append(mean(cross_val_score(logit, XtrainS, Ytrain['HasGarden'])))\n",
    "    \n",
    "    logit = LogisticRegression(C=c).fit(Xtrain, Ytrain['HasGarden'])\n",
    "    train_acc.append(logit.score(Xtrain, Ytrain['HasGarden']))\n",
    "    mean_cross_val_acc.append(mean(cross_val_score(logit, Xtrain, Ytrain['HasGarden'])))\n",
    "\n",
    "# plot to see where it overfits\n",
    "plt.figure(figsize=(20,5))\n",
    "plt.plot(C_candidates, mean_cross_val_acc, label='Val Acc')\n",
    "plt.plot(C_candidates, train_acc, label='Train Acc')\n",
    "plt.xticks(np.linspace(start=0.001, stop=100, num=30))\n",
    "plt.legend()\n",
    "plt.show()\n",
    "\n",
    "# looks like we want the region between 0.001 to 3"
   ]
  },
  {
   "cell_type": "code",
   "execution_count": 14,
   "metadata": {},
   "outputs": [
    {
     "data": {
      "image/png": "[encoded data removed]",
      "text/plain": [
       "<Figure size 1440x360 with 1 Axes>"
      ]
     },
     "metadata": {
      "needs_background": "light"
     },
     "output_type": "display_data"
    }
   ],
   "source": [
    "train_acc = []\n",
    "mean_cross_val_acc = []\n",
    "C_candidates = np.linspace(start=0.001, stop=3, num=100)\n",
    "\n",
    "for c in C_candidates:\n",
    "#     logit = LogisticRegression(C=c).fit(XtrainS, Ytrain['HasGarden'])\n",
    "#     train_acc.append(logit.score(XtrainS, Ytrain['HasGarden']))\n",
    "#     mean_cross_val_acc.append(mean(cross_val_score(logit, XtrainS, Ytrain['HasGarden'])))\n",
    "    \n",
    "    logit = LogisticRegression(C=c).fit(Xtrain, Ytrain['HasGarden'])\n",
    "    train_acc.append(logit.score(Xtrain, Ytrain['HasGarden']))\n",
    "    mean_cross_val_acc.append(mean(cross_val_score(logit, Xtrain, Ytrain['HasGarden'])))\n",
    "\n",
    "# plot to see where it overfits\n",
    "plt.figure(figsize=(20,5))\n",
    "plt.plot(C_candidates, mean_cross_val_acc, label='Val Acc')\n",
    "plt.plot(C_candidates, train_acc, label='Train Acc')\n",
    "\n",
    "plt.legend()\n",
    "plt.show()"
   ]
  },
  {
   "cell_type": "code",
   "execution_count": 15,
   "metadata": {},
   "outputs": [
    {
     "data": {
      "image/png": "[encoded data removed]",
      "text/plain": [
       "<Figure size 720x360 with 1 Axes>"
      ]
     },
     "metadata": {
      "needs_background": "light"
     },
     "output_type": "display_data"
    }
   ],
   "source": [
    "train_acc = []\n",
    "mean_cross_val_acc = []\n",
    "C_candidates = np.linspace(start=0.001, stop=0.25, num=100)\n",
    "\n",
    "for c in C_candidates:\n",
    "#     logit = LogisticRegression(C=c).fit(XtrainS, Ytrain['HasGarden'])\n",
    "#     train_acc.append(logit.score(XtrainS, Ytrain['HasGarden']))\n",
    "#     mean_cross_val_acc.append(mean(cross_val_score(logit, XtrainS, Ytrain['HasGarden'])))\n",
    "    \n",
    "    logit = LogisticRegression(C=c).fit(Xtrain, Ytrain['HasGarden'])\n",
    "    train_acc.append(logit.score(Xtrain, Ytrain['HasGarden']))\n",
    "    mean_cross_val_acc.append(mean(cross_val_score(logit, Xtrain, Ytrain['HasGarden'])))\n",
    "\n",
    "\n",
    "# plot to see where it overfits\n",
    "plt.figure(figsize=(10,5))\n",
    "plt.plot(C_candidates, mean_cross_val_acc, label='Val Acc')\n",
    "plt.plot(C_candidates, train_acc, label='Train Acc')\n",
    "\n",
    "plt.legend()\n",
    "plt.show()"
   ]
  },
  {
   "cell_type": "code",
   "execution_count": 16,
   "metadata": {},
   "outputs": [
    {
     "data": {
      "text/plain": [
       "0.1368181818181818"
      ]
     },
     "execution_count": 16,
     "metadata": {},
     "output_type": "execute_result"
    }
   ],
   "source": [
    "# best C value\n",
    "optimal_C = C_candidates[np.argmax(mean_cross_val_acc)]\n",
    "optimal_C"
   ]
  },
  {
   "cell_type": "markdown",
   "metadata": {},
   "source": [
    "### Logistic regression with optimal C (with all features)"
   ]
  },
  {
   "cell_type": "code",
   "execution_count": 17,
   "metadata": {},
   "outputs": [
    {
     "data": {
      "text/plain": [
       "0.6666666666666666"
      ]
     },
     "execution_count": 17,
     "metadata": {},
     "output_type": "execute_result"
    }
   ],
   "source": [
    "# logit = LogisticRegression(C=optimal_C).fit(XtrainS, Ytrain['HasGarden'])\n",
    "logit = LogisticRegression(C=optimal_C).fit(Xtrain, Ytrain['HasGarden'])\n",
    "# out of sample\n",
    "# logit.score(XtestS, Ytest['HasGarden'])\n",
    "logit.score(Xtest, Ytest['HasGarden'])"
   ]
  },
  {
   "cell_type": "markdown",
   "metadata": {},
   "source": [
    "## 2) Logistic Model with Sparse PCA"
   ]
  },
  {
   "cell_type": "code",
   "execution_count": 18,
   "metadata": {},
   "outputs": [],
   "source": [
    "from sklearn.decomposition import SparsePCA"
   ]
  },
  {
   "cell_type": "code",
   "execution_count": 19,
   "metadata": {
    "scrolled": false
   },
   "outputs": [
    {
     "data": {
      "text/html": [
       "<div>\n",
       "<style scoped>\n",
       "    .dataframe tbody tr th:only-of-type {\n",
       "        vertical-align: middle;\n",
       "    }\n",
       "\n",
       "    .dataframe tbody tr th {\n",
       "        vertical-align: top;\n",
       "    }\n",
       "\n",
       "    .dataframe thead th {\n",
       "        text-align: right;\n",
       "    }\n",
       "</style>\n",
       "<table border=\"1\" class=\"dataframe\">\n",
       "  <thead>\n",
       "    <tr style=\"text-align: right;\">\n",
       "      <th></th>\n",
       "      <th>FemEN</th>\n",
       "      <th>PopOv65N</th>\n",
       "      <th>HispN</th>\n",
       "      <th>WhiteN</th>\n",
       "      <th>BlackN</th>\n",
       "      <th>AsianN</th>\n",
       "      <th>RaceOther</th>\n",
       "      <th>HHINC_U10N</th>\n",
       "      <th>HHINC_10t14N</th>\n",
       "      <th>HHINC_15t24N</th>\n",
       "      <th>...</th>\n",
       "      <th>CLF_UnemployedN</th>\n",
       "      <th>EduOtherN</th>\n",
       "      <th>EduBachelor</th>\n",
       "      <th>EduGradProf</th>\n",
       "      <th>FELONY_norm</th>\n",
       "      <th>MISDEMEANOR_norm</th>\n",
       "      <th>VIOLATION_norm</th>\n",
       "      <th>TOTAL_CRIME_norm</th>\n",
       "      <th>GardenCounts</th>\n",
       "      <th>HasGarden</th>\n",
       "    </tr>\n",
       "    <tr>\n",
       "      <th>NTA</th>\n",
       "      <th></th>\n",
       "      <th></th>\n",
       "      <th></th>\n",
       "      <th></th>\n",
       "      <th></th>\n",
       "      <th></th>\n",
       "      <th></th>\n",
       "      <th></th>\n",
       "      <th></th>\n",
       "      <th></th>\n",
       "      <th></th>\n",
       "      <th></th>\n",
       "      <th></th>\n",
       "      <th></th>\n",
       "      <th></th>\n",
       "      <th></th>\n",
       "      <th></th>\n",
       "      <th></th>\n",
       "      <th></th>\n",
       "      <th></th>\n",
       "      <th></th>\n",
       "    </tr>\n",
       "  </thead>\n",
       "  <tbody>\n",
       "    <tr>\n",
       "      <td>Bath Beach</td>\n",
       "      <td>0.496849</td>\n",
       "      <td>0.147393</td>\n",
       "      <td>0.176733</td>\n",
       "      <td>0.436933</td>\n",
       "      <td>0.012182</td>\n",
       "      <td>0.361095</td>\n",
       "      <td>0.013057</td>\n",
       "      <td>0.078316</td>\n",
       "      <td>0.054078</td>\n",
       "      <td>0.107018</td>\n",
       "      <td>...</td>\n",
       "      <td>0.070566</td>\n",
       "      <td>0.663798</td>\n",
       "      <td>0.224372</td>\n",
       "      <td>0.111829</td>\n",
       "      <td>0.030033</td>\n",
       "      <td>0.065645</td>\n",
       "      <td>0.014444</td>\n",
       "      <td>0.110123</td>\n",
       "      <td>0.0</td>\n",
       "      <td>0.0</td>\n",
       "    </tr>\n",
       "    <tr>\n",
       "      <td>Bay Ridge</td>\n",
       "      <td>0.521963</td>\n",
       "      <td>0.156444</td>\n",
       "      <td>0.178608</td>\n",
       "      <td>0.634329</td>\n",
       "      <td>0.019094</td>\n",
       "      <td>0.145513</td>\n",
       "      <td>0.022456</td>\n",
       "      <td>0.069072</td>\n",
       "      <td>0.046973</td>\n",
       "      <td>0.096605</td>\n",
       "      <td>...</td>\n",
       "      <td>0.074922</td>\n",
       "      <td>0.535735</td>\n",
       "      <td>0.271976</td>\n",
       "      <td>0.192289</td>\n",
       "      <td>0.033627</td>\n",
       "      <td>0.082051</td>\n",
       "      <td>0.023833</td>\n",
       "      <td>0.139510</td>\n",
       "      <td>0.0</td>\n",
       "      <td>0.0</td>\n",
       "    </tr>\n",
       "    <tr>\n",
       "      <td>Bedford</td>\n",
       "      <td>0.515508</td>\n",
       "      <td>0.077219</td>\n",
       "      <td>0.194933</td>\n",
       "      <td>0.350607</td>\n",
       "      <td>0.405826</td>\n",
       "      <td>0.030404</td>\n",
       "      <td>0.018229</td>\n",
       "      <td>0.140949</td>\n",
       "      <td>0.088914</td>\n",
       "      <td>0.129898</td>\n",
       "      <td>...</td>\n",
       "      <td>0.125027</td>\n",
       "      <td>0.678193</td>\n",
       "      <td>0.204352</td>\n",
       "      <td>0.117455</td>\n",
       "      <td>0.082026</td>\n",
       "      <td>0.124671</td>\n",
       "      <td>0.032993</td>\n",
       "      <td>0.239690</td>\n",
       "      <td>23.0</td>\n",
       "      <td>1.0</td>\n",
       "    </tr>\n",
       "    <tr>\n",
       "      <td>Bensonhurst East</td>\n",
       "      <td>0.513234</td>\n",
       "      <td>0.157266</td>\n",
       "      <td>0.123283</td>\n",
       "      <td>0.465153</td>\n",
       "      <td>0.008262</td>\n",
       "      <td>0.386793</td>\n",
       "      <td>0.016509</td>\n",
       "      <td>0.106188</td>\n",
       "      <td>0.063686</td>\n",
       "      <td>0.122504</td>\n",
       "      <td>...</td>\n",
       "      <td>0.085202</td>\n",
       "      <td>0.698153</td>\n",
       "      <td>0.204564</td>\n",
       "      <td>0.097283</td>\n",
       "      <td>0.029377</td>\n",
       "      <td>0.048003</td>\n",
       "      <td>0.014969</td>\n",
       "      <td>0.092349</td>\n",
       "      <td>1.0</td>\n",
       "      <td>1.0</td>\n",
       "    </tr>\n",
       "    <tr>\n",
       "      <td>Bensonhurst West</td>\n",
       "      <td>0.512788</td>\n",
       "      <td>0.142625</td>\n",
       "      <td>0.145975</td>\n",
       "      <td>0.426773</td>\n",
       "      <td>0.008740</td>\n",
       "      <td>0.405168</td>\n",
       "      <td>0.013345</td>\n",
       "      <td>0.077903</td>\n",
       "      <td>0.058377</td>\n",
       "      <td>0.113110</td>\n",
       "      <td>...</td>\n",
       "      <td>0.088342</td>\n",
       "      <td>0.737618</td>\n",
       "      <td>0.188800</td>\n",
       "      <td>0.073582</td>\n",
       "      <td>0.027704</td>\n",
       "      <td>0.045981</td>\n",
       "      <td>0.013105</td>\n",
       "      <td>0.086790</td>\n",
       "      <td>2.0</td>\n",
       "      <td>1.0</td>\n",
       "    </tr>\n",
       "  </tbody>\n",
       "</table>\n",
       "<p>5 rows × 27 columns</p>\n",
       "</div>"
      ],
      "text/plain": [
       "                     FemEN  PopOv65N     HispN    WhiteN    BlackN    AsianN  \\\n",
       "NTA                                                                            \n",
       "Bath Beach        0.496849  0.147393  0.176733  0.436933  0.012182  0.361095   \n",
       "Bay Ridge         0.521963  0.156444  0.178608  0.634329  0.019094  0.145513   \n",
       "Bedford           0.515508  0.077219  0.194933  0.350607  0.405826  0.030404   \n",
       "Bensonhurst East  0.513234  0.157266  0.123283  0.465153  0.008262  0.386793   \n",
       "Bensonhurst West  0.512788  0.142625  0.145975  0.426773  0.008740  0.405168   \n",
       "\n",
       "                  RaceOther  HHINC_U10N  HHINC_10t14N  HHINC_15t24N  ...  \\\n",
       "NTA                                                                  ...   \n",
       "Bath Beach         0.013057    0.078316      0.054078      0.107018  ...   \n",
       "Bay Ridge          0.022456    0.069072      0.046973      0.096605  ...   \n",
       "Bedford            0.018229    0.140949      0.088914      0.129898  ...   \n",
       "Bensonhurst East   0.016509    0.106188      0.063686      0.122504  ...   \n",
       "Bensonhurst West   0.013345    0.077903      0.058377      0.113110  ...   \n",
       "\n",
       "                  CLF_UnemployedN  EduOtherN  EduBachelor  EduGradProf  \\\n",
       "NTA                                                                      \n",
       "Bath Beach               0.070566   0.663798     0.224372     0.111829   \n",
       "Bay Ridge                0.074922   0.535735     0.271976     0.192289   \n",
       "Bedford                  0.125027   0.678193     0.204352     0.117455   \n",
       "Bensonhurst East         0.085202   0.698153     0.204564     0.097283   \n",
       "Bensonhurst West         0.088342   0.737618     0.188800     0.073582   \n",
       "\n",
       "                  FELONY_norm  MISDEMEANOR_norm  VIOLATION_norm  \\\n",
       "NTA                                                               \n",
       "Bath Beach           0.030033          0.065645        0.014444   \n",
       "Bay Ridge            0.033627          0.082051        0.023833   \n",
       "Bedford              0.082026          0.124671        0.032993   \n",
       "Bensonhurst East     0.029377          0.048003        0.014969   \n",
       "Bensonhurst West     0.027704          0.045981        0.013105   \n",
       "\n",
       "                  TOTAL_CRIME_norm  GardenCounts  HasGarden  \n",
       "NTA                                                          \n",
       "Bath Beach                0.110123           0.0        0.0  \n",
       "Bay Ridge                 0.139510           0.0        0.0  \n",
       "Bedford                   0.239690          23.0        1.0  \n",
       "Bensonhurst East          0.092349           1.0        1.0  \n",
       "Bensonhurst West          0.086790           2.0        1.0  \n",
       "\n",
       "[5 rows x 27 columns]"
      ]
     },
     "execution_count": 19,
     "metadata": {},
     "output_type": "execute_result"
    }
   ],
   "source": [
    "ACS_data_for_spca = pd.read_csv('../data/Norm_Data_Final.csv', index_col=0)\n",
    "ACS_data_for_spca.head()"
   ]
  },
  {
   "cell_type": "code",
   "execution_count": 20,
   "metadata": {},
   "outputs": [],
   "source": [
    "ACS_data_for_spca = ACS_data_for_spca.drop(columns=['FELONY_norm', 'MISDEMEANOR_norm', 'VIOLATION_norm', 'TOTAL_CRIME_norm'])"
   ]
  },
  {
   "cell_type": "code",
   "execution_count": 21,
   "metadata": {
    "scrolled": true
   },
   "outputs": [
    {
     "data": {
      "text/html": [
       "<div>\n",
       "<style scoped>\n",
       "    .dataframe tbody tr th:only-of-type {\n",
       "        vertical-align: middle;\n",
       "    }\n",
       "\n",
       "    .dataframe tbody tr th {\n",
       "        vertical-align: top;\n",
       "    }\n",
       "\n",
       "    .dataframe thead th {\n",
       "        text-align: right;\n",
       "    }\n",
       "</style>\n",
       "<table border=\"1\" class=\"dataframe\">\n",
       "  <thead>\n",
       "    <tr style=\"text-align: right;\">\n",
       "      <th></th>\n",
       "      <th>Crime_Felony_MMscaled</th>\n",
       "      <th>Crime_Misdemeanor_MMscaled</th>\n",
       "      <th>Crime_Violation_MMscaled</th>\n",
       "      <th>Crime_Total_MMscaled</th>\n",
       "    </tr>\n",
       "    <tr>\n",
       "      <th>NTA</th>\n",
       "      <th></th>\n",
       "      <th></th>\n",
       "      <th></th>\n",
       "      <th></th>\n",
       "    </tr>\n",
       "  </thead>\n",
       "  <tbody>\n",
       "    <tr>\n",
       "      <td>Bath Beach</td>\n",
       "      <td>0.010496</td>\n",
       "      <td>0.012187</td>\n",
       "      <td>0.016769</td>\n",
       "      <td>0.012089</td>\n",
       "    </tr>\n",
       "    <tr>\n",
       "      <td>Bay Ridge</td>\n",
       "      <td>0.011752</td>\n",
       "      <td>0.015232</td>\n",
       "      <td>0.027670</td>\n",
       "      <td>0.015315</td>\n",
       "    </tr>\n",
       "    <tr>\n",
       "      <td>Bedford</td>\n",
       "      <td>0.028667</td>\n",
       "      <td>0.023144</td>\n",
       "      <td>0.038305</td>\n",
       "      <td>0.026313</td>\n",
       "    </tr>\n",
       "    <tr>\n",
       "      <td>Bensonhurst East</td>\n",
       "      <td>0.010267</td>\n",
       "      <td>0.008911</td>\n",
       "      <td>0.017379</td>\n",
       "      <td>0.010138</td>\n",
       "    </tr>\n",
       "    <tr>\n",
       "      <td>Bensonhurst West</td>\n",
       "      <td>0.009682</td>\n",
       "      <td>0.008536</td>\n",
       "      <td>0.015215</td>\n",
       "      <td>0.009528</td>\n",
       "    </tr>\n",
       "  </tbody>\n",
       "</table>\n",
       "</div>"
      ],
      "text/plain": [
       "                  Crime_Felony_MMscaled  Crime_Misdemeanor_MMscaled  \\\n",
       "NTA                                                                   \n",
       "Bath Beach                     0.010496                    0.012187   \n",
       "Bay Ridge                      0.011752                    0.015232   \n",
       "Bedford                        0.028667                    0.023144   \n",
       "Bensonhurst East               0.010267                    0.008911   \n",
       "Bensonhurst West               0.009682                    0.008536   \n",
       "\n",
       "                  Crime_Violation_MMscaled  Crime_Total_MMscaled  \n",
       "NTA                                                               \n",
       "Bath Beach                        0.016769              0.012089  \n",
       "Bay Ridge                         0.027670              0.015315  \n",
       "Bedford                           0.038305              0.026313  \n",
       "Bensonhurst East                  0.017379              0.010138  \n",
       "Bensonhurst West                  0.015215              0.009528  "
      ]
     },
     "execution_count": 21,
     "metadata": {},
     "output_type": "execute_result"
    }
   ],
   "source": [
    "crime_for_spca = data[['Crime_Felony_MMscaled', 'Crime_Misdemeanor_MMscaled','Crime_Violation_MMscaled', 'Crime_Total_MMscaled']]\n",
    "crime_for_spca.head()"
   ]
  },
  {
   "cell_type": "code",
   "execution_count": 22,
   "metadata": {
    "scrolled": true
   },
   "outputs": [
    {
     "data": {
      "text/html": [
       "<div>\n",
       "<style scoped>\n",
       "    .dataframe tbody tr th:only-of-type {\n",
       "        vertical-align: middle;\n",
       "    }\n",
       "\n",
       "    .dataframe tbody tr th {\n",
       "        vertical-align: top;\n",
       "    }\n",
       "\n",
       "    .dataframe thead th {\n",
       "        text-align: right;\n",
       "    }\n",
       "</style>\n",
       "<table border=\"1\" class=\"dataframe\">\n",
       "  <thead>\n",
       "    <tr style=\"text-align: right;\">\n",
       "      <th></th>\n",
       "      <th>FemEN</th>\n",
       "      <th>PopOv65N</th>\n",
       "      <th>HispN</th>\n",
       "      <th>WhiteN</th>\n",
       "      <th>BlackN</th>\n",
       "      <th>AsianN</th>\n",
       "      <th>RaceOther</th>\n",
       "      <th>HHINC_U10N</th>\n",
       "      <th>HHINC_10t14N</th>\n",
       "      <th>HHINC_15t24N</th>\n",
       "      <th>...</th>\n",
       "      <th>CLF_UnemployedN</th>\n",
       "      <th>EduOtherN</th>\n",
       "      <th>EduBachelor</th>\n",
       "      <th>EduGradProf</th>\n",
       "      <th>GardenCounts</th>\n",
       "      <th>HasGarden</th>\n",
       "      <th>Crime_Felony_MMscaled</th>\n",
       "      <th>Crime_Misdemeanor_MMscaled</th>\n",
       "      <th>Crime_Violation_MMscaled</th>\n",
       "      <th>Crime_Total_MMscaled</th>\n",
       "    </tr>\n",
       "    <tr>\n",
       "      <th>NTA</th>\n",
       "      <th></th>\n",
       "      <th></th>\n",
       "      <th></th>\n",
       "      <th></th>\n",
       "      <th></th>\n",
       "      <th></th>\n",
       "      <th></th>\n",
       "      <th></th>\n",
       "      <th></th>\n",
       "      <th></th>\n",
       "      <th></th>\n",
       "      <th></th>\n",
       "      <th></th>\n",
       "      <th></th>\n",
       "      <th></th>\n",
       "      <th></th>\n",
       "      <th></th>\n",
       "      <th></th>\n",
       "      <th></th>\n",
       "      <th></th>\n",
       "      <th></th>\n",
       "    </tr>\n",
       "  </thead>\n",
       "  <tbody>\n",
       "    <tr>\n",
       "      <td>Bath Beach</td>\n",
       "      <td>0.496849</td>\n",
       "      <td>0.147393</td>\n",
       "      <td>0.176733</td>\n",
       "      <td>0.436933</td>\n",
       "      <td>0.012182</td>\n",
       "      <td>0.361095</td>\n",
       "      <td>0.013057</td>\n",
       "      <td>0.078316</td>\n",
       "      <td>0.054078</td>\n",
       "      <td>0.107018</td>\n",
       "      <td>...</td>\n",
       "      <td>0.070566</td>\n",
       "      <td>0.663798</td>\n",
       "      <td>0.224372</td>\n",
       "      <td>0.111829</td>\n",
       "      <td>0.0</td>\n",
       "      <td>0.0</td>\n",
       "      <td>0.010496</td>\n",
       "      <td>0.012187</td>\n",
       "      <td>0.016769</td>\n",
       "      <td>0.012089</td>\n",
       "    </tr>\n",
       "    <tr>\n",
       "      <td>Bay Ridge</td>\n",
       "      <td>0.521963</td>\n",
       "      <td>0.156444</td>\n",
       "      <td>0.178608</td>\n",
       "      <td>0.634329</td>\n",
       "      <td>0.019094</td>\n",
       "      <td>0.145513</td>\n",
       "      <td>0.022456</td>\n",
       "      <td>0.069072</td>\n",
       "      <td>0.046973</td>\n",
       "      <td>0.096605</td>\n",
       "      <td>...</td>\n",
       "      <td>0.074922</td>\n",
       "      <td>0.535735</td>\n",
       "      <td>0.271976</td>\n",
       "      <td>0.192289</td>\n",
       "      <td>0.0</td>\n",
       "      <td>0.0</td>\n",
       "      <td>0.011752</td>\n",
       "      <td>0.015232</td>\n",
       "      <td>0.027670</td>\n",
       "      <td>0.015315</td>\n",
       "    </tr>\n",
       "    <tr>\n",
       "      <td>Bedford</td>\n",
       "      <td>0.515508</td>\n",
       "      <td>0.077219</td>\n",
       "      <td>0.194933</td>\n",
       "      <td>0.350607</td>\n",
       "      <td>0.405826</td>\n",
       "      <td>0.030404</td>\n",
       "      <td>0.018229</td>\n",
       "      <td>0.140949</td>\n",
       "      <td>0.088914</td>\n",
       "      <td>0.129898</td>\n",
       "      <td>...</td>\n",
       "      <td>0.125027</td>\n",
       "      <td>0.678193</td>\n",
       "      <td>0.204352</td>\n",
       "      <td>0.117455</td>\n",
       "      <td>23.0</td>\n",
       "      <td>1.0</td>\n",
       "      <td>0.028667</td>\n",
       "      <td>0.023144</td>\n",
       "      <td>0.038305</td>\n",
       "      <td>0.026313</td>\n",
       "    </tr>\n",
       "    <tr>\n",
       "      <td>Bensonhurst East</td>\n",
       "      <td>0.513234</td>\n",
       "      <td>0.157266</td>\n",
       "      <td>0.123283</td>\n",
       "      <td>0.465153</td>\n",
       "      <td>0.008262</td>\n",
       "      <td>0.386793</td>\n",
       "      <td>0.016509</td>\n",
       "      <td>0.106188</td>\n",
       "      <td>0.063686</td>\n",
       "      <td>0.122504</td>\n",
       "      <td>...</td>\n",
       "      <td>0.085202</td>\n",
       "      <td>0.698153</td>\n",
       "      <td>0.204564</td>\n",
       "      <td>0.097283</td>\n",
       "      <td>1.0</td>\n",
       "      <td>1.0</td>\n",
       "      <td>0.010267</td>\n",
       "      <td>0.008911</td>\n",
       "      <td>0.017379</td>\n",
       "      <td>0.010138</td>\n",
       "    </tr>\n",
       "    <tr>\n",
       "      <td>Bensonhurst West</td>\n",
       "      <td>0.512788</td>\n",
       "      <td>0.142625</td>\n",
       "      <td>0.145975</td>\n",
       "      <td>0.426773</td>\n",
       "      <td>0.008740</td>\n",
       "      <td>0.405168</td>\n",
       "      <td>0.013345</td>\n",
       "      <td>0.077903</td>\n",
       "      <td>0.058377</td>\n",
       "      <td>0.113110</td>\n",
       "      <td>...</td>\n",
       "      <td>0.088342</td>\n",
       "      <td>0.737618</td>\n",
       "      <td>0.188800</td>\n",
       "      <td>0.073582</td>\n",
       "      <td>2.0</td>\n",
       "      <td>1.0</td>\n",
       "      <td>0.009682</td>\n",
       "      <td>0.008536</td>\n",
       "      <td>0.015215</td>\n",
       "      <td>0.009528</td>\n",
       "    </tr>\n",
       "  </tbody>\n",
       "</table>\n",
       "<p>5 rows × 27 columns</p>\n",
       "</div>"
      ],
      "text/plain": [
       "                     FemEN  PopOv65N     HispN    WhiteN    BlackN    AsianN  \\\n",
       "NTA                                                                            \n",
       "Bath Beach        0.496849  0.147393  0.176733  0.436933  0.012182  0.361095   \n",
       "Bay Ridge         0.521963  0.156444  0.178608  0.634329  0.019094  0.145513   \n",
       "Bedford           0.515508  0.077219  0.194933  0.350607  0.405826  0.030404   \n",
       "Bensonhurst East  0.513234  0.157266  0.123283  0.465153  0.008262  0.386793   \n",
       "Bensonhurst West  0.512788  0.142625  0.145975  0.426773  0.008740  0.405168   \n",
       "\n",
       "                  RaceOther  HHINC_U10N  HHINC_10t14N  HHINC_15t24N  ...  \\\n",
       "NTA                                                                  ...   \n",
       "Bath Beach         0.013057    0.078316      0.054078      0.107018  ...   \n",
       "Bay Ridge          0.022456    0.069072      0.046973      0.096605  ...   \n",
       "Bedford            0.018229    0.140949      0.088914      0.129898  ...   \n",
       "Bensonhurst East   0.016509    0.106188      0.063686      0.122504  ...   \n",
       "Bensonhurst West   0.013345    0.077903      0.058377      0.113110  ...   \n",
       "\n",
       "                  CLF_UnemployedN  EduOtherN  EduBachelor  EduGradProf  \\\n",
       "NTA                                                                      \n",
       "Bath Beach               0.070566   0.663798     0.224372     0.111829   \n",
       "Bay Ridge                0.074922   0.535735     0.271976     0.192289   \n",
       "Bedford                  0.125027   0.678193     0.204352     0.117455   \n",
       "Bensonhurst East         0.085202   0.698153     0.204564     0.097283   \n",
       "Bensonhurst West         0.088342   0.737618     0.188800     0.073582   \n",
       "\n",
       "                  GardenCounts  HasGarden  Crime_Felony_MMscaled  \\\n",
       "NTA                                                                \n",
       "Bath Beach                 0.0        0.0               0.010496   \n",
       "Bay Ridge                  0.0        0.0               0.011752   \n",
       "Bedford                   23.0        1.0               0.028667   \n",
       "Bensonhurst East           1.0        1.0               0.010267   \n",
       "Bensonhurst West           2.0        1.0               0.009682   \n",
       "\n",
       "                  Crime_Misdemeanor_MMscaled  Crime_Violation_MMscaled  \\\n",
       "NTA                                                                      \n",
       "Bath Beach                          0.012187                  0.016769   \n",
       "Bay Ridge                           0.015232                  0.027670   \n",
       "Bedford                             0.023144                  0.038305   \n",
       "Bensonhurst East                    0.008911                  0.017379   \n",
       "Bensonhurst West                    0.008536                  0.015215   \n",
       "\n",
       "                  Crime_Total_MMscaled  \n",
       "NTA                                     \n",
       "Bath Beach                    0.012089  \n",
       "Bay Ridge                     0.015315  \n",
       "Bedford                       0.026313  \n",
       "Bensonhurst East              0.010138  \n",
       "Bensonhurst West              0.009528  \n",
       "\n",
       "[5 rows x 27 columns]"
      ]
     },
     "execution_count": 22,
     "metadata": {},
     "output_type": "execute_result"
    }
   ],
   "source": [
    "data_spca = ACS_data_for_spca.merge(crime_for_spca, how= 'left', left_index = True, right_index=True)\n",
    "data_spca.head()"
   ]
  },
  {
   "cell_type": "code",
   "execution_count": 23,
   "metadata": {},
   "outputs": [],
   "source": [
    "y_spca = data_spca[['HasGarden']]\n",
    "X_spca = data_spca.drop(columns=['GardenCounts', 'HasGarden'])\n",
    "\n",
    "Xtrain_spca, Xtest_spca, Ytrain_spca, Ytest_spca = train_test_split(X, y, test_size=0.20, random_state=42)"
   ]
  },
  {
   "cell_type": "code",
   "execution_count": 24,
   "metadata": {
    "scrolled": true
   },
   "outputs": [
    {
     "name": "stderr",
     "output_type": "stream",
     "text": [
      "/Users/cmvandev/opt/anaconda3/lib/python3.7/site-packages/sklearn/decomposition/sparse_pca.py:170: DeprecationWarning: normalize_components=False is a backward-compatible setting that implements a non-standard definition of sparse PCA. This compatibility mode will be removed in 0.22.\n",
      "  DeprecationWarning)\n"
     ]
    }
   ],
   "source": [
    "# apply sparse PCA\n",
    "spca = SparsePCA(n_components=Xtrain_spca.shape[1]).fit(Xtrain_spca)\n",
    "XtrainP = spca.transform(Xtrain_spca)\n",
    "XtestP = spca.transform(Xtest_spca)\n"
   ]
  },
  {
   "cell_type": "code",
   "execution_count": 151,
   "metadata": {},
   "outputs": [
    {
     "name": "stdout",
     "output_type": "stream",
     "text": [
      "(152, 18)\n",
      "(39, 18)\n"
     ]
    }
   ],
   "source": [
    "print(XtrainP.shape)\n",
    "print(XtestP.shape) #why did this go from 27 columns back to 18?"
   ]
  },
  {
   "cell_type": "code",
   "execution_count": 26,
   "metadata": {},
   "outputs": [
    {
     "name": "stdout",
     "output_type": "stream",
     "text": [
      "       Gender_Female  Age_Over65  Unemployed   Race_Hisp  Race_White  \\\n",
      "count     152.000000  152.000000  152.000000  152.000000  152.000000   \n",
      "mean       -0.073639   -0.063387   -0.051701    0.024156    0.055432   \n",
      "std         0.034117    0.050773    0.062704    0.077686    0.059409   \n",
      "min        -0.163952   -0.169466   -0.216271    0.000000    0.001312   \n",
      "25%        -0.091077   -0.113513   -0.070739    0.008764    0.013396   \n",
      "50%        -0.069055   -0.054395   -0.018747    0.012747    0.032376   \n",
      "75%        -0.051061   -0.014860   -0.006368    0.018685    0.074489   \n",
      "max        -0.013436   -0.000701   -0.000201    0.723197    0.275663   \n",
      "\n",
      "       Race_Black  Race_Asian  Race_Other  Income_Low  Income_Mid  \\\n",
      "count  152.000000  152.000000       152.0       152.0       152.0   \n",
      "mean     0.064710   -0.077763         0.0         0.0         0.0   \n",
      "std      0.049065    0.023137         0.0         0.0         0.0   \n",
      "min      0.009347   -0.116277         0.0         0.0         0.0   \n",
      "25%      0.027935   -0.091827         0.0         0.0         0.0   \n",
      "50%      0.047316   -0.082255         0.0         0.0         0.0   \n",
      "75%      0.086603   -0.067838         0.0         0.0         0.0   \n",
      "max      0.217852   -0.018525         0.0         0.0         0.0   \n",
      "\n",
      "       Income_High  Edu_UnderBach  Edu_Bachelor  Edu_GradProf  \\\n",
      "count        152.0          152.0         152.0         152.0   \n",
      "mean           0.0            0.0           0.0           0.0   \n",
      "std            0.0            0.0           0.0           0.0   \n",
      "min            0.0            0.0           0.0           0.0   \n",
      "25%            0.0            0.0           0.0           0.0   \n",
      "50%            0.0            0.0           0.0           0.0   \n",
      "75%            0.0            0.0           0.0           0.0   \n",
      "max            0.0            0.0           0.0           0.0   \n",
      "\n",
      "       Crime_Felony_MMscaled  Crime_Misdemeanor_MMscaled  \\\n",
      "count                  152.0                       152.0   \n",
      "mean                     0.0                         0.0   \n",
      "std                      0.0                         0.0   \n",
      "min                      0.0                         0.0   \n",
      "25%                      0.0                         0.0   \n",
      "50%                      0.0                         0.0   \n",
      "75%                      0.0                         0.0   \n",
      "max                      0.0                         0.0   \n",
      "\n",
      "       Crime_Violation_MMscaled  Crime_Total_MMscaled  \n",
      "count                     152.0                 152.0  \n",
      "mean                        0.0                   0.0  \n",
      "std                         0.0                   0.0  \n",
      "min                         0.0                   0.0  \n",
      "25%                         0.0                   0.0  \n",
      "50%                         0.0                   0.0  \n",
      "75%                         0.0                   0.0  \n",
      "max                         0.0                   0.0  \n"
     ]
    }
   ],
   "source": [
    "# see which features sparsePCA deemed helpful\n",
    "pd.set_option('display.max_columns', None)\n",
    "print(pd.DataFrame(XtrainP, index=Xtrain_spca.index, columns=Xtrain_spca.columns).describe())\n",
    "\n",
    "# seems like sparsePCA didn't use Income, Edu, Crime (perhaps there was correlation w/other features?)"
   ]
  },
  {
   "cell_type": "markdown",
   "metadata": {},
   "source": [
    "### With all principle components"
   ]
  },
  {
   "cell_type": "code",
   "execution_count": 27,
   "metadata": {},
   "outputs": [
    {
     "data": {
      "text/plain": [
       "0.48717948717948717"
      ]
     },
     "execution_count": 27,
     "metadata": {},
     "output_type": "execute_result"
    }
   ],
   "source": [
    "# with default C=1\n",
    "logit_spca = LogisticRegression().fit(XtrainP, Ytrain_spca['HasGarden'])\n",
    "logit_spca.score(XtestP, Ytest['HasGarden'])"
   ]
  },
  {
   "cell_type": "code",
   "execution_count": 28,
   "metadata": {},
   "outputs": [
    {
     "data": {
      "text/plain": [
       "array([[10,  4],\n",
       "       [16,  9]])"
      ]
     },
     "execution_count": 28,
     "metadata": {},
     "output_type": "execute_result"
    }
   ],
   "source": [
    "# generate confusion matrix\n",
    "confusion_matrix(Ytest_spca['HasGarden'], logit_spca.predict(XtestP))"
   ]
  },
  {
   "cell_type": "markdown",
   "metadata": {},
   "source": [
    "### Hyperparam tuning 1: Select optimal number of principle components for classification"
   ]
  },
  {
   "cell_type": "code",
   "execution_count": 29,
   "metadata": {},
   "outputs": [
    {
     "data": {
      "image/png": "[encoded data removed]",
      "text/plain": [
       "<Figure size 720x360 with 1 Axes>"
      ]
     },
     "metadata": {
      "needs_background": "light"
     },
     "output_type": "display_data"
    }
   ],
   "source": [
    "# select optimal number of principle components for the classification in terms of the out-of-sample accuracy measured over the validation sample\n",
    "train_acc = []\n",
    "mean_cross_val_acc = []\n",
    "n_candidates = range(1, XtrainP.shape[1])\n",
    "\n",
    "for n in n_candidates:\n",
    "    # Learn logistic regression over the training sample\n",
    "    logit_spca_opt = LogisticRegression()\n",
    "    logit_spca_opt = logit_spca_opt.fit(XtrainP[:, :n], Ytrain_spca['HasGarden']) #fit logistic regression model to training data\n",
    "    train_acc.append(logit_spca_opt.score(XtrainP[:, :n], Ytrain_spca['HasGarden']))\n",
    "    \n",
    "    # compute out of sample accuracy over validation set\n",
    "    mean_cross_val_acc.append(mean(cross_val_score(logit_spca_opt, XtrainP[:, :n], Ytrain_spca['HasGarden'])))\n",
    "\n",
    "\n",
    "# plot to see where it overfits\n",
    "plt.figure(figsize=(10,5))\n",
    "plt.plot(n_candidates, mean_cross_val_acc, label='Val Acc')\n",
    "plt.plot(n_candidates, train_acc, label='Train Acc')\n",
    "\n",
    "plt.legend()\n",
    "plt.show()"
   ]
  },
  {
   "cell_type": "code",
   "execution_count": 30,
   "metadata": {},
   "outputs": [
    {
     "data": {
      "text/plain": [
       "1"
      ]
     },
     "execution_count": 30,
     "metadata": {},
     "output_type": "execute_result"
    }
   ],
   "source": [
    "# best num of components\n",
    "optimal_n = n_candidates[np.argmax(mean_cross_val_acc)]\n",
    "optimal_n"
   ]
  },
  {
   "cell_type": "code",
   "execution_count": 31,
   "metadata": {},
   "outputs": [
    {
     "data": {
      "text/plain": [
       "0.358974358974359"
      ]
     },
     "execution_count": 31,
     "metadata": {},
     "output_type": "execute_result"
    }
   ],
   "source": [
    "# for n in range(1, X_train_spca.shape[1]):\n",
    "logit_spca_opt = LogisticRegression().fit(XtrainP[:, :optimal_n], Ytrain_spca['HasGarden'])\n",
    "logit_spca_opt.score(XtestP[:, :optimal_n], Ytest_spca['HasGarden'])"
   ]
  },
  {
   "cell_type": "markdown",
   "metadata": {},
   "source": [
    "### Hyperparam tuning 2: Select regularisation param"
   ]
  },
  {
   "cell_type": "code",
   "execution_count": 32,
   "metadata": {},
   "outputs": [
    {
     "data": {
      "image/png": "[encoded data removed]",
      "text/plain": [
       "<Figure size 720x360 with 1 Axes>"
      ]
     },
     "metadata": {
      "needs_background": "light"
     },
     "output_type": "display_data"
    }
   ],
   "source": [
    "# hyperparam tuning for optimal C\n",
    "train_acc = []\n",
    "mean_cross_val_acc = []\n",
    "C_candidates = np.linspace(start=0.05, stop=30, num=100) # keep toggling these numbers\n",
    "\n",
    "for c in C_candidates:\n",
    "    logit = LogisticRegression(C=c).fit(XtrainP[:, :optimal_n], Ytrain_spca['HasGarden'])\n",
    "    train_acc.append(logit.score(XtrainP[:, :optimal_n], Ytrain_spca['HasGarden']))\n",
    "    mean_cross_val_acc.append(mean(cross_val_score(logit, XtrainP[:, :optimal_n], Ytrain_spca['HasGarden'])))\n",
    "\n",
    "# plot to see where it overfits\n",
    "plt.figure(figsize=(10,5))\n",
    "plt.plot(C_candidates, mean_cross_val_acc, label='Val Acc')\n",
    "plt.plot(C_candidates, train_acc, label='Train Acc')\n",
    "\n",
    "plt.legend()\n",
    "plt.show()"
   ]
  },
  {
   "cell_type": "code",
   "execution_count": 33,
   "metadata": {},
   "outputs": [
    {
     "data": {
      "text/plain": [
       "29.69747474747475"
      ]
     },
     "execution_count": 33,
     "metadata": {},
     "output_type": "execute_result"
    }
   ],
   "source": [
    "# best C value\n",
    "optimal_C = C_candidates[np.argmax(mean_cross_val_acc)]\n",
    "optimal_C"
   ]
  },
  {
   "cell_type": "code",
   "execution_count": 34,
   "metadata": {},
   "outputs": [
    {
     "data": {
      "text/plain": [
       "0.41025641025641024"
      ]
     },
     "execution_count": 34,
     "metadata": {},
     "output_type": "execute_result"
    }
   ],
   "source": [
    "logit = LogisticRegression(C=optimal_C).fit(XtrainP[:, :optimal_n], Ytrain_spca['HasGarden'])\n",
    "logit.score(XtestP[:, :optimal_n], Ytest_spca['HasGarden'])\n",
    "\n",
    "# hmm...same as before tuning C"
   ]
  },
  {
   "cell_type": "markdown",
   "metadata": {},
   "source": [
    "### Logistic Model with  Lasso Regularization"
   ]
  },
  {
   "cell_type": "code",
   "execution_count": 147,
   "metadata": {},
   "outputs": [
    {
     "data": {
      "text/plain": [
       "0.7692307692307693"
      ]
     },
     "execution_count": 147,
     "metadata": {},
     "output_type": "execute_result"
    }
   ],
   "source": [
    "logit_lasso = LogisticRegression(C=1, penalty='l1') # lasso regression is penalty = l1; default is l2 which is ridge \n",
    "# logit_lasso = logit_lasso.fit(XtrainS, Ytrain['HasGarden']) #fit logistic regression model to training data\n",
    "# logit_lasso.score(XtestS, Ytest['HasGarden'])\n",
    "logit_lasso = logit_lasso.fit(Xtrain, Ytrain['HasGarden']) #fit logistic regression model to training data\n",
    "logit_lasso.score(Xtest, Ytest['HasGarden'])"
   ]
  },
  {
   "cell_type": "code",
   "execution_count": 148,
   "metadata": {},
   "outputs": [
    {
     "data": {
      "text/plain": [
       "array([[10,  4],\n",
       "       [ 5, 20]])"
      ]
     },
     "execution_count": 148,
     "metadata": {},
     "output_type": "execute_result"
    }
   ],
   "source": [
    "# generate confusion matrix\n",
    "confusion_matrix(Ytest['HasGarden'], logit_lasso.predict(Xtest))"
   ]
  },
  {
   "cell_type": "code",
   "execution_count": 149,
   "metadata": {},
   "outputs": [
    {
     "data": {
      "text/plain": [
       "array([[ 0.        , -0.03505203,  0.        ,  0.12061866, -1.30946168,\n",
       "         0.99456723, -0.86290573,  0.        ,  4.05136685,  0.        ,\n",
       "         0.        , -2.64124612,  0.        ,  0.        ,  0.        ,\n",
       "         0.        ,  0.        ,  0.        ]])"
      ]
     },
     "execution_count": 149,
     "metadata": {},
     "output_type": "execute_result"
    }
   ],
   "source": [
    "# view the coefficients\n",
    "logit_lasso.coef_\n",
    "\n",
    "# seems like lasso regularization kept Age_Over65, Race_Hisp, Race_White, Race_Black, Race_Asion, Income_Low, Edu_UnderBach"
   ]
  },
  {
   "cell_type": "code",
   "execution_count": 139,
   "metadata": {},
   "outputs": [],
   "source": [
    "features = list(Xtrain.columns)"
   ]
  },
  {
   "cell_type": "code",
   "execution_count": 140,
   "metadata": {},
   "outputs": [
    {
     "data": {
      "text/plain": [
       "18"
      ]
     },
     "execution_count": 140,
     "metadata": {},
     "output_type": "execute_result"
    }
   ],
   "source": [
    "size(features)"
   ]
  },
  {
   "cell_type": "code",
   "execution_count": 88,
   "metadata": {},
   "outputs": [],
   "source": [
    "coefs = list(logit_lasso.coef_[0,:])"
   ]
  },
  {
   "cell_type": "code",
   "execution_count": 89,
   "metadata": {},
   "outputs": [
    {
     "data": {
      "text/plain": [
       "list"
      ]
     },
     "execution_count": 89,
     "metadata": {},
     "output_type": "execute_result"
    }
   ],
   "source": [
    "type(coefs)"
   ]
  },
  {
   "cell_type": "code",
   "execution_count": 103,
   "metadata": {},
   "outputs": [
    {
     "data": {
      "text/plain": [
       "<Figure size 6480x720 with 0 Axes>"
      ]
     },
     "execution_count": 103,
     "metadata": {},
     "output_type": "execute_result"
    },
    {
     "data": {
      "image/png": "[encoded data removed]",
      "text/plain": [
       "<Figure size 432x288 with 1 Axes>"
      ]
     },
     "metadata": {
      "needs_background": "light"
     },
     "output_type": "display_data"
    },
    {
     "data": {
      "text/plain": [
       "<Figure size 6480x720 with 0 Axes>"
      ]
     },
     "metadata": {},
     "output_type": "display_data"
    }
   ],
   "source": [
    "plt.plot(features, coefs)\n",
    "plt.title('Coefficients for Logistic Regression with Lasso Regularization')\n",
    "plt.figure(figsize=(90,10))"
   ]
  },
  {
   "cell_type": "code",
   "execution_count": 117,
   "metadata": {},
   "outputs": [
    {
     "data": {
      "image/png": "[encoded data removed]",
      "text/plain": [
       "<Figure size 640x480 with 1 Axes>"
      ]
     },
     "metadata": {},
     "output_type": "display_data"
    }
   ],
   "source": [
    "# Fixing random state for reproducibility\n",
    "np.random.seed(19680801)\n",
    "\n",
    "\n",
    "plt.rcdefaults()\n",
    "fig, ax = plt.subplots()\n",
    "\n",
    "# data\n",
    "\n",
    "y_pos = np.arange(len(features))\n",
    "performance = 3 + 10 * np.random.rand(len(features))\n",
    "error = np.random.rand(len(features))\n",
    "\n",
    "ax.barh(y_pos, coefs)\n",
    "ax.set_yticks(y_pos)\n",
    "ax.set_yticklabels(features)\n",
    "ax.invert_yaxis()  # labels read top-to-bottom\n",
    "ax.set_xlabel('Coefficient')\n",
    "ax.set_title('Coefficients for Logistic Regression with Lasso Regularization')\n",
    "\n",
    "plt.axvline(0, lw = 0.4, ls = '--', color = 'black')\n",
    "plt.show()"
   ]
  },
  {
   "cell_type": "code",
   "execution_count": null,
   "metadata": {},
   "outputs": [],
   "source": []
  }
 ],
 "metadata": {
  "kernelspec": {
   "display_name": "Python 3",
   "language": "python",
   "name": "python3"
  },
  "language_info": {
   "codemirror_mode": {
    "name": "ipython",
    "version": 3
   },
   "file_extension": ".py",
   "mimetype": "text/x-python",
   "name": "python",
   "nbconvert_exporter": "python",
   "pygments_lexer": "ipython3",
   "version": "3.7.4"
  }
 },
 "nbformat": 4,
 "nbformat_minor": 2
}
