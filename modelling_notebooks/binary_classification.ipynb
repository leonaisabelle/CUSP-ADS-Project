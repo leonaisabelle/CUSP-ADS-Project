{
 "cells": [
  {
   "cell_type": "code",
   "execution_count": 1,
   "metadata": {},
   "outputs": [
    {
     "name": "stdout",
     "output_type": "stream",
     "text": [
      "Populating the interactive namespace from numpy and matplotlib\n"
     ]
    }
   ],
   "source": [
    "#import all the libraries\n",
    "import numpy as np\n",
    "import pandas as pd\n",
    "import matplotlib.pyplot as plt\n",
    "from sklearn.linear_model import LogisticRegression\n",
    "from sklearn import preprocessing, svm\n",
    "from sklearn.metrics import confusion_matrix\n",
    "from sklearn.decomposition import PCA\n",
    "%pylab inline\n",
    "\n",
    "# To ignore some warnings\n",
    "import warnings\n",
    "warnings.simplefilter(action='ignore', category=FutureWarning) # comes up when not specifying solver for LogisticRegression\n",
    "warnings.simplefilter(action='ignore', category=UserWarning)"
   ]
  },
  {
   "cell_type": "code",
   "execution_count": 2,
   "metadata": {},
   "outputs": [
    {
     "data": {
      "text/html": [
       "<div>\n",
       "<style scoped>\n",
       "    .dataframe tbody tr th:only-of-type {\n",
       "        vertical-align: middle;\n",
       "    }\n",
       "\n",
       "    .dataframe tbody tr th {\n",
       "        vertical-align: top;\n",
       "    }\n",
       "\n",
       "    .dataframe thead th {\n",
       "        text-align: right;\n",
       "    }\n",
       "</style>\n",
       "<table border=\"1\" class=\"dataframe\">\n",
       "  <thead>\n",
       "    <tr style=\"text-align: right;\">\n",
       "      <th></th>\n",
       "      <th>MaleEN</th>\n",
       "      <th>FemEN</th>\n",
       "      <th>PopUnd18N</th>\n",
       "      <th>PopOv65N</th>\n",
       "      <th>HispN</th>\n",
       "      <th>NotHispN</th>\n",
       "      <th>WhiteN</th>\n",
       "      <th>BlackN</th>\n",
       "      <th>NativeN</th>\n",
       "      <th>AsianN</th>\n",
       "      <th>...</th>\n",
       "      <th>CLF_UnemployedN</th>\n",
       "      <th>EduOtherN</th>\n",
       "      <th>EduBachelor</th>\n",
       "      <th>EduGradProf</th>\n",
       "      <th>GardenCounts</th>\n",
       "      <th>HasGarden</th>\n",
       "      <th>FELONY_norm</th>\n",
       "      <th>MISDEMEANOR_norm</th>\n",
       "      <th>VIOLATION_norm</th>\n",
       "      <th>TOTAL_CRIME_norm</th>\n",
       "    </tr>\n",
       "    <tr>\n",
       "      <th>NTA</th>\n",
       "      <th></th>\n",
       "      <th></th>\n",
       "      <th></th>\n",
       "      <th></th>\n",
       "      <th></th>\n",
       "      <th></th>\n",
       "      <th></th>\n",
       "      <th></th>\n",
       "      <th></th>\n",
       "      <th></th>\n",
       "      <th></th>\n",
       "      <th></th>\n",
       "      <th></th>\n",
       "      <th></th>\n",
       "      <th></th>\n",
       "      <th></th>\n",
       "      <th></th>\n",
       "      <th></th>\n",
       "      <th></th>\n",
       "      <th></th>\n",
       "      <th></th>\n",
       "    </tr>\n",
       "  </thead>\n",
       "  <tbody>\n",
       "    <tr>\n",
       "      <th>Bath Beach</th>\n",
       "      <td>0.503151</td>\n",
       "      <td>0.496849</td>\n",
       "      <td>0.214184</td>\n",
       "      <td>0.147393</td>\n",
       "      <td>0.176733</td>\n",
       "      <td>0.823267</td>\n",
       "      <td>0.436933</td>\n",
       "      <td>0.012182</td>\n",
       "      <td>0.000332</td>\n",
       "      <td>0.361095</td>\n",
       "      <td>...</td>\n",
       "      <td>0.070566</td>\n",
       "      <td>0.663798</td>\n",
       "      <td>0.224372</td>\n",
       "      <td>0.111829</td>\n",
       "      <td>0.0</td>\n",
       "      <td>0.0</td>\n",
       "      <td>0.030033</td>\n",
       "      <td>0.065645</td>\n",
       "      <td>0.014444</td>\n",
       "      <td>0.110123</td>\n",
       "    </tr>\n",
       "    <tr>\n",
       "      <th>Bay Ridge</th>\n",
       "      <td>0.478037</td>\n",
       "      <td>0.521963</td>\n",
       "      <td>0.190942</td>\n",
       "      <td>0.156444</td>\n",
       "      <td>0.178608</td>\n",
       "      <td>0.821392</td>\n",
       "      <td>0.634329</td>\n",
       "      <td>0.019094</td>\n",
       "      <td>0.002287</td>\n",
       "      <td>0.145513</td>\n",
       "      <td>...</td>\n",
       "      <td>0.074922</td>\n",
       "      <td>0.535735</td>\n",
       "      <td>0.271976</td>\n",
       "      <td>0.192289</td>\n",
       "      <td>0.0</td>\n",
       "      <td>0.0</td>\n",
       "      <td>0.033627</td>\n",
       "      <td>0.082051</td>\n",
       "      <td>0.023833</td>\n",
       "      <td>0.139510</td>\n",
       "    </tr>\n",
       "    <tr>\n",
       "      <th>Bedford</th>\n",
       "      <td>0.484492</td>\n",
       "      <td>0.515508</td>\n",
       "      <td>0.297127</td>\n",
       "      <td>0.077219</td>\n",
       "      <td>0.194933</td>\n",
       "      <td>0.805067</td>\n",
       "      <td>0.350607</td>\n",
       "      <td>0.405826</td>\n",
       "      <td>0.000876</td>\n",
       "      <td>0.030404</td>\n",
       "      <td>...</td>\n",
       "      <td>0.125027</td>\n",
       "      <td>0.678193</td>\n",
       "      <td>0.204352</td>\n",
       "      <td>0.117455</td>\n",
       "      <td>23.0</td>\n",
       "      <td>1.0</td>\n",
       "      <td>0.082026</td>\n",
       "      <td>0.124671</td>\n",
       "      <td>0.032993</td>\n",
       "      <td>0.239690</td>\n",
       "    </tr>\n",
       "    <tr>\n",
       "      <th>Bensonhurst East</th>\n",
       "      <td>0.486766</td>\n",
       "      <td>0.513234</td>\n",
       "      <td>0.198749</td>\n",
       "      <td>0.157266</td>\n",
       "      <td>0.123283</td>\n",
       "      <td>0.876717</td>\n",
       "      <td>0.465153</td>\n",
       "      <td>0.008262</td>\n",
       "      <td>0.000000</td>\n",
       "      <td>0.386793</td>\n",
       "      <td>...</td>\n",
       "      <td>0.085202</td>\n",
       "      <td>0.698153</td>\n",
       "      <td>0.204564</td>\n",
       "      <td>0.097283</td>\n",
       "      <td>1.0</td>\n",
       "      <td>1.0</td>\n",
       "      <td>0.029377</td>\n",
       "      <td>0.048003</td>\n",
       "      <td>0.014969</td>\n",
       "      <td>0.092349</td>\n",
       "    </tr>\n",
       "    <tr>\n",
       "      <th>Bensonhurst West</th>\n",
       "      <td>0.487212</td>\n",
       "      <td>0.512788</td>\n",
       "      <td>0.210462</td>\n",
       "      <td>0.142625</td>\n",
       "      <td>0.145975</td>\n",
       "      <td>0.854025</td>\n",
       "      <td>0.426773</td>\n",
       "      <td>0.008740</td>\n",
       "      <td>0.001211</td>\n",
       "      <td>0.405168</td>\n",
       "      <td>...</td>\n",
       "      <td>0.088342</td>\n",
       "      <td>0.737618</td>\n",
       "      <td>0.188800</td>\n",
       "      <td>0.073582</td>\n",
       "      <td>2.0</td>\n",
       "      <td>1.0</td>\n",
       "      <td>0.027704</td>\n",
       "      <td>0.045981</td>\n",
       "      <td>0.013105</td>\n",
       "      <td>0.086790</td>\n",
       "    </tr>\n",
       "  </tbody>\n",
       "</table>\n",
       "<p>5 rows × 37 columns</p>\n",
       "</div>"
      ],
      "text/plain": [
       "                    MaleEN     FemEN  PopUnd18N  PopOv65N     HispN  NotHispN  \\\n",
       "NTA                                                                             \n",
       "Bath Beach        0.503151  0.496849   0.214184  0.147393  0.176733  0.823267   \n",
       "Bay Ridge         0.478037  0.521963   0.190942  0.156444  0.178608  0.821392   \n",
       "Bedford           0.484492  0.515508   0.297127  0.077219  0.194933  0.805067   \n",
       "Bensonhurst East  0.486766  0.513234   0.198749  0.157266  0.123283  0.876717   \n",
       "Bensonhurst West  0.487212  0.512788   0.210462  0.142625  0.145975  0.854025   \n",
       "\n",
       "                    WhiteN    BlackN   NativeN    AsianN        ...         \\\n",
       "NTA                                                             ...          \n",
       "Bath Beach        0.436933  0.012182  0.000332  0.361095        ...          \n",
       "Bay Ridge         0.634329  0.019094  0.002287  0.145513        ...          \n",
       "Bedford           0.350607  0.405826  0.000876  0.030404        ...          \n",
       "Bensonhurst East  0.465153  0.008262  0.000000  0.386793        ...          \n",
       "Bensonhurst West  0.426773  0.008740  0.001211  0.405168        ...          \n",
       "\n",
       "                  CLF_UnemployedN  EduOtherN  EduBachelor  EduGradProf  \\\n",
       "NTA                                                                      \n",
       "Bath Beach               0.070566   0.663798     0.224372     0.111829   \n",
       "Bay Ridge                0.074922   0.535735     0.271976     0.192289   \n",
       "Bedford                  0.125027   0.678193     0.204352     0.117455   \n",
       "Bensonhurst East         0.085202   0.698153     0.204564     0.097283   \n",
       "Bensonhurst West         0.088342   0.737618     0.188800     0.073582   \n",
       "\n",
       "                  GardenCounts  HasGarden  FELONY_norm  MISDEMEANOR_norm  \\\n",
       "NTA                                                                        \n",
       "Bath Beach                 0.0        0.0     0.030033          0.065645   \n",
       "Bay Ridge                  0.0        0.0     0.033627          0.082051   \n",
       "Bedford                   23.0        1.0     0.082026          0.124671   \n",
       "Bensonhurst East           1.0        1.0     0.029377          0.048003   \n",
       "Bensonhurst West           2.0        1.0     0.027704          0.045981   \n",
       "\n",
       "                  VIOLATION_norm  TOTAL_CRIME_norm  \n",
       "NTA                                                 \n",
       "Bath Beach              0.014444          0.110123  \n",
       "Bay Ridge               0.023833          0.139510  \n",
       "Bedford                 0.032993          0.239690  \n",
       "Bensonhurst East        0.014969          0.092349  \n",
       "Bensonhurst West        0.013105          0.086790  \n",
       "\n",
       "[5 rows x 37 columns]"
      ]
     },
     "execution_count": 2,
     "metadata": {},
     "output_type": "execute_result"
    }
   ],
   "source": [
    "data = pd.read_csv('../data/Norm_Data_Final.csv', index_col=0)\n",
    "data.head()"
   ]
  },
  {
   "cell_type": "code",
   "execution_count": 3,
   "metadata": {},
   "outputs": [],
   "source": [
    "# split into train, test, and validate data\n",
    "from sklearn.model_selection import train_test_split\n",
    "\n",
    "y = data[['GardenCounts', 'HasGarden']]\n",
    "X = data.drop(columns=['GardenCounts', 'HasGarden'])\n",
    "\n",
    "Xtrain, Xtest, Ytrain, Ytest = train_test_split(X, y, test_size=0.20, random_state=42)\n",
    "# not generating validation set here cos we will use cross-validation later"
   ]
  },
  {
   "cell_type": "code",
   "execution_count": 4,
   "metadata": {},
   "outputs": [
    {
     "data": {
      "text/plain": [
       "((152, 35), (39, 35))"
      ]
     },
     "execution_count": 4,
     "metadata": {},
     "output_type": "execute_result"
    }
   ],
   "source": [
    "Xtrain.shape, Xtest.shape"
   ]
  },
  {
   "cell_type": "markdown",
   "metadata": {},
   "source": [
    "## Scale the data"
   ]
  },
  {
   "cell_type": "code",
   "execution_count": 5,
   "metadata": {},
   "outputs": [],
   "source": [
    "# scale X data\n",
    "scaler = preprocessing.StandardScaler().fit(Xtrain)\n",
    "XtrainS = pd.DataFrame(scaler.transform(Xtrain))\n",
    "XtestS = pd.DataFrame(scaler.transform(Xtest))"
   ]
  },
  {
   "cell_type": "code",
   "execution_count": 6,
   "metadata": {},
   "outputs": [
    {
     "data": {
      "text/plain": [
       "(0, 0)"
      ]
     },
     "execution_count": 6,
     "metadata": {},
     "output_type": "execute_result"
    }
   ],
   "source": [
    "# check for null vals\n",
    "XtrainS.isnull().values.sum(), XtestS.isnull().values.sum()"
   ]
  },
  {
   "cell_type": "markdown",
   "metadata": {},
   "source": [
    "## 1) Logistic Regression with all features"
   ]
  },
  {
   "cell_type": "code",
   "execution_count": 7,
   "metadata": {},
   "outputs": [],
   "source": [
    "# Learn logistic regression over the training sample\n",
    "logit = LogisticRegression(C=1) # i imagine that c=10000 might be too severe\n",
    "logit = logit.fit(XtrainS, Ytrain['HasGarden']) #fit logistic regression model to training data"
   ]
  },
  {
   "cell_type": "code",
   "execution_count": 8,
   "metadata": {},
   "outputs": [
    {
     "data": {
      "text/plain": [
       "0.7692307692307693"
      ]
     },
     "execution_count": 8,
     "metadata": {},
     "output_type": "execute_result"
    }
   ],
   "source": [
    "# calculate out of sample accuracy\n",
    "logit.score(XtestS, Ytest['HasGarden'])"
   ]
  },
  {
   "cell_type": "markdown",
   "metadata": {},
   "source": [
    "### Hyperparam tuning of regularisation constant C"
   ]
  },
  {
   "cell_type": "code",
   "execution_count": 9,
   "metadata": {},
   "outputs": [
    {
     "data": {
      "image/png": "[encoded data removed]",
      "text/plain": [
       "<Figure size 1440x360 with 1 Axes>"
      ]
     },
     "metadata": {
      "needs_background": "light"
     },
     "output_type": "display_data"
    }
   ],
   "source": [
    "# try a smaller range with smaller intervals\n",
    "# and use cross validation\n",
    "from sklearn.model_selection import cross_val_score\n",
    "\n",
    "train_acc = []\n",
    "mean_cross_val_acc = []\n",
    "C_candidates = np.linspace(start=0.001, stop=100, num=100)\n",
    "\n",
    "for c in C_candidates:\n",
    "    logit = LogisticRegression(C=c).fit(XtrainS, Ytrain['HasGarden'])\n",
    "    train_acc.append(logit.score(XtrainS, Ytrain['HasGarden']))\n",
    "    mean_cross_val_acc.append(mean(cross_val_score(logit, XtrainS, Ytrain['HasGarden'])))\n",
    "\n",
    "# plot to see where it overfits\n",
    "plt.figure(figsize=(20,5))\n",
    "plt.plot(C_candidates, mean_cross_val_acc, label='Val Acc')\n",
    "plt.plot(C_candidates, train_acc, label='Train Acc')\n",
    "plt.xticks(np.linspace(start=0.001, stop=100, num=30))\n",
    "plt.legend()\n",
    "plt.show()\n",
    "\n",
    "# looks like we want the region between 0.001 to 3"
   ]
  },
  {
   "cell_type": "code",
   "execution_count": 10,
   "metadata": {},
   "outputs": [
    {
     "data": {
      "image/png": "[encoded data removed]",
      "text/plain": [
       "<Figure size 1440x360 with 1 Axes>"
      ]
     },
     "metadata": {
      "needs_background": "light"
     },
     "output_type": "display_data"
    }
   ],
   "source": [
    "train_acc = []\n",
    "mean_cross_val_acc = []\n",
    "C_candidates = np.linspace(start=0.001, stop=3, num=100)\n",
    "\n",
    "for c in C_candidates:\n",
    "    logit = LogisticRegression(C=c).fit(XtrainS, Ytrain['HasGarden'])\n",
    "    train_acc.append(logit.score(XtrainS, Ytrain['HasGarden']))\n",
    "    mean_cross_val_acc.append(mean(cross_val_score(logit, XtrainS, Ytrain['HasGarden'])))\n",
    "\n",
    "# plot to see where it overfits\n",
    "plt.figure(figsize=(20,5))\n",
    "plt.plot(C_candidates, mean_cross_val_acc, label='Val Acc')\n",
    "plt.plot(C_candidates, train_acc, label='Train Acc')\n",
    "\n",
    "plt.legend()\n",
    "plt.show()"
   ]
  },
  {
   "cell_type": "code",
   "execution_count": 11,
   "metadata": {},
   "outputs": [
    {
     "data": {
      "image/png": "[encoded data removed]",
      "text/plain": [
       "<Figure size 720x360 with 1 Axes>"
      ]
     },
     "metadata": {
      "needs_background": "light"
     },
     "output_type": "display_data"
    }
   ],
   "source": [
    "train_acc = []\n",
    "mean_cross_val_acc = []\n",
    "C_candidates = np.linspace(start=0.001, stop=0.25, num=100)\n",
    "\n",
    "for c in C_candidates:\n",
    "    logit = LogisticRegression(C=c).fit(XtrainS, Ytrain['HasGarden'])\n",
    "    train_acc.append(logit.score(XtrainS, Ytrain['HasGarden']))\n",
    "    mean_cross_val_acc.append(mean(cross_val_score(logit, XtrainS, Ytrain['HasGarden'])))\n",
    "\n",
    "# plot to see where it overfits\n",
    "plt.figure(figsize=(10,5))\n",
    "plt.plot(C_candidates, mean_cross_val_acc, label='Val Acc')\n",
    "plt.plot(C_candidates, train_acc, label='Train Acc')\n",
    "\n",
    "plt.legend()\n",
    "plt.show()"
   ]
  },
  {
   "cell_type": "code",
   "execution_count": 12,
   "metadata": {},
   "outputs": [
    {
     "data": {
      "text/plain": [
       "0.04627272727272727"
      ]
     },
     "execution_count": 12,
     "metadata": {},
     "output_type": "execute_result"
    }
   ],
   "source": [
    "# best C value\n",
    "optimal_C = C_candidates[np.argmax(mean_cross_val_acc)]\n",
    "optimal_C"
   ]
  },
  {
   "cell_type": "markdown",
   "metadata": {},
   "source": [
    "### Logistic regression with optimal C"
   ]
  },
  {
   "cell_type": "code",
   "execution_count": 13,
   "metadata": {},
   "outputs": [
    {
     "data": {
      "text/plain": [
       "'out of sample accuracy=0.7435897435897436'"
      ]
     },
     "execution_count": 13,
     "metadata": {},
     "output_type": "execute_result"
    }
   ],
   "source": [
    "logit = LogisticRegression(C=optimal_C).fit(XtrainS, Ytrain['HasGarden'])\n",
    "# out of sample\n",
    "logit.score(XtestS, Ytest['HasGarden'])"
   ]
  },
  {
   "cell_type": "markdown",
   "metadata": {},
   "source": [
    "## 2) Logistic Model with Sparse PCA"
   ]
  },
  {
   "cell_type": "code",
   "execution_count": 14,
   "metadata": {},
   "outputs": [],
   "source": [
    "from sklearn.decomposition import SparsePCA"
   ]
  },
  {
   "cell_type": "code",
   "execution_count": 15,
   "metadata": {
    "scrolled": true
   },
   "outputs": [
    {
     "name": "stderr",
     "output_type": "stream",
     "text": [
      "/usr/local/Cellar/python3/3.6.2/Frameworks/Python.framework/Versions/3.6/lib/python3.6/site-packages/sklearn/decomposition/sparse_pca.py:170: DeprecationWarning: normalize_components=False is a backward-compatible setting that implements a non-standard definition of sparse PCA. This compatibility mode will be removed in 0.22.\n",
      "  DeprecationWarning)\n"
     ]
    }
   ],
   "source": [
    "# apply sparse PCA\n",
    "spca = SparsePCA(n_components=XtrainS.shape[1]).fit(XtrainS)\n",
    "XtrainP = spca.transform(XtrainS)\n",
    "XtestP = spca.transform(XtestS)"
   ]
  },
  {
   "cell_type": "code",
   "execution_count": 16,
   "metadata": {},
   "outputs": [
    {
     "name": "stdout",
     "output_type": "stream",
     "text": [
      "(152, 35)\n",
      "(39, 35)\n"
     ]
    }
   ],
   "source": [
    "print(XtrainP.shape)\n",
    "print(XtestP.shape)"
   ]
  },
  {
   "cell_type": "code",
   "execution_count": 17,
   "metadata": {},
   "outputs": [
    {
     "name": "stdout",
     "output_type": "stream",
     "text": [
      "             MaleEN         FemEN     PopUnd18N  PopOv65N         HispN  \\\n",
      "count  1.520000e+02  1.520000e+02  1.520000e+02     152.0  1.520000e+02   \n",
      "mean   1.314738e-17  2.921640e-18  8.034509e-18       0.0 -8.764919e-18   \n",
      "std    8.137885e-02  8.137885e-02  8.137885e-02       0.0  8.137885e-02   \n",
      "min   -1.609910e-01 -2.374364e-02 -2.534921e-01       0.0 -1.220851e-01   \n",
      "25%   -7.386828e-02 -1.570534e-02 -4.569681e-02       0.0 -6.386635e-02   \n",
      "50%    5.861684e-03 -1.211437e-02  2.252265e-02       0.0 -1.295234e-02   \n",
      "75%    6.792755e-02 -5.797622e-03  6.100987e-02       0.0  3.591913e-02   \n",
      "max    1.434276e-01  7.151199e-01  1.349995e-01       0.0  1.980699e-01   \n",
      "\n",
      "           NotHispN        WhiteN        BlackN       NativeN        AsianN  \\\n",
      "count  1.520000e+02  1.520000e+02  1.520000e+02  1.520000e+02  1.520000e+02   \n",
      "mean  -1.460820e-17 -1.022574e-17  2.921640e-18  2.483394e-17  2.556435e-18   \n",
      "std    8.137885e-02  8.137885e-02  8.137885e-02  8.137885e-02  8.137885e-02   \n",
      "min   -3.668952e-01 -2.564503e-01 -4.104732e-02 -3.888102e-01 -4.624297e-01   \n",
      "25%   -4.246638e-02 -3.682829e-02 -4.104732e-02 -4.214771e-02 -1.974164e-02   \n",
      "50%    1.385134e-02  3.049625e-02 -4.104732e-02  1.231914e-04  2.542448e-02   \n",
      "75%    5.443588e-02  6.202031e-02  4.859751e-03  3.686335e-02  5.187307e-02   \n",
      "max    2.094827e-01  9.970772e-02  4.780266e-01  2.265344e-01  6.540841e-02   \n",
      "\n",
      "           PacificN   OtherRace1N   OtherRace2N         HHPop    HHINC_U10N  \\\n",
      "count  1.520000e+02  1.520000e+02  1.520000e+02  1.520000e+02  1.520000e+02   \n",
      "mean  -8.764919e-18  6.573689e-18  3.652049e-18 -1.343954e-16  4.501151e-17   \n",
      "std    8.137885e-02  8.137885e-02  8.137885e-02  8.137885e-02  8.137885e-02   \n",
      "min   -4.436014e-02 -1.449622e-01 -3.006348e-01 -3.199609e-01 -2.043319e-01   \n",
      "25%   -3.220438e-02 -5.706810e-02 -2.673481e-02 -4.193577e-02 -5.034457e-02   \n",
      "50%   -2.193414e-02 -1.075995e-02  3.231257e-02 -1.463358e-03 -1.640972e-03   \n",
      "75%   -4.367819e-03  4.097379e-02  5.572509e-02  4.766708e-02  6.148348e-02   \n",
      "max    5.199818e-01  3.187040e-01  7.789298e-02  2.427747e-01  1.910633e-01   \n",
      "\n",
      "       HHINC_10t14N  HHINC_15t24N  HHINC_25t34N  HHINC_35t49N  HHINC_50t74N  \\\n",
      "count  1.520000e+02  1.520000e+02  1.520000e+02  1.520000e+02  1.520000e+02   \n",
      "mean  -7.596263e-17  2.921640e-18 -4.747664e-18 -1.972107e-17  5.478074e-18   \n",
      "std    8.137885e-02  8.137885e-02  8.137885e-02  8.137885e-02  8.137885e-02   \n",
      "min   -1.976906e-01 -3.169162e-01 -2.173614e-01 -1.376738e-01 -3.426280e-01   \n",
      "25%   -5.361408e-02 -4.712157e-02 -6.290601e-02 -5.647275e-02 -5.348198e-02   \n",
      "50%   -6.760175e-03  1.496329e-02  1.095067e-02 -2.577571e-02 -7.009466e-03   \n",
      "75%    5.460171e-02  5.995884e-02  6.374752e-02  3.601277e-02  5.244462e-02   \n",
      "max    1.887111e-01  1.996492e-01  2.166681e-01  3.398837e-01  1.937028e-01   \n",
      "\n",
      "       HHINC_75t99N  HHINC_100t149N  HHINC_150t199N  HHINC_200plN  \\\n",
      "count  1.520000e+02    1.520000e+02    1.520000e+02  1.520000e+02   \n",
      "mean  -1.095615e-17   -1.022574e-17   -4.163336e-17  3.286844e-17   \n",
      "std    8.137885e-02    8.137885e-02    8.137885e-02  8.137885e-02   \n",
      "min   -1.921081e-01   -3.378333e-01   -1.720217e-01 -2.020444e-01   \n",
      "25%   -5.600286e-02   -1.541651e-02   -5.278421e-02 -5.265348e-02   \n",
      "50%    4.003090e-03    2.624013e-02    9.662396e-03 -9.751184e-03   \n",
      "75%    6.125486e-02    5.130751e-02    6.664625e-02  3.663578e-02   \n",
      "max    2.883375e-01    7.799753e-02    1.683559e-01  3.884557e-01   \n",
      "\n",
      "       Pop16yrsOver  Labor_forceN    CivilianLF  CLF_UnemployedN  EduOtherN  \\\n",
      "count  1.520000e+02  1.520000e+02  1.520000e+02            152.0      152.0   \n",
      "mean  -1.241697e-17  2.921640e-18  4.747664e-18              0.0        0.0   \n",
      "std    8.137885e-02  8.137885e-02  8.137885e-02              0.0        0.0   \n",
      "min   -1.410180e-01 -3.375047e-02 -1.511821e-01              0.0        0.0   \n",
      "25%   -5.365955e-02 -1.867154e-02 -5.761454e-02              0.0        0.0   \n",
      "50%   -2.004402e-02 -1.343382e-02 -2.748913e-02              0.0        0.0   \n",
      "75%    4.328017e-02 -2.551815e-03  3.534570e-02              0.0        0.0   \n",
      "max    1.999950e-01  8.192027e-01  3.769256e-01              0.0        0.0   \n",
      "\n",
      "       EduBachelor  EduGradProf  FELONY_norm  MISDEMEANOR_norm  \\\n",
      "count        152.0        152.0        152.0             152.0   \n",
      "mean           0.0          0.0          0.0               0.0   \n",
      "std            0.0          0.0          0.0               0.0   \n",
      "min            0.0          0.0          0.0               0.0   \n",
      "25%            0.0          0.0          0.0               0.0   \n",
      "50%            0.0          0.0          0.0               0.0   \n",
      "75%            0.0          0.0          0.0               0.0   \n",
      "max            0.0          0.0          0.0               0.0   \n",
      "\n",
      "       VIOLATION_norm  TOTAL_CRIME_norm  \n",
      "count           152.0             152.0  \n",
      "mean              0.0               0.0  \n",
      "std               0.0               0.0  \n",
      "min               0.0               0.0  \n",
      "25%               0.0               0.0  \n",
      "50%               0.0               0.0  \n",
      "75%               0.0               0.0  \n",
      "max               0.0               0.0  \n"
     ]
    }
   ],
   "source": [
    "# see which features sparsePCA deemed helpful\n",
    "pd.set_option('display.max_columns', None)\n",
    "print(pd.DataFrame(XtrainP, index=Xtrain.index, columns=Xtrain.columns).describe())\n",
    "\n",
    "# seems like sparsePCA didn't use PopOv65N, CLF_UnemployedN, Edu, crime"
   ]
  },
  {
   "cell_type": "markdown",
   "metadata": {},
   "source": [
    "### With all principle components"
   ]
  },
  {
   "cell_type": "code",
   "execution_count": 18,
   "metadata": {},
   "outputs": [
    {
     "data": {
      "text/plain": [
       "0.717948717948718"
      ]
     },
     "execution_count": 18,
     "metadata": {},
     "output_type": "execute_result"
    }
   ],
   "source": [
    "# with default C=1\n",
    "logit_spca = LogisticRegression().fit(XtrainP, Ytrain['HasGarden'])\n",
    "logit_spca.score(XtestP, Ytest['HasGarden'])"
   ]
  },
  {
   "cell_type": "markdown",
   "metadata": {},
   "source": [
    "### Hyperparam tuning 1: Select optimal number of principle components for classification"
   ]
  },
  {
   "cell_type": "code",
   "execution_count": 20,
   "metadata": {},
   "outputs": [
    {
     "data": {
      "image/png": "[encoded data removed]",
      "text/plain": [
       "<Figure size 720x360 with 1 Axes>"
      ]
     },
     "metadata": {
      "needs_background": "light"
     },
     "output_type": "display_data"
    }
   ],
   "source": [
    "# select optimal number of principle components for the classification in terms of the out-of-sample accuracy measured over the validation sample\n",
    "train_acc = []\n",
    "mean_cross_val_acc = []\n",
    "n_candidates = range(1, XtrainP.shape[1])\n",
    "\n",
    "for n in n_candidates:\n",
    "    # Learn logistic regression over the training sample\n",
    "    logit_spca_opt = LogisticRegression()\n",
    "    logit_spca_opt = logit_spca_opt.fit(XtrainP[:, :n], Ytrain['HasGarden']) #fit logistic regression model to training data\n",
    "    train_acc.append(logit_spca_opt.score(XtrainP[:, :n], Ytrain['HasGarden']))\n",
    "    \n",
    "    # compute out of sample accuracy over validation set\n",
    "    mean_cross_val_acc.append(mean(cross_val_score(logit_spca_opt, XtrainP[:, :n], Ytrain['HasGarden'])))\n",
    "\n",
    "\n",
    "# plot to see where it overfits\n",
    "plt.figure(figsize=(10,5))\n",
    "plt.plot(n_candidates, mean_cross_val_acc, label='Val Acc')\n",
    "plt.plot(n_candidates, train_acc, label='Train Acc')\n",
    "\n",
    "plt.legend()\n",
    "plt.show()"
   ]
  },
  {
   "cell_type": "code",
   "execution_count": 21,
   "metadata": {},
   "outputs": [
    {
     "data": {
      "text/plain": [
       "24"
      ]
     },
     "execution_count": 21,
     "metadata": {},
     "output_type": "execute_result"
    }
   ],
   "source": [
    "# best num of components\n",
    "optimal_n = n_candidates[np.argmax(mean_cross_val_acc)]\n",
    "optimal_n"
   ]
  },
  {
   "cell_type": "code",
   "execution_count": 22,
   "metadata": {},
   "outputs": [
    {
     "data": {
      "text/plain": [
       "0.7435897435897436"
      ]
     },
     "execution_count": 22,
     "metadata": {},
     "output_type": "execute_result"
    }
   ],
   "source": [
    "# for n in range(1, X_train_spca.shape[1]):\n",
    "logit_spca_opt = LogisticRegression().fit(XtrainP[:, :optimal_n], Ytrain['HasGarden'])\n",
    "logit_spca_opt.score(XtestP[:, :optimal_n], Ytest['HasGarden'])"
   ]
  },
  {
   "cell_type": "markdown",
   "metadata": {},
   "source": [
    "### Hyperparam tuning 2: Select regularisation param"
   ]
  },
  {
   "cell_type": "code",
   "execution_count": 23,
   "metadata": {},
   "outputs": [
    {
     "data": {
      "image/png": "[encoded data removed]",
      "text/plain": [
       "<Figure size 720x360 with 1 Axes>"
      ]
     },
     "metadata": {
      "needs_background": "light"
     },
     "output_type": "display_data"
    }
   ],
   "source": [
    "# hyperparam tuning for optimal C\n",
    "train_acc = []\n",
    "mean_cross_val_acc = []\n",
    "C_candidates = np.linspace(start=0.05, stop=30, num=100) # keep toggling these numbers\n",
    "\n",
    "for c in C_candidates:\n",
    "    logit = LogisticRegression(C=c).fit(XtrainP[:, :optimal_n], Ytrain['HasGarden'])\n",
    "    train_acc.append(logit.score(XtrainP[:, :optimal_n], Ytrain['HasGarden']))\n",
    "    mean_cross_val_acc.append(mean(cross_val_score(logit, XtrainP[:, :optimal_n], Ytrain['HasGarden'])))\n",
    "\n",
    "# plot to see where it overfits\n",
    "plt.figure(figsize=(10,5))\n",
    "plt.plot(C_candidates, mean_cross_val_acc, label='Val Acc')\n",
    "plt.plot(C_candidates, train_acc, label='Train Acc')\n",
    "\n",
    "plt.legend()\n",
    "plt.show()"
   ]
  },
  {
   "cell_type": "code",
   "execution_count": 24,
   "metadata": {},
   "outputs": [
    {
     "data": {
      "text/plain": [
       "4.2853535353535355"
      ]
     },
     "execution_count": 24,
     "metadata": {},
     "output_type": "execute_result"
    }
   ],
   "source": [
    "# best C value\n",
    "optimal_C = C_candidates[np.argmax(mean_cross_val_acc)]\n",
    "optimal_C"
   ]
  },
  {
   "cell_type": "code",
   "execution_count": 25,
   "metadata": {},
   "outputs": [
    {
     "data": {
      "text/plain": [
       "0.7435897435897436"
      ]
     },
     "execution_count": 25,
     "metadata": {},
     "output_type": "execute_result"
    }
   ],
   "source": [
    "logit = LogisticRegression(C=optimal_C).fit(XtrainP[:, :optimal_n], Ytrain['HasGarden'])\n",
    "logit.score(XtestP[:, :optimal_n], Ytest['HasGarden'])\n",
    "\n",
    "# hmm...same as before tuning C"
   ]
  },
  {
   "cell_type": "markdown",
   "metadata": {},
   "source": [
    "### Logistic Model with  Lasso Regularization"
   ]
  },
  {
   "cell_type": "code",
   "execution_count": 26,
   "metadata": {},
   "outputs": [
    {
     "data": {
      "text/plain": [
       "0.7435897435897436"
      ]
     },
     "execution_count": 26,
     "metadata": {},
     "output_type": "execute_result"
    }
   ],
   "source": [
    "logit_lasso = LogisticRegression(penalty='l1') # lasso regression is penalty = l1; default is l2 which is ridge \n",
    "logit_lasso = logit_lasso.fit(XtrainS, Ytrain['HasGarden']) #fit logistic regression model to training data\n",
    "logit_lasso.score(XtestS, Ytest['HasGarden'])\n",
    "# same as if we did sparsepca"
   ]
  }
 ],
 "metadata": {
  "kernelspec": {
   "display_name": "Python 3",
   "language": "python",
   "name": "python3"
  },
  "language_info": {
   "codemirror_mode": {
    "name": "ipython",
    "version": 3
   },
   "file_extension": ".py",
   "mimetype": "text/x-python",
   "name": "python",
   "nbconvert_exporter": "python",
   "pygments_lexer": "ipython3",
   "version": "3.6.2"
  }
 },
 "nbformat": 4,
 "nbformat_minor": 2
}
