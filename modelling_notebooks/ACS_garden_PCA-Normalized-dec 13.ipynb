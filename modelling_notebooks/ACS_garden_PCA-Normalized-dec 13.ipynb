{
 "cells": [
  {
   "cell_type": "code",
   "execution_count": 2,
   "metadata": {},
   "outputs": [],
   "source": [
    "import pandas as pd\n",
    "from pandas.api.types import is_string_dtype, is_numeric_dtype\n",
    "import pandas_profiling\n",
    "import numpy as np\n",
    "import re\n",
    "import requests\n",
    "from IPython.display import display\n",
    "import matplotlib.pyplot as plt\n",
    "import seaborn as sns\n",
    "from scipy.stats import norm\n",
    "from scipy import stats\n",
    "from sklearn.preprocessing import LabelEncoder, OneHotEncoder\n",
    "\n",
    "\n",
    "import warnings\n",
    "import types\n",
    "\n",
    "%load_ext autoreload\n",
    "%autoreload 2\n",
    " \n",
    "%matplotlib inline"
   ]
  },
  {
   "cell_type": "code",
   "execution_count": 3,
   "metadata": {},
   "outputs": [
    {
     "data": {
      "text/html": [
       "<div>\n",
       "<style scoped>\n",
       "    .dataframe tbody tr th:only-of-type {\n",
       "        vertical-align: middle;\n",
       "    }\n",
       "\n",
       "    .dataframe tbody tr th {\n",
       "        vertical-align: top;\n",
       "    }\n",
       "\n",
       "    .dataframe thead th {\n",
       "        text-align: right;\n",
       "    }\n",
       "</style>\n",
       "<table border=\"1\" class=\"dataframe\">\n",
       "  <thead>\n",
       "    <tr style=\"text-align: right;\">\n",
       "      <th></th>\n",
       "      <th>GeoType</th>\n",
       "      <th>NTA</th>\n",
       "      <th>GeoID</th>\n",
       "      <th>Borough</th>\n",
       "      <th>Pop_1E</th>\n",
       "      <th>MaleEN</th>\n",
       "      <th>FemEN</th>\n",
       "      <th>PopUnd18N</th>\n",
       "      <th>PopOv65N</th>\n",
       "      <th>HispN</th>\n",
       "      <th>...</th>\n",
       "      <th>Pop16yrsOver</th>\n",
       "      <th>Labor_forceN</th>\n",
       "      <th>CivilianLF</th>\n",
       "      <th>CLF_UnemployedN</th>\n",
       "      <th>PopOver25</th>\n",
       "      <th>EduOtherN</th>\n",
       "      <th>EduBachelor</th>\n",
       "      <th>EduGradProf</th>\n",
       "      <th>GardenCounts</th>\n",
       "      <th>HasGarden</th>\n",
       "    </tr>\n",
       "  </thead>\n",
       "  <tbody>\n",
       "    <tr>\n",
       "      <th>0</th>\n",
       "      <td>NTA2010</td>\n",
       "      <td>Bath Beach</td>\n",
       "      <td>BK27</td>\n",
       "      <td>Brooklyn</td>\n",
       "      <td>33163.0</td>\n",
       "      <td>0.503151</td>\n",
       "      <td>0.496849</td>\n",
       "      <td>0.214184</td>\n",
       "      <td>0.147393</td>\n",
       "      <td>0.176733</td>\n",
       "      <td>...</td>\n",
       "      <td>26855.0</td>\n",
       "      <td>0.596016</td>\n",
       "      <td>15985.0</td>\n",
       "      <td>0.070566</td>\n",
       "      <td>23822.0</td>\n",
       "      <td>0.663798</td>\n",
       "      <td>0.224372</td>\n",
       "      <td>0.111829</td>\n",
       "      <td>0.0</td>\n",
       "      <td>0.0</td>\n",
       "    </tr>\n",
       "    <tr>\n",
       "      <th>1</th>\n",
       "      <td>NTA2010</td>\n",
       "      <td>Bay Ridge</td>\n",
       "      <td>BK31</td>\n",
       "      <td>Brooklyn</td>\n",
       "      <td>79134.0</td>\n",
       "      <td>0.478037</td>\n",
       "      <td>0.521963</td>\n",
       "      <td>0.190942</td>\n",
       "      <td>0.156444</td>\n",
       "      <td>0.178608</td>\n",
       "      <td>...</td>\n",
       "      <td>65479.0</td>\n",
       "      <td>0.644115</td>\n",
       "      <td>42057.0</td>\n",
       "      <td>0.074922</td>\n",
       "      <td>58178.0</td>\n",
       "      <td>0.535735</td>\n",
       "      <td>0.271976</td>\n",
       "      <td>0.192289</td>\n",
       "      <td>0.0</td>\n",
       "      <td>0.0</td>\n",
       "    </tr>\n",
       "    <tr>\n",
       "      <th>2</th>\n",
       "      <td>NTA2010</td>\n",
       "      <td>Bedford</td>\n",
       "      <td>BK75</td>\n",
       "      <td>Brooklyn</td>\n",
       "      <td>75318.0</td>\n",
       "      <td>0.484492</td>\n",
       "      <td>0.515508</td>\n",
       "      <td>0.297127</td>\n",
       "      <td>0.077219</td>\n",
       "      <td>0.194933</td>\n",
       "      <td>...</td>\n",
       "      <td>54904.0</td>\n",
       "      <td>0.673776</td>\n",
       "      <td>36960.0</td>\n",
       "      <td>0.125027</td>\n",
       "      <td>44766.0</td>\n",
       "      <td>0.678193</td>\n",
       "      <td>0.204352</td>\n",
       "      <td>0.117455</td>\n",
       "      <td>23.0</td>\n",
       "      <td>1.0</td>\n",
       "    </tr>\n",
       "    <tr>\n",
       "      <th>3</th>\n",
       "      <td>NTA2010</td>\n",
       "      <td>Bensonhurst East</td>\n",
       "      <td>BK29</td>\n",
       "      <td>Brooklyn</td>\n",
       "      <td>64267.0</td>\n",
       "      <td>0.486766</td>\n",
       "      <td>0.513234</td>\n",
       "      <td>0.198749</td>\n",
       "      <td>0.157266</td>\n",
       "      <td>0.123283</td>\n",
       "      <td>...</td>\n",
       "      <td>52857.0</td>\n",
       "      <td>0.605483</td>\n",
       "      <td>31983.0</td>\n",
       "      <td>0.085202</td>\n",
       "      <td>46010.0</td>\n",
       "      <td>0.698153</td>\n",
       "      <td>0.204564</td>\n",
       "      <td>0.097283</td>\n",
       "      <td>1.0</td>\n",
       "      <td>1.0</td>\n",
       "    </tr>\n",
       "    <tr>\n",
       "      <th>4</th>\n",
       "      <td>NTA2010</td>\n",
       "      <td>Bensonhurst West</td>\n",
       "      <td>BK28</td>\n",
       "      <td>Brooklyn</td>\n",
       "      <td>91646.0</td>\n",
       "      <td>0.487212</td>\n",
       "      <td>0.512788</td>\n",
       "      <td>0.210462</td>\n",
       "      <td>0.142625</td>\n",
       "      <td>0.145975</td>\n",
       "      <td>...</td>\n",
       "      <td>74470.0</td>\n",
       "      <td>0.615577</td>\n",
       "      <td>45833.0</td>\n",
       "      <td>0.088342</td>\n",
       "      <td>65016.0</td>\n",
       "      <td>0.737618</td>\n",
       "      <td>0.188800</td>\n",
       "      <td>0.073582</td>\n",
       "      <td>2.0</td>\n",
       "      <td>1.0</td>\n",
       "    </tr>\n",
       "  </tbody>\n",
       "</table>\n",
       "<p>5 rows × 39 columns</p>\n",
       "</div>"
      ],
      "text/plain": [
       "   GeoType               NTA GeoID   Borough   Pop_1E    MaleEN     FemEN  \\\n",
       "0  NTA2010        Bath Beach  BK27  Brooklyn  33163.0  0.503151  0.496849   \n",
       "1  NTA2010         Bay Ridge  BK31  Brooklyn  79134.0  0.478037  0.521963   \n",
       "2  NTA2010           Bedford  BK75  Brooklyn  75318.0  0.484492  0.515508   \n",
       "3  NTA2010  Bensonhurst East  BK29  Brooklyn  64267.0  0.486766  0.513234   \n",
       "4  NTA2010  Bensonhurst West  BK28  Brooklyn  91646.0  0.487212  0.512788   \n",
       "\n",
       "   PopUnd18N  PopOv65N     HispN  ...  Pop16yrsOver  Labor_forceN  CivilianLF  \\\n",
       "0   0.214184  0.147393  0.176733  ...       26855.0      0.596016     15985.0   \n",
       "1   0.190942  0.156444  0.178608  ...       65479.0      0.644115     42057.0   \n",
       "2   0.297127  0.077219  0.194933  ...       54904.0      0.673776     36960.0   \n",
       "3   0.198749  0.157266  0.123283  ...       52857.0      0.605483     31983.0   \n",
       "4   0.210462  0.142625  0.145975  ...       74470.0      0.615577     45833.0   \n",
       "\n",
       "   CLF_UnemployedN  PopOver25  EduOtherN  EduBachelor  EduGradProf  \\\n",
       "0         0.070566    23822.0   0.663798     0.224372     0.111829   \n",
       "1         0.074922    58178.0   0.535735     0.271976     0.192289   \n",
       "2         0.125027    44766.0   0.678193     0.204352     0.117455   \n",
       "3         0.085202    46010.0   0.698153     0.204564     0.097283   \n",
       "4         0.088342    65016.0   0.737618     0.188800     0.073582   \n",
       "\n",
       "   GardenCounts  HasGarden  \n",
       "0           0.0        0.0  \n",
       "1           0.0        0.0  \n",
       "2          23.0        1.0  \n",
       "3           1.0        1.0  \n",
       "4           2.0        1.0  \n",
       "\n",
       "[5 rows x 39 columns]"
      ]
     },
     "execution_count": 3,
     "metadata": {},
     "output_type": "execute_result"
    }
   ],
   "source": [
    "acsg = pd.read_csv('ACS_Merge_Norm_Final.csv', index_col=0) \n",
    "acsg.head()"
   ]
  },
  {
   "cell_type": "code",
   "execution_count": 9,
   "metadata": {},
   "outputs": [],
   "source": [
    "#created feature to represent race 'other'\n",
    "acsg['RaceOther'] = acsg.OtherRace1N + acsg.OtherRace2N + acsg.NativeN + acsg.PacificN"
   ]
  },
  {
   "cell_type": "code",
   "execution_count": 11,
   "metadata": {},
   "outputs": [
    {
     "data": {
      "text/plain": [
       "Index(['GeoType', 'NTA', 'GeoID', 'Borough', 'Pop_1E', 'MaleEN', 'FemEN',\n",
       "       'PopUnd18N', 'PopOv65N', 'HispN', 'NotHispN', 'WhiteN', 'BlackN',\n",
       "       'NativeN', 'AsianN', 'PacificN', 'OtherRace1N', 'OtherRace2N', 'HHPop',\n",
       "       'HHINC_U10N', 'HHINC_10t14N', 'HHINC_15t24N', 'HHINC_25t34N',\n",
       "       'HHINC_35t49N', 'HHINC_50t74N', 'HHINC_75t99N', 'HHINC_100t149N',\n",
       "       'HHINC_150t199N', 'HHINC_200plN', 'Pop16yrsOver', 'Labor_forceN',\n",
       "       'CivilianLF', 'CLF_UnemployedN', 'PopOver25', 'EduOtherN',\n",
       "       'EduBachelor', 'EduGradProf', 'GardenCounts', 'HasGarden', 'RaceOther'],\n",
       "      dtype='object')"
      ]
     },
     "execution_count": 11,
     "metadata": {},
     "output_type": "execute_result"
    }
   ],
   "source": [
    "acsg.columns"
   ]
  },
  {
   "cell_type": "code",
   "execution_count": 86,
   "metadata": {},
   "outputs": [],
   "source": [
    "#create new Df with features to use for PCA / analysis\n",
    "#Garden counts = actual values (not normalized)\n",
    "\n",
    "acsg1 = acsg[['NTA', 'FemEN',\n",
    "       'PopOv65N', 'HispN','WhiteN', 'BlackN','AsianN','RaceOther','HHINC_U10N', 'HHINC_10t14N', 'HHINC_15t24N', 'HHINC_25t34N',\n",
    "       'HHINC_35t49N', 'HHINC_50t74N', 'HHINC_75t99N', 'HHINC_100t149N',\n",
    "       'HHINC_150t199N', 'HHINC_200plN','CLF_UnemployedN','EduOtherN',\n",
    "       'EduBachelor', 'EduGradProf', 'GardenCounts']].copy()"
   ]
  },
  {
   "cell_type": "code",
   "execution_count": 87,
   "metadata": {},
   "outputs": [
    {
     "data": {
      "text/html": [
       "<div>\n",
       "<style scoped>\n",
       "    .dataframe tbody tr th:only-of-type {\n",
       "        vertical-align: middle;\n",
       "    }\n",
       "\n",
       "    .dataframe tbody tr th {\n",
       "        vertical-align: top;\n",
       "    }\n",
       "\n",
       "    .dataframe thead th {\n",
       "        text-align: right;\n",
       "    }\n",
       "</style>\n",
       "<table border=\"1\" class=\"dataframe\">\n",
       "  <thead>\n",
       "    <tr style=\"text-align: right;\">\n",
       "      <th></th>\n",
       "      <th>NTA</th>\n",
       "      <th>FemEN</th>\n",
       "      <th>PopOv65N</th>\n",
       "      <th>HispN</th>\n",
       "      <th>WhiteN</th>\n",
       "      <th>BlackN</th>\n",
       "      <th>AsianN</th>\n",
       "      <th>RaceOther</th>\n",
       "      <th>HHINC_U10N</th>\n",
       "      <th>HHINC_10t14N</th>\n",
       "      <th>...</th>\n",
       "      <th>HHINC_50t74N</th>\n",
       "      <th>HHINC_75t99N</th>\n",
       "      <th>HHINC_100t149N</th>\n",
       "      <th>HHINC_150t199N</th>\n",
       "      <th>HHINC_200plN</th>\n",
       "      <th>CLF_UnemployedN</th>\n",
       "      <th>EduOtherN</th>\n",
       "      <th>EduBachelor</th>\n",
       "      <th>EduGradProf</th>\n",
       "      <th>GardenCounts</th>\n",
       "    </tr>\n",
       "  </thead>\n",
       "  <tbody>\n",
       "    <tr>\n",
       "      <th>0</th>\n",
       "      <td>Bath Beach</td>\n",
       "      <td>0.496849</td>\n",
       "      <td>0.147393</td>\n",
       "      <td>0.176733</td>\n",
       "      <td>0.436933</td>\n",
       "      <td>0.012182</td>\n",
       "      <td>0.361095</td>\n",
       "      <td>0.013057</td>\n",
       "      <td>0.078316</td>\n",
       "      <td>0.054078</td>\n",
       "      <td>...</td>\n",
       "      <td>0.181484</td>\n",
       "      <td>0.118306</td>\n",
       "      <td>0.153833</td>\n",
       "      <td>0.061778</td>\n",
       "      <td>0.051190</td>\n",
       "      <td>0.070566</td>\n",
       "      <td>0.663798</td>\n",
       "      <td>0.224372</td>\n",
       "      <td>0.111829</td>\n",
       "      <td>0.0</td>\n",
       "    </tr>\n",
       "    <tr>\n",
       "      <th>1</th>\n",
       "      <td>Bay Ridge</td>\n",
       "      <td>0.521963</td>\n",
       "      <td>0.156444</td>\n",
       "      <td>0.178608</td>\n",
       "      <td>0.634329</td>\n",
       "      <td>0.019094</td>\n",
       "      <td>0.145513</td>\n",
       "      <td>0.022456</td>\n",
       "      <td>0.069072</td>\n",
       "      <td>0.046973</td>\n",
       "      <td>...</td>\n",
       "      <td>0.166333</td>\n",
       "      <td>0.122674</td>\n",
       "      <td>0.144145</td>\n",
       "      <td>0.074566</td>\n",
       "      <td>0.082868</td>\n",
       "      <td>0.074922</td>\n",
       "      <td>0.535735</td>\n",
       "      <td>0.271976</td>\n",
       "      <td>0.192289</td>\n",
       "      <td>0.0</td>\n",
       "    </tr>\n",
       "    <tr>\n",
       "      <th>2</th>\n",
       "      <td>Bedford</td>\n",
       "      <td>0.515508</td>\n",
       "      <td>0.077219</td>\n",
       "      <td>0.194933</td>\n",
       "      <td>0.350607</td>\n",
       "      <td>0.405826</td>\n",
       "      <td>0.030404</td>\n",
       "      <td>0.018229</td>\n",
       "      <td>0.140949</td>\n",
       "      <td>0.088914</td>\n",
       "      <td>...</td>\n",
       "      <td>0.142216</td>\n",
       "      <td>0.087072</td>\n",
       "      <td>0.109252</td>\n",
       "      <td>0.045857</td>\n",
       "      <td>0.039679</td>\n",
       "      <td>0.125027</td>\n",
       "      <td>0.678193</td>\n",
       "      <td>0.204352</td>\n",
       "      <td>0.117455</td>\n",
       "      <td>23.0</td>\n",
       "    </tr>\n",
       "    <tr>\n",
       "      <th>3</th>\n",
       "      <td>Bensonhurst East</td>\n",
       "      <td>0.513234</td>\n",
       "      <td>0.157266</td>\n",
       "      <td>0.123283</td>\n",
       "      <td>0.465153</td>\n",
       "      <td>0.008262</td>\n",
       "      <td>0.386793</td>\n",
       "      <td>0.016509</td>\n",
       "      <td>0.106188</td>\n",
       "      <td>0.063686</td>\n",
       "      <td>...</td>\n",
       "      <td>0.175688</td>\n",
       "      <td>0.115293</td>\n",
       "      <td>0.108893</td>\n",
       "      <td>0.051562</td>\n",
       "      <td>0.038040</td>\n",
       "      <td>0.085202</td>\n",
       "      <td>0.698153</td>\n",
       "      <td>0.204564</td>\n",
       "      <td>0.097283</td>\n",
       "      <td>1.0</td>\n",
       "    </tr>\n",
       "    <tr>\n",
       "      <th>4</th>\n",
       "      <td>Bensonhurst West</td>\n",
       "      <td>0.512788</td>\n",
       "      <td>0.142625</td>\n",
       "      <td>0.145975</td>\n",
       "      <td>0.426773</td>\n",
       "      <td>0.008740</td>\n",
       "      <td>0.405168</td>\n",
       "      <td>0.013345</td>\n",
       "      <td>0.077903</td>\n",
       "      <td>0.058377</td>\n",
       "      <td>...</td>\n",
       "      <td>0.171086</td>\n",
       "      <td>0.114614</td>\n",
       "      <td>0.125146</td>\n",
       "      <td>0.055134</td>\n",
       "      <td>0.041158</td>\n",
       "      <td>0.088342</td>\n",
       "      <td>0.737618</td>\n",
       "      <td>0.188800</td>\n",
       "      <td>0.073582</td>\n",
       "      <td>2.0</td>\n",
       "    </tr>\n",
       "  </tbody>\n",
       "</table>\n",
       "<p>5 rows × 23 columns</p>\n",
       "</div>"
      ],
      "text/plain": [
       "                NTA     FemEN  PopOv65N     HispN    WhiteN    BlackN  \\\n",
       "0        Bath Beach  0.496849  0.147393  0.176733  0.436933  0.012182   \n",
       "1         Bay Ridge  0.521963  0.156444  0.178608  0.634329  0.019094   \n",
       "2           Bedford  0.515508  0.077219  0.194933  0.350607  0.405826   \n",
       "3  Bensonhurst East  0.513234  0.157266  0.123283  0.465153  0.008262   \n",
       "4  Bensonhurst West  0.512788  0.142625  0.145975  0.426773  0.008740   \n",
       "\n",
       "     AsianN  RaceOther  HHINC_U10N  HHINC_10t14N  ...  HHINC_50t74N  \\\n",
       "0  0.361095   0.013057    0.078316      0.054078  ...      0.181484   \n",
       "1  0.145513   0.022456    0.069072      0.046973  ...      0.166333   \n",
       "2  0.030404   0.018229    0.140949      0.088914  ...      0.142216   \n",
       "3  0.386793   0.016509    0.106188      0.063686  ...      0.175688   \n",
       "4  0.405168   0.013345    0.077903      0.058377  ...      0.171086   \n",
       "\n",
       "   HHINC_75t99N  HHINC_100t149N  HHINC_150t199N  HHINC_200plN  \\\n",
       "0      0.118306        0.153833        0.061778      0.051190   \n",
       "1      0.122674        0.144145        0.074566      0.082868   \n",
       "2      0.087072        0.109252        0.045857      0.039679   \n",
       "3      0.115293        0.108893        0.051562      0.038040   \n",
       "4      0.114614        0.125146        0.055134      0.041158   \n",
       "\n",
       "   CLF_UnemployedN  EduOtherN  EduBachelor  EduGradProf  GardenCounts  \n",
       "0         0.070566   0.663798     0.224372     0.111829           0.0  \n",
       "1         0.074922   0.535735     0.271976     0.192289           0.0  \n",
       "2         0.125027   0.678193     0.204352     0.117455          23.0  \n",
       "3         0.085202   0.698153     0.204564     0.097283           1.0  \n",
       "4         0.088342   0.737618     0.188800     0.073582           2.0  \n",
       "\n",
       "[5 rows x 23 columns]"
      ]
     },
     "execution_count": 87,
     "metadata": {},
     "output_type": "execute_result"
    }
   ],
   "source": [
    "acsg1.head()"
   ]
  },
  {
   "cell_type": "code",
   "execution_count": 88,
   "metadata": {},
   "outputs": [
    {
     "data": {
      "text/plain": [
       "(195, 23)"
      ]
     },
     "execution_count": 88,
     "metadata": {},
     "output_type": "execute_result"
    }
   ],
   "source": [
    "acsg1.shape"
   ]
  },
  {
   "cell_type": "code",
   "execution_count": 15,
   "metadata": {},
   "outputs": [
    {
     "data": {
      "text/html": [
       "\n",
       "        <iframe\n",
       "            width=\"100%\"\n",
       "            height=\"800px\"\n",
       "            src=\"ipynb_tmp/profile_3387049075.html\"\n",
       "            frameborder=\"0\"\n",
       "            allowfullscreen\n",
       "        ></iframe>\n",
       "        "
      ],
      "text/plain": [
       "<IPython.lib.display.IFrame at 0x1a21b0e898>"
      ]
     },
     "metadata": {},
     "output_type": "display_data"
    },
    {
     "data": {
      "text/plain": []
     },
     "execution_count": 15,
     "metadata": {},
     "output_type": "execute_result"
    }
   ],
   "source": [
    "pandas_profiling.ProfileReport(acsg1)"
   ]
  },
  {
   "cell_type": "code",
   "execution_count": 89,
   "metadata": {},
   "outputs": [
    {
     "data": {
      "text/html": [
       "<div>\n",
       "<style scoped>\n",
       "    .dataframe tbody tr th:only-of-type {\n",
       "        vertical-align: middle;\n",
       "    }\n",
       "\n",
       "    .dataframe tbody tr th {\n",
       "        vertical-align: top;\n",
       "    }\n",
       "\n",
       "    .dataframe thead th {\n",
       "        text-align: right;\n",
       "    }\n",
       "</style>\n",
       "<table border=\"1\" class=\"dataframe\">\n",
       "  <thead>\n",
       "    <tr style=\"text-align: right;\">\n",
       "      <th></th>\n",
       "      <th>NTA</th>\n",
       "      <th>FemEN</th>\n",
       "      <th>PopOv65N</th>\n",
       "      <th>HispN</th>\n",
       "      <th>WhiteN</th>\n",
       "      <th>BlackN</th>\n",
       "      <th>AsianN</th>\n",
       "      <th>RaceOther</th>\n",
       "      <th>HHINC_U10N</th>\n",
       "      <th>HHINC_10t14N</th>\n",
       "      <th>...</th>\n",
       "      <th>HHINC_50t74N</th>\n",
       "      <th>HHINC_75t99N</th>\n",
       "      <th>HHINC_100t149N</th>\n",
       "      <th>HHINC_150t199N</th>\n",
       "      <th>HHINC_200plN</th>\n",
       "      <th>CLF_UnemployedN</th>\n",
       "      <th>EduOtherN</th>\n",
       "      <th>EduBachelor</th>\n",
       "      <th>EduGradProf</th>\n",
       "      <th>GardenCounts</th>\n",
       "    </tr>\n",
       "  </thead>\n",
       "  <tbody>\n",
       "    <tr>\n",
       "      <th>0</th>\n",
       "      <td>Bath Beach</td>\n",
       "      <td>0.496849</td>\n",
       "      <td>0.147393</td>\n",
       "      <td>0.176733</td>\n",
       "      <td>0.436933</td>\n",
       "      <td>0.012182</td>\n",
       "      <td>0.361095</td>\n",
       "      <td>0.013057</td>\n",
       "      <td>0.078316</td>\n",
       "      <td>0.054078</td>\n",
       "      <td>...</td>\n",
       "      <td>0.181484</td>\n",
       "      <td>0.118306</td>\n",
       "      <td>0.153833</td>\n",
       "      <td>0.061778</td>\n",
       "      <td>0.051190</td>\n",
       "      <td>0.070566</td>\n",
       "      <td>0.663798</td>\n",
       "      <td>0.224372</td>\n",
       "      <td>0.111829</td>\n",
       "      <td>0.0</td>\n",
       "    </tr>\n",
       "    <tr>\n",
       "      <th>1</th>\n",
       "      <td>Bay Ridge</td>\n",
       "      <td>0.521963</td>\n",
       "      <td>0.156444</td>\n",
       "      <td>0.178608</td>\n",
       "      <td>0.634329</td>\n",
       "      <td>0.019094</td>\n",
       "      <td>0.145513</td>\n",
       "      <td>0.022456</td>\n",
       "      <td>0.069072</td>\n",
       "      <td>0.046973</td>\n",
       "      <td>...</td>\n",
       "      <td>0.166333</td>\n",
       "      <td>0.122674</td>\n",
       "      <td>0.144145</td>\n",
       "      <td>0.074566</td>\n",
       "      <td>0.082868</td>\n",
       "      <td>0.074922</td>\n",
       "      <td>0.535735</td>\n",
       "      <td>0.271976</td>\n",
       "      <td>0.192289</td>\n",
       "      <td>0.0</td>\n",
       "    </tr>\n",
       "    <tr>\n",
       "      <th>2</th>\n",
       "      <td>Bedford</td>\n",
       "      <td>0.515508</td>\n",
       "      <td>0.077219</td>\n",
       "      <td>0.194933</td>\n",
       "      <td>0.350607</td>\n",
       "      <td>0.405826</td>\n",
       "      <td>0.030404</td>\n",
       "      <td>0.018229</td>\n",
       "      <td>0.140949</td>\n",
       "      <td>0.088914</td>\n",
       "      <td>...</td>\n",
       "      <td>0.142216</td>\n",
       "      <td>0.087072</td>\n",
       "      <td>0.109252</td>\n",
       "      <td>0.045857</td>\n",
       "      <td>0.039679</td>\n",
       "      <td>0.125027</td>\n",
       "      <td>0.678193</td>\n",
       "      <td>0.204352</td>\n",
       "      <td>0.117455</td>\n",
       "      <td>23.0</td>\n",
       "    </tr>\n",
       "    <tr>\n",
       "      <th>3</th>\n",
       "      <td>Bensonhurst East</td>\n",
       "      <td>0.513234</td>\n",
       "      <td>0.157266</td>\n",
       "      <td>0.123283</td>\n",
       "      <td>0.465153</td>\n",
       "      <td>0.008262</td>\n",
       "      <td>0.386793</td>\n",
       "      <td>0.016509</td>\n",
       "      <td>0.106188</td>\n",
       "      <td>0.063686</td>\n",
       "      <td>...</td>\n",
       "      <td>0.175688</td>\n",
       "      <td>0.115293</td>\n",
       "      <td>0.108893</td>\n",
       "      <td>0.051562</td>\n",
       "      <td>0.038040</td>\n",
       "      <td>0.085202</td>\n",
       "      <td>0.698153</td>\n",
       "      <td>0.204564</td>\n",
       "      <td>0.097283</td>\n",
       "      <td>1.0</td>\n",
       "    </tr>\n",
       "    <tr>\n",
       "      <th>4</th>\n",
       "      <td>Bensonhurst West</td>\n",
       "      <td>0.512788</td>\n",
       "      <td>0.142625</td>\n",
       "      <td>0.145975</td>\n",
       "      <td>0.426773</td>\n",
       "      <td>0.008740</td>\n",
       "      <td>0.405168</td>\n",
       "      <td>0.013345</td>\n",
       "      <td>0.077903</td>\n",
       "      <td>0.058377</td>\n",
       "      <td>...</td>\n",
       "      <td>0.171086</td>\n",
       "      <td>0.114614</td>\n",
       "      <td>0.125146</td>\n",
       "      <td>0.055134</td>\n",
       "      <td>0.041158</td>\n",
       "      <td>0.088342</td>\n",
       "      <td>0.737618</td>\n",
       "      <td>0.188800</td>\n",
       "      <td>0.073582</td>\n",
       "      <td>2.0</td>\n",
       "    </tr>\n",
       "  </tbody>\n",
       "</table>\n",
       "<p>5 rows × 23 columns</p>\n",
       "</div>"
      ],
      "text/plain": [
       "                NTA     FemEN  PopOv65N     HispN    WhiteN    BlackN  \\\n",
       "0        Bath Beach  0.496849  0.147393  0.176733  0.436933  0.012182   \n",
       "1         Bay Ridge  0.521963  0.156444  0.178608  0.634329  0.019094   \n",
       "2           Bedford  0.515508  0.077219  0.194933  0.350607  0.405826   \n",
       "3  Bensonhurst East  0.513234  0.157266  0.123283  0.465153  0.008262   \n",
       "4  Bensonhurst West  0.512788  0.142625  0.145975  0.426773  0.008740   \n",
       "\n",
       "     AsianN  RaceOther  HHINC_U10N  HHINC_10t14N  ...  HHINC_50t74N  \\\n",
       "0  0.361095   0.013057    0.078316      0.054078  ...      0.181484   \n",
       "1  0.145513   0.022456    0.069072      0.046973  ...      0.166333   \n",
       "2  0.030404   0.018229    0.140949      0.088914  ...      0.142216   \n",
       "3  0.386793   0.016509    0.106188      0.063686  ...      0.175688   \n",
       "4  0.405168   0.013345    0.077903      0.058377  ...      0.171086   \n",
       "\n",
       "   HHINC_75t99N  HHINC_100t149N  HHINC_150t199N  HHINC_200plN  \\\n",
       "0      0.118306        0.153833        0.061778      0.051190   \n",
       "1      0.122674        0.144145        0.074566      0.082868   \n",
       "2      0.087072        0.109252        0.045857      0.039679   \n",
       "3      0.115293        0.108893        0.051562      0.038040   \n",
       "4      0.114614        0.125146        0.055134      0.041158   \n",
       "\n",
       "   CLF_UnemployedN  EduOtherN  EduBachelor  EduGradProf  GardenCounts  \n",
       "0         0.070566   0.663798     0.224372     0.111829           0.0  \n",
       "1         0.074922   0.535735     0.271976     0.192289           0.0  \n",
       "2         0.125027   0.678193     0.204352     0.117455          23.0  \n",
       "3         0.085202   0.698153     0.204564     0.097283           1.0  \n",
       "4         0.088342   0.737618     0.188800     0.073582           2.0  \n",
       "\n",
       "[5 rows x 23 columns]"
      ]
     },
     "execution_count": 89,
     "metadata": {},
     "output_type": "execute_result"
    }
   ],
   "source": [
    "\n",
    "acsg1.head()"
   ]
  },
  {
   "cell_type": "code",
   "execution_count": 90,
   "metadata": {},
   "outputs": [],
   "source": [
    "acsg1 = acsg1.set_index('NTA')"
   ]
  },
  {
   "cell_type": "code",
   "execution_count": 91,
   "metadata": {},
   "outputs": [
    {
     "data": {
      "text/html": [
       "<div>\n",
       "<style scoped>\n",
       "    .dataframe tbody tr th:only-of-type {\n",
       "        vertical-align: middle;\n",
       "    }\n",
       "\n",
       "    .dataframe tbody tr th {\n",
       "        vertical-align: top;\n",
       "    }\n",
       "\n",
       "    .dataframe thead th {\n",
       "        text-align: right;\n",
       "    }\n",
       "</style>\n",
       "<table border=\"1\" class=\"dataframe\">\n",
       "  <thead>\n",
       "    <tr style=\"text-align: right;\">\n",
       "      <th></th>\n",
       "      <th>FemEN</th>\n",
       "      <th>PopOv65N</th>\n",
       "      <th>HispN</th>\n",
       "      <th>WhiteN</th>\n",
       "      <th>BlackN</th>\n",
       "      <th>AsianN</th>\n",
       "      <th>RaceOther</th>\n",
       "      <th>HHINC_U10N</th>\n",
       "      <th>HHINC_10t14N</th>\n",
       "      <th>HHINC_15t24N</th>\n",
       "      <th>...</th>\n",
       "      <th>HHINC_50t74N</th>\n",
       "      <th>HHINC_75t99N</th>\n",
       "      <th>HHINC_100t149N</th>\n",
       "      <th>HHINC_150t199N</th>\n",
       "      <th>HHINC_200plN</th>\n",
       "      <th>CLF_UnemployedN</th>\n",
       "      <th>EduOtherN</th>\n",
       "      <th>EduBachelor</th>\n",
       "      <th>EduGradProf</th>\n",
       "      <th>GardenCounts</th>\n",
       "    </tr>\n",
       "    <tr>\n",
       "      <th>NTA</th>\n",
       "      <th></th>\n",
       "      <th></th>\n",
       "      <th></th>\n",
       "      <th></th>\n",
       "      <th></th>\n",
       "      <th></th>\n",
       "      <th></th>\n",
       "      <th></th>\n",
       "      <th></th>\n",
       "      <th></th>\n",
       "      <th></th>\n",
       "      <th></th>\n",
       "      <th></th>\n",
       "      <th></th>\n",
       "      <th></th>\n",
       "      <th></th>\n",
       "      <th></th>\n",
       "      <th></th>\n",
       "      <th></th>\n",
       "      <th></th>\n",
       "      <th></th>\n",
       "    </tr>\n",
       "  </thead>\n",
       "  <tbody>\n",
       "    <tr>\n",
       "      <th>Bath Beach</th>\n",
       "      <td>0.496849</td>\n",
       "      <td>0.147393</td>\n",
       "      <td>0.176733</td>\n",
       "      <td>0.436933</td>\n",
       "      <td>0.012182</td>\n",
       "      <td>0.361095</td>\n",
       "      <td>0.013057</td>\n",
       "      <td>0.078316</td>\n",
       "      <td>0.054078</td>\n",
       "      <td>0.107018</td>\n",
       "      <td>...</td>\n",
       "      <td>0.181484</td>\n",
       "      <td>0.118306</td>\n",
       "      <td>0.153833</td>\n",
       "      <td>0.061778</td>\n",
       "      <td>0.051190</td>\n",
       "      <td>0.070566</td>\n",
       "      <td>0.663798</td>\n",
       "      <td>0.224372</td>\n",
       "      <td>0.111829</td>\n",
       "      <td>0.0</td>\n",
       "    </tr>\n",
       "    <tr>\n",
       "      <th>Bay Ridge</th>\n",
       "      <td>0.521963</td>\n",
       "      <td>0.156444</td>\n",
       "      <td>0.178608</td>\n",
       "      <td>0.634329</td>\n",
       "      <td>0.019094</td>\n",
       "      <td>0.145513</td>\n",
       "      <td>0.022456</td>\n",
       "      <td>0.069072</td>\n",
       "      <td>0.046973</td>\n",
       "      <td>0.096605</td>\n",
       "      <td>...</td>\n",
       "      <td>0.166333</td>\n",
       "      <td>0.122674</td>\n",
       "      <td>0.144145</td>\n",
       "      <td>0.074566</td>\n",
       "      <td>0.082868</td>\n",
       "      <td>0.074922</td>\n",
       "      <td>0.535735</td>\n",
       "      <td>0.271976</td>\n",
       "      <td>0.192289</td>\n",
       "      <td>0.0</td>\n",
       "    </tr>\n",
       "    <tr>\n",
       "      <th>Bedford</th>\n",
       "      <td>0.515508</td>\n",
       "      <td>0.077219</td>\n",
       "      <td>0.194933</td>\n",
       "      <td>0.350607</td>\n",
       "      <td>0.405826</td>\n",
       "      <td>0.030404</td>\n",
       "      <td>0.018229</td>\n",
       "      <td>0.140949</td>\n",
       "      <td>0.088914</td>\n",
       "      <td>0.129898</td>\n",
       "      <td>...</td>\n",
       "      <td>0.142216</td>\n",
       "      <td>0.087072</td>\n",
       "      <td>0.109252</td>\n",
       "      <td>0.045857</td>\n",
       "      <td>0.039679</td>\n",
       "      <td>0.125027</td>\n",
       "      <td>0.678193</td>\n",
       "      <td>0.204352</td>\n",
       "      <td>0.117455</td>\n",
       "      <td>23.0</td>\n",
       "    </tr>\n",
       "    <tr>\n",
       "      <th>Bensonhurst East</th>\n",
       "      <td>0.513234</td>\n",
       "      <td>0.157266</td>\n",
       "      <td>0.123283</td>\n",
       "      <td>0.465153</td>\n",
       "      <td>0.008262</td>\n",
       "      <td>0.386793</td>\n",
       "      <td>0.016509</td>\n",
       "      <td>0.106188</td>\n",
       "      <td>0.063686</td>\n",
       "      <td>0.122504</td>\n",
       "      <td>...</td>\n",
       "      <td>0.175688</td>\n",
       "      <td>0.115293</td>\n",
       "      <td>0.108893</td>\n",
       "      <td>0.051562</td>\n",
       "      <td>0.038040</td>\n",
       "      <td>0.085202</td>\n",
       "      <td>0.698153</td>\n",
       "      <td>0.204564</td>\n",
       "      <td>0.097283</td>\n",
       "      <td>1.0</td>\n",
       "    </tr>\n",
       "    <tr>\n",
       "      <th>Bensonhurst West</th>\n",
       "      <td>0.512788</td>\n",
       "      <td>0.142625</td>\n",
       "      <td>0.145975</td>\n",
       "      <td>0.426773</td>\n",
       "      <td>0.008740</td>\n",
       "      <td>0.405168</td>\n",
       "      <td>0.013345</td>\n",
       "      <td>0.077903</td>\n",
       "      <td>0.058377</td>\n",
       "      <td>0.113110</td>\n",
       "      <td>...</td>\n",
       "      <td>0.171086</td>\n",
       "      <td>0.114614</td>\n",
       "      <td>0.125146</td>\n",
       "      <td>0.055134</td>\n",
       "      <td>0.041158</td>\n",
       "      <td>0.088342</td>\n",
       "      <td>0.737618</td>\n",
       "      <td>0.188800</td>\n",
       "      <td>0.073582</td>\n",
       "      <td>2.0</td>\n",
       "    </tr>\n",
       "  </tbody>\n",
       "</table>\n",
       "<p>5 rows × 22 columns</p>\n",
       "</div>"
      ],
      "text/plain": [
       "                     FemEN  PopOv65N     HispN    WhiteN    BlackN    AsianN  \\\n",
       "NTA                                                                            \n",
       "Bath Beach        0.496849  0.147393  0.176733  0.436933  0.012182  0.361095   \n",
       "Bay Ridge         0.521963  0.156444  0.178608  0.634329  0.019094  0.145513   \n",
       "Bedford           0.515508  0.077219  0.194933  0.350607  0.405826  0.030404   \n",
       "Bensonhurst East  0.513234  0.157266  0.123283  0.465153  0.008262  0.386793   \n",
       "Bensonhurst West  0.512788  0.142625  0.145975  0.426773  0.008740  0.405168   \n",
       "\n",
       "                  RaceOther  HHINC_U10N  HHINC_10t14N  HHINC_15t24N  ...  \\\n",
       "NTA                                                                  ...   \n",
       "Bath Beach         0.013057    0.078316      0.054078      0.107018  ...   \n",
       "Bay Ridge          0.022456    0.069072      0.046973      0.096605  ...   \n",
       "Bedford            0.018229    0.140949      0.088914      0.129898  ...   \n",
       "Bensonhurst East   0.016509    0.106188      0.063686      0.122504  ...   \n",
       "Bensonhurst West   0.013345    0.077903      0.058377      0.113110  ...   \n",
       "\n",
       "                  HHINC_50t74N  HHINC_75t99N  HHINC_100t149N  HHINC_150t199N  \\\n",
       "NTA                                                                            \n",
       "Bath Beach            0.181484      0.118306        0.153833        0.061778   \n",
       "Bay Ridge             0.166333      0.122674        0.144145        0.074566   \n",
       "Bedford               0.142216      0.087072        0.109252        0.045857   \n",
       "Bensonhurst East      0.175688      0.115293        0.108893        0.051562   \n",
       "Bensonhurst West      0.171086      0.114614        0.125146        0.055134   \n",
       "\n",
       "                  HHINC_200plN  CLF_UnemployedN  EduOtherN  EduBachelor  \\\n",
       "NTA                                                                       \n",
       "Bath Beach            0.051190         0.070566   0.663798     0.224372   \n",
       "Bay Ridge             0.082868         0.074922   0.535735     0.271976   \n",
       "Bedford               0.039679         0.125027   0.678193     0.204352   \n",
       "Bensonhurst East      0.038040         0.085202   0.698153     0.204564   \n",
       "Bensonhurst West      0.041158         0.088342   0.737618     0.188800   \n",
       "\n",
       "                  EduGradProf  GardenCounts  \n",
       "NTA                                          \n",
       "Bath Beach           0.111829           0.0  \n",
       "Bay Ridge            0.192289           0.0  \n",
       "Bedford              0.117455          23.0  \n",
       "Bensonhurst East     0.097283           1.0  \n",
       "Bensonhurst West     0.073582           2.0  \n",
       "\n",
       "[5 rows x 22 columns]"
      ]
     },
     "execution_count": 91,
     "metadata": {},
     "output_type": "execute_result"
    }
   ],
   "source": [
    "acsg1.head()"
   ]
  },
  {
   "cell_type": "code",
   "execution_count": 66,
   "metadata": {},
   "outputs": [],
   "source": [
    "import pandas as pd\n",
    "import numpy as np\n",
    "from sklearn.datasets import make_classification\n",
    "from sklearn.datasets import make_blobs\n",
    "from matplotlib.pylab import plt\n",
    "%matplotlib inline\n",
    "from sklearn.linear_model import LogisticRegression\n",
    "from sklearn.cluster import KMeans\n",
    "from sklearn.metrics import silhouette_samples, silhouette_score"
   ]
  },
  {
   "cell_type": "code",
   "execution_count": 93,
   "metadata": {},
   "outputs": [],
   "source": [
    "acsg1 = acsg1.replace([np.inf, -np.inf, np.nan], 0)\n"
   ]
  },
  {
   "cell_type": "markdown",
   "metadata": {},
   "source": [
    "### Update: Dec 11 PM"
   ]
  },
  {
   "cell_type": "code",
   "execution_count": 103,
   "metadata": {},
   "outputs": [],
   "source": [
    "# Create a PCA instance: pca\n",
    "pca = PCA(n_components=10)\n",
    "principalComponents = pca.fit_transform(acsg1)"
   ]
  },
  {
   "cell_type": "code",
   "execution_count": 104,
   "metadata": {},
   "outputs": [
    {
     "data": {
      "text/plain": [
       "([<matplotlib.axis.XTick at 0x1a24a6aac8>,\n",
       "  <matplotlib.axis.XTick at 0x1a315fa2e8>,\n",
       "  <matplotlib.axis.XTick at 0x1a3160d6d8>,\n",
       "  <matplotlib.axis.XTick at 0x1a23753a90>,\n",
       "  <matplotlib.axis.XTick at 0x1a237532e8>,\n",
       "  <matplotlib.axis.XTick at 0x1a230ab438>,\n",
       "  <matplotlib.axis.XTick at 0x1a230ab668>,\n",
       "  <matplotlib.axis.XTick at 0x1a21209b70>,\n",
       "  <matplotlib.axis.XTick at 0x1a21209080>,\n",
       "  <matplotlib.axis.XTick at 0x1a21209978>],\n",
       " <a list of 10 Text xticklabel objects>)"
      ]
     },
     "execution_count": 104,
     "metadata": {},
     "output_type": "execute_result"
    },
    {
     "data": {
      "image/png": "[encoded data removed]",
      "text/plain": [
       "<Figure size 432x288 with 1 Axes>"
      ]
     },
     "metadata": {
      "needs_background": "light"
     },
     "output_type": "display_data"
    }
   ],
   "source": [
    "# Plot the explained variances\n",
    "features = range(pca.n_components_)\n",
    "plt.bar(features, pca.explained_variance_ratio_, color='black')\n",
    "plt.xlabel('PCA features')\n",
    "plt.ylabel('variance %')\n",
    "plt.xticks(features)"
   ]
  },
  {
   "cell_type": "code",
   "execution_count": 105,
   "metadata": {},
   "outputs": [],
   "source": [
    "# Save components to a DataFrame\n",
    "PCA_components = pd.DataFrame(principalComponents)"
   ]
  },
  {
   "cell_type": "markdown",
   "metadata": {},
   "source": [
    "Fig. 1 shows that the first three components explain the majority of the variance in our data. For this visualization use case, we will quickly plot just the first two. We do this to notice if there are any clear clusters."
   ]
  },
  {
   "cell_type": "code",
   "execution_count": 106,
   "metadata": {},
   "outputs": [
    {
     "data": {
      "text/plain": [
       "Text(0, 0.5, 'PCA 2')"
      ]
     },
     "execution_count": 106,
     "metadata": {},
     "output_type": "execute_result"
    },
    {
     "data": {
      "image/png": "[encoded data removed]",
      "text/plain": [
       "<Figure size 720x720 with 1 Axes>"
      ]
     },
     "metadata": {
      "needs_background": "light"
     },
     "output_type": "display_data"
    }
   ],
   "source": [
    "fig = plt.figure(figsize=(10,10))\n",
    "plt.scatter(PCA_components[0], PCA_components[1], alpha=.1, color='black')\n",
    "plt.xlabel('PCA 1')\n",
    "plt.ylabel('PCA 2')"
   ]
  },
  {
   "cell_type": "code",
   "execution_count": 107,
   "metadata": {},
   "outputs": [
    {
     "data": {
      "image/png": "[encoded data removed]",
      "text/plain": [
       "<Figure size 432x288 with 1 Axes>"
      ]
     },
     "metadata": {
      "needs_background": "light"
     },
     "output_type": "display_data"
    }
   ],
   "source": [
    "ks = range(1, 10)\n",
    "inertias = []\n",
    "for k in ks:\n",
    "    # Create a KMeans instance with k clusters: model\n",
    "    model = KMeans(n_clusters=k)\n",
    "    \n",
    "    # Fit model to samples\n",
    "    model.fit(PCA_components.iloc[:,:3])\n",
    "    \n",
    "    # Append the inertia to the list of inertias\n",
    "    inertias.append(model.inertia_)\n",
    "    \n",
    "plt.plot(ks, inertias, '-o', color='black')\n",
    "plt.xlabel('number of clusters, k')\n",
    "plt.ylabel('inertia')\n",
    "plt.xticks(ks)\n",
    "plt.show()"
   ]
  },
  {
   "cell_type": "code",
   "execution_count": 108,
   "metadata": {},
   "outputs": [
    {
     "data": {
      "text/plain": [
       "array([0, 0, 1, 0, 0, 0, 0, 0, 1, 0, 1, 0, 0, 0, 1, 0, 0, 0, 0, 0, 1, 1,\n",
       "       0, 0, 0, 0, 0, 0, 0, 0, 0, 0, 0, 0, 0, 1, 0, 1, 0, 0, 0, 0, 0, 0,\n",
       "       0, 1, 0, 0, 0, 0, 0, 0, 1, 1, 0, 0, 1, 1, 1, 0, 1, 0, 0, 0, 1, 0,\n",
       "       0, 0, 0, 0, 0, 0, 0, 0, 0, 0, 0, 0, 0, 0, 0, 0, 0, 0, 0, 0, 0, 0,\n",
       "       0, 0, 0, 0, 0, 0, 0, 0, 0, 0, 0, 0, 0, 0, 0, 0, 0, 0, 0, 0, 0, 0,\n",
       "       0, 0, 0, 0, 0, 0, 0, 0, 0, 0, 0, 0, 0, 0, 0, 0, 0, 0, 0, 0, 0, 0,\n",
       "       0, 0, 0, 0, 0, 0, 0, 0, 0, 0, 0, 0, 0, 0, 0, 0, 0, 0, 0, 0, 0, 0,\n",
       "       0, 0, 0, 0, 0, 0, 0, 0, 0, 0, 1, 1, 0, 0, 1, 0, 0, 0, 1, 1, 0, 0,\n",
       "       0, 0, 0, 0, 0, 0, 0, 0, 0, 0, 0, 0, 0, 0, 0, 0, 0, 0, 0],\n",
       "      dtype=int32)"
      ]
     },
     "execution_count": 108,
     "metadata": {},
     "output_type": "execute_result"
    }
   ],
   "source": [
    "rr=KMeans(n_clusters=2).fit(acsg1)\n",
    "rr.labels_"
   ]
  },
  {
   "cell_type": "code",
   "execution_count": 109,
   "metadata": {},
   "outputs": [
    {
     "data": {
      "text/plain": [
       "<matplotlib.collections.PathCollection at 0x1a22b56080>"
      ]
     },
     "execution_count": 109,
     "metadata": {},
     "output_type": "execute_result"
    },
    {
     "data": {
      "image/png": "[encoded data removed]",
      "text/plain": [
       "<Figure size 576x576 with 1 Axes>"
      ]
     },
     "metadata": {
      "needs_background": "light"
     },
     "output_type": "display_data"
    }
   ],
   "source": [
    "fig = plt.figure(figsize=(8,8))\n",
    "\n",
    "\n",
    "plt.scatter(acsg1.iloc[:,0],acsg1.iloc[:,1],c=rr.labels_)"
   ]
  },
  {
   "cell_type": "code",
   "execution_count": 110,
   "metadata": {},
   "outputs": [
    {
     "name": "stdout",
     "output_type": "stream",
     "text": [
      "For n_clusters = 2 The average silhouette_score is : 0.817691093717729\n",
      "For n_clusters = 3 The average silhouette_score is : 0.7651793527131202\n",
      "For n_clusters = 4 The average silhouette_score is : 0.6798454477621558\n",
      "For n_clusters = 5 The average silhouette_score is : 0.6801319149541022\n",
      "For n_clusters = 6 The average silhouette_score is : 0.6753994779845567\n",
      "For n_clusters = 7 The average silhouette_score is : 0.6156182752515148\n",
      "For n_clusters = 8 The average silhouette_score is : 0.4722429114117978\n"
     ]
    }
   ],
   "source": [
    "#Silhouette_score\n",
    "\n",
    "X1=acsg1\n",
    "range_n_clusters = [2, 3, 4, 5,6,7,8]\n",
    "for n_clusters in range_n_clusters:\n",
    "    km1 = KMeans(n_clusters=n_clusters, random_state=324)\n",
    "    cluster_labels = km1.fit_predict(X1)\n",
    "    silhouette_avg = silhouette_score(X1, cluster_labels)\n",
    "    print(\"For n_clusters =\", n_clusters,\n",
    "          \"The average silhouette_score is :\", silhouette_avg)\n",
    "    sample_silhouette_values = silhouette_samples(X1, cluster_labels)"
   ]
  },
  {
   "cell_type": "code",
   "execution_count": 142,
   "metadata": {},
   "outputs": [
    {
     "data": {
      "text/html": [
       "<div>\n",
       "<style scoped>\n",
       "    .dataframe tbody tr th:only-of-type {\n",
       "        vertical-align: middle;\n",
       "    }\n",
       "\n",
       "    .dataframe tbody tr th {\n",
       "        vertical-align: top;\n",
       "    }\n",
       "\n",
       "    .dataframe thead th {\n",
       "        text-align: right;\n",
       "    }\n",
       "</style>\n",
       "<table border=\"1\" class=\"dataframe\">\n",
       "  <thead>\n",
       "    <tr style=\"text-align: right;\">\n",
       "      <th></th>\n",
       "      <th>Population</th>\n",
       "      <th>PopUnder18</th>\n",
       "      <th>PopOver65</th>\n",
       "      <th>MedianAge</th>\n",
       "      <th>PopHispanic</th>\n",
       "      <th>PopNotHisp</th>\n",
       "      <th>PopWhite</th>\n",
       "      <th>PopBlack</th>\n",
       "      <th>PopAsian</th>\n",
       "      <th>PopOTHER</th>\n",
       "      <th>Income0_49</th>\n",
       "      <th>Income_50_99</th>\n",
       "      <th>Income_100_199</th>\n",
       "      <th>Income_200up</th>\n",
       "      <th>EduOther</th>\n",
       "      <th>GardenCounts</th>\n",
       "    </tr>\n",
       "    <tr>\n",
       "      <th>GeogName</th>\n",
       "      <th></th>\n",
       "      <th></th>\n",
       "      <th></th>\n",
       "      <th></th>\n",
       "      <th></th>\n",
       "      <th></th>\n",
       "      <th></th>\n",
       "      <th></th>\n",
       "      <th></th>\n",
       "      <th></th>\n",
       "      <th></th>\n",
       "      <th></th>\n",
       "      <th></th>\n",
       "      <th></th>\n",
       "      <th></th>\n",
       "      <th></th>\n",
       "    </tr>\n",
       "  </thead>\n",
       "  <tbody>\n",
       "    <tr>\n",
       "      <th>Bath Beach</th>\n",
       "      <td>33163.0</td>\n",
       "      <td>7103.0</td>\n",
       "      <td>4888.0</td>\n",
       "      <td>38.3</td>\n",
       "      <td>5861.0</td>\n",
       "      <td>27302.0</td>\n",
       "      <td>14490.0</td>\n",
       "      <td>404.0</td>\n",
       "      <td>11975.0</td>\n",
       "      <td>433.0</td>\n",
       "      <td>4953.0</td>\n",
       "      <td>3426.0</td>\n",
       "      <td>2464.0</td>\n",
       "      <td>585.0</td>\n",
       "      <td>14146.0</td>\n",
       "      <td>0</td>\n",
       "    </tr>\n",
       "    <tr>\n",
       "      <th>Bay Ridge</th>\n",
       "      <td>79134.0</td>\n",
       "      <td>15110.0</td>\n",
       "      <td>12380.0</td>\n",
       "      <td>39.5</td>\n",
       "      <td>14134.0</td>\n",
       "      <td>65000.0</td>\n",
       "      <td>50197.0</td>\n",
       "      <td>1511.0</td>\n",
       "      <td>11515.0</td>\n",
       "      <td>1777.0</td>\n",
       "      <td>13710.0</td>\n",
       "      <td>9678.0</td>\n",
       "      <td>7324.0</td>\n",
       "      <td>2775.0</td>\n",
       "      <td>27422.0</td>\n",
       "      <td>0</td>\n",
       "    </tr>\n",
       "    <tr>\n",
       "      <th>Bedford</th>\n",
       "      <td>75318.0</td>\n",
       "      <td>22379.0</td>\n",
       "      <td>5816.0</td>\n",
       "      <td>29.1</td>\n",
       "      <td>14682.0</td>\n",
       "      <td>60636.0</td>\n",
       "      <td>26407.0</td>\n",
       "      <td>30566.0</td>\n",
       "      <td>2290.0</td>\n",
       "      <td>1373.0</td>\n",
       "      <td>15008.0</td>\n",
       "      <td>5975.0</td>\n",
       "      <td>4042.0</td>\n",
       "      <td>1034.0</td>\n",
       "      <td>28145.0</td>\n",
       "      <td>23</td>\n",
       "    </tr>\n",
       "    <tr>\n",
       "      <th>Bensonhurst East</th>\n",
       "      <td>64267.0</td>\n",
       "      <td>12773.0</td>\n",
       "      <td>10107.0</td>\n",
       "      <td>39.6</td>\n",
       "      <td>7923.0</td>\n",
       "      <td>56344.0</td>\n",
       "      <td>29894.0</td>\n",
       "      <td>531.0</td>\n",
       "      <td>24858.0</td>\n",
       "      <td>1061.0</td>\n",
       "      <td>11327.0</td>\n",
       "      <td>6456.0</td>\n",
       "      <td>3560.0</td>\n",
       "      <td>844.0</td>\n",
       "      <td>28860.0</td>\n",
       "      <td>1</td>\n",
       "    </tr>\n",
       "    <tr>\n",
       "      <th>Bensonhurst West</th>\n",
       "      <td>91646.0</td>\n",
       "      <td>19288.0</td>\n",
       "      <td>13071.0</td>\n",
       "      <td>37.8</td>\n",
       "      <td>13378.0</td>\n",
       "      <td>78268.0</td>\n",
       "      <td>39112.0</td>\n",
       "      <td>801.0</td>\n",
       "      <td>37132.0</td>\n",
       "      <td>1223.0</td>\n",
       "      <td>14741.0</td>\n",
       "      <td>8545.0</td>\n",
       "      <td>5392.0</td>\n",
       "      <td>1231.0</td>\n",
       "      <td>43161.0</td>\n",
       "      <td>2</td>\n",
       "    </tr>\n",
       "  </tbody>\n",
       "</table>\n",
       "</div>"
      ],
      "text/plain": [
       "                  Population  PopUnder18  PopOver65  MedianAge  PopHispanic  \\\n",
       "GeogName                                                                      \n",
       "Bath Beach           33163.0      7103.0     4888.0       38.3       5861.0   \n",
       "Bay Ridge            79134.0     15110.0    12380.0       39.5      14134.0   \n",
       "Bedford              75318.0     22379.0     5816.0       29.1      14682.0   \n",
       "Bensonhurst East     64267.0     12773.0    10107.0       39.6       7923.0   \n",
       "Bensonhurst West     91646.0     19288.0    13071.0       37.8      13378.0   \n",
       "\n",
       "                  PopNotHisp  PopWhite  PopBlack  PopAsian  PopOTHER  \\\n",
       "GeogName                                                               \n",
       "Bath Beach           27302.0   14490.0     404.0   11975.0     433.0   \n",
       "Bay Ridge            65000.0   50197.0    1511.0   11515.0    1777.0   \n",
       "Bedford              60636.0   26407.0   30566.0    2290.0    1373.0   \n",
       "Bensonhurst East     56344.0   29894.0     531.0   24858.0    1061.0   \n",
       "Bensonhurst West     78268.0   39112.0     801.0   37132.0    1223.0   \n",
       "\n",
       "                  Income0_49  Income_50_99  Income_100_199  Income_200up  \\\n",
       "GeogName                                                                   \n",
       "Bath Beach            4953.0        3426.0          2464.0         585.0   \n",
       "Bay Ridge            13710.0        9678.0          7324.0        2775.0   \n",
       "Bedford              15008.0        5975.0          4042.0        1034.0   \n",
       "Bensonhurst East     11327.0        6456.0          3560.0         844.0   \n",
       "Bensonhurst West     14741.0        8545.0          5392.0        1231.0   \n",
       "\n",
       "                  EduOther  GardenCounts  \n",
       "GeogName                                  \n",
       "Bath Beach         14146.0             0  \n",
       "Bay Ridge          27422.0             0  \n",
       "Bedford            28145.0            23  \n",
       "Bensonhurst East   28860.0             1  \n",
       "Bensonhurst West   43161.0             2  "
      ]
     },
     "execution_count": 142,
     "metadata": {},
     "output_type": "execute_result"
    }
   ],
   "source": [
    "acsg.head()"
   ]
  },
  {
   "cell_type": "code",
   "execution_count": 111,
   "metadata": {},
   "outputs": [],
   "source": [
    "## STOPPED HERE DECEMBER 12data"
   ]
  },
  {
   "cell_type": "markdown",
   "metadata": {},
   "source": [
    "#### Data set below contains garden count normalized"
   ]
  },
  {
   "cell_type": "code",
   "execution_count": 113,
   "metadata": {},
   "outputs": [
    {
     "data": {
      "text/html": [
       "<div>\n",
       "<style scoped>\n",
       "    .dataframe tbody tr th:only-of-type {\n",
       "        vertical-align: middle;\n",
       "    }\n",
       "\n",
       "    .dataframe tbody tr th {\n",
       "        vertical-align: top;\n",
       "    }\n",
       "\n",
       "    .dataframe thead th {\n",
       "        text-align: right;\n",
       "    }\n",
       "</style>\n",
       "<table border=\"1\" class=\"dataframe\">\n",
       "  <thead>\n",
       "    <tr style=\"text-align: right;\">\n",
       "      <th></th>\n",
       "      <th>GeoType</th>\n",
       "      <th>NTA</th>\n",
       "      <th>GeoID</th>\n",
       "      <th>Borough</th>\n",
       "      <th>Pop_1E</th>\n",
       "      <th>MaleEN</th>\n",
       "      <th>FemEN</th>\n",
       "      <th>PopUnd18N</th>\n",
       "      <th>PopOv65N</th>\n",
       "      <th>HispN</th>\n",
       "      <th>...</th>\n",
       "      <th>Labor_forceN</th>\n",
       "      <th>CivilianLF</th>\n",
       "      <th>CLF_UnemployedN</th>\n",
       "      <th>PopOver25</th>\n",
       "      <th>EduOtherN</th>\n",
       "      <th>EduBachelor</th>\n",
       "      <th>EduGradProf</th>\n",
       "      <th>GardenCounts</th>\n",
       "      <th>HasGarden</th>\n",
       "      <th>GardenNorm</th>\n",
       "    </tr>\n",
       "  </thead>\n",
       "  <tbody>\n",
       "    <tr>\n",
       "      <th>0</th>\n",
       "      <td>NTA2010</td>\n",
       "      <td>Bath Beach</td>\n",
       "      <td>BK27</td>\n",
       "      <td>Brooklyn</td>\n",
       "      <td>33163</td>\n",
       "      <td>0.503151</td>\n",
       "      <td>0.496849</td>\n",
       "      <td>0.214184</td>\n",
       "      <td>0.147393</td>\n",
       "      <td>0.176733</td>\n",
       "      <td>...</td>\n",
       "      <td>0.596016</td>\n",
       "      <td>15985</td>\n",
       "      <td>0.070566</td>\n",
       "      <td>23822</td>\n",
       "      <td>0.663798</td>\n",
       "      <td>0.224372</td>\n",
       "      <td>0.111829</td>\n",
       "      <td>0</td>\n",
       "      <td>0</td>\n",
       "      <td>0.000000</td>\n",
       "    </tr>\n",
       "    <tr>\n",
       "      <th>1</th>\n",
       "      <td>NTA2010</td>\n",
       "      <td>Bay Ridge</td>\n",
       "      <td>BK31</td>\n",
       "      <td>Brooklyn</td>\n",
       "      <td>79134</td>\n",
       "      <td>0.478037</td>\n",
       "      <td>0.521963</td>\n",
       "      <td>0.190942</td>\n",
       "      <td>0.156444</td>\n",
       "      <td>0.178608</td>\n",
       "      <td>...</td>\n",
       "      <td>0.644115</td>\n",
       "      <td>42057</td>\n",
       "      <td>0.074922</td>\n",
       "      <td>58178</td>\n",
       "      <td>0.535735</td>\n",
       "      <td>0.271976</td>\n",
       "      <td>0.192289</td>\n",
       "      <td>0</td>\n",
       "      <td>0</td>\n",
       "      <td>0.000000</td>\n",
       "    </tr>\n",
       "    <tr>\n",
       "      <th>2</th>\n",
       "      <td>NTA2010</td>\n",
       "      <td>Bedford</td>\n",
       "      <td>BK75</td>\n",
       "      <td>Brooklyn</td>\n",
       "      <td>75318</td>\n",
       "      <td>0.484492</td>\n",
       "      <td>0.515508</td>\n",
       "      <td>0.297127</td>\n",
       "      <td>0.077219</td>\n",
       "      <td>0.194933</td>\n",
       "      <td>...</td>\n",
       "      <td>0.673776</td>\n",
       "      <td>36960</td>\n",
       "      <td>0.125027</td>\n",
       "      <td>44766</td>\n",
       "      <td>0.678193</td>\n",
       "      <td>0.204352</td>\n",
       "      <td>0.117455</td>\n",
       "      <td>23</td>\n",
       "      <td>1</td>\n",
       "      <td>0.043893</td>\n",
       "    </tr>\n",
       "    <tr>\n",
       "      <th>3</th>\n",
       "      <td>NTA2010</td>\n",
       "      <td>Bensonhurst East</td>\n",
       "      <td>BK29</td>\n",
       "      <td>Brooklyn</td>\n",
       "      <td>64267</td>\n",
       "      <td>0.486766</td>\n",
       "      <td>0.513234</td>\n",
       "      <td>0.198749</td>\n",
       "      <td>0.157266</td>\n",
       "      <td>0.123283</td>\n",
       "      <td>...</td>\n",
       "      <td>0.605483</td>\n",
       "      <td>31983</td>\n",
       "      <td>0.085202</td>\n",
       "      <td>46010</td>\n",
       "      <td>0.698153</td>\n",
       "      <td>0.204564</td>\n",
       "      <td>0.097283</td>\n",
       "      <td>1</td>\n",
       "      <td>1</td>\n",
       "      <td>0.001908</td>\n",
       "    </tr>\n",
       "    <tr>\n",
       "      <th>4</th>\n",
       "      <td>NTA2010</td>\n",
       "      <td>Bensonhurst West</td>\n",
       "      <td>BK28</td>\n",
       "      <td>Brooklyn</td>\n",
       "      <td>91646</td>\n",
       "      <td>0.487212</td>\n",
       "      <td>0.512788</td>\n",
       "      <td>0.210462</td>\n",
       "      <td>0.142625</td>\n",
       "      <td>0.145975</td>\n",
       "      <td>...</td>\n",
       "      <td>0.615577</td>\n",
       "      <td>45833</td>\n",
       "      <td>0.088342</td>\n",
       "      <td>65016</td>\n",
       "      <td>0.737618</td>\n",
       "      <td>0.188800</td>\n",
       "      <td>0.073582</td>\n",
       "      <td>2</td>\n",
       "      <td>1</td>\n",
       "      <td>0.003817</td>\n",
       "    </tr>\n",
       "  </tbody>\n",
       "</table>\n",
       "<p>5 rows × 40 columns</p>\n",
       "</div>"
      ],
      "text/plain": [
       "   GeoType               NTA GeoID   Borough  Pop_1E    MaleEN     FemEN  \\\n",
       "0  NTA2010        Bath Beach  BK27  Brooklyn   33163  0.503151  0.496849   \n",
       "1  NTA2010         Bay Ridge  BK31  Brooklyn   79134  0.478037  0.521963   \n",
       "2  NTA2010           Bedford  BK75  Brooklyn   75318  0.484492  0.515508   \n",
       "3  NTA2010  Bensonhurst East  BK29  Brooklyn   64267  0.486766  0.513234   \n",
       "4  NTA2010  Bensonhurst West  BK28  Brooklyn   91646  0.487212  0.512788   \n",
       "\n",
       "   PopUnd18N  PopOv65N     HispN  ...  Labor_forceN  CivilianLF  \\\n",
       "0   0.214184  0.147393  0.176733  ...      0.596016       15985   \n",
       "1   0.190942  0.156444  0.178608  ...      0.644115       42057   \n",
       "2   0.297127  0.077219  0.194933  ...      0.673776       36960   \n",
       "3   0.198749  0.157266  0.123283  ...      0.605483       31983   \n",
       "4   0.210462  0.142625  0.145975  ...      0.615577       45833   \n",
       "\n",
       "   CLF_UnemployedN  PopOver25  EduOtherN  EduBachelor  EduGradProf  \\\n",
       "0         0.070566      23822   0.663798     0.224372     0.111829   \n",
       "1         0.074922      58178   0.535735     0.271976     0.192289   \n",
       "2         0.125027      44766   0.678193     0.204352     0.117455   \n",
       "3         0.085202      46010   0.698153     0.204564     0.097283   \n",
       "4         0.088342      65016   0.737618     0.188800     0.073582   \n",
       "\n",
       "   GardenCounts  HasGarden  GardenNorm  \n",
       "0             0          0    0.000000  \n",
       "1             0          0    0.000000  \n",
       "2            23          1    0.043893  \n",
       "3             1          1    0.001908  \n",
       "4             2          1    0.003817  \n",
       "\n",
       "[5 rows x 40 columns]"
      ]
     },
     "execution_count": 113,
     "metadata": {},
     "output_type": "execute_result"
    }
   ],
   "source": [
    "dec13= pd.read_csv('ACS_Merge_Norm_Final_lv.csv', index_col=0) \n",
    "dec13.head()"
   ]
  },
  {
   "cell_type": "code",
   "execution_count": 114,
   "metadata": {},
   "outputs": [
    {
     "data": {
      "text/plain": [
       "(195, 40)"
      ]
     },
     "execution_count": 114,
     "metadata": {},
     "output_type": "execute_result"
    }
   ],
   "source": [
    "dec13.shape"
   ]
  },
  {
   "cell_type": "code",
   "execution_count": 115,
   "metadata": {},
   "outputs": [
    {
     "data": {
      "text/html": [
       "\n",
       "        <iframe\n",
       "            width=\"100%\"\n",
       "            height=\"800px\"\n",
       "            src=\"ipynb_tmp/profile_6666488629.html\"\n",
       "            frameborder=\"0\"\n",
       "            allowfullscreen\n",
       "        ></iframe>\n",
       "        "
      ],
      "text/plain": [
       "<IPython.lib.display.IFrame at 0x1a1b694a58>"
      ]
     },
     "metadata": {},
     "output_type": "display_data"
    },
    {
     "data": {
      "text/plain": []
     },
     "execution_count": 115,
     "metadata": {},
     "output_type": "execute_result"
    }
   ],
   "source": [
    "pandas_profiling.ProfileReport(dec13)"
   ]
  },
  {
   "cell_type": "code",
   "execution_count": 116,
   "metadata": {},
   "outputs": [
    {
     "data": {
      "text/plain": [
       "Index(['GeoType', 'NTA', 'GeoID', 'Borough', 'Pop_1E', 'MaleEN', 'FemEN',\n",
       "       'PopUnd18N', 'PopOv65N', 'HispN', 'NotHispN', 'WhiteN', 'BlackN',\n",
       "       'NativeN', 'AsianN', 'PacificN', 'OtherRace1N', 'OtherRace2N', 'HHPop',\n",
       "       'HHINC_U10N', 'HHINC_10t14N', 'HHINC_15t24N', 'HHINC_25t34N',\n",
       "       'HHINC_35t49N', 'HHINC_50t74N', 'HHINC_75t99N', 'HHINC_100t149N',\n",
       "       'HHINC_150t199N', 'HHINC_200plN', 'Pop16yrsOver', 'Labor_forceN',\n",
       "       'CivilianLF', 'CLF_UnemployedN', 'PopOver25', 'EduOtherN',\n",
       "       'EduBachelor', 'EduGradProf', 'GardenCounts', 'HasGarden',\n",
       "       'GardenNorm'],\n",
       "      dtype='object')"
      ]
     },
     "execution_count": 116,
     "metadata": {},
     "output_type": "execute_result"
    }
   ],
   "source": [
    "dec13.columns"
   ]
  },
  {
   "cell_type": "code",
   "execution_count": 117,
   "metadata": {},
   "outputs": [],
   "source": [
    "#created income features by combining certain income variables:\n",
    "dec13['Inc_low'] = dec13.HHINC_U10N + dec13.HHINC_10t14N + dec13.HHINC_15t24N + dec13.HHINC_25t34N + dec13.HHINC_35t49N \n",
    "dec13['Inc_mid'] = dec13.HHINC_50t74N + dec13.HHINC_75t99N\n",
    "dec13['Inc_high'] = dec13.HHINC_100t149N + dec13.HHINC_150t199N + dec13.HHINC_200plN\n"
   ]
  },
  {
   "cell_type": "code",
   "execution_count": 118,
   "metadata": {},
   "outputs": [
    {
     "data": {
      "text/html": [
       "<div>\n",
       "<style scoped>\n",
       "    .dataframe tbody tr th:only-of-type {\n",
       "        vertical-align: middle;\n",
       "    }\n",
       "\n",
       "    .dataframe tbody tr th {\n",
       "        vertical-align: top;\n",
       "    }\n",
       "\n",
       "    .dataframe thead th {\n",
       "        text-align: right;\n",
       "    }\n",
       "</style>\n",
       "<table border=\"1\" class=\"dataframe\">\n",
       "  <thead>\n",
       "    <tr style=\"text-align: right;\">\n",
       "      <th></th>\n",
       "      <th>GeoType</th>\n",
       "      <th>NTA</th>\n",
       "      <th>GeoID</th>\n",
       "      <th>Borough</th>\n",
       "      <th>Pop_1E</th>\n",
       "      <th>MaleEN</th>\n",
       "      <th>FemEN</th>\n",
       "      <th>PopUnd18N</th>\n",
       "      <th>PopOv65N</th>\n",
       "      <th>HispN</th>\n",
       "      <th>...</th>\n",
       "      <th>PopOver25</th>\n",
       "      <th>EduOtherN</th>\n",
       "      <th>EduBachelor</th>\n",
       "      <th>EduGradProf</th>\n",
       "      <th>GardenCounts</th>\n",
       "      <th>HasGarden</th>\n",
       "      <th>GardenNorm</th>\n",
       "      <th>Inc_low</th>\n",
       "      <th>Inc_mid</th>\n",
       "      <th>Inc_high</th>\n",
       "    </tr>\n",
       "  </thead>\n",
       "  <tbody>\n",
       "    <tr>\n",
       "      <th>0</th>\n",
       "      <td>NTA2010</td>\n",
       "      <td>Bath Beach</td>\n",
       "      <td>BK27</td>\n",
       "      <td>Brooklyn</td>\n",
       "      <td>33163</td>\n",
       "      <td>0.503151</td>\n",
       "      <td>0.496849</td>\n",
       "      <td>0.214184</td>\n",
       "      <td>0.147393</td>\n",
       "      <td>0.176733</td>\n",
       "      <td>...</td>\n",
       "      <td>23822</td>\n",
       "      <td>0.663798</td>\n",
       "      <td>0.224372</td>\n",
       "      <td>0.111829</td>\n",
       "      <td>0</td>\n",
       "      <td>0</td>\n",
       "      <td>0.000000</td>\n",
       "      <td>0.433409</td>\n",
       "      <td>0.299790</td>\n",
       "      <td>0.266801</td>\n",
       "    </tr>\n",
       "    <tr>\n",
       "      <th>1</th>\n",
       "      <td>NTA2010</td>\n",
       "      <td>Bay Ridge</td>\n",
       "      <td>BK31</td>\n",
       "      <td>Brooklyn</td>\n",
       "      <td>79134</td>\n",
       "      <td>0.478037</td>\n",
       "      <td>0.521963</td>\n",
       "      <td>0.190942</td>\n",
       "      <td>0.156444</td>\n",
       "      <td>0.178608</td>\n",
       "      <td>...</td>\n",
       "      <td>58178</td>\n",
       "      <td>0.535735</td>\n",
       "      <td>0.271976</td>\n",
       "      <td>0.192289</td>\n",
       "      <td>0</td>\n",
       "      <td>0</td>\n",
       "      <td>0.000000</td>\n",
       "      <td>0.409413</td>\n",
       "      <td>0.289008</td>\n",
       "      <td>0.301580</td>\n",
       "    </tr>\n",
       "    <tr>\n",
       "      <th>2</th>\n",
       "      <td>NTA2010</td>\n",
       "      <td>Bedford</td>\n",
       "      <td>BK75</td>\n",
       "      <td>Brooklyn</td>\n",
       "      <td>75318</td>\n",
       "      <td>0.484492</td>\n",
       "      <td>0.515508</td>\n",
       "      <td>0.297127</td>\n",
       "      <td>0.077219</td>\n",
       "      <td>0.194933</td>\n",
       "      <td>...</td>\n",
       "      <td>44766</td>\n",
       "      <td>0.678193</td>\n",
       "      <td>0.204352</td>\n",
       "      <td>0.117455</td>\n",
       "      <td>23</td>\n",
       "      <td>1</td>\n",
       "      <td>0.043893</td>\n",
       "      <td>0.575924</td>\n",
       "      <td>0.229287</td>\n",
       "      <td>0.194789</td>\n",
       "    </tr>\n",
       "    <tr>\n",
       "      <th>3</th>\n",
       "      <td>NTA2010</td>\n",
       "      <td>Bensonhurst East</td>\n",
       "      <td>BK29</td>\n",
       "      <td>Brooklyn</td>\n",
       "      <td>64267</td>\n",
       "      <td>0.486766</td>\n",
       "      <td>0.513234</td>\n",
       "      <td>0.198749</td>\n",
       "      <td>0.157266</td>\n",
       "      <td>0.123283</td>\n",
       "      <td>...</td>\n",
       "      <td>46010</td>\n",
       "      <td>0.698153</td>\n",
       "      <td>0.204564</td>\n",
       "      <td>0.097283</td>\n",
       "      <td>1</td>\n",
       "      <td>1</td>\n",
       "      <td>0.001908</td>\n",
       "      <td>0.510524</td>\n",
       "      <td>0.290981</td>\n",
       "      <td>0.198495</td>\n",
       "    </tr>\n",
       "    <tr>\n",
       "      <th>4</th>\n",
       "      <td>NTA2010</td>\n",
       "      <td>Bensonhurst West</td>\n",
       "      <td>BK28</td>\n",
       "      <td>Brooklyn</td>\n",
       "      <td>91646</td>\n",
       "      <td>0.487212</td>\n",
       "      <td>0.512788</td>\n",
       "      <td>0.210462</td>\n",
       "      <td>0.142625</td>\n",
       "      <td>0.145975</td>\n",
       "      <td>...</td>\n",
       "      <td>65016</td>\n",
       "      <td>0.737618</td>\n",
       "      <td>0.188800</td>\n",
       "      <td>0.073582</td>\n",
       "      <td>2</td>\n",
       "      <td>1</td>\n",
       "      <td>0.003817</td>\n",
       "      <td>0.492862</td>\n",
       "      <td>0.285700</td>\n",
       "      <td>0.221438</td>\n",
       "    </tr>\n",
       "  </tbody>\n",
       "</table>\n",
       "<p>5 rows × 43 columns</p>\n",
       "</div>"
      ],
      "text/plain": [
       "   GeoType               NTA GeoID   Borough  Pop_1E    MaleEN     FemEN  \\\n",
       "0  NTA2010        Bath Beach  BK27  Brooklyn   33163  0.503151  0.496849   \n",
       "1  NTA2010         Bay Ridge  BK31  Brooklyn   79134  0.478037  0.521963   \n",
       "2  NTA2010           Bedford  BK75  Brooklyn   75318  0.484492  0.515508   \n",
       "3  NTA2010  Bensonhurst East  BK29  Brooklyn   64267  0.486766  0.513234   \n",
       "4  NTA2010  Bensonhurst West  BK28  Brooklyn   91646  0.487212  0.512788   \n",
       "\n",
       "   PopUnd18N  PopOv65N     HispN  ...  PopOver25  EduOtherN  EduBachelor  \\\n",
       "0   0.214184  0.147393  0.176733  ...      23822   0.663798     0.224372   \n",
       "1   0.190942  0.156444  0.178608  ...      58178   0.535735     0.271976   \n",
       "2   0.297127  0.077219  0.194933  ...      44766   0.678193     0.204352   \n",
       "3   0.198749  0.157266  0.123283  ...      46010   0.698153     0.204564   \n",
       "4   0.210462  0.142625  0.145975  ...      65016   0.737618     0.188800   \n",
       "\n",
       "   EduGradProf  GardenCounts  HasGarden  GardenNorm   Inc_low   Inc_mid  \\\n",
       "0     0.111829             0          0    0.000000  0.433409  0.299790   \n",
       "1     0.192289             0          0    0.000000  0.409413  0.289008   \n",
       "2     0.117455            23          1    0.043893  0.575924  0.229287   \n",
       "3     0.097283             1          1    0.001908  0.510524  0.290981   \n",
       "4     0.073582             2          1    0.003817  0.492862  0.285700   \n",
       "\n",
       "   Inc_high  \n",
       "0  0.266801  \n",
       "1  0.301580  \n",
       "2  0.194789  \n",
       "3  0.198495  \n",
       "4  0.221438  \n",
       "\n",
       "[5 rows x 43 columns]"
      ]
     },
     "execution_count": 118,
     "metadata": {},
     "output_type": "execute_result"
    }
   ],
   "source": [
    "dec13.head()"
   ]
  },
  {
   "cell_type": "code",
   "execution_count": 157,
   "metadata": {},
   "outputs": [
    {
     "data": {
      "text/plain": [
       "Index(['GeoType', 'NTA', 'GeoID', 'Borough', 'Pop_1E', 'MaleEN', 'FemEN',\n",
       "       'PopUnd18N', 'PopOv65N', 'HispN', 'NotHispN', 'WhiteN', 'BlackN',\n",
       "       'NativeN', 'AsianN', 'PacificN', 'OtherRace1N', 'OtherRace2N', 'HHPop',\n",
       "       'HHINC_U10N', 'HHINC_10t14N', 'HHINC_15t24N', 'HHINC_25t34N',\n",
       "       'HHINC_35t49N', 'HHINC_50t74N', 'HHINC_75t99N', 'HHINC_100t149N',\n",
       "       'HHINC_150t199N', 'HHINC_200plN', 'Pop16yrsOver', 'Labor_forceN',\n",
       "       'CivilianLF', 'CLF_UnemployedN', 'PopOver25', 'EduOtherN',\n",
       "       'EduBachelor', 'EduGradProf', 'GardenCounts', 'HasGarden', 'GardenNorm',\n",
       "       'Inc_low', 'Inc_mid', 'Inc_high'],\n",
       "      dtype='object')"
      ]
     },
     "execution_count": 157,
     "metadata": {},
     "output_type": "execute_result"
    }
   ],
   "source": [
    "dec13.columns"
   ]
  },
  {
   "cell_type": "code",
   "execution_count": 132,
   "metadata": {},
   "outputs": [],
   "source": [
    "#created new df w selected features for PCA:\n",
    "dec13pca = dec13[['NTA','Labor_forceN','PopOv65N','HispN','WhiteN', 'BlackN','AsianN','Inc_low',\n",
    "                  'Inc_mid','Inc_high','CLF_UnemployedN','EduOtherN',\n",
    "       'EduBachelor', 'EduGradProf','GardenNorm']].copy()"
   ]
  },
  {
   "cell_type": "code",
   "execution_count": 135,
   "metadata": {},
   "outputs": [],
   "source": [
    "dec13pca = dec13pca.set_index('NTA')"
   ]
  },
  {
   "cell_type": "code",
   "execution_count": 136,
   "metadata": {},
   "outputs": [
    {
     "data": {
      "text/html": [
       "<div>\n",
       "<style scoped>\n",
       "    .dataframe tbody tr th:only-of-type {\n",
       "        vertical-align: middle;\n",
       "    }\n",
       "\n",
       "    .dataframe tbody tr th {\n",
       "        vertical-align: top;\n",
       "    }\n",
       "\n",
       "    .dataframe thead th {\n",
       "        text-align: right;\n",
       "    }\n",
       "</style>\n",
       "<table border=\"1\" class=\"dataframe\">\n",
       "  <thead>\n",
       "    <tr style=\"text-align: right;\">\n",
       "      <th></th>\n",
       "      <th>Labor_forceN</th>\n",
       "      <th>PopOv65N</th>\n",
       "      <th>HispN</th>\n",
       "      <th>WhiteN</th>\n",
       "      <th>BlackN</th>\n",
       "      <th>AsianN</th>\n",
       "      <th>Inc_low</th>\n",
       "      <th>Inc_mid</th>\n",
       "      <th>Inc_high</th>\n",
       "      <th>CLF_UnemployedN</th>\n",
       "      <th>EduOtherN</th>\n",
       "      <th>EduBachelor</th>\n",
       "      <th>EduGradProf</th>\n",
       "      <th>GardenNorm</th>\n",
       "    </tr>\n",
       "    <tr>\n",
       "      <th>NTA</th>\n",
       "      <th></th>\n",
       "      <th></th>\n",
       "      <th></th>\n",
       "      <th></th>\n",
       "      <th></th>\n",
       "      <th></th>\n",
       "      <th></th>\n",
       "      <th></th>\n",
       "      <th></th>\n",
       "      <th></th>\n",
       "      <th></th>\n",
       "      <th></th>\n",
       "      <th></th>\n",
       "      <th></th>\n",
       "    </tr>\n",
       "  </thead>\n",
       "  <tbody>\n",
       "    <tr>\n",
       "      <th>Bath Beach</th>\n",
       "      <td>0.596016</td>\n",
       "      <td>0.147393</td>\n",
       "      <td>0.176733</td>\n",
       "      <td>0.436933</td>\n",
       "      <td>0.012182</td>\n",
       "      <td>0.361095</td>\n",
       "      <td>0.433409</td>\n",
       "      <td>0.299790</td>\n",
       "      <td>0.266801</td>\n",
       "      <td>0.070566</td>\n",
       "      <td>0.663798</td>\n",
       "      <td>0.224372</td>\n",
       "      <td>0.111829</td>\n",
       "      <td>0.000000</td>\n",
       "    </tr>\n",
       "    <tr>\n",
       "      <th>Bay Ridge</th>\n",
       "      <td>0.644115</td>\n",
       "      <td>0.156444</td>\n",
       "      <td>0.178608</td>\n",
       "      <td>0.634329</td>\n",
       "      <td>0.019094</td>\n",
       "      <td>0.145513</td>\n",
       "      <td>0.409413</td>\n",
       "      <td>0.289008</td>\n",
       "      <td>0.301580</td>\n",
       "      <td>0.074922</td>\n",
       "      <td>0.535735</td>\n",
       "      <td>0.271976</td>\n",
       "      <td>0.192289</td>\n",
       "      <td>0.000000</td>\n",
       "    </tr>\n",
       "    <tr>\n",
       "      <th>Bedford</th>\n",
       "      <td>0.673776</td>\n",
       "      <td>0.077219</td>\n",
       "      <td>0.194933</td>\n",
       "      <td>0.350607</td>\n",
       "      <td>0.405826</td>\n",
       "      <td>0.030404</td>\n",
       "      <td>0.575924</td>\n",
       "      <td>0.229287</td>\n",
       "      <td>0.194789</td>\n",
       "      <td>0.125027</td>\n",
       "      <td>0.678193</td>\n",
       "      <td>0.204352</td>\n",
       "      <td>0.117455</td>\n",
       "      <td>0.043893</td>\n",
       "    </tr>\n",
       "    <tr>\n",
       "      <th>Bensonhurst East</th>\n",
       "      <td>0.605483</td>\n",
       "      <td>0.157266</td>\n",
       "      <td>0.123283</td>\n",
       "      <td>0.465153</td>\n",
       "      <td>0.008262</td>\n",
       "      <td>0.386793</td>\n",
       "      <td>0.510524</td>\n",
       "      <td>0.290981</td>\n",
       "      <td>0.198495</td>\n",
       "      <td>0.085202</td>\n",
       "      <td>0.698153</td>\n",
       "      <td>0.204564</td>\n",
       "      <td>0.097283</td>\n",
       "      <td>0.001908</td>\n",
       "    </tr>\n",
       "    <tr>\n",
       "      <th>Bensonhurst West</th>\n",
       "      <td>0.615577</td>\n",
       "      <td>0.142625</td>\n",
       "      <td>0.145975</td>\n",
       "      <td>0.426773</td>\n",
       "      <td>0.008740</td>\n",
       "      <td>0.405168</td>\n",
       "      <td>0.492862</td>\n",
       "      <td>0.285700</td>\n",
       "      <td>0.221438</td>\n",
       "      <td>0.088342</td>\n",
       "      <td>0.737618</td>\n",
       "      <td>0.188800</td>\n",
       "      <td>0.073582</td>\n",
       "      <td>0.003817</td>\n",
       "    </tr>\n",
       "  </tbody>\n",
       "</table>\n",
       "</div>"
      ],
      "text/plain": [
       "                  Labor_forceN  PopOv65N     HispN    WhiteN    BlackN  \\\n",
       "NTA                                                                      \n",
       "Bath Beach            0.596016  0.147393  0.176733  0.436933  0.012182   \n",
       "Bay Ridge             0.644115  0.156444  0.178608  0.634329  0.019094   \n",
       "Bedford               0.673776  0.077219  0.194933  0.350607  0.405826   \n",
       "Bensonhurst East      0.605483  0.157266  0.123283  0.465153  0.008262   \n",
       "Bensonhurst West      0.615577  0.142625  0.145975  0.426773  0.008740   \n",
       "\n",
       "                    AsianN   Inc_low   Inc_mid  Inc_high  CLF_UnemployedN  \\\n",
       "NTA                                                                         \n",
       "Bath Beach        0.361095  0.433409  0.299790  0.266801         0.070566   \n",
       "Bay Ridge         0.145513  0.409413  0.289008  0.301580         0.074922   \n",
       "Bedford           0.030404  0.575924  0.229287  0.194789         0.125027   \n",
       "Bensonhurst East  0.386793  0.510524  0.290981  0.198495         0.085202   \n",
       "Bensonhurst West  0.405168  0.492862  0.285700  0.221438         0.088342   \n",
       "\n",
       "                  EduOtherN  EduBachelor  EduGradProf  GardenNorm  \n",
       "NTA                                                                \n",
       "Bath Beach         0.663798     0.224372     0.111829    0.000000  \n",
       "Bay Ridge          0.535735     0.271976     0.192289    0.000000  \n",
       "Bedford            0.678193     0.204352     0.117455    0.043893  \n",
       "Bensonhurst East   0.698153     0.204564     0.097283    0.001908  \n",
       "Bensonhurst West   0.737618     0.188800     0.073582    0.003817  "
      ]
     },
     "execution_count": 136,
     "metadata": {},
     "output_type": "execute_result"
    }
   ],
   "source": [
    "dec13pca.head()"
   ]
  },
  {
   "cell_type": "code",
   "execution_count": 137,
   "metadata": {},
   "outputs": [
    {
     "data": {
      "text/plain": [
       "(195, 14)"
      ]
     },
     "execution_count": 137,
     "metadata": {},
     "output_type": "execute_result"
    }
   ],
   "source": [
    "dec13pca.shape"
   ]
  },
  {
   "cell_type": "code",
   "execution_count": 138,
   "metadata": {},
   "outputs": [],
   "source": [
    "dec13pca = dec13pca.replace([np.inf, -np.inf, np.nan], 0)"
   ]
  },
  {
   "cell_type": "code",
   "execution_count": 139,
   "metadata": {},
   "outputs": [],
   "source": [
    "# Create a PCA instance: pca\n",
    "pca = PCA(n_components=10)\n",
    "principalComponents = pca.fit_transform(dec13pca)"
   ]
  },
  {
   "cell_type": "code",
   "execution_count": null,
   "metadata": {},
   "outputs": [],
   "source": [
    "# Create a PCA instance: pca\n",
    "pca = PCA(n_components=10)\n",
    "principalComponents = pca.fit_transform(dec13pca)\n",
    "\n",
    "# Plot the explained variances\n",
    "features = range(pca.n_components_)\n",
    "plt.bar(features, pca.explained_variance_ratio_, color='black')\n",
    "plt.xlabel('PCA features')\n",
    "plt.ylabel('variance %')\n",
    "plt.xticks(features)\n",
    "\n",
    "# Save components to a DataFrame\n",
    "PCA_components = pd.DataFrame(principalComponents)\n",
    "\n",
    "fig = plt.figure(figsize=(10,10))\n",
    "plt.scatter(PCA_components[0], PCA_components[1], alpha=.1, color='red')\n",
    "plt.xlabel('PCA 1')\n",
    "plt.ylabel('PCA 2')\n",
    "\n",
    "ks = range(1, 10)\n",
    "inertias = []\n",
    "for k in ks:\n",
    "    # Create a KMeans instance with k clusters: model\n",
    "    model = KMeans(n_clusters=k)\n",
    "    \n",
    "    # Fit model to samples\n",
    "    model.fit(PCA_components.iloc[:,:3])\n",
    "    \n",
    "    # Append the inertia to the list of inertias\n",
    "    inertias.append(model.inertia_)\n",
    "    \n",
    "plt.plot(ks, inertias, '-o', color='black')\n",
    "plt.xlabel('number of clusters, k')\n",
    "plt.ylabel('inertia')\n",
    "plt.xticks(ks)\n",
    "plt.show()"
   ]
  },
  {
   "cell_type": "code",
   "execution_count": 140,
   "metadata": {},
   "outputs": [
    {
     "data": {
      "text/plain": [
       "([<matplotlib.axis.XTick at 0x1a23332940>,\n",
       "  <matplotlib.axis.XTick at 0x1a233321d0>,\n",
       "  <matplotlib.axis.XTick at 0x1a23332898>,\n",
       "  <matplotlib.axis.XTick at 0x1a22327400>,\n",
       "  <matplotlib.axis.XTick at 0x1a22327898>,\n",
       "  <matplotlib.axis.XTick at 0x1a22327e10>,\n",
       "  <matplotlib.axis.XTick at 0x1a2232f3c8>,\n",
       "  <matplotlib.axis.XTick at 0x1a2232f940>,\n",
       "  <matplotlib.axis.XTick at 0x1a2232fef0>,\n",
       "  <matplotlib.axis.XTick at 0x1a2232f518>],\n",
       " <a list of 10 Text xticklabel objects>)"
      ]
     },
     "execution_count": 140,
     "metadata": {},
     "output_type": "execute_result"
    },
    {
     "data": {
      "image/png": "[encoded data removed]",
      "text/plain": [
       "<Figure size 432x288 with 1 Axes>"
      ]
     },
     "metadata": {
      "needs_background": "light"
     },
     "output_type": "display_data"
    }
   ],
   "source": [
    "# Plot the explained variances\n",
    "features = range(pca.n_components_)\n",
    "plt.bar(features, pca.explained_variance_ratio_, color='black')\n",
    "plt.xlabel('PCA features')\n",
    "plt.ylabel('variance %')\n",
    "plt.xticks(features)"
   ]
  },
  {
   "cell_type": "code",
   "execution_count": 141,
   "metadata": {},
   "outputs": [],
   "source": [
    "# Save components to a DataFrame\n",
    "PCA_components = pd.DataFrame(principalComponents)"
   ]
  },
  {
   "cell_type": "code",
   "execution_count": 143,
   "metadata": {},
   "outputs": [
    {
     "data": {
      "text/plain": [
       "Text(0, 0.5, 'PCA 2')"
      ]
     },
     "execution_count": 143,
     "metadata": {},
     "output_type": "execute_result"
    },
    {
     "data": {
      "image/png": "[encoded data removed]",
      "text/plain": [
       "<Figure size 720x720 with 1 Axes>"
      ]
     },
     "metadata": {
      "needs_background": "light"
     },
     "output_type": "display_data"
    }
   ],
   "source": [
    "fig = plt.figure(figsize=(10,10))\n",
    "plt.scatter(PCA_components[0], PCA_components[1], alpha=.1, color='red')\n",
    "plt.xlabel('PCA 1')\n",
    "plt.ylabel('PCA 2')"
   ]
  },
  {
   "cell_type": "code",
   "execution_count": 144,
   "metadata": {},
   "outputs": [
    {
     "data": {
      "image/png": "[encoded data removed]",
      "text/plain": [
       "<Figure size 432x288 with 1 Axes>"
      ]
     },
     "metadata": {
      "needs_background": "light"
     },
     "output_type": "display_data"
    }
   ],
   "source": [
    "ks = range(1, 10)\n",
    "inertias = []\n",
    "for k in ks:\n",
    "    # Create a KMeans instance with k clusters: model\n",
    "    model = KMeans(n_clusters=k)\n",
    "    \n",
    "    # Fit model to samples\n",
    "    model.fit(PCA_components.iloc[:,:3])\n",
    "    \n",
    "    # Append the inertia to the list of inertias\n",
    "    inertias.append(model.inertia_)\n",
    "    \n",
    "plt.plot(ks, inertias, '-o', color='black')\n",
    "plt.xlabel('number of clusters, k')\n",
    "plt.ylabel('inertia')\n",
    "plt.xticks(ks)\n",
    "plt.show()"
   ]
  },
  {
   "cell_type": "code",
   "execution_count": 145,
   "metadata": {},
   "outputs": [
    {
     "data": {
      "text/plain": [
       "array([0, 0, 1, 0, 0, 0, 0, 0, 2, 0, 2, 0, 0, 0, 1, 0, 0, 0, 0, 0, 1, 2,\n",
       "       2, 0, 0, 0, 0, 0, 0, 0, 0, 0, 0, 0, 2, 2, 0, 2, 0, 0, 0, 0, 0, 0,\n",
       "       0, 1, 0, 0, 0, 0, 0, 0, 2, 2, 0, 0, 1, 2, 2, 0, 2, 0, 0, 0, 1, 0,\n",
       "       0, 0, 0, 0, 0, 0, 0, 0, 0, 0, 0, 0, 0, 0, 0, 0, 0, 0, 0, 0, 0, 0,\n",
       "       0, 0, 0, 0, 0, 0, 0, 0, 0, 0, 0, 0, 0, 0, 0, 0, 0, 0, 0, 0, 0, 0,\n",
       "       0, 0, 0, 0, 0, 0, 0, 0, 0, 0, 0, 0, 0, 0, 0, 0, 0, 0, 0, 0, 0, 0,\n",
       "       0, 0, 0, 0, 0, 0, 0, 0, 0, 0, 0, 0, 0, 0, 0, 0, 0, 0, 0, 0, 0, 0,\n",
       "       0, 0, 0, 0, 0, 0, 0, 0, 0, 0, 2, 2, 0, 0, 2, 0, 0, 0, 2, 2, 2, 0,\n",
       "       0, 0, 0, 0, 0, 0, 0, 0, 0, 0, 0, 0, 0, 0, 0, 0, 0, 0, 0],\n",
       "      dtype=int32)"
      ]
     },
     "execution_count": 145,
     "metadata": {},
     "output_type": "execute_result"
    }
   ],
   "source": [
    "rr=KMeans(n_clusters=2).fit()\n",
    "rr.labels_"
   ]
  },
  {
   "cell_type": "code",
   "execution_count": 155,
   "metadata": {},
   "outputs": [
    {
     "data": {
      "text/plain": [
       "array([1, 1, 2, 1, 1, 1, 1, 1, 2, 0, 0, 2, 1, 1, 2, 2, 0, 1, 1, 2, 2, 2,\n",
       "       1, 2, 2, 2, 1, 1, 1, 1, 1, 1, 1, 1, 1, 2, 1, 1, 1, 1, 2, 2, 0, 1,\n",
       "       2, 2, 0, 0, 1, 1, 1, 1, 2, 2, 0, 1, 0, 0, 1, 1, 0, 1, 1, 1, 0, 0,\n",
       "       0, 1, 1, 1, 2, 1, 1, 1, 1, 1, 0, 0, 1, 1, 1, 1, 1, 2, 1, 1, 1, 0,\n",
       "       2, 0, 0, 1, 0, 0, 0, 0, 2, 0, 1, 1, 1, 1, 1, 2, 2, 1, 0, 0, 1, 1,\n",
       "       1, 2, 1, 1, 1, 0, 0, 1, 1, 0, 1, 1, 2, 0, 0, 1, 0, 0, 2, 2, 0, 2,\n",
       "       2, 2, 1, 1, 0, 0, 1, 1, 1, 1, 1, 0, 0, 1, 1, 1, 1, 1, 1, 0, 1, 0,\n",
       "       1, 0, 1, 0, 0, 0, 0, 0, 2, 0, 0, 0, 2, 0, 0, 0, 0, 0, 0, 0, 0, 0,\n",
       "       1, 0, 0, 0, 1, 0, 2, 0, 0, 0, 1, 0, 0, 0, 0, 0, 0, 2, 2],\n",
       "      dtype=int32)"
      ]
     },
     "execution_count": 155,
     "metadata": {},
     "output_type": "execute_result"
    }
   ],
   "source": [
    "rr=KMeans(n_clusters=3).fit(dec13pca)\n",
    "rr.labels_"
   ]
  },
  {
   "cell_type": "code",
   "execution_count": 156,
   "metadata": {},
   "outputs": [
    {
     "data": {
      "text/plain": [
       "<matplotlib.collections.PathCollection at 0x1a23817160>"
      ]
     },
     "execution_count": 156,
     "metadata": {},
     "output_type": "execute_result"
    },
    {
     "data": {
      "image/png": "[encoded data removed]",
      "text/plain": [
       "<Figure size 576x576 with 1 Axes>"
      ]
     },
     "metadata": {
      "needs_background": "light"
     },
     "output_type": "display_data"
    }
   ],
   "source": [
    "fig = plt.figure(figsize=(8,8))\n",
    "\n",
    "\n",
    "plt.scatter(dec13pca.iloc[:,0],dec13pca.iloc[:,1],c=rr.labels_)"
   ]
  },
  {
   "cell_type": "code",
   "execution_count": 152,
   "metadata": {},
   "outputs": [
    {
     "name": "stdout",
     "output_type": "stream",
     "text": [
      "For n_clusters = 2 The average silhouette_score is : 0.37413170473341467\n",
      "For n_clusters = 3 The average silhouette_score is : 0.3799762237546839\n",
      "For n_clusters = 4 The average silhouette_score is : 0.3391897172661313\n",
      "For n_clusters = 5 The average silhouette_score is : 0.35792667481060964\n",
      "For n_clusters = 6 The average silhouette_score is : 0.37807981914801986\n",
      "For n_clusters = 7 The average silhouette_score is : 0.3653376223473595\n",
      "For n_clusters = 8 The average silhouette_score is : 0.35107330851098884\n"
     ]
    }
   ],
   "source": [
    "#Silhouette_score\n",
    "\n",
    "X1=dec13pca\n",
    "range_n_clusters = [2, 3, 4, 5,6,7,8]\n",
    "for n_clusters in range_n_clusters:\n",
    "    km1 = KMeans(n_clusters=n_clusters, random_state=324)\n",
    "    cluster_labels = km1.fit_predict(X1)\n",
    "    silhouette_avg = silhouette_score(X1, cluster_labels)\n",
    "    print(\"For n_clusters =\", n_clusters,\n",
    "          \"The average silhouette_score is :\", silhouette_avg)\n",
    "    sample_silhouette_values = silhouette_samples(X1, cluster_labels)"
   ]
  },
  {
   "cell_type": "markdown",
   "metadata": {},
   "source": [
    "#### Tried another combination of features for PCA round2 "
   ]
  },
  {
   "cell_type": "code",
   "execution_count": null,
   "metadata": {},
   "outputs": [],
   "source": [
    "Index(['GeoType', 'NTA', 'GeoID', 'Borough', 'Pop_1E', 'MaleEN', 'FemEN',\n",
    "       'PopUnd18N', 'PopOv65N', 'HispN', 'NotHispN', 'WhiteN', 'BlackN',\n",
    "       'NativeN', 'AsianN', 'PacificN', 'OtherRace1N', 'OtherRace2N', 'HHPop',\n",
    "       'HHINC_U10N', 'HHINC_10t14N', 'HHINC_15t24N', 'HHINC_25t34N',\n",
    "       'HHINC_35t49N', 'HHINC_50t74N', 'HHINC_75t99N', 'HHINC_100t149N',\n",
    "       'HHINC_150t199N', 'HHINC_200plN', 'Pop16yrsOver', 'Labor_forceN',\n",
    "       'CivilianLF', 'CLF_UnemployedN', 'PopOver25', 'EduOtherN',\n",
    "       'EduBachelor', 'EduGradProf', 'GardenCounts', 'HasGarden', 'GardenNorm',\n",
    "       'Inc_low', 'Inc_mid', 'Inc_high'],\n",
    "      dtype='object')"
   ]
  },
  {
   "cell_type": "code",
   "execution_count": 160,
   "metadata": {},
   "outputs": [],
   "source": [
    "dec13pca2 = dec13[['NTA','MaleEN', 'FemEN','HispN', 'WhiteN', 'BlackN','CLF_UnemployedN',\n",
    "                  'EduOtherN','EduBachelor', 'EduGradProf','Inc_low', 'Inc_mid', 'Inc_high','GardenNorm']].copy()"
   ]
  },
  {
   "cell_type": "code",
   "execution_count": 162,
   "metadata": {},
   "outputs": [],
   "source": [
    "dec13pca2 = dec13pca2.set_index('NTA')"
   ]
  },
  {
   "cell_type": "code",
   "execution_count": 164,
   "metadata": {},
   "outputs": [
    {
     "data": {
      "text/plain": [
       "(195, 13)"
      ]
     },
     "execution_count": 164,
     "metadata": {},
     "output_type": "execute_result"
    }
   ],
   "source": [
    "dec13pca2.shape"
   ]
  },
  {
   "cell_type": "code",
   "execution_count": 165,
   "metadata": {},
   "outputs": [],
   "source": [
    "dec13pca2 = dec13pca2.replace([np.inf, -np.inf, np.nan], 0)"
   ]
  },
  {
   "cell_type": "code",
   "execution_count": 166,
   "metadata": {},
   "outputs": [],
   "source": [
    "# Create a PCA instance: pca\n",
    "pca = PCA(n_components=10)\n",
    "principalComponents = pca.fit_transform(dec13pca2)"
   ]
  },
  {
   "cell_type": "code",
   "execution_count": 167,
   "metadata": {},
   "outputs": [
    {
     "data": {
      "text/plain": [
       "([<matplotlib.axis.XTick at 0x1a23cc1a20>,\n",
       "  <matplotlib.axis.XTick at 0x1a23cb66d8>,\n",
       "  <matplotlib.axis.XTick at 0x1a23cb6fd0>,\n",
       "  <matplotlib.axis.XTick at 0x1a245a93c8>,\n",
       "  <matplotlib.axis.XTick at 0x1a245a9860>,\n",
       "  <matplotlib.axis.XTick at 0x1a245a9dd8>,\n",
       "  <matplotlib.axis.XTick at 0x1a245b1390>,\n",
       "  <matplotlib.axis.XTick at 0x1a245b1908>,\n",
       "  <matplotlib.axis.XTick at 0x1a245b1e80>,\n",
       "  <matplotlib.axis.XTick at 0x1a245b7438>],\n",
       " <a list of 10 Text xticklabel objects>)"
      ]
     },
     "execution_count": 167,
     "metadata": {},
     "output_type": "execute_result"
    },
    {
     "data": {
      "image/png": "[encoded data removed]",
      "text/plain": [
       "<Figure size 432x288 with 1 Axes>"
      ]
     },
     "metadata": {
      "needs_background": "light"
     },
     "output_type": "display_data"
    }
   ],
   "source": [
    "# Plot the explained variances\n",
    "features = range(pca.n_components_)\n",
    "plt.bar(features, pca.explained_variance_ratio_, color='black')\n",
    "plt.xlabel('PCA features')\n",
    "plt.ylabel('variance %')\n",
    "plt.xticks(features)"
   ]
  },
  {
   "cell_type": "code",
   "execution_count": 168,
   "metadata": {},
   "outputs": [],
   "source": [
    "# Save components to a DataFrame\n",
    "PCA_components = pd.DataFrame(principalComponents)"
   ]
  },
  {
   "cell_type": "code",
   "execution_count": 169,
   "metadata": {},
   "outputs": [
    {
     "data": {
      "text/plain": [
       "Text(0, 0.5, 'PCA 2')"
      ]
     },
     "execution_count": 169,
     "metadata": {},
     "output_type": "execute_result"
    },
    {
     "data": {
      "image/png": "[encoded data removed]",
      "text/plain": [
       "<Figure size 720x720 with 1 Axes>"
      ]
     },
     "metadata": {
      "needs_background": "light"
     },
     "output_type": "display_data"
    }
   ],
   "source": [
    "fig = plt.figure(figsize=(10,10))\n",
    "plt.scatter(PCA_components[0], PCA_components[1], alpha=.1, color='red')\n",
    "plt.xlabel('PCA 1')\n",
    "plt.ylabel('PCA 2')"
   ]
  },
  {
   "cell_type": "code",
   "execution_count": 170,
   "metadata": {},
   "outputs": [
    {
     "data": {
      "image/png": "[encoded data removed]",
      "text/plain": [
       "<Figure size 432x288 with 1 Axes>"
      ]
     },
     "metadata": {
      "needs_background": "light"
     },
     "output_type": "display_data"
    }
   ],
   "source": [
    "ks = range(1, 10)\n",
    "inertias = []\n",
    "for k in ks:\n",
    "    # Create a KMeans instance with k clusters: model\n",
    "    model = KMeans(n_clusters=k)\n",
    "    \n",
    "    # Fit model to samples\n",
    "    model.fit(PCA_components.iloc[:,:3])\n",
    "    \n",
    "    # Append the inertia to the list of inertias\n",
    "    inertias.append(model.inertia_)\n",
    "    \n",
    "plt.plot(ks, inertias, '-o', color='black')\n",
    "plt.xlabel('number of clusters, k')\n",
    "plt.ylabel('inertia')\n",
    "plt.xticks(ks)\n",
    "plt.show()"
   ]
  },
  {
   "cell_type": "code",
   "execution_count": 172,
   "metadata": {},
   "outputs": [
    {
     "data": {
      "text/plain": [
       "array([0, 0, 2, 0, 0, 0, 0, 0, 2, 1, 1, 2, 0, 0, 2, 2, 1, 0, 0, 2, 2, 2,\n",
       "       0, 2, 2, 2, 0, 0, 0, 0, 0, 0, 0, 0, 0, 2, 0, 0, 0, 0, 2, 2, 1, 0,\n",
       "       2, 2, 1, 1, 0, 0, 0, 0, 2, 2, 1, 0, 1, 1, 0, 0, 1, 0, 0, 0, 1, 1,\n",
       "       1, 0, 0, 0, 2, 0, 0, 0, 0, 0, 1, 1, 0, 0, 0, 0, 0, 2, 0, 0, 0, 1,\n",
       "       2, 1, 1, 0, 1, 1, 1, 1, 2, 1, 0, 0, 0, 0, 0, 2, 2, 0, 1, 1, 0, 0,\n",
       "       0, 2, 0, 0, 0, 1, 1, 0, 0, 1, 0, 0, 2, 1, 1, 0, 1, 1, 2, 2, 1, 2,\n",
       "       2, 2, 0, 0, 1, 1, 0, 0, 0, 0, 0, 1, 1, 0, 0, 0, 0, 0, 0, 1, 0, 1,\n",
       "       0, 1, 0, 1, 1, 1, 1, 1, 2, 1, 1, 1, 2, 1, 1, 1, 1, 1, 1, 1, 1, 1,\n",
       "       0, 1, 1, 1, 0, 1, 2, 1, 1, 1, 0, 1, 1, 1, 1, 1, 1, 2, 2],\n",
       "      dtype=int32)"
      ]
     },
     "execution_count": 172,
     "metadata": {},
     "output_type": "execute_result"
    }
   ],
   "source": [
    "rr=KMeans(n_clusters=3).fit(dec13pca2)\n",
    "rr.labels_"
   ]
  },
  {
   "cell_type": "code",
   "execution_count": 176,
   "metadata": {},
   "outputs": [
    {
     "data": {
      "text/plain": [
       "<matplotlib.collections.PathCollection at 0x1a27142f60>"
      ]
     },
     "execution_count": 176,
     "metadata": {},
     "output_type": "execute_result"
    },
    {
     "data": {
      "image/png": "[encoded data removed]",
      "text/plain": [
       "<Figure size 576x576 with 1 Axes>"
      ]
     },
     "metadata": {
      "needs_background": "light"
     },
     "output_type": "display_data"
    }
   ],
   "source": [
    "fig = plt.figure(figsize=(8,8))\n",
    "\n",
    "plt.scatter(dec13pca2.iloc[:,0],dec13pca2.iloc[:,1],c=rr.labels_)"
   ]
  },
  {
   "cell_type": "code",
   "execution_count": 174,
   "metadata": {},
   "outputs": [
    {
     "name": "stdout",
     "output_type": "stream",
     "text": [
      "For n_clusters = 2 The average silhouette_score is : 0.3997700037164635\n",
      "For n_clusters = 3 The average silhouette_score is : 0.4097672068006069\n",
      "For n_clusters = 4 The average silhouette_score is : 0.3840022092859537\n",
      "For n_clusters = 5 The average silhouette_score is : 0.36685901250734515\n",
      "For n_clusters = 6 The average silhouette_score is : 0.37667871380782164\n",
      "For n_clusters = 7 The average silhouette_score is : 0.3903789353490294\n",
      "For n_clusters = 8 The average silhouette_score is : 0.3456272159449936\n"
     ]
    }
   ],
   "source": [
    "#Silhouette_score\n",
    "\n",
    "X1=dec13pca2\n",
    "range_n_clusters = [2, 3, 4, 5,6,7,8]\n",
    "for n_clusters in range_n_clusters:\n",
    "    km1 = KMeans(n_clusters=n_clusters, random_state=324)\n",
    "    cluster_labels = km1.fit_predict(X1)\n",
    "    silhouette_avg = silhouette_score(X1, cluster_labels)\n",
    "    print(\"For n_clusters =\", n_clusters,\n",
    "          \"The average silhouette_score is :\", silhouette_avg)\n",
    "    sample_silhouette_values = silhouette_samples(X1, cluster_labels)"
   ]
  },
  {
   "cell_type": "markdown",
   "metadata": {},
   "source": [
    "#### The version below incorporates crime data"
   ]
  },
  {
   "cell_type": "code",
   "execution_count": 178,
   "metadata": {},
   "outputs": [
    {
     "data": {
      "text/plain": [
       "Index(['GeoType', 'NTA', 'GeoID', 'Borough', 'Pop_1E', 'MaleEN', 'FemEN',\n",
       "       'PopUnd18N', 'PopOv65N', 'HispN', 'NotHispN', 'WhiteN', 'BlackN',\n",
       "       'NativeN', 'AsianN', 'PacificN', 'OtherRace1N', 'OtherRace2N', 'HHPop',\n",
       "       'HHINC_U10N', 'HHINC_10t14N', 'HHINC_15t24N', 'HHINC_25t34N',\n",
       "       'HHINC_35t49N', 'HHINC_50t74N', 'HHINC_75t99N', 'HHINC_100t149N',\n",
       "       'HHINC_150t199N', 'HHINC_200plN', 'Pop16yrsOver', 'Labor_forceN',\n",
       "       'CivilianLF', 'CLF_UnemployedN', 'PopOver25', 'EduOtherN',\n",
       "       'EduBachelor', 'EduGradProf', 'GardenCounts', 'HasGarden', 'GardenNorm',\n",
       "       'Inc_low', 'Inc_mid', 'Inc_high'],\n",
       "      dtype='object')"
      ]
     },
     "execution_count": 178,
     "metadata": {},
     "output_type": "execute_result"
    }
   ],
   "source": [
    "dec13.columns"
   ]
  },
  {
   "cell_type": "code",
   "execution_count": 179,
   "metadata": {},
   "outputs": [],
   "source": [
    "dec13['Race_other'] = dec13.NativeN + dec13.PacificN + dec13.OtherRace1N + dec13.OtherRace2N"
   ]
  },
  {
   "cell_type": "code",
   "execution_count": 184,
   "metadata": {},
   "outputs": [
    {
     "data": {
      "text/html": [
       "<div>\n",
       "<style scoped>\n",
       "    .dataframe tbody tr th:only-of-type {\n",
       "        vertical-align: middle;\n",
       "    }\n",
       "\n",
       "    .dataframe tbody tr th {\n",
       "        vertical-align: top;\n",
       "    }\n",
       "\n",
       "    .dataframe thead th {\n",
       "        text-align: right;\n",
       "    }\n",
       "</style>\n",
       "<table border=\"1\" class=\"dataframe\">\n",
       "  <thead>\n",
       "    <tr style=\"text-align: right;\">\n",
       "      <th></th>\n",
       "      <th>GeoType</th>\n",
       "      <th>NTA</th>\n",
       "      <th>GeoID</th>\n",
       "      <th>Borough</th>\n",
       "      <th>Pop_1E</th>\n",
       "      <th>MaleEN</th>\n",
       "      <th>FemEN</th>\n",
       "      <th>PopUnd18N</th>\n",
       "      <th>PopOv65N</th>\n",
       "      <th>HispN</th>\n",
       "      <th>...</th>\n",
       "      <th>EduOtherN</th>\n",
       "      <th>EduBachelor</th>\n",
       "      <th>EduGradProf</th>\n",
       "      <th>GardenCounts</th>\n",
       "      <th>HasGarden</th>\n",
       "      <th>GardenNorm</th>\n",
       "      <th>Inc_low</th>\n",
       "      <th>Inc_mid</th>\n",
       "      <th>Inc_high</th>\n",
       "      <th>Race_other</th>\n",
       "    </tr>\n",
       "  </thead>\n",
       "  <tbody>\n",
       "    <tr>\n",
       "      <th>0</th>\n",
       "      <td>NTA2010</td>\n",
       "      <td>Bath Beach</td>\n",
       "      <td>BK27</td>\n",
       "      <td>Brooklyn</td>\n",
       "      <td>33163</td>\n",
       "      <td>0.503151</td>\n",
       "      <td>0.496849</td>\n",
       "      <td>0.214184</td>\n",
       "      <td>0.147393</td>\n",
       "      <td>0.176733</td>\n",
       "      <td>...</td>\n",
       "      <td>0.663798</td>\n",
       "      <td>0.224372</td>\n",
       "      <td>0.111829</td>\n",
       "      <td>0</td>\n",
       "      <td>0</td>\n",
       "      <td>0.000000</td>\n",
       "      <td>0.433409</td>\n",
       "      <td>0.299790</td>\n",
       "      <td>0.266801</td>\n",
       "      <td>0.013057</td>\n",
       "    </tr>\n",
       "    <tr>\n",
       "      <th>1</th>\n",
       "      <td>NTA2010</td>\n",
       "      <td>Bay Ridge</td>\n",
       "      <td>BK31</td>\n",
       "      <td>Brooklyn</td>\n",
       "      <td>79134</td>\n",
       "      <td>0.478037</td>\n",
       "      <td>0.521963</td>\n",
       "      <td>0.190942</td>\n",
       "      <td>0.156444</td>\n",
       "      <td>0.178608</td>\n",
       "      <td>...</td>\n",
       "      <td>0.535735</td>\n",
       "      <td>0.271976</td>\n",
       "      <td>0.192289</td>\n",
       "      <td>0</td>\n",
       "      <td>0</td>\n",
       "      <td>0.000000</td>\n",
       "      <td>0.409413</td>\n",
       "      <td>0.289008</td>\n",
       "      <td>0.301580</td>\n",
       "      <td>0.022456</td>\n",
       "    </tr>\n",
       "    <tr>\n",
       "      <th>2</th>\n",
       "      <td>NTA2010</td>\n",
       "      <td>Bedford</td>\n",
       "      <td>BK75</td>\n",
       "      <td>Brooklyn</td>\n",
       "      <td>75318</td>\n",
       "      <td>0.484492</td>\n",
       "      <td>0.515508</td>\n",
       "      <td>0.297127</td>\n",
       "      <td>0.077219</td>\n",
       "      <td>0.194933</td>\n",
       "      <td>...</td>\n",
       "      <td>0.678193</td>\n",
       "      <td>0.204352</td>\n",
       "      <td>0.117455</td>\n",
       "      <td>23</td>\n",
       "      <td>1</td>\n",
       "      <td>0.043893</td>\n",
       "      <td>0.575924</td>\n",
       "      <td>0.229287</td>\n",
       "      <td>0.194789</td>\n",
       "      <td>0.018229</td>\n",
       "    </tr>\n",
       "    <tr>\n",
       "      <th>3</th>\n",
       "      <td>NTA2010</td>\n",
       "      <td>Bensonhurst East</td>\n",
       "      <td>BK29</td>\n",
       "      <td>Brooklyn</td>\n",
       "      <td>64267</td>\n",
       "      <td>0.486766</td>\n",
       "      <td>0.513234</td>\n",
       "      <td>0.198749</td>\n",
       "      <td>0.157266</td>\n",
       "      <td>0.123283</td>\n",
       "      <td>...</td>\n",
       "      <td>0.698153</td>\n",
       "      <td>0.204564</td>\n",
       "      <td>0.097283</td>\n",
       "      <td>1</td>\n",
       "      <td>1</td>\n",
       "      <td>0.001908</td>\n",
       "      <td>0.510524</td>\n",
       "      <td>0.290981</td>\n",
       "      <td>0.198495</td>\n",
       "      <td>0.016509</td>\n",
       "    </tr>\n",
       "    <tr>\n",
       "      <th>4</th>\n",
       "      <td>NTA2010</td>\n",
       "      <td>Bensonhurst West</td>\n",
       "      <td>BK28</td>\n",
       "      <td>Brooklyn</td>\n",
       "      <td>91646</td>\n",
       "      <td>0.487212</td>\n",
       "      <td>0.512788</td>\n",
       "      <td>0.210462</td>\n",
       "      <td>0.142625</td>\n",
       "      <td>0.145975</td>\n",
       "      <td>...</td>\n",
       "      <td>0.737618</td>\n",
       "      <td>0.188800</td>\n",
       "      <td>0.073582</td>\n",
       "      <td>2</td>\n",
       "      <td>1</td>\n",
       "      <td>0.003817</td>\n",
       "      <td>0.492862</td>\n",
       "      <td>0.285700</td>\n",
       "      <td>0.221438</td>\n",
       "      <td>0.013345</td>\n",
       "    </tr>\n",
       "  </tbody>\n",
       "</table>\n",
       "<p>5 rows × 44 columns</p>\n",
       "</div>"
      ],
      "text/plain": [
       "   GeoType               NTA GeoID   Borough  Pop_1E    MaleEN     FemEN  \\\n",
       "0  NTA2010        Bath Beach  BK27  Brooklyn   33163  0.503151  0.496849   \n",
       "1  NTA2010         Bay Ridge  BK31  Brooklyn   79134  0.478037  0.521963   \n",
       "2  NTA2010           Bedford  BK75  Brooklyn   75318  0.484492  0.515508   \n",
       "3  NTA2010  Bensonhurst East  BK29  Brooklyn   64267  0.486766  0.513234   \n",
       "4  NTA2010  Bensonhurst West  BK28  Brooklyn   91646  0.487212  0.512788   \n",
       "\n",
       "   PopUnd18N  PopOv65N     HispN  ...  EduOtherN  EduBachelor  EduGradProf  \\\n",
       "0   0.214184  0.147393  0.176733  ...   0.663798     0.224372     0.111829   \n",
       "1   0.190942  0.156444  0.178608  ...   0.535735     0.271976     0.192289   \n",
       "2   0.297127  0.077219  0.194933  ...   0.678193     0.204352     0.117455   \n",
       "3   0.198749  0.157266  0.123283  ...   0.698153     0.204564     0.097283   \n",
       "4   0.210462  0.142625  0.145975  ...   0.737618     0.188800     0.073582   \n",
       "\n",
       "   GardenCounts  HasGarden  GardenNorm   Inc_low   Inc_mid  Inc_high  \\\n",
       "0             0          0    0.000000  0.433409  0.299790  0.266801   \n",
       "1             0          0    0.000000  0.409413  0.289008  0.301580   \n",
       "2            23          1    0.043893  0.575924  0.229287  0.194789   \n",
       "3             1          1    0.001908  0.510524  0.290981  0.198495   \n",
       "4             2          1    0.003817  0.492862  0.285700  0.221438   \n",
       "\n",
       "   Race_other  \n",
       "0    0.013057  \n",
       "1    0.022456  \n",
       "2    0.018229  \n",
       "3    0.016509  \n",
       "4    0.013345  \n",
       "\n",
       "[5 rows x 44 columns]"
      ]
     },
     "execution_count": 184,
     "metadata": {},
     "output_type": "execute_result"
    }
   ],
   "source": [
    "dec13.head()"
   ]
  },
  {
   "cell_type": "code",
   "execution_count": 186,
   "metadata": {},
   "outputs": [],
   "source": [
    "dec13['Asian_other'] = dec13.Race_other + dec13.AsianN "
   ]
  },
  {
   "cell_type": "code",
   "execution_count": 187,
   "metadata": {},
   "outputs": [
    {
     "data": {
      "text/html": [
       "<div>\n",
       "<style scoped>\n",
       "    .dataframe tbody tr th:only-of-type {\n",
       "        vertical-align: middle;\n",
       "    }\n",
       "\n",
       "    .dataframe tbody tr th {\n",
       "        vertical-align: top;\n",
       "    }\n",
       "\n",
       "    .dataframe thead th {\n",
       "        text-align: right;\n",
       "    }\n",
       "</style>\n",
       "<table border=\"1\" class=\"dataframe\">\n",
       "  <thead>\n",
       "    <tr style=\"text-align: right;\">\n",
       "      <th></th>\n",
       "      <th>GeoType</th>\n",
       "      <th>NTA</th>\n",
       "      <th>GeoID</th>\n",
       "      <th>Borough</th>\n",
       "      <th>Pop_1E</th>\n",
       "      <th>MaleEN</th>\n",
       "      <th>FemEN</th>\n",
       "      <th>PopUnd18N</th>\n",
       "      <th>PopOv65N</th>\n",
       "      <th>HispN</th>\n",
       "      <th>...</th>\n",
       "      <th>EduBachelor</th>\n",
       "      <th>EduGradProf</th>\n",
       "      <th>GardenCounts</th>\n",
       "      <th>HasGarden</th>\n",
       "      <th>GardenNorm</th>\n",
       "      <th>Inc_low</th>\n",
       "      <th>Inc_mid</th>\n",
       "      <th>Inc_high</th>\n",
       "      <th>Race_other</th>\n",
       "      <th>Asian_other</th>\n",
       "    </tr>\n",
       "  </thead>\n",
       "  <tbody>\n",
       "    <tr>\n",
       "      <th>0</th>\n",
       "      <td>NTA2010</td>\n",
       "      <td>Bath Beach</td>\n",
       "      <td>BK27</td>\n",
       "      <td>Brooklyn</td>\n",
       "      <td>33163</td>\n",
       "      <td>0.503151</td>\n",
       "      <td>0.496849</td>\n",
       "      <td>0.214184</td>\n",
       "      <td>0.147393</td>\n",
       "      <td>0.176733</td>\n",
       "      <td>...</td>\n",
       "      <td>0.224372</td>\n",
       "      <td>0.111829</td>\n",
       "      <td>0</td>\n",
       "      <td>0</td>\n",
       "      <td>0.000000</td>\n",
       "      <td>0.433409</td>\n",
       "      <td>0.299790</td>\n",
       "      <td>0.266801</td>\n",
       "      <td>0.013057</td>\n",
       "      <td>0.374152</td>\n",
       "    </tr>\n",
       "    <tr>\n",
       "      <th>1</th>\n",
       "      <td>NTA2010</td>\n",
       "      <td>Bay Ridge</td>\n",
       "      <td>BK31</td>\n",
       "      <td>Brooklyn</td>\n",
       "      <td>79134</td>\n",
       "      <td>0.478037</td>\n",
       "      <td>0.521963</td>\n",
       "      <td>0.190942</td>\n",
       "      <td>0.156444</td>\n",
       "      <td>0.178608</td>\n",
       "      <td>...</td>\n",
       "      <td>0.271976</td>\n",
       "      <td>0.192289</td>\n",
       "      <td>0</td>\n",
       "      <td>0</td>\n",
       "      <td>0.000000</td>\n",
       "      <td>0.409413</td>\n",
       "      <td>0.289008</td>\n",
       "      <td>0.301580</td>\n",
       "      <td>0.022456</td>\n",
       "      <td>0.167968</td>\n",
       "    </tr>\n",
       "    <tr>\n",
       "      <th>2</th>\n",
       "      <td>NTA2010</td>\n",
       "      <td>Bedford</td>\n",
       "      <td>BK75</td>\n",
       "      <td>Brooklyn</td>\n",
       "      <td>75318</td>\n",
       "      <td>0.484492</td>\n",
       "      <td>0.515508</td>\n",
       "      <td>0.297127</td>\n",
       "      <td>0.077219</td>\n",
       "      <td>0.194933</td>\n",
       "      <td>...</td>\n",
       "      <td>0.204352</td>\n",
       "      <td>0.117455</td>\n",
       "      <td>23</td>\n",
       "      <td>1</td>\n",
       "      <td>0.043893</td>\n",
       "      <td>0.575924</td>\n",
       "      <td>0.229287</td>\n",
       "      <td>0.194789</td>\n",
       "      <td>0.018229</td>\n",
       "      <td>0.048634</td>\n",
       "    </tr>\n",
       "    <tr>\n",
       "      <th>3</th>\n",
       "      <td>NTA2010</td>\n",
       "      <td>Bensonhurst East</td>\n",
       "      <td>BK29</td>\n",
       "      <td>Brooklyn</td>\n",
       "      <td>64267</td>\n",
       "      <td>0.486766</td>\n",
       "      <td>0.513234</td>\n",
       "      <td>0.198749</td>\n",
       "      <td>0.157266</td>\n",
       "      <td>0.123283</td>\n",
       "      <td>...</td>\n",
       "      <td>0.204564</td>\n",
       "      <td>0.097283</td>\n",
       "      <td>1</td>\n",
       "      <td>1</td>\n",
       "      <td>0.001908</td>\n",
       "      <td>0.510524</td>\n",
       "      <td>0.290981</td>\n",
       "      <td>0.198495</td>\n",
       "      <td>0.016509</td>\n",
       "      <td>0.403302</td>\n",
       "    </tr>\n",
       "    <tr>\n",
       "      <th>4</th>\n",
       "      <td>NTA2010</td>\n",
       "      <td>Bensonhurst West</td>\n",
       "      <td>BK28</td>\n",
       "      <td>Brooklyn</td>\n",
       "      <td>91646</td>\n",
       "      <td>0.487212</td>\n",
       "      <td>0.512788</td>\n",
       "      <td>0.210462</td>\n",
       "      <td>0.142625</td>\n",
       "      <td>0.145975</td>\n",
       "      <td>...</td>\n",
       "      <td>0.188800</td>\n",
       "      <td>0.073582</td>\n",
       "      <td>2</td>\n",
       "      <td>1</td>\n",
       "      <td>0.003817</td>\n",
       "      <td>0.492862</td>\n",
       "      <td>0.285700</td>\n",
       "      <td>0.221438</td>\n",
       "      <td>0.013345</td>\n",
       "      <td>0.418513</td>\n",
       "    </tr>\n",
       "  </tbody>\n",
       "</table>\n",
       "<p>5 rows × 45 columns</p>\n",
       "</div>"
      ],
      "text/plain": [
       "   GeoType               NTA GeoID   Borough  Pop_1E    MaleEN     FemEN  \\\n",
       "0  NTA2010        Bath Beach  BK27  Brooklyn   33163  0.503151  0.496849   \n",
       "1  NTA2010         Bay Ridge  BK31  Brooklyn   79134  0.478037  0.521963   \n",
       "2  NTA2010           Bedford  BK75  Brooklyn   75318  0.484492  0.515508   \n",
       "3  NTA2010  Bensonhurst East  BK29  Brooklyn   64267  0.486766  0.513234   \n",
       "4  NTA2010  Bensonhurst West  BK28  Brooklyn   91646  0.487212  0.512788   \n",
       "\n",
       "   PopUnd18N  PopOv65N     HispN  ...  EduBachelor  EduGradProf  GardenCounts  \\\n",
       "0   0.214184  0.147393  0.176733  ...     0.224372     0.111829             0   \n",
       "1   0.190942  0.156444  0.178608  ...     0.271976     0.192289             0   \n",
       "2   0.297127  0.077219  0.194933  ...     0.204352     0.117455            23   \n",
       "3   0.198749  0.157266  0.123283  ...     0.204564     0.097283             1   \n",
       "4   0.210462  0.142625  0.145975  ...     0.188800     0.073582             2   \n",
       "\n",
       "   HasGarden  GardenNorm   Inc_low   Inc_mid  Inc_high  Race_other  \\\n",
       "0          0    0.000000  0.433409  0.299790  0.266801    0.013057   \n",
       "1          0    0.000000  0.409413  0.289008  0.301580    0.022456   \n",
       "2          1    0.043893  0.575924  0.229287  0.194789    0.018229   \n",
       "3          1    0.001908  0.510524  0.290981  0.198495    0.016509   \n",
       "4          1    0.003817  0.492862  0.285700  0.221438    0.013345   \n",
       "\n",
       "   Asian_other  \n",
       "0     0.374152  \n",
       "1     0.167968  \n",
       "2     0.048634  \n",
       "3     0.403302  \n",
       "4     0.418513  \n",
       "\n",
       "[5 rows x 45 columns]"
      ]
     },
     "execution_count": 187,
     "metadata": {},
     "output_type": "execute_result"
    }
   ],
   "source": [
    "dec13.head()"
   ]
  },
  {
   "cell_type": "code",
   "execution_count": 185,
   "metadata": {},
   "outputs": [
    {
     "data": {
      "text/html": [
       "<div>\n",
       "<style scoped>\n",
       "    .dataframe tbody tr th:only-of-type {\n",
       "        vertical-align: middle;\n",
       "    }\n",
       "\n",
       "    .dataframe tbody tr th {\n",
       "        vertical-align: top;\n",
       "    }\n",
       "\n",
       "    .dataframe thead th {\n",
       "        text-align: right;\n",
       "    }\n",
       "</style>\n",
       "<table border=\"1\" class=\"dataframe\">\n",
       "  <thead>\n",
       "    <tr style=\"text-align: right;\">\n",
       "      <th></th>\n",
       "      <th>FELONY</th>\n",
       "      <th>MISDEMEANOR</th>\n",
       "      <th>VIOLATION</th>\n",
       "      <th>TOTAL_CRIME</th>\n",
       "      <th>Population</th>\n",
       "      <th>GardenCounts</th>\n",
       "      <th>FELONY_norm</th>\n",
       "      <th>MISDEMEANOR_norm</th>\n",
       "      <th>VIOLATION_norm</th>\n",
       "      <th>TOTAL_CRIME_norm</th>\n",
       "    </tr>\n",
       "    <tr>\n",
       "      <th>ntaname</th>\n",
       "      <th></th>\n",
       "      <th></th>\n",
       "      <th></th>\n",
       "      <th></th>\n",
       "      <th></th>\n",
       "      <th></th>\n",
       "      <th></th>\n",
       "      <th></th>\n",
       "      <th></th>\n",
       "      <th></th>\n",
       "    </tr>\n",
       "  </thead>\n",
       "  <tbody>\n",
       "    <tr>\n",
       "      <th>Allerton-Pelham Gardens</th>\n",
       "      <td>752.0</td>\n",
       "      <td>1925.0</td>\n",
       "      <td>444.0</td>\n",
       "      <td>3121.0</td>\n",
       "      <td>32450.0</td>\n",
       "      <td>1.0</td>\n",
       "      <td>0.023174</td>\n",
       "      <td>0.059322</td>\n",
       "      <td>0.013683</td>\n",
       "      <td>0.096179</td>\n",
       "    </tr>\n",
       "    <tr>\n",
       "      <th>Annadale-Huguenot-Prince's Bay-Eltingville</th>\n",
       "      <td>431.0</td>\n",
       "      <td>1215.0</td>\n",
       "      <td>464.0</td>\n",
       "      <td>2110.0</td>\n",
       "      <td>28698.0</td>\n",
       "      <td>0.0</td>\n",
       "      <td>0.015018</td>\n",
       "      <td>0.042337</td>\n",
       "      <td>0.016168</td>\n",
       "      <td>0.073524</td>\n",
       "    </tr>\n",
       "    <tr>\n",
       "      <th>Arden Heights</th>\n",
       "      <td>263.0</td>\n",
       "      <td>785.0</td>\n",
       "      <td>324.0</td>\n",
       "      <td>1372.0</td>\n",
       "      <td>26482.0</td>\n",
       "      <td>0.0</td>\n",
       "      <td>0.009931</td>\n",
       "      <td>0.029643</td>\n",
       "      <td>0.012235</td>\n",
       "      <td>0.051809</td>\n",
       "    </tr>\n",
       "    <tr>\n",
       "      <th>Astoria</th>\n",
       "      <td>4002.0</td>\n",
       "      <td>8082.0</td>\n",
       "      <td>2211.0</td>\n",
       "      <td>14295.0</td>\n",
       "      <td>77252.0</td>\n",
       "      <td>1.0</td>\n",
       "      <td>0.051804</td>\n",
       "      <td>0.104619</td>\n",
       "      <td>0.028621</td>\n",
       "      <td>0.185044</td>\n",
       "    </tr>\n",
       "    <tr>\n",
       "      <th>Auburndale</th>\n",
       "      <td>557.0</td>\n",
       "      <td>713.0</td>\n",
       "      <td>258.0</td>\n",
       "      <td>1528.0</td>\n",
       "      <td>20609.0</td>\n",
       "      <td>0.0</td>\n",
       "      <td>0.027027</td>\n",
       "      <td>0.034597</td>\n",
       "      <td>0.012519</td>\n",
       "      <td>0.074142</td>\n",
       "    </tr>\n",
       "  </tbody>\n",
       "</table>\n",
       "</div>"
      ],
      "text/plain": [
       "                                            FELONY  MISDEMEANOR  VIOLATION  \\\n",
       "ntaname                                                                      \n",
       "Allerton-Pelham Gardens                      752.0       1925.0      444.0   \n",
       "Annadale-Huguenot-Prince's Bay-Eltingville   431.0       1215.0      464.0   \n",
       "Arden Heights                                263.0        785.0      324.0   \n",
       "Astoria                                     4002.0       8082.0     2211.0   \n",
       "Auburndale                                   557.0        713.0      258.0   \n",
       "\n",
       "                                            TOTAL_CRIME  Population  \\\n",
       "ntaname                                                               \n",
       "Allerton-Pelham Gardens                          3121.0     32450.0   \n",
       "Annadale-Huguenot-Prince's Bay-Eltingville       2110.0     28698.0   \n",
       "Arden Heights                                    1372.0     26482.0   \n",
       "Astoria                                         14295.0     77252.0   \n",
       "Auburndale                                       1528.0     20609.0   \n",
       "\n",
       "                                            GardenCounts  FELONY_norm  \\\n",
       "ntaname                                                                 \n",
       "Allerton-Pelham Gardens                              1.0     0.023174   \n",
       "Annadale-Huguenot-Prince's Bay-Eltingville           0.0     0.015018   \n",
       "Arden Heights                                        0.0     0.009931   \n",
       "Astoria                                              1.0     0.051804   \n",
       "Auburndale                                           0.0     0.027027   \n",
       "\n",
       "                                            MISDEMEANOR_norm  VIOLATION_norm  \\\n",
       "ntaname                                                                        \n",
       "Allerton-Pelham Gardens                             0.059322        0.013683   \n",
       "Annadale-Huguenot-Prince's Bay-Eltingville          0.042337        0.016168   \n",
       "Arden Heights                                       0.029643        0.012235   \n",
       "Astoria                                             0.104619        0.028621   \n",
       "Auburndale                                          0.034597        0.012519   \n",
       "\n",
       "                                            TOTAL_CRIME_norm  \n",
       "ntaname                                                       \n",
       "Allerton-Pelham Gardens                             0.096179  \n",
       "Annadale-Huguenot-Prince's Bay-Eltingville          0.073524  \n",
       "Arden Heights                                       0.051809  \n",
       "Astoria                                             0.185044  \n",
       "Auburndale                                          0.074142  "
      ]
     },
     "execution_count": 185,
     "metadata": {},
     "output_type": "execute_result"
    }
   ],
   "source": [
    "#loading crime data\n",
    "crime = pd.read_csv('Crime_totals_normalized.csv', index_col=0) \n",
    "crime.head()\n"
   ]
  },
  {
   "cell_type": "code",
   "execution_count": 193,
   "metadata": {},
   "outputs": [
    {
     "data": {
      "text/plain": [
       "(192, 10)"
      ]
     },
     "execution_count": 193,
     "metadata": {},
     "output_type": "execute_result"
    }
   ],
   "source": [
    "crime.shape"
   ]
  },
  {
   "cell_type": "code",
   "execution_count": 188,
   "metadata": {
    "scrolled": true
   },
   "outputs": [
    {
     "data": {
      "text/html": [
       "<div>\n",
       "<style scoped>\n",
       "    .dataframe tbody tr th:only-of-type {\n",
       "        vertical-align: middle;\n",
       "    }\n",
       "\n",
       "    .dataframe tbody tr th {\n",
       "        vertical-align: top;\n",
       "    }\n",
       "\n",
       "    .dataframe thead th {\n",
       "        text-align: right;\n",
       "    }\n",
       "</style>\n",
       "<table border=\"1\" class=\"dataframe\">\n",
       "  <thead>\n",
       "    <tr style=\"text-align: right;\">\n",
       "      <th></th>\n",
       "      <th>GeoType</th>\n",
       "      <th>NTA</th>\n",
       "      <th>GeoID</th>\n",
       "      <th>Borough</th>\n",
       "      <th>Pop_1E</th>\n",
       "      <th>MaleEN</th>\n",
       "      <th>FemEN</th>\n",
       "      <th>PopUnd18N</th>\n",
       "      <th>PopOv65N</th>\n",
       "      <th>HispN</th>\n",
       "      <th>...</th>\n",
       "      <th>EduBachelor</th>\n",
       "      <th>EduGradProf</th>\n",
       "      <th>GardenCounts</th>\n",
       "      <th>HasGarden</th>\n",
       "      <th>GardenNorm</th>\n",
       "      <th>Inc_low</th>\n",
       "      <th>Inc_mid</th>\n",
       "      <th>Inc_high</th>\n",
       "      <th>Race_other</th>\n",
       "      <th>Asian_other</th>\n",
       "    </tr>\n",
       "  </thead>\n",
       "  <tbody>\n",
       "    <tr>\n",
       "      <th>0</th>\n",
       "      <td>NTA2010</td>\n",
       "      <td>Bath Beach</td>\n",
       "      <td>BK27</td>\n",
       "      <td>Brooklyn</td>\n",
       "      <td>33163</td>\n",
       "      <td>0.503151</td>\n",
       "      <td>0.496849</td>\n",
       "      <td>0.214184</td>\n",
       "      <td>0.147393</td>\n",
       "      <td>0.176733</td>\n",
       "      <td>...</td>\n",
       "      <td>0.224372</td>\n",
       "      <td>0.111829</td>\n",
       "      <td>0</td>\n",
       "      <td>0</td>\n",
       "      <td>0.000000</td>\n",
       "      <td>0.433409</td>\n",
       "      <td>0.299790</td>\n",
       "      <td>0.266801</td>\n",
       "      <td>0.013057</td>\n",
       "      <td>0.374152</td>\n",
       "    </tr>\n",
       "    <tr>\n",
       "      <th>1</th>\n",
       "      <td>NTA2010</td>\n",
       "      <td>Bay Ridge</td>\n",
       "      <td>BK31</td>\n",
       "      <td>Brooklyn</td>\n",
       "      <td>79134</td>\n",
       "      <td>0.478037</td>\n",
       "      <td>0.521963</td>\n",
       "      <td>0.190942</td>\n",
       "      <td>0.156444</td>\n",
       "      <td>0.178608</td>\n",
       "      <td>...</td>\n",
       "      <td>0.271976</td>\n",
       "      <td>0.192289</td>\n",
       "      <td>0</td>\n",
       "      <td>0</td>\n",
       "      <td>0.000000</td>\n",
       "      <td>0.409413</td>\n",
       "      <td>0.289008</td>\n",
       "      <td>0.301580</td>\n",
       "      <td>0.022456</td>\n",
       "      <td>0.167968</td>\n",
       "    </tr>\n",
       "    <tr>\n",
       "      <th>2</th>\n",
       "      <td>NTA2010</td>\n",
       "      <td>Bedford</td>\n",
       "      <td>BK75</td>\n",
       "      <td>Brooklyn</td>\n",
       "      <td>75318</td>\n",
       "      <td>0.484492</td>\n",
       "      <td>0.515508</td>\n",
       "      <td>0.297127</td>\n",
       "      <td>0.077219</td>\n",
       "      <td>0.194933</td>\n",
       "      <td>...</td>\n",
       "      <td>0.204352</td>\n",
       "      <td>0.117455</td>\n",
       "      <td>23</td>\n",
       "      <td>1</td>\n",
       "      <td>0.043893</td>\n",
       "      <td>0.575924</td>\n",
       "      <td>0.229287</td>\n",
       "      <td>0.194789</td>\n",
       "      <td>0.018229</td>\n",
       "      <td>0.048634</td>\n",
       "    </tr>\n",
       "    <tr>\n",
       "      <th>3</th>\n",
       "      <td>NTA2010</td>\n",
       "      <td>Bensonhurst East</td>\n",
       "      <td>BK29</td>\n",
       "      <td>Brooklyn</td>\n",
       "      <td>64267</td>\n",
       "      <td>0.486766</td>\n",
       "      <td>0.513234</td>\n",
       "      <td>0.198749</td>\n",
       "      <td>0.157266</td>\n",
       "      <td>0.123283</td>\n",
       "      <td>...</td>\n",
       "      <td>0.204564</td>\n",
       "      <td>0.097283</td>\n",
       "      <td>1</td>\n",
       "      <td>1</td>\n",
       "      <td>0.001908</td>\n",
       "      <td>0.510524</td>\n",
       "      <td>0.290981</td>\n",
       "      <td>0.198495</td>\n",
       "      <td>0.016509</td>\n",
       "      <td>0.403302</td>\n",
       "    </tr>\n",
       "    <tr>\n",
       "      <th>4</th>\n",
       "      <td>NTA2010</td>\n",
       "      <td>Bensonhurst West</td>\n",
       "      <td>BK28</td>\n",
       "      <td>Brooklyn</td>\n",
       "      <td>91646</td>\n",
       "      <td>0.487212</td>\n",
       "      <td>0.512788</td>\n",
       "      <td>0.210462</td>\n",
       "      <td>0.142625</td>\n",
       "      <td>0.145975</td>\n",
       "      <td>...</td>\n",
       "      <td>0.188800</td>\n",
       "      <td>0.073582</td>\n",
       "      <td>2</td>\n",
       "      <td>1</td>\n",
       "      <td>0.003817</td>\n",
       "      <td>0.492862</td>\n",
       "      <td>0.285700</td>\n",
       "      <td>0.221438</td>\n",
       "      <td>0.013345</td>\n",
       "      <td>0.418513</td>\n",
       "    </tr>\n",
       "  </tbody>\n",
       "</table>\n",
       "<p>5 rows × 45 columns</p>\n",
       "</div>"
      ],
      "text/plain": [
       "   GeoType               NTA GeoID   Borough  Pop_1E    MaleEN     FemEN  \\\n",
       "0  NTA2010        Bath Beach  BK27  Brooklyn   33163  0.503151  0.496849   \n",
       "1  NTA2010         Bay Ridge  BK31  Brooklyn   79134  0.478037  0.521963   \n",
       "2  NTA2010           Bedford  BK75  Brooklyn   75318  0.484492  0.515508   \n",
       "3  NTA2010  Bensonhurst East  BK29  Brooklyn   64267  0.486766  0.513234   \n",
       "4  NTA2010  Bensonhurst West  BK28  Brooklyn   91646  0.487212  0.512788   \n",
       "\n",
       "   PopUnd18N  PopOv65N     HispN  ...  EduBachelor  EduGradProf  GardenCounts  \\\n",
       "0   0.214184  0.147393  0.176733  ...     0.224372     0.111829             0   \n",
       "1   0.190942  0.156444  0.178608  ...     0.271976     0.192289             0   \n",
       "2   0.297127  0.077219  0.194933  ...     0.204352     0.117455            23   \n",
       "3   0.198749  0.157266  0.123283  ...     0.204564     0.097283             1   \n",
       "4   0.210462  0.142625  0.145975  ...     0.188800     0.073582             2   \n",
       "\n",
       "   HasGarden  GardenNorm   Inc_low   Inc_mid  Inc_high  Race_other  \\\n",
       "0          0    0.000000  0.433409  0.299790  0.266801    0.013057   \n",
       "1          0    0.000000  0.409413  0.289008  0.301580    0.022456   \n",
       "2          1    0.043893  0.575924  0.229287  0.194789    0.018229   \n",
       "3          1    0.001908  0.510524  0.290981  0.198495    0.016509   \n",
       "4          1    0.003817  0.492862  0.285700  0.221438    0.013345   \n",
       "\n",
       "   Asian_other  \n",
       "0     0.374152  \n",
       "1     0.167968  \n",
       "2     0.048634  \n",
       "3     0.403302  \n",
       "4     0.418513  \n",
       "\n",
       "[5 rows x 45 columns]"
      ]
     },
     "execution_count": 188,
     "metadata": {},
     "output_type": "execute_result"
    }
   ],
   "source": [
    "dec13.head()"
   ]
  },
  {
   "cell_type": "code",
   "execution_count": 189,
   "metadata": {},
   "outputs": [],
   "source": [
    "dec13['ntaname'] = dec13['NTA']"
   ]
  },
  {
   "cell_type": "code",
   "execution_count": 190,
   "metadata": {},
   "outputs": [
    {
     "data": {
      "text/html": [
       "<div>\n",
       "<style scoped>\n",
       "    .dataframe tbody tr th:only-of-type {\n",
       "        vertical-align: middle;\n",
       "    }\n",
       "\n",
       "    .dataframe tbody tr th {\n",
       "        vertical-align: top;\n",
       "    }\n",
       "\n",
       "    .dataframe thead th {\n",
       "        text-align: right;\n",
       "    }\n",
       "</style>\n",
       "<table border=\"1\" class=\"dataframe\">\n",
       "  <thead>\n",
       "    <tr style=\"text-align: right;\">\n",
       "      <th></th>\n",
       "      <th>GeoType</th>\n",
       "      <th>NTA</th>\n",
       "      <th>GeoID</th>\n",
       "      <th>Borough</th>\n",
       "      <th>Pop_1E</th>\n",
       "      <th>MaleEN</th>\n",
       "      <th>FemEN</th>\n",
       "      <th>PopUnd18N</th>\n",
       "      <th>PopOv65N</th>\n",
       "      <th>HispN</th>\n",
       "      <th>...</th>\n",
       "      <th>EduGradProf</th>\n",
       "      <th>GardenCounts</th>\n",
       "      <th>HasGarden</th>\n",
       "      <th>GardenNorm</th>\n",
       "      <th>Inc_low</th>\n",
       "      <th>Inc_mid</th>\n",
       "      <th>Inc_high</th>\n",
       "      <th>Race_other</th>\n",
       "      <th>Asian_other</th>\n",
       "      <th>ntaname</th>\n",
       "    </tr>\n",
       "  </thead>\n",
       "  <tbody>\n",
       "    <tr>\n",
       "      <th>0</th>\n",
       "      <td>NTA2010</td>\n",
       "      <td>Bath Beach</td>\n",
       "      <td>BK27</td>\n",
       "      <td>Brooklyn</td>\n",
       "      <td>33163</td>\n",
       "      <td>0.503151</td>\n",
       "      <td>0.496849</td>\n",
       "      <td>0.214184</td>\n",
       "      <td>0.147393</td>\n",
       "      <td>0.176733</td>\n",
       "      <td>...</td>\n",
       "      <td>0.111829</td>\n",
       "      <td>0</td>\n",
       "      <td>0</td>\n",
       "      <td>0.000000</td>\n",
       "      <td>0.433409</td>\n",
       "      <td>0.299790</td>\n",
       "      <td>0.266801</td>\n",
       "      <td>0.013057</td>\n",
       "      <td>0.374152</td>\n",
       "      <td>Bath Beach</td>\n",
       "    </tr>\n",
       "    <tr>\n",
       "      <th>1</th>\n",
       "      <td>NTA2010</td>\n",
       "      <td>Bay Ridge</td>\n",
       "      <td>BK31</td>\n",
       "      <td>Brooklyn</td>\n",
       "      <td>79134</td>\n",
       "      <td>0.478037</td>\n",
       "      <td>0.521963</td>\n",
       "      <td>0.190942</td>\n",
       "      <td>0.156444</td>\n",
       "      <td>0.178608</td>\n",
       "      <td>...</td>\n",
       "      <td>0.192289</td>\n",
       "      <td>0</td>\n",
       "      <td>0</td>\n",
       "      <td>0.000000</td>\n",
       "      <td>0.409413</td>\n",
       "      <td>0.289008</td>\n",
       "      <td>0.301580</td>\n",
       "      <td>0.022456</td>\n",
       "      <td>0.167968</td>\n",
       "      <td>Bay Ridge</td>\n",
       "    </tr>\n",
       "    <tr>\n",
       "      <th>2</th>\n",
       "      <td>NTA2010</td>\n",
       "      <td>Bedford</td>\n",
       "      <td>BK75</td>\n",
       "      <td>Brooklyn</td>\n",
       "      <td>75318</td>\n",
       "      <td>0.484492</td>\n",
       "      <td>0.515508</td>\n",
       "      <td>0.297127</td>\n",
       "      <td>0.077219</td>\n",
       "      <td>0.194933</td>\n",
       "      <td>...</td>\n",
       "      <td>0.117455</td>\n",
       "      <td>23</td>\n",
       "      <td>1</td>\n",
       "      <td>0.043893</td>\n",
       "      <td>0.575924</td>\n",
       "      <td>0.229287</td>\n",
       "      <td>0.194789</td>\n",
       "      <td>0.018229</td>\n",
       "      <td>0.048634</td>\n",
       "      <td>Bedford</td>\n",
       "    </tr>\n",
       "    <tr>\n",
       "      <th>3</th>\n",
       "      <td>NTA2010</td>\n",
       "      <td>Bensonhurst East</td>\n",
       "      <td>BK29</td>\n",
       "      <td>Brooklyn</td>\n",
       "      <td>64267</td>\n",
       "      <td>0.486766</td>\n",
       "      <td>0.513234</td>\n",
       "      <td>0.198749</td>\n",
       "      <td>0.157266</td>\n",
       "      <td>0.123283</td>\n",
       "      <td>...</td>\n",
       "      <td>0.097283</td>\n",
       "      <td>1</td>\n",
       "      <td>1</td>\n",
       "      <td>0.001908</td>\n",
       "      <td>0.510524</td>\n",
       "      <td>0.290981</td>\n",
       "      <td>0.198495</td>\n",
       "      <td>0.016509</td>\n",
       "      <td>0.403302</td>\n",
       "      <td>Bensonhurst East</td>\n",
       "    </tr>\n",
       "    <tr>\n",
       "      <th>4</th>\n",
       "      <td>NTA2010</td>\n",
       "      <td>Bensonhurst West</td>\n",
       "      <td>BK28</td>\n",
       "      <td>Brooklyn</td>\n",
       "      <td>91646</td>\n",
       "      <td>0.487212</td>\n",
       "      <td>0.512788</td>\n",
       "      <td>0.210462</td>\n",
       "      <td>0.142625</td>\n",
       "      <td>0.145975</td>\n",
       "      <td>...</td>\n",
       "      <td>0.073582</td>\n",
       "      <td>2</td>\n",
       "      <td>1</td>\n",
       "      <td>0.003817</td>\n",
       "      <td>0.492862</td>\n",
       "      <td>0.285700</td>\n",
       "      <td>0.221438</td>\n",
       "      <td>0.013345</td>\n",
       "      <td>0.418513</td>\n",
       "      <td>Bensonhurst West</td>\n",
       "    </tr>\n",
       "  </tbody>\n",
       "</table>\n",
       "<p>5 rows × 46 columns</p>\n",
       "</div>"
      ],
      "text/plain": [
       "   GeoType               NTA GeoID   Borough  Pop_1E    MaleEN     FemEN  \\\n",
       "0  NTA2010        Bath Beach  BK27  Brooklyn   33163  0.503151  0.496849   \n",
       "1  NTA2010         Bay Ridge  BK31  Brooklyn   79134  0.478037  0.521963   \n",
       "2  NTA2010           Bedford  BK75  Brooklyn   75318  0.484492  0.515508   \n",
       "3  NTA2010  Bensonhurst East  BK29  Brooklyn   64267  0.486766  0.513234   \n",
       "4  NTA2010  Bensonhurst West  BK28  Brooklyn   91646  0.487212  0.512788   \n",
       "\n",
       "   PopUnd18N  PopOv65N     HispN  ...  EduGradProf  GardenCounts  HasGarden  \\\n",
       "0   0.214184  0.147393  0.176733  ...     0.111829             0          0   \n",
       "1   0.190942  0.156444  0.178608  ...     0.192289             0          0   \n",
       "2   0.297127  0.077219  0.194933  ...     0.117455            23          1   \n",
       "3   0.198749  0.157266  0.123283  ...     0.097283             1          1   \n",
       "4   0.210462  0.142625  0.145975  ...     0.073582             2          1   \n",
       "\n",
       "   GardenNorm   Inc_low   Inc_mid  Inc_high  Race_other  Asian_other  \\\n",
       "0    0.000000  0.433409  0.299790  0.266801    0.013057     0.374152   \n",
       "1    0.000000  0.409413  0.289008  0.301580    0.022456     0.167968   \n",
       "2    0.043893  0.575924  0.229287  0.194789    0.018229     0.048634   \n",
       "3    0.001908  0.510524  0.290981  0.198495    0.016509     0.403302   \n",
       "4    0.003817  0.492862  0.285700  0.221438    0.013345     0.418513   \n",
       "\n",
       "            ntaname  \n",
       "0        Bath Beach  \n",
       "1         Bay Ridge  \n",
       "2           Bedford  \n",
       "3  Bensonhurst East  \n",
       "4  Bensonhurst West  \n",
       "\n",
       "[5 rows x 46 columns]"
      ]
     },
     "execution_count": 190,
     "metadata": {},
     "output_type": "execute_result"
    }
   ],
   "source": [
    "dec13.head()"
   ]
  },
  {
   "cell_type": "code",
   "execution_count": 192,
   "metadata": {},
   "outputs": [
    {
     "data": {
      "text/plain": [
       "(195, 46)"
      ]
     },
     "execution_count": 192,
     "metadata": {},
     "output_type": "execute_result"
    }
   ],
   "source": [
    "dec13.shape"
   ]
  },
  {
   "cell_type": "code",
   "execution_count": 194,
   "metadata": {},
   "outputs": [
    {
     "data": {
      "text/plain": [
       "(195, 56)"
      ]
     },
     "execution_count": 194,
     "metadata": {},
     "output_type": "execute_result"
    }
   ],
   "source": [
    "#merging ACS gardens + crime data\n",
    "dec13c = dec13.merge(crime, how='left', left_on='ntaname', right_index=True, validate='one_to_one')\n",
    "dec13c.shape"
   ]
  },
  {
   "cell_type": "code",
   "execution_count": 195,
   "metadata": {},
   "outputs": [
    {
     "data": {
      "text/html": [
       "<div>\n",
       "<style scoped>\n",
       "    .dataframe tbody tr th:only-of-type {\n",
       "        vertical-align: middle;\n",
       "    }\n",
       "\n",
       "    .dataframe tbody tr th {\n",
       "        vertical-align: top;\n",
       "    }\n",
       "\n",
       "    .dataframe thead th {\n",
       "        text-align: right;\n",
       "    }\n",
       "</style>\n",
       "<table border=\"1\" class=\"dataframe\">\n",
       "  <thead>\n",
       "    <tr style=\"text-align: right;\">\n",
       "      <th></th>\n",
       "      <th>GeoType</th>\n",
       "      <th>NTA</th>\n",
       "      <th>GeoID</th>\n",
       "      <th>Borough</th>\n",
       "      <th>Pop_1E</th>\n",
       "      <th>MaleEN</th>\n",
       "      <th>FemEN</th>\n",
       "      <th>PopUnd18N</th>\n",
       "      <th>PopOv65N</th>\n",
       "      <th>HispN</th>\n",
       "      <th>...</th>\n",
       "      <th>FELONY</th>\n",
       "      <th>MISDEMEANOR</th>\n",
       "      <th>VIOLATION</th>\n",
       "      <th>TOTAL_CRIME</th>\n",
       "      <th>Population</th>\n",
       "      <th>GardenCounts_y</th>\n",
       "      <th>FELONY_norm</th>\n",
       "      <th>MISDEMEANOR_norm</th>\n",
       "      <th>VIOLATION_norm</th>\n",
       "      <th>TOTAL_CRIME_norm</th>\n",
       "    </tr>\n",
       "  </thead>\n",
       "  <tbody>\n",
       "    <tr>\n",
       "      <th>0</th>\n",
       "      <td>NTA2010</td>\n",
       "      <td>Bath Beach</td>\n",
       "      <td>BK27</td>\n",
       "      <td>Brooklyn</td>\n",
       "      <td>33163</td>\n",
       "      <td>0.503151</td>\n",
       "      <td>0.496849</td>\n",
       "      <td>0.214184</td>\n",
       "      <td>0.147393</td>\n",
       "      <td>0.176733</td>\n",
       "      <td>...</td>\n",
       "      <td>996.0</td>\n",
       "      <td>2177.0</td>\n",
       "      <td>479.0</td>\n",
       "      <td>3652.0</td>\n",
       "      <td>33163.0</td>\n",
       "      <td>0.0</td>\n",
       "      <td>0.030033</td>\n",
       "      <td>0.065645</td>\n",
       "      <td>0.014444</td>\n",
       "      <td>0.110123</td>\n",
       "    </tr>\n",
       "    <tr>\n",
       "      <th>1</th>\n",
       "      <td>NTA2010</td>\n",
       "      <td>Bay Ridge</td>\n",
       "      <td>BK31</td>\n",
       "      <td>Brooklyn</td>\n",
       "      <td>79134</td>\n",
       "      <td>0.478037</td>\n",
       "      <td>0.521963</td>\n",
       "      <td>0.190942</td>\n",
       "      <td>0.156444</td>\n",
       "      <td>0.178608</td>\n",
       "      <td>...</td>\n",
       "      <td>2661.0</td>\n",
       "      <td>6493.0</td>\n",
       "      <td>1886.0</td>\n",
       "      <td>11040.0</td>\n",
       "      <td>79134.0</td>\n",
       "      <td>0.0</td>\n",
       "      <td>0.033627</td>\n",
       "      <td>0.082051</td>\n",
       "      <td>0.023833</td>\n",
       "      <td>0.139510</td>\n",
       "    </tr>\n",
       "    <tr>\n",
       "      <th>2</th>\n",
       "      <td>NTA2010</td>\n",
       "      <td>Bedford</td>\n",
       "      <td>BK75</td>\n",
       "      <td>Brooklyn</td>\n",
       "      <td>75318</td>\n",
       "      <td>0.484492</td>\n",
       "      <td>0.515508</td>\n",
       "      <td>0.297127</td>\n",
       "      <td>0.077219</td>\n",
       "      <td>0.194933</td>\n",
       "      <td>...</td>\n",
       "      <td>6178.0</td>\n",
       "      <td>9390.0</td>\n",
       "      <td>2485.0</td>\n",
       "      <td>18053.0</td>\n",
       "      <td>75318.0</td>\n",
       "      <td>23.0</td>\n",
       "      <td>0.082026</td>\n",
       "      <td>0.124671</td>\n",
       "      <td>0.032993</td>\n",
       "      <td>0.239690</td>\n",
       "    </tr>\n",
       "    <tr>\n",
       "      <th>3</th>\n",
       "      <td>NTA2010</td>\n",
       "      <td>Bensonhurst East</td>\n",
       "      <td>BK29</td>\n",
       "      <td>Brooklyn</td>\n",
       "      <td>64267</td>\n",
       "      <td>0.486766</td>\n",
       "      <td>0.513234</td>\n",
       "      <td>0.198749</td>\n",
       "      <td>0.157266</td>\n",
       "      <td>0.123283</td>\n",
       "      <td>...</td>\n",
       "      <td>1888.0</td>\n",
       "      <td>3085.0</td>\n",
       "      <td>962.0</td>\n",
       "      <td>5935.0</td>\n",
       "      <td>64267.0</td>\n",
       "      <td>1.0</td>\n",
       "      <td>0.029377</td>\n",
       "      <td>0.048003</td>\n",
       "      <td>0.014969</td>\n",
       "      <td>0.092349</td>\n",
       "    </tr>\n",
       "    <tr>\n",
       "      <th>4</th>\n",
       "      <td>NTA2010</td>\n",
       "      <td>Bensonhurst West</td>\n",
       "      <td>BK28</td>\n",
       "      <td>Brooklyn</td>\n",
       "      <td>91646</td>\n",
       "      <td>0.487212</td>\n",
       "      <td>0.512788</td>\n",
       "      <td>0.210462</td>\n",
       "      <td>0.142625</td>\n",
       "      <td>0.145975</td>\n",
       "      <td>...</td>\n",
       "      <td>2539.0</td>\n",
       "      <td>4214.0</td>\n",
       "      <td>1201.0</td>\n",
       "      <td>7954.0</td>\n",
       "      <td>91646.0</td>\n",
       "      <td>2.0</td>\n",
       "      <td>0.027704</td>\n",
       "      <td>0.045981</td>\n",
       "      <td>0.013105</td>\n",
       "      <td>0.086790</td>\n",
       "    </tr>\n",
       "  </tbody>\n",
       "</table>\n",
       "<p>5 rows × 56 columns</p>\n",
       "</div>"
      ],
      "text/plain": [
       "   GeoType               NTA GeoID   Borough  Pop_1E    MaleEN     FemEN  \\\n",
       "0  NTA2010        Bath Beach  BK27  Brooklyn   33163  0.503151  0.496849   \n",
       "1  NTA2010         Bay Ridge  BK31  Brooklyn   79134  0.478037  0.521963   \n",
       "2  NTA2010           Bedford  BK75  Brooklyn   75318  0.484492  0.515508   \n",
       "3  NTA2010  Bensonhurst East  BK29  Brooklyn   64267  0.486766  0.513234   \n",
       "4  NTA2010  Bensonhurst West  BK28  Brooklyn   91646  0.487212  0.512788   \n",
       "\n",
       "   PopUnd18N  PopOv65N     HispN  ...  FELONY  MISDEMEANOR  VIOLATION  \\\n",
       "0   0.214184  0.147393  0.176733  ...   996.0       2177.0      479.0   \n",
       "1   0.190942  0.156444  0.178608  ...  2661.0       6493.0     1886.0   \n",
       "2   0.297127  0.077219  0.194933  ...  6178.0       9390.0     2485.0   \n",
       "3   0.198749  0.157266  0.123283  ...  1888.0       3085.0      962.0   \n",
       "4   0.210462  0.142625  0.145975  ...  2539.0       4214.0     1201.0   \n",
       "\n",
       "   TOTAL_CRIME  Population  GardenCounts_y  FELONY_norm  MISDEMEANOR_norm  \\\n",
       "0       3652.0     33163.0             0.0     0.030033          0.065645   \n",
       "1      11040.0     79134.0             0.0     0.033627          0.082051   \n",
       "2      18053.0     75318.0            23.0     0.082026          0.124671   \n",
       "3       5935.0     64267.0             1.0     0.029377          0.048003   \n",
       "4       7954.0     91646.0             2.0     0.027704          0.045981   \n",
       "\n",
       "   VIOLATION_norm  TOTAL_CRIME_norm  \n",
       "0        0.014444          0.110123  \n",
       "1        0.023833          0.139510  \n",
       "2        0.032993          0.239690  \n",
       "3        0.014969          0.092349  \n",
       "4        0.013105          0.086790  \n",
       "\n",
       "[5 rows x 56 columns]"
      ]
     },
     "execution_count": 195,
     "metadata": {},
     "output_type": "execute_result"
    }
   ],
   "source": [
    "dec13c.head()"
   ]
  },
  {
   "cell_type": "code",
   "execution_count": 197,
   "metadata": {},
   "outputs": [
    {
     "data": {
      "text/plain": [
       "Index(['GeoType', 'NTA', 'GeoID', 'Borough', 'Pop_1E', 'MaleEN', 'FemEN',\n",
       "       'PopUnd18N', 'PopOv65N', 'HispN', 'NotHispN', 'WhiteN', 'BlackN',\n",
       "       'NativeN', 'AsianN', 'PacificN', 'OtherRace1N', 'OtherRace2N', 'HHPop',\n",
       "       'HHINC_U10N', 'HHINC_10t14N', 'HHINC_15t24N', 'HHINC_25t34N',\n",
       "       'HHINC_35t49N', 'HHINC_50t74N', 'HHINC_75t99N', 'HHINC_100t149N',\n",
       "       'HHINC_150t199N', 'HHINC_200plN', 'Pop16yrsOver', 'Labor_forceN',\n",
       "       'CivilianLF', 'CLF_UnemployedN', 'PopOver25', 'EduOtherN',\n",
       "       'EduBachelor', 'EduGradProf', 'GardenCounts_x', 'HasGarden',\n",
       "       'GardenNorm', 'Inc_low', 'Inc_mid', 'Inc_high', 'Race_other',\n",
       "       'Asian_other', 'ntaname', 'FELONY', 'MISDEMEANOR', 'VIOLATION',\n",
       "       'TOTAL_CRIME', 'Population', 'GardenCounts_y', 'FELONY_norm',\n",
       "       'MISDEMEANOR_norm', 'VIOLATION_norm', 'TOTAL_CRIME_norm'],\n",
       "      dtype='object')"
      ]
     },
     "execution_count": 197,
     "metadata": {},
     "output_type": "execute_result"
    }
   ],
   "source": [
    "dec13c.columns"
   ]
  },
  {
   "cell_type": "code",
   "execution_count": 222,
   "metadata": {},
   "outputs": [],
   "source": [
    "#new dataframe combining selected ACS features + garden data normalized + crime \n",
    "acscrime = dec13c[['NTA','PopOv65N','HispN','WhiteN', 'BlackN',\n",
    "           'CLF_UnemployedN','EduOtherN',\n",
    "       'EduBachelor', 'EduGradProf', 'GardenNorm','Inc_low', 'Inc_mid', 'Inc_high',\n",
    "           'FELONY_norm',\n",
    "       'MISDEMEANOR_norm', 'VIOLATION_norm' ]].copy()"
   ]
  },
  {
   "cell_type": "code",
   "execution_count": 223,
   "metadata": {},
   "outputs": [
    {
     "data": {
      "text/html": [
       "<div>\n",
       "<style scoped>\n",
       "    .dataframe tbody tr th:only-of-type {\n",
       "        vertical-align: middle;\n",
       "    }\n",
       "\n",
       "    .dataframe tbody tr th {\n",
       "        vertical-align: top;\n",
       "    }\n",
       "\n",
       "    .dataframe thead th {\n",
       "        text-align: right;\n",
       "    }\n",
       "</style>\n",
       "<table border=\"1\" class=\"dataframe\">\n",
       "  <thead>\n",
       "    <tr style=\"text-align: right;\">\n",
       "      <th></th>\n",
       "      <th>NTA</th>\n",
       "      <th>PopOv65N</th>\n",
       "      <th>HispN</th>\n",
       "      <th>WhiteN</th>\n",
       "      <th>BlackN</th>\n",
       "      <th>CLF_UnemployedN</th>\n",
       "      <th>EduOtherN</th>\n",
       "      <th>EduBachelor</th>\n",
       "      <th>EduGradProf</th>\n",
       "      <th>GardenNorm</th>\n",
       "      <th>Inc_low</th>\n",
       "      <th>Inc_mid</th>\n",
       "      <th>Inc_high</th>\n",
       "      <th>FELONY_norm</th>\n",
       "      <th>MISDEMEANOR_norm</th>\n",
       "      <th>VIOLATION_norm</th>\n",
       "    </tr>\n",
       "  </thead>\n",
       "  <tbody>\n",
       "    <tr>\n",
       "      <th>0</th>\n",
       "      <td>Bath Beach</td>\n",
       "      <td>0.147393</td>\n",
       "      <td>0.176733</td>\n",
       "      <td>0.436933</td>\n",
       "      <td>0.012182</td>\n",
       "      <td>0.070566</td>\n",
       "      <td>0.663798</td>\n",
       "      <td>0.224372</td>\n",
       "      <td>0.111829</td>\n",
       "      <td>0.000000</td>\n",
       "      <td>0.433409</td>\n",
       "      <td>0.299790</td>\n",
       "      <td>0.266801</td>\n",
       "      <td>0.030033</td>\n",
       "      <td>0.065645</td>\n",
       "      <td>0.014444</td>\n",
       "    </tr>\n",
       "    <tr>\n",
       "      <th>1</th>\n",
       "      <td>Bay Ridge</td>\n",
       "      <td>0.156444</td>\n",
       "      <td>0.178608</td>\n",
       "      <td>0.634329</td>\n",
       "      <td>0.019094</td>\n",
       "      <td>0.074922</td>\n",
       "      <td>0.535735</td>\n",
       "      <td>0.271976</td>\n",
       "      <td>0.192289</td>\n",
       "      <td>0.000000</td>\n",
       "      <td>0.409413</td>\n",
       "      <td>0.289008</td>\n",
       "      <td>0.301580</td>\n",
       "      <td>0.033627</td>\n",
       "      <td>0.082051</td>\n",
       "      <td>0.023833</td>\n",
       "    </tr>\n",
       "    <tr>\n",
       "      <th>2</th>\n",
       "      <td>Bedford</td>\n",
       "      <td>0.077219</td>\n",
       "      <td>0.194933</td>\n",
       "      <td>0.350607</td>\n",
       "      <td>0.405826</td>\n",
       "      <td>0.125027</td>\n",
       "      <td>0.678193</td>\n",
       "      <td>0.204352</td>\n",
       "      <td>0.117455</td>\n",
       "      <td>0.043893</td>\n",
       "      <td>0.575924</td>\n",
       "      <td>0.229287</td>\n",
       "      <td>0.194789</td>\n",
       "      <td>0.082026</td>\n",
       "      <td>0.124671</td>\n",
       "      <td>0.032993</td>\n",
       "    </tr>\n",
       "    <tr>\n",
       "      <th>3</th>\n",
       "      <td>Bensonhurst East</td>\n",
       "      <td>0.157266</td>\n",
       "      <td>0.123283</td>\n",
       "      <td>0.465153</td>\n",
       "      <td>0.008262</td>\n",
       "      <td>0.085202</td>\n",
       "      <td>0.698153</td>\n",
       "      <td>0.204564</td>\n",
       "      <td>0.097283</td>\n",
       "      <td>0.001908</td>\n",
       "      <td>0.510524</td>\n",
       "      <td>0.290981</td>\n",
       "      <td>0.198495</td>\n",
       "      <td>0.029377</td>\n",
       "      <td>0.048003</td>\n",
       "      <td>0.014969</td>\n",
       "    </tr>\n",
       "    <tr>\n",
       "      <th>4</th>\n",
       "      <td>Bensonhurst West</td>\n",
       "      <td>0.142625</td>\n",
       "      <td>0.145975</td>\n",
       "      <td>0.426773</td>\n",
       "      <td>0.008740</td>\n",
       "      <td>0.088342</td>\n",
       "      <td>0.737618</td>\n",
       "      <td>0.188800</td>\n",
       "      <td>0.073582</td>\n",
       "      <td>0.003817</td>\n",
       "      <td>0.492862</td>\n",
       "      <td>0.285700</td>\n",
       "      <td>0.221438</td>\n",
       "      <td>0.027704</td>\n",
       "      <td>0.045981</td>\n",
       "      <td>0.013105</td>\n",
       "    </tr>\n",
       "  </tbody>\n",
       "</table>\n",
       "</div>"
      ],
      "text/plain": [
       "                NTA  PopOv65N     HispN    WhiteN    BlackN  CLF_UnemployedN  \\\n",
       "0        Bath Beach  0.147393  0.176733  0.436933  0.012182         0.070566   \n",
       "1         Bay Ridge  0.156444  0.178608  0.634329  0.019094         0.074922   \n",
       "2           Bedford  0.077219  0.194933  0.350607  0.405826         0.125027   \n",
       "3  Bensonhurst East  0.157266  0.123283  0.465153  0.008262         0.085202   \n",
       "4  Bensonhurst West  0.142625  0.145975  0.426773  0.008740         0.088342   \n",
       "\n",
       "   EduOtherN  EduBachelor  EduGradProf  GardenNorm   Inc_low   Inc_mid  \\\n",
       "0   0.663798     0.224372     0.111829    0.000000  0.433409  0.299790   \n",
       "1   0.535735     0.271976     0.192289    0.000000  0.409413  0.289008   \n",
       "2   0.678193     0.204352     0.117455    0.043893  0.575924  0.229287   \n",
       "3   0.698153     0.204564     0.097283    0.001908  0.510524  0.290981   \n",
       "4   0.737618     0.188800     0.073582    0.003817  0.492862  0.285700   \n",
       "\n",
       "   Inc_high  FELONY_norm  MISDEMEANOR_norm  VIOLATION_norm  \n",
       "0  0.266801     0.030033          0.065645        0.014444  \n",
       "1  0.301580     0.033627          0.082051        0.023833  \n",
       "2  0.194789     0.082026          0.124671        0.032993  \n",
       "3  0.198495     0.029377          0.048003        0.014969  \n",
       "4  0.221438     0.027704          0.045981        0.013105  "
      ]
     },
     "execution_count": 223,
     "metadata": {},
     "output_type": "execute_result"
    }
   ],
   "source": [
    "acscrime.head()"
   ]
  },
  {
   "cell_type": "code",
   "execution_count": 226,
   "metadata": {},
   "outputs": [],
   "source": [
    "acscrime = acscrime.set_index('NTA')"
   ]
  },
  {
   "cell_type": "code",
   "execution_count": 227,
   "metadata": {},
   "outputs": [],
   "source": [
    "acscrime = acscrime.replace([np.inf, -np.inf, np.nan], 0)"
   ]
  },
  {
   "cell_type": "code",
   "execution_count": 228,
   "metadata": {},
   "outputs": [],
   "source": [
    "# Create a PCA instance: pca\n",
    "pca = PCA(n_components=10)\n",
    "principalComponents = pca.fit_transform(acscrime)"
   ]
  },
  {
   "cell_type": "code",
   "execution_count": 229,
   "metadata": {},
   "outputs": [
    {
     "data": {
      "text/plain": [
       "([<matplotlib.axis.XTick at 0x1a1e96de48>,\n",
       "  <matplotlib.axis.XTick at 0x1a1ae4dcf8>,\n",
       "  <matplotlib.axis.XTick at 0x1a1ae4d7f0>,\n",
       "  <matplotlib.axis.XTick at 0x1a224f5da0>,\n",
       "  <matplotlib.axis.XTick at 0x1a21aed780>,\n",
       "  <matplotlib.axis.XTick at 0x1a21aed5f8>,\n",
       "  <matplotlib.axis.XTick at 0x1a21aedbe0>,\n",
       "  <matplotlib.axis.XTick at 0x1a22c15ac8>,\n",
       "  <matplotlib.axis.XTick at 0x1a22c15908>,\n",
       "  <matplotlib.axis.XTick at 0x1a22c15f60>],\n",
       " <a list of 10 Text xticklabel objects>)"
      ]
     },
     "execution_count": 229,
     "metadata": {},
     "output_type": "execute_result"
    },
    {
     "data": {
      "image/png": "[encoded data removed]",
      "text/plain": [
       "<Figure size 432x288 with 1 Axes>"
      ]
     },
     "metadata": {
      "needs_background": "light"
     },
     "output_type": "display_data"
    }
   ],
   "source": [
    "# Plot the explained variances\n",
    "features = range(pca.n_components_)\n",
    "plt.bar(features, pca.explained_variance_ratio_, color='black')\n",
    "plt.xlabel('PCA features')\n",
    "plt.ylabel('variance %')\n",
    "plt.xticks(features)\n"
   ]
  },
  {
   "cell_type": "code",
   "execution_count": 230,
   "metadata": {},
   "outputs": [],
   "source": [
    "# Save components to a DataFrame\n",
    "PCA_components = pd.DataFrame(principalComponents)\n"
   ]
  },
  {
   "cell_type": "code",
   "execution_count": 231,
   "metadata": {},
   "outputs": [
    {
     "data": {
      "text/plain": [
       "Text(0, 0.5, 'PCA 2')"
      ]
     },
     "execution_count": 231,
     "metadata": {},
     "output_type": "execute_result"
    },
    {
     "data": {
      "image/png": "[encoded data removed]",
      "text/plain": [
       "<Figure size 720x720 with 1 Axes>"
      ]
     },
     "metadata": {
      "needs_background": "light"
     },
     "output_type": "display_data"
    }
   ],
   "source": [
    "fig = plt.figure(figsize=(10,10))\n",
    "plt.scatter(PCA_components[0], PCA_components[1], alpha=.1, color='red')\n",
    "plt.xlabel('PCA 1')\n",
    "plt.ylabel('PCA 2')"
   ]
  },
  {
   "cell_type": "code",
   "execution_count": 232,
   "metadata": {},
   "outputs": [
    {
     "data": {
      "image/png": "[encoded data removed]",
      "text/plain": [
       "<Figure size 432x288 with 1 Axes>"
      ]
     },
     "metadata": {
      "needs_background": "light"
     },
     "output_type": "display_data"
    }
   ],
   "source": [
    "ks = range(1, 10)\n",
    "inertias = []\n",
    "for k in ks:\n",
    "    # Create a KMeans instance with k clusters: model\n",
    "    model = KMeans(n_clusters=k)\n",
    "    \n",
    "    # Fit model to samples\n",
    "    model.fit(PCA_components.iloc[:,:3])\n",
    "    \n",
    "    # Append the inertia to the list of inertias\n",
    "    inertias.append(model.inertia_)\n",
    "    \n",
    "plt.plot(ks, inertias, '-o', color='black')\n",
    "plt.xlabel('number of clusters, k')\n",
    "plt.ylabel('inertia')\n",
    "plt.xticks(ks)\n",
    "plt.show()"
   ]
  },
  {
   "cell_type": "code",
   "execution_count": 233,
   "metadata": {},
   "outputs": [
    {
     "data": {
      "text/plain": [
       "array([0, 0, 0, 0, 0, 0, 0, 0, 0, 0, 0, 0, 0, 0, 0, 0, 0, 0, 0, 0, 0, 0,\n",
       "       0, 0, 0, 0, 0, 0, 0, 0, 0, 0, 0, 0, 0, 0, 0, 0, 1, 0, 0, 0, 0, 0,\n",
       "       0, 0, 0, 0, 0, 0, 0, 0, 0, 0, 0, 0, 0, 0, 0, 0, 0, 0, 0, 0, 0, 0,\n",
       "       0, 0, 0, 0, 0, 0, 0, 0, 0, 0, 0, 0, 0, 0, 0, 0, 0, 0, 0, 0, 0, 0,\n",
       "       0, 0, 0, 0, 0, 0, 0, 0, 0, 0, 0, 0, 0, 0, 0, 0, 0, 0, 0, 0, 0, 0,\n",
       "       0, 0, 0, 0, 0, 0, 0, 0, 0, 0, 1, 0, 0, 0, 0, 0, 0, 0, 0, 0, 0, 0,\n",
       "       0, 0, 0, 0, 0, 0, 0, 0, 0, 0, 0, 0, 0, 0, 0, 0, 0, 0, 0, 0, 0, 0,\n",
       "       0, 0, 0, 0, 0, 0, 0, 0, 0, 0, 0, 0, 0, 0, 0, 0, 0, 0, 0, 0, 0, 0,\n",
       "       0, 0, 0, 0, 0, 0, 0, 0, 0, 0, 0, 0, 0, 0, 0, 0, 0, 0, 0],\n",
       "      dtype=int32)"
      ]
     },
     "execution_count": 233,
     "metadata": {},
     "output_type": "execute_result"
    }
   ],
   "source": [
    "rr=KMeans(n_clusters=2).fit(acscrime)\n",
    "rr.labels_"
   ]
  },
  {
   "cell_type": "code",
   "execution_count": 234,
   "metadata": {},
   "outputs": [
    {
     "data": {
      "text/plain": [
       "<matplotlib.collections.PathCollection at 0x1a1e654b38>"
      ]
     },
     "execution_count": 234,
     "metadata": {},
     "output_type": "execute_result"
    },
    {
     "data": {
      "image/png": "[encoded data removed]",
      "text/plain": [
       "<Figure size 576x576 with 1 Axes>"
      ]
     },
     "metadata": {
      "needs_background": "light"
     },
     "output_type": "display_data"
    }
   ],
   "source": [
    "fig = plt.figure(figsize=(8,8))\n",
    "\n",
    "plt.scatter(acscrime.iloc[:,0],acscrime.iloc[:,1],c=rr.labels_)"
   ]
  },
  {
   "cell_type": "code",
   "execution_count": 235,
   "metadata": {},
   "outputs": [
    {
     "name": "stdout",
     "output_type": "stream",
     "text": [
      "For n_clusters = 2 The average silhouette_score is : 0.8737300128701443\n",
      "For n_clusters = 3 The average silhouette_score is : 0.38932989917460076\n",
      "For n_clusters = 4 The average silhouette_score is : 0.39977153421457157\n",
      "For n_clusters = 5 The average silhouette_score is : 0.37011911949993426\n",
      "For n_clusters = 6 The average silhouette_score is : 0.38377618537193325\n",
      "For n_clusters = 7 The average silhouette_score is : 0.36885798653805735\n",
      "For n_clusters = 8 The average silhouette_score is : 0.3784839098561597\n"
     ]
    }
   ],
   "source": [
    "#Silhouette_score\n",
    "\n",
    "X1=acscrime\n",
    "range_n_clusters = [2, 3, 4, 5,6,7,8]\n",
    "for n_clusters in range_n_clusters:\n",
    "    km1 = KMeans(n_clusters=n_clusters, random_state=324)\n",
    "    cluster_labels = km1.fit_predict(X1)\n",
    "    silhouette_avg = silhouette_score(X1, cluster_labels)\n",
    "    print(\"For n_clusters =\", n_clusters,\n",
    "          \"The average silhouette_score is :\", silhouette_avg)\n",
    "    sample_silhouette_values = silhouette_samples(X1, cluster_labels)"
   ]
  },
  {
   "cell_type": "markdown",
   "metadata": {},
   "source": [
    "#### Tried another combination of acs + garden + crime data"
   ]
  },
  {
   "cell_type": "code",
   "execution_count": 236,
   "metadata": {},
   "outputs": [],
   "source": [
    "acscrime1 = dec13c[['NTA','HispN','WhiteN', 'BlackN',\n",
    "           'CLF_UnemployedN','EduOtherN',\n",
    "       'EduBachelor', 'EduGradProf', 'GardenNorm','Inc_low', 'Inc_mid', 'Inc_high',\n",
    "           'FELONY_norm',\n",
    "       'MISDEMEANOR_norm', 'VIOLATION_norm' ]].copy()"
   ]
  },
  {
   "cell_type": "code",
   "execution_count": 238,
   "metadata": {},
   "outputs": [
    {
     "data": {
      "text/html": [
       "<div>\n",
       "<style scoped>\n",
       "    .dataframe tbody tr th:only-of-type {\n",
       "        vertical-align: middle;\n",
       "    }\n",
       "\n",
       "    .dataframe tbody tr th {\n",
       "        vertical-align: top;\n",
       "    }\n",
       "\n",
       "    .dataframe thead th {\n",
       "        text-align: right;\n",
       "    }\n",
       "</style>\n",
       "<table border=\"1\" class=\"dataframe\">\n",
       "  <thead>\n",
       "    <tr style=\"text-align: right;\">\n",
       "      <th></th>\n",
       "      <th>NTA</th>\n",
       "      <th>HispN</th>\n",
       "      <th>WhiteN</th>\n",
       "      <th>BlackN</th>\n",
       "      <th>CLF_UnemployedN</th>\n",
       "      <th>EduOtherN</th>\n",
       "      <th>EduBachelor</th>\n",
       "      <th>EduGradProf</th>\n",
       "      <th>GardenNorm</th>\n",
       "      <th>Inc_low</th>\n",
       "      <th>Inc_mid</th>\n",
       "      <th>Inc_high</th>\n",
       "      <th>FELONY_norm</th>\n",
       "      <th>MISDEMEANOR_norm</th>\n",
       "      <th>VIOLATION_norm</th>\n",
       "    </tr>\n",
       "  </thead>\n",
       "  <tbody>\n",
       "    <tr>\n",
       "      <th>0</th>\n",
       "      <td>Bath Beach</td>\n",
       "      <td>0.176733</td>\n",
       "      <td>0.436933</td>\n",
       "      <td>0.012182</td>\n",
       "      <td>0.070566</td>\n",
       "      <td>0.663798</td>\n",
       "      <td>0.224372</td>\n",
       "      <td>0.111829</td>\n",
       "      <td>0.000000</td>\n",
       "      <td>0.433409</td>\n",
       "      <td>0.299790</td>\n",
       "      <td>0.266801</td>\n",
       "      <td>0.030033</td>\n",
       "      <td>0.065645</td>\n",
       "      <td>0.014444</td>\n",
       "    </tr>\n",
       "    <tr>\n",
       "      <th>1</th>\n",
       "      <td>Bay Ridge</td>\n",
       "      <td>0.178608</td>\n",
       "      <td>0.634329</td>\n",
       "      <td>0.019094</td>\n",
       "      <td>0.074922</td>\n",
       "      <td>0.535735</td>\n",
       "      <td>0.271976</td>\n",
       "      <td>0.192289</td>\n",
       "      <td>0.000000</td>\n",
       "      <td>0.409413</td>\n",
       "      <td>0.289008</td>\n",
       "      <td>0.301580</td>\n",
       "      <td>0.033627</td>\n",
       "      <td>0.082051</td>\n",
       "      <td>0.023833</td>\n",
       "    </tr>\n",
       "    <tr>\n",
       "      <th>2</th>\n",
       "      <td>Bedford</td>\n",
       "      <td>0.194933</td>\n",
       "      <td>0.350607</td>\n",
       "      <td>0.405826</td>\n",
       "      <td>0.125027</td>\n",
       "      <td>0.678193</td>\n",
       "      <td>0.204352</td>\n",
       "      <td>0.117455</td>\n",
       "      <td>0.043893</td>\n",
       "      <td>0.575924</td>\n",
       "      <td>0.229287</td>\n",
       "      <td>0.194789</td>\n",
       "      <td>0.082026</td>\n",
       "      <td>0.124671</td>\n",
       "      <td>0.032993</td>\n",
       "    </tr>\n",
       "    <tr>\n",
       "      <th>3</th>\n",
       "      <td>Bensonhurst East</td>\n",
       "      <td>0.123283</td>\n",
       "      <td>0.465153</td>\n",
       "      <td>0.008262</td>\n",
       "      <td>0.085202</td>\n",
       "      <td>0.698153</td>\n",
       "      <td>0.204564</td>\n",
       "      <td>0.097283</td>\n",
       "      <td>0.001908</td>\n",
       "      <td>0.510524</td>\n",
       "      <td>0.290981</td>\n",
       "      <td>0.198495</td>\n",
       "      <td>0.029377</td>\n",
       "      <td>0.048003</td>\n",
       "      <td>0.014969</td>\n",
       "    </tr>\n",
       "    <tr>\n",
       "      <th>4</th>\n",
       "      <td>Bensonhurst West</td>\n",
       "      <td>0.145975</td>\n",
       "      <td>0.426773</td>\n",
       "      <td>0.008740</td>\n",
       "      <td>0.088342</td>\n",
       "      <td>0.737618</td>\n",
       "      <td>0.188800</td>\n",
       "      <td>0.073582</td>\n",
       "      <td>0.003817</td>\n",
       "      <td>0.492862</td>\n",
       "      <td>0.285700</td>\n",
       "      <td>0.221438</td>\n",
       "      <td>0.027704</td>\n",
       "      <td>0.045981</td>\n",
       "      <td>0.013105</td>\n",
       "    </tr>\n",
       "  </tbody>\n",
       "</table>\n",
       "</div>"
      ],
      "text/plain": [
       "                NTA     HispN    WhiteN    BlackN  CLF_UnemployedN  EduOtherN  \\\n",
       "0        Bath Beach  0.176733  0.436933  0.012182         0.070566   0.663798   \n",
       "1         Bay Ridge  0.178608  0.634329  0.019094         0.074922   0.535735   \n",
       "2           Bedford  0.194933  0.350607  0.405826         0.125027   0.678193   \n",
       "3  Bensonhurst East  0.123283  0.465153  0.008262         0.085202   0.698153   \n",
       "4  Bensonhurst West  0.145975  0.426773  0.008740         0.088342   0.737618   \n",
       "\n",
       "   EduBachelor  EduGradProf  GardenNorm   Inc_low   Inc_mid  Inc_high  \\\n",
       "0     0.224372     0.111829    0.000000  0.433409  0.299790  0.266801   \n",
       "1     0.271976     0.192289    0.000000  0.409413  0.289008  0.301580   \n",
       "2     0.204352     0.117455    0.043893  0.575924  0.229287  0.194789   \n",
       "3     0.204564     0.097283    0.001908  0.510524  0.290981  0.198495   \n",
       "4     0.188800     0.073582    0.003817  0.492862  0.285700  0.221438   \n",
       "\n",
       "   FELONY_norm  MISDEMEANOR_norm  VIOLATION_norm  \n",
       "0     0.030033          0.065645        0.014444  \n",
       "1     0.033627          0.082051        0.023833  \n",
       "2     0.082026          0.124671        0.032993  \n",
       "3     0.029377          0.048003        0.014969  \n",
       "4     0.027704          0.045981        0.013105  "
      ]
     },
     "execution_count": 238,
     "metadata": {},
     "output_type": "execute_result"
    }
   ],
   "source": [
    "acscrime1.head()"
   ]
  },
  {
   "cell_type": "code",
   "execution_count": 239,
   "metadata": {},
   "outputs": [],
   "source": [
    "acscrime1 = acscrime1.set_index('NTA')"
   ]
  },
  {
   "cell_type": "code",
   "execution_count": 242,
   "metadata": {},
   "outputs": [],
   "source": [
    "acscrime1 = acscrime1.replace([np.inf, -np.inf, np.nan], 0)"
   ]
  },
  {
   "cell_type": "code",
   "execution_count": 243,
   "metadata": {},
   "outputs": [],
   "source": [
    "# Create a PCA instance: pca\n",
    "pca = PCA(n_components=10)\n",
    "principalComponents = pca.fit_transform(acscrime1)"
   ]
  },
  {
   "cell_type": "code",
   "execution_count": 244,
   "metadata": {},
   "outputs": [
    {
     "data": {
      "text/plain": [
       "([<matplotlib.axis.XTick at 0x1a1e960860>,\n",
       "  <matplotlib.axis.XTick at 0x1a1eda24a8>,\n",
       "  <matplotlib.axis.XTick at 0x1a1eda2e80>,\n",
       "  <matplotlib.axis.XTick at 0x1a233b94a8>,\n",
       "  <matplotlib.axis.XTick at 0x1a233b99b0>,\n",
       "  <matplotlib.axis.XTick at 0x1a1e93eeb8>,\n",
       "  <matplotlib.axis.XTick at 0x1a1e93e470>,\n",
       "  <matplotlib.axis.XTick at 0x1a1e93eef0>,\n",
       "  <matplotlib.axis.XTick at 0x1a24b0aa58>,\n",
       "  <matplotlib.axis.XTick at 0x1a24b0add8>],\n",
       " <a list of 10 Text xticklabel objects>)"
      ]
     },
     "execution_count": 244,
     "metadata": {},
     "output_type": "execute_result"
    },
    {
     "data": {
      "image/png": "[encoded data removed]",
      "text/plain": [
       "<Figure size 432x288 with 1 Axes>"
      ]
     },
     "metadata": {
      "needs_background": "light"
     },
     "output_type": "display_data"
    }
   ],
   "source": [
    "# Plot the explained variances\n",
    "features = range(pca.n_components_)\n",
    "plt.bar(features, pca.explained_variance_ratio_, color='black')\n",
    "plt.xlabel('PCA features')\n",
    "plt.ylabel('variance %')\n",
    "plt.xticks(features)"
   ]
  },
  {
   "cell_type": "code",
   "execution_count": 245,
   "metadata": {},
   "outputs": [],
   "source": [
    "# Save components to a DataFrame\n",
    "PCA_components = pd.DataFrame(principalComponents)"
   ]
  },
  {
   "cell_type": "code",
   "execution_count": 246,
   "metadata": {},
   "outputs": [
    {
     "data": {
      "text/plain": [
       "Text(0, 0.5, 'PCA 2')"
      ]
     },
     "execution_count": 246,
     "metadata": {},
     "output_type": "execute_result"
    },
    {
     "data": {
      "image/png": "[encoded data removed]",
      "text/plain": [
       "<Figure size 720x720 with 1 Axes>"
      ]
     },
     "metadata": {
      "needs_background": "light"
     },
     "output_type": "display_data"
    }
   ],
   "source": [
    "fig = plt.figure(figsize=(10,10))\n",
    "plt.scatter(PCA_components[0], PCA_components[1], alpha=.1, color='red')\n",
    "plt.xlabel('PCA 1')\n",
    "plt.ylabel('PCA 2')"
   ]
  },
  {
   "cell_type": "code",
   "execution_count": 247,
   "metadata": {},
   "outputs": [
    {
     "data": {
      "image/png": "[encoded data removed]",
      "text/plain": [
       "<Figure size 432x288 with 1 Axes>"
      ]
     },
     "metadata": {
      "needs_background": "light"
     },
     "output_type": "display_data"
    }
   ],
   "source": [
    "ks = range(1, 10)\n",
    "inertias = []\n",
    "for k in ks:\n",
    "    # Create a KMeans instance with k clusters: model\n",
    "    model = KMeans(n_clusters=k)\n",
    "    \n",
    "    # Fit model to samples\n",
    "    model.fit(PCA_components.iloc[:,:3])\n",
    "    \n",
    "    # Append the inertia to the list of inertias\n",
    "    inertias.append(model.inertia_)\n",
    "    \n",
    "plt.plot(ks, inertias, '-o', color='black')\n",
    "plt.xlabel('number of clusters, k')\n",
    "plt.ylabel('inertia')\n",
    "plt.xticks(ks)\n",
    "plt.show()"
   ]
  },
  {
   "cell_type": "code",
   "execution_count": 253,
   "metadata": {},
   "outputs": [
    {
     "data": {
      "text/plain": [
       "array([0, 0, 0, 0, 0, 0, 0, 0, 0, 0, 0, 0, 0, 0, 0, 0, 0, 0, 0, 0, 0, 0,\n",
       "       0, 0, 0, 0, 0, 0, 0, 0, 0, 0, 0, 0, 0, 0, 0, 0, 1, 0, 0, 0, 0, 0,\n",
       "       0, 0, 0, 0, 0, 0, 0, 0, 0, 0, 0, 0, 0, 0, 0, 0, 0, 0, 0, 0, 0, 0,\n",
       "       0, 0, 0, 0, 0, 0, 0, 0, 0, 0, 0, 0, 0, 0, 0, 0, 0, 0, 0, 0, 0, 0,\n",
       "       0, 0, 0, 0, 0, 0, 0, 0, 0, 0, 0, 0, 0, 0, 0, 0, 0, 0, 0, 0, 0, 0,\n",
       "       0, 0, 0, 0, 0, 0, 0, 0, 0, 0, 1, 0, 0, 0, 0, 0, 0, 0, 0, 0, 0, 0,\n",
       "       0, 0, 0, 0, 0, 0, 0, 0, 0, 0, 0, 0, 0, 0, 0, 0, 0, 0, 0, 0, 0, 0,\n",
       "       0, 0, 0, 0, 0, 0, 0, 0, 0, 0, 0, 0, 0, 0, 0, 0, 0, 0, 0, 0, 0, 0,\n",
       "       0, 0, 0, 0, 0, 0, 0, 0, 0, 0, 0, 0, 0, 0, 0, 0, 0, 0, 0],\n",
       "      dtype=int32)"
      ]
     },
     "execution_count": 253,
     "metadata": {},
     "output_type": "execute_result"
    }
   ],
   "source": [
    "rr=KMeans(n_clusters=2).fit(acscrime1)\n",
    "rr.labels_"
   ]
  },
  {
   "cell_type": "code",
   "execution_count": 254,
   "metadata": {},
   "outputs": [
    {
     "data": {
      "text/plain": [
       "<matplotlib.collections.PathCollection at 0x1a231ed860>"
      ]
     },
     "execution_count": 254,
     "metadata": {},
     "output_type": "execute_result"
    },
    {
     "data": {
      "image/png": "[encoded data removed]",
      "text/plain": [
       "<Figure size 576x576 with 1 Axes>"
      ]
     },
     "metadata": {
      "needs_background": "light"
     },
     "output_type": "display_data"
    }
   ],
   "source": [
    "fig = plt.figure(figsize=(8,8))\n",
    "\n",
    "plt.scatter(acscrime1.iloc[:,0],acscrime1.iloc[:,1],c=rr.labels_)"
   ]
  },
  {
   "cell_type": "code",
   "execution_count": 255,
   "metadata": {},
   "outputs": [
    {
     "name": "stdout",
     "output_type": "stream",
     "text": [
      "For n_clusters = 2 The average silhouette_score is : 0.8743162448498704\n",
      "For n_clusters = 3 The average silhouette_score is : 0.391577350318352\n",
      "For n_clusters = 4 The average silhouette_score is : 0.4028706370257255\n",
      "For n_clusters = 5 The average silhouette_score is : 0.41164602121176136\n",
      "For n_clusters = 6 The average silhouette_score is : 0.3862189515686265\n",
      "For n_clusters = 7 The average silhouette_score is : 0.37304232547603433\n",
      "For n_clusters = 8 The average silhouette_score is : 0.3828071750672401\n"
     ]
    }
   ],
   "source": [
    "#Silhouette_score\n",
    "\n",
    "X1=acscrime1\n",
    "range_n_clusters = [2, 3, 4, 5,6,7,8]\n",
    "for n_clusters in range_n_clusters:\n",
    "    km1 = KMeans(n_clusters=n_clusters, random_state=324)\n",
    "    cluster_labels = km1.fit_predict(X1)\n",
    "    silhouette_avg = silhouette_score(X1, cluster_labels)\n",
    "    print(\"For n_clusters =\", n_clusters,\n",
    "          \"The average silhouette_score is :\", silhouette_avg)\n",
    "    sample_silhouette_values = silhouette_samples(X1, cluster_labels)"
   ]
  },
  {
   "cell_type": "code",
   "execution_count": 272,
   "metadata": {},
   "outputs": [
    {
     "data": {
      "text/plain": [
       "<matplotlib.collections.PathCollection at 0x1a22b49518>"
      ]
     },
     "execution_count": 272,
     "metadata": {},
     "output_type": "execute_result"
    },
    {
     "data": {
      "image/png": "[encoded data removed]",
      "text/plain": [
       "<Figure size 432x288 with 1 Axes>"
      ]
     },
     "metadata": {
      "needs_background": "light"
     },
     "output_type": "display_data"
    }
   ],
   "source": [
    "#trying gaussian & dbscan but not sure if correct\n",
    "gmm = GMM(n_components=3).fit(acscrime1)\n",
    "labels = gmm.predict(acscrime1)\n",
    "plt.scatter(acscrime1.iloc[:,0],acscrime1.iloc[:,1],c=rr.labels_)"
   ]
  },
  {
   "cell_type": "code",
   "execution_count": 260,
   "metadata": {},
   "outputs": [],
   "source": [
    "\n",
    "from sklearn.mixture import GaussianMixture as GMM # You can import this only if you are using 0.18+ sklearn.\n",
    "##gm=GaussianMixture(n_components=2,random_state=324)\n",
    "#res1=gm.fit(np.array([x,y]).transpose())"
   ]
  },
  {
   "cell_type": "code",
   "execution_count": 264,
   "metadata": {},
   "outputs": [],
   "source": [
    "\n",
    "from sklearn.cluster import DBSCAN"
   ]
  },
  {
   "cell_type": "code",
   "execution_count": 269,
   "metadata": {},
   "outputs": [],
   "source": [
    "res2 = DBSCAN(eps=0.1, min_samples=3).fit(acscrime1)\n",
    "L2=res2.labels_"
   ]
  },
  {
   "cell_type": "code",
   "execution_count": 270,
   "metadata": {},
   "outputs": [
    {
     "data": {
      "text/plain": [
       "Text(0, 0.5, 'X2')"
      ]
     },
     "execution_count": 270,
     "metadata": {},
     "output_type": "execute_result"
    },
    {
     "data": {
      "image/png": "[encoded data removed]",
      "text/plain": [
       "<Figure size 432x288 with 1 Axes>"
      ]
     },
     "metadata": {
      "needs_background": "light"
     },
     "output_type": "display_data"
    }
   ],
   "source": [
    "plt.scatter(acscrime1.iloc[:,0],acscrime1.iloc[:,1], c=L2, cmap=plt.cm.cool)\n",
    "plt.xlabel('X1')\n",
    "plt.ylabel('X2')"
   ]
  }
 ],
 "metadata": {
  "kernelspec": {
   "display_name": "Python 3",
   "language": "python",
   "name": "python3"
  },
  "language_info": {
   "codemirror_mode": {
    "name": "ipython",
    "version": 3
   },
   "file_extension": ".py",
   "mimetype": "text/x-python",
   "name": "python",
   "nbconvert_exporter": "python",
   "pygments_lexer": "ipython3",
   "version": "3.7.1"
  }
 },
 "nbformat": 4,
 "nbformat_minor": 2
}
