{
 "cells": [
  {
   "cell_type": "code",
   "execution_count": 2,
   "metadata": {},
   "outputs": [],
   "source": [
    "import pandas as pd"
   ]
  },
  {
   "cell_type": "code",
   "execution_count": 7,
   "metadata": {},
   "outputs": [
    {
     "name": "stderr",
     "output_type": "stream",
     "text": [
      "/Users/cmvandev/opt/anaconda3/lib/python3.7/site-packages/IPython/core/interactiveshell.py:3058: DtypeWarning: Columns (18,20) have mixed types. Specify dtype option on import or set low_memory=False.\n",
      "  interactivity=interactivity, compiler=compiler, result=result)\n"
     ]
    },
    {
     "data": {
      "text/html": [
       "<div>\n",
       "<style scoped>\n",
       "    .dataframe tbody tr th:only-of-type {\n",
       "        vertical-align: middle;\n",
       "    }\n",
       "\n",
       "    .dataframe tbody tr th {\n",
       "        vertical-align: top;\n",
       "    }\n",
       "\n",
       "    .dataframe thead th {\n",
       "        text-align: right;\n",
       "    }\n",
       "</style>\n",
       "<table border=\"1\" class=\"dataframe\">\n",
       "  <thead>\n",
       "    <tr style=\"text-align: right;\">\n",
       "      <th></th>\n",
       "      <th>CMPLNT_NUM</th>\n",
       "      <th>CMPLNT_FR_DT</th>\n",
       "      <th>CMPLNT_FR_TM</th>\n",
       "      <th>CMPLNT_TO_DT</th>\n",
       "      <th>CMPLNT_TO_TM</th>\n",
       "      <th>ADDR_PCT_CD</th>\n",
       "      <th>RPT_DT</th>\n",
       "      <th>KY_CD</th>\n",
       "      <th>OFNS_DESC</th>\n",
       "      <th>PD_CD</th>\n",
       "      <th>...</th>\n",
       "      <th>SUSP_SEX</th>\n",
       "      <th>TRANSIT_DISTRICT</th>\n",
       "      <th>Latitude</th>\n",
       "      <th>Longitude</th>\n",
       "      <th>Lat_Lon</th>\n",
       "      <th>PATROL_BORO</th>\n",
       "      <th>STATION_NAME</th>\n",
       "      <th>VIC_AGE_GROUP</th>\n",
       "      <th>VIC_RACE</th>\n",
       "      <th>VIC_SEX</th>\n",
       "    </tr>\n",
       "  </thead>\n",
       "  <tbody>\n",
       "    <tr>\n",
       "      <td>0</td>\n",
       "      <td>553682872</td>\n",
       "      <td>01/01/2012</td>\n",
       "      <td>00:01:00</td>\n",
       "      <td>12/31/2012</td>\n",
       "      <td>00:01:00</td>\n",
       "      <td>20.0</td>\n",
       "      <td>05/03/2018</td>\n",
       "      <td>116</td>\n",
       "      <td>SEX CRIMES</td>\n",
       "      <td>168.0</td>\n",
       "      <td>...</td>\n",
       "      <td>M</td>\n",
       "      <td>NaN</td>\n",
       "      <td>40.784060</td>\n",
       "      <td>-73.975021</td>\n",
       "      <td>(40.784059874, -73.975020513)</td>\n",
       "      <td>PATROL BORO MAN NORTH</td>\n",
       "      <td>NaN</td>\n",
       "      <td>&lt;18</td>\n",
       "      <td>UNKNOWN</td>\n",
       "      <td>F</td>\n",
       "    </tr>\n",
       "    <tr>\n",
       "      <td>1</td>\n",
       "      <td>814073553</td>\n",
       "      <td>01/01/2012</td>\n",
       "      <td>00:01:00</td>\n",
       "      <td>01/01/2013</td>\n",
       "      <td>00:01:00</td>\n",
       "      <td>77.0</td>\n",
       "      <td>05/29/2018</td>\n",
       "      <td>104</td>\n",
       "      <td>RAPE</td>\n",
       "      <td>157.0</td>\n",
       "      <td>...</td>\n",
       "      <td>M</td>\n",
       "      <td>NaN</td>\n",
       "      <td>40.674583</td>\n",
       "      <td>-73.930222</td>\n",
       "      <td>(40.674583308, -73.930221541)</td>\n",
       "      <td>PATROL BORO BKLYN NORTH</td>\n",
       "      <td>NaN</td>\n",
       "      <td>&lt;18</td>\n",
       "      <td>BLACK</td>\n",
       "      <td>F</td>\n",
       "    </tr>\n",
       "  </tbody>\n",
       "</table>\n",
       "<p>2 rows × 35 columns</p>\n",
       "</div>"
      ],
      "text/plain": [
       "   CMPLNT_NUM CMPLNT_FR_DT CMPLNT_FR_TM CMPLNT_TO_DT CMPLNT_TO_TM  \\\n",
       "0   553682872   01/01/2012     00:01:00   12/31/2012     00:01:00   \n",
       "1   814073553   01/01/2012     00:01:00   01/01/2013     00:01:00   \n",
       "\n",
       "   ADDR_PCT_CD      RPT_DT  KY_CD   OFNS_DESC  PD_CD  ... SUSP_SEX  \\\n",
       "0         20.0  05/03/2018    116  SEX CRIMES  168.0  ...        M   \n",
       "1         77.0  05/29/2018    104        RAPE  157.0  ...        M   \n",
       "\n",
       "  TRANSIT_DISTRICT   Latitude  Longitude                        Lat_Lon  \\\n",
       "0              NaN  40.784060 -73.975021  (40.784059874, -73.975020513)   \n",
       "1              NaN  40.674583 -73.930222  (40.674583308, -73.930221541)   \n",
       "\n",
       "               PATROL_BORO STATION_NAME  VIC_AGE_GROUP VIC_RACE VIC_SEX  \n",
       "0    PATROL BORO MAN NORTH          NaN            <18  UNKNOWN       F  \n",
       "1  PATROL BORO BKLYN NORTH          NaN            <18    BLACK       F  \n",
       "\n",
       "[2 rows x 35 columns]"
      ]
     },
     "execution_count": 7,
     "metadata": {},
     "output_type": "execute_result"
    }
   ],
   "source": [
    "crime_large = pd.read_csv('../NYPD_Complaint_Data_Historic_2012_to_2016.csv')\n",
    "crime_large.head(2)"
   ]
  },
  {
   "cell_type": "code",
   "execution_count": 8,
   "metadata": {},
   "outputs": [
    {
     "data": {
      "text/plain": [
       "Index(['CMPLNT_FR_TM', 'CMPLNT_TO_DT', 'CMPLNT_TO_TM', 'ADDR_PCT_CD',\n",
       "       'OFNS_DESC', 'PD_CD', 'PD_DESC', 'CRM_ATPT_CPTD_CD', 'BORO_NM',\n",
       "       'LOC_OF_OCCUR_DESC', 'PREM_TYP_DESC', 'JURISDICTION_CODE', 'PARKS_NM',\n",
       "       'HADEVELOPT', 'HOUSING_PSA', 'X_COORD_CD', 'Y_COORD_CD',\n",
       "       'SUSP_AGE_GROUP', 'SUSP_RACE', 'SUSP_SEX', 'TRANSIT_DISTRICT',\n",
       "       'Latitude', 'Longitude', 'Lat_Lon', 'PATROL_BORO', 'STATION_NAME',\n",
       "       'VIC_AGE_GROUP', 'VIC_RACE', 'VIC_SEX'],\n",
       "      dtype='object')"
      ]
     },
     "execution_count": 8,
     "metadata": {},
     "output_type": "execute_result"
    }
   ],
   "source": [
    "# columns with null data\n",
    "crime_large.columns[crime_large.isnull().any()]"
   ]
  },
  {
   "cell_type": "code",
   "execution_count": 9,
   "metadata": {},
   "outputs": [
    {
     "name": "stdout",
     "output_type": "stream",
     "text": [
      "before: (2448211, 35)\n",
      "after: (2448211, 12)\n"
     ]
    }
   ],
   "source": [
    "# reduce dataset size by removing unnecessary columns\n",
    "print(f\"before: {crime_large.shape}\")\n",
    "crime = crime_large[['CMPLNT_NUM', \n",
    "                     'CMPLNT_FR_DT', #'CMPLNT_FR_TM',\n",
    "                     'CMPLNT_TO_DT', #'CMPLNT_TO_TM', \n",
    "                     'RPT_DT',            # report date\n",
    "                     'ADDR_PCT_CD',       # precinct\n",
    "                     'BORO_NM',           # borough\n",
    "                     'OFNS_DESC',         # offence description\n",
    "                     'CRM_ATPT_CPTD_CD',  # whether crime succeeded/intercepted\n",
    "                     'LAW_CAT_CD',        # Level of offense: felony, misdemeanor, violation\n",
    "                     'PREM_TYP_DESC',     # Specific description of premises e.g. garden / grocer\n",
    "                     'Latitude', 'Longitude']]\n",
    "print(f\"after: {crime.shape}\")"
   ]
  },
  {
   "cell_type": "code",
   "execution_count": 10,
   "metadata": {},
   "outputs": [
    {
     "name": "stderr",
     "output_type": "stream",
     "text": [
      "/Users/cmvandev/opt/anaconda3/lib/python3.7/site-packages/ipykernel_launcher.py:4: SettingWithCopyWarning: \n",
      "A value is trying to be set on a copy of a slice from a DataFrame.\n",
      "Try using .loc[row_indexer,col_indexer] = value instead\n",
      "\n",
      "See the caveats in the documentation: http://pandas.pydata.org/pandas-docs/stable/user_guide/indexing.html#returning-a-view-versus-a-copy\n",
      "  after removing the cwd from sys.path.\n"
     ]
    }
   ],
   "source": [
    "# cast data type to datetime\n",
    "date_cols = ['CMPLNT_FR_DT', 'CMPLNT_TO_DT', 'RPT_DT']\n",
    "for col in date_cols:\n",
    "    crime[col] = pd.to_datetime(crime[col], errors='coerce')"
   ]
  },
  {
   "cell_type": "code",
   "execution_count": 11,
   "metadata": {},
   "outputs": [
    {
     "data": {
      "text/plain": [
       "CMPLNT_FR_DT    False\n",
       "CMPLNT_TO_DT     True\n",
       "RPT_DT          False\n",
       "dtype: bool"
      ]
     },
     "execution_count": 11,
     "metadata": {},
     "output_type": "execute_result"
    }
   ],
   "source": [
    "# check whether datecols are valid\n",
    "crime[date_cols].isnull().any()"
   ]
  },
  {
   "cell_type": "code",
   "execution_count": 12,
   "metadata": {},
   "outputs": [
    {
     "name": "stdout",
     "output_type": "stream",
     "text": [
      "before: (2448211, 12)\n",
      "after: (1940498, 12)\n"
     ]
    },
    {
     "name": "stderr",
     "output_type": "stream",
     "text": [
      "/Users/cmvandev/opt/anaconda3/lib/python3.7/site-packages/ipykernel_launcher.py:3: SettingWithCopyWarning: \n",
      "A value is trying to be set on a copy of a slice from a DataFrame\n",
      "\n",
      "See the caveats in the documentation: http://pandas.pydata.org/pandas-docs/stable/user_guide/indexing.html#returning-a-view-versus-a-copy\n",
      "  This is separate from the ipykernel package so we can avoid doing imports until\n"
     ]
    }
   ],
   "source": [
    "# remove those with null CMPLNT_TO_DT\n",
    "print(f\"before: {crime.shape}\")\n",
    "crime.dropna(subset=['CMPLNT_TO_DT'], inplace=True)\n",
    "print(f\"after: {crime.shape}\")"
   ]
  },
  {
   "cell_type": "code",
   "execution_count": 13,
   "metadata": {},
   "outputs": [
    {
     "name": "stderr",
     "output_type": "stream",
     "text": [
      "/Users/cmvandev/opt/anaconda3/lib/python3.7/site-packages/ipykernel_launcher.py:1: SettingWithCopyWarning: \n",
      "A value is trying to be set on a copy of a slice from a DataFrame.\n",
      "Try using .loc[row_indexer,col_indexer] = value instead\n",
      "\n",
      "See the caveats in the documentation: http://pandas.pydata.org/pandas-docs/stable/user_guide/indexing.html#returning-a-view-versus-a-copy\n",
      "  \"\"\"Entry point for launching an IPython kernel.\n"
     ]
    },
    {
     "data": {
      "text/html": [
       "<div>\n",
       "<style scoped>\n",
       "    .dataframe tbody tr th:only-of-type {\n",
       "        vertical-align: middle;\n",
       "    }\n",
       "\n",
       "    .dataframe tbody tr th {\n",
       "        vertical-align: top;\n",
       "    }\n",
       "\n",
       "    .dataframe thead th {\n",
       "        text-align: right;\n",
       "    }\n",
       "</style>\n",
       "<table border=\"1\" class=\"dataframe\">\n",
       "  <thead>\n",
       "    <tr style=\"text-align: right;\">\n",
       "      <th></th>\n",
       "      <th>CMPLNT_NUM</th>\n",
       "      <th>CMPLNT_FR_DT</th>\n",
       "      <th>CMPLNT_TO_DT</th>\n",
       "      <th>RPT_DT</th>\n",
       "      <th>ADDR_PCT_CD</th>\n",
       "      <th>BORO_NM</th>\n",
       "      <th>OFNS_DESC</th>\n",
       "      <th>CRM_ATPT_CPTD_CD</th>\n",
       "      <th>LAW_CAT_CD</th>\n",
       "      <th>PREM_TYP_DESC</th>\n",
       "      <th>Latitude</th>\n",
       "      <th>Longitude</th>\n",
       "      <th>CRIME_DURATION</th>\n",
       "    </tr>\n",
       "  </thead>\n",
       "  <tbody>\n",
       "    <tr>\n",
       "      <td>0</td>\n",
       "      <td>553682872</td>\n",
       "      <td>2012-01-01</td>\n",
       "      <td>2012-12-31</td>\n",
       "      <td>2018-05-03</td>\n",
       "      <td>20.0</td>\n",
       "      <td>MANHATTAN</td>\n",
       "      <td>SEX CRIMES</td>\n",
       "      <td>COMPLETED</td>\n",
       "      <td>FELONY</td>\n",
       "      <td>RESIDENCE - PUBLIC HOUSING</td>\n",
       "      <td>40.784060</td>\n",
       "      <td>-73.975021</td>\n",
       "      <td>365 days</td>\n",
       "    </tr>\n",
       "    <tr>\n",
       "      <td>1</td>\n",
       "      <td>814073553</td>\n",
       "      <td>2012-01-01</td>\n",
       "      <td>2013-01-01</td>\n",
       "      <td>2018-05-29</td>\n",
       "      <td>77.0</td>\n",
       "      <td>BROOKLYN</td>\n",
       "      <td>RAPE</td>\n",
       "      <td>COMPLETED</td>\n",
       "      <td>FELONY</td>\n",
       "      <td>RESIDENCE - APT. HOUSE</td>\n",
       "      <td>40.674583</td>\n",
       "      <td>-73.930222</td>\n",
       "      <td>366 days</td>\n",
       "    </tr>\n",
       "  </tbody>\n",
       "</table>\n",
       "</div>"
      ],
      "text/plain": [
       "   CMPLNT_NUM CMPLNT_FR_DT CMPLNT_TO_DT     RPT_DT  ADDR_PCT_CD    BORO_NM  \\\n",
       "0   553682872   2012-01-01   2012-12-31 2018-05-03         20.0  MANHATTAN   \n",
       "1   814073553   2012-01-01   2013-01-01 2018-05-29         77.0   BROOKLYN   \n",
       "\n",
       "    OFNS_DESC CRM_ATPT_CPTD_CD LAW_CAT_CD               PREM_TYP_DESC  \\\n",
       "0  SEX CRIMES        COMPLETED     FELONY  RESIDENCE - PUBLIC HOUSING   \n",
       "1        RAPE        COMPLETED     FELONY      RESIDENCE - APT. HOUSE   \n",
       "\n",
       "    Latitude  Longitude CRIME_DURATION  \n",
       "0  40.784060 -73.975021       365 days  \n",
       "1  40.674583 -73.930222       366 days  "
      ]
     },
     "execution_count": 13,
     "metadata": {},
     "output_type": "execute_result"
    }
   ],
   "source": [
    "crime['CRIME_DURATION'] = crime.CMPLNT_TO_DT - crime.CMPLNT_FR_DT\n",
    "crime.head(2)"
   ]
  },
  {
   "cell_type": "code",
   "execution_count": 14,
   "metadata": {},
   "outputs": [
    {
     "data": {
      "text/plain": [
       "<matplotlib.axes._subplots.AxesSubplot at 0x12244f090>"
      ]
     },
     "execution_count": 14,
     "metadata": {},
     "output_type": "execute_result"
    }
   ],
   "source": [
    "crime.CRIME_DURATION.value_counts().plot.hist(bins=100)"
   ]
  },
  {
   "cell_type": "code",
   "execution_count": 15,
   "metadata": {},
   "outputs": [
    {
     "data": {
      "text/plain": [
       "19"
      ]
     },
     "execution_count": 15,
     "metadata": {},
     "output_type": "execute_result"
    }
   ],
   "source": [
    "# 19 records with negative crime duration\n",
    "len(crime[crime.CRIME_DURATION.dt.days<0])"
   ]
  },
  {
   "cell_type": "code",
   "execution_count": 16,
   "metadata": {},
   "outputs": [
    {
     "name": "stderr",
     "output_type": "stream",
     "text": [
      "/Users/cmvandev/opt/anaconda3/lib/python3.7/site-packages/pandas/core/frame.py:4102: SettingWithCopyWarning: \n",
      "A value is trying to be set on a copy of a slice from a DataFrame\n",
      "\n",
      "See the caveats in the documentation: http://pandas.pydata.org/pandas-docs/stable/user_guide/indexing.html#returning-a-view-versus-a-copy\n",
      "  errors=errors,\n"
     ]
    }
   ],
   "source": [
    "# drop those rows with negative crime durations\n",
    "crime.drop(crime[crime.CRIME_DURATION.dt.days<0].index, inplace=True)"
   ]
  },
  {
   "cell_type": "code",
   "execution_count": 17,
   "metadata": {},
   "outputs": [
    {
     "data": {
      "text/plain": [
       "count                    1940479\n",
       "mean      5 days 03:53:50.211717\n",
       "std      48 days 13:33:01.943326\n",
       "min              0 days 00:00:00\n",
       "25%              0 days 00:00:00\n",
       "50%              0 days 00:00:00\n",
       "75%              0 days 00:00:00\n",
       "max           2523 days 00:00:00\n",
       "Name: CRIME_DURATION, dtype: object"
      ]
     },
     "execution_count": 17,
     "metadata": {},
     "output_type": "execute_result"
    }
   ],
   "source": [
    "crime.CRIME_DURATION.describe()"
   ]
  },
  {
   "cell_type": "code",
   "execution_count": 18,
   "metadata": {},
   "outputs": [
    {
     "name": "stdout",
     "output_type": "stream",
     "text": [
      "0.81% of crimes take place within 0 days\n",
      "0.91% of crimes take place within 1 days\n",
      "0.93% of crimes take place within 2 days\n",
      "0.94% of crimes take place within 3 days\n",
      "0.94% of crimes take place within 4 days\n",
      "0.95% of crimes take place within 5 days\n",
      "0.95% of crimes take place within 6 days\n"
     ]
    }
   ],
   "source": [
    "for i in range(7):\n",
    "    print(f'{round(len(crime[crime.CRIME_DURATION.dt.days<=i]) / len(crime), 2)}% of crimes take place within {i} days')"
   ]
  },
  {
   "cell_type": "code",
   "execution_count": 19,
   "metadata": {},
   "outputs": [],
   "source": [
    "# crime.to_csv('data/NYPD_Complaint_Data_Historic_2013to2017_smaller.csv')"
   ]
  },
  {
   "cell_type": "code",
   "execution_count": 20,
   "metadata": {},
   "outputs": [
    {
     "data": {
      "text/plain": [
       "(1573605, 13)"
      ]
     },
     "execution_count": 20,
     "metadata": {},
     "output_type": "execute_result"
    }
   ],
   "source": [
    "# take only crimes that last a day\n",
    "crime_sample = crime[crime.CRIME_DURATION.dt.days == 0]\n",
    "crime_sample.shape"
   ]
  },
  {
   "cell_type": "code",
   "execution_count": 21,
   "metadata": {
    "scrolled": true
   },
   "outputs": [
    {
     "data": {
      "text/html": [
       "<div>\n",
       "<style scoped>\n",
       "    .dataframe tbody tr th:only-of-type {\n",
       "        vertical-align: middle;\n",
       "    }\n",
       "\n",
       "    .dataframe tbody tr th {\n",
       "        vertical-align: top;\n",
       "    }\n",
       "\n",
       "    .dataframe thead th {\n",
       "        text-align: right;\n",
       "    }\n",
       "</style>\n",
       "<table border=\"1\" class=\"dataframe\">\n",
       "  <thead>\n",
       "    <tr style=\"text-align: right;\">\n",
       "      <th></th>\n",
       "      <th>CMPLNT_NUM</th>\n",
       "      <th>CMPLNT_FR_DT</th>\n",
       "      <th>CMPLNT_TO_DT</th>\n",
       "      <th>RPT_DT</th>\n",
       "      <th>ADDR_PCT_CD</th>\n",
       "      <th>BORO_NM</th>\n",
       "      <th>OFNS_DESC</th>\n",
       "      <th>CRM_ATPT_CPTD_CD</th>\n",
       "      <th>LAW_CAT_CD</th>\n",
       "      <th>PREM_TYP_DESC</th>\n",
       "      <th>Latitude</th>\n",
       "      <th>Longitude</th>\n",
       "      <th>CRIME_DURATION</th>\n",
       "    </tr>\n",
       "  </thead>\n",
       "  <tbody>\n",
       "    <tr>\n",
       "      <td>11</td>\n",
       "      <td>545939924</td>\n",
       "      <td>2012-01-01</td>\n",
       "      <td>2012-01-01</td>\n",
       "      <td>2018-03-24</td>\n",
       "      <td>110.0</td>\n",
       "      <td>QUEENS</td>\n",
       "      <td>SEX CRIMES</td>\n",
       "      <td>COMPLETED</td>\n",
       "      <td>MISDEMEANOR</td>\n",
       "      <td>RESIDENCE-HOUSE</td>\n",
       "      <td>40.745253</td>\n",
       "      <td>-73.870063</td>\n",
       "      <td>0 days</td>\n",
       "    </tr>\n",
       "    <tr>\n",
       "      <td>30</td>\n",
       "      <td>959113645</td>\n",
       "      <td>2012-01-01</td>\n",
       "      <td>2012-01-01</td>\n",
       "      <td>2012-01-01</td>\n",
       "      <td>73.0</td>\n",
       "      <td>BROOKLYN</td>\n",
       "      <td>DANGEROUS WEAPONS</td>\n",
       "      <td>COMPLETED</td>\n",
       "      <td>MISDEMEANOR</td>\n",
       "      <td>STREET</td>\n",
       "      <td>40.663680</td>\n",
       "      <td>-73.912124</td>\n",
       "      <td>0 days</td>\n",
       "    </tr>\n",
       "    <tr>\n",
       "      <td>31</td>\n",
       "      <td>421552963</td>\n",
       "      <td>2012-01-01</td>\n",
       "      <td>2012-01-01</td>\n",
       "      <td>2012-01-01</td>\n",
       "      <td>104.0</td>\n",
       "      <td>QUEENS</td>\n",
       "      <td>PETIT LARCENY</td>\n",
       "      <td>COMPLETED</td>\n",
       "      <td>MISDEMEANOR</td>\n",
       "      <td>DEPARTMENT STORE</td>\n",
       "      <td>40.712362</td>\n",
       "      <td>-73.891225</td>\n",
       "      <td>0 days</td>\n",
       "    </tr>\n",
       "    <tr>\n",
       "      <td>33</td>\n",
       "      <td>864061201</td>\n",
       "      <td>2012-01-01</td>\n",
       "      <td>2012-01-01</td>\n",
       "      <td>2012-01-01</td>\n",
       "      <td>52.0</td>\n",
       "      <td>BRONX</td>\n",
       "      <td>CRIMINAL MISCHIEF &amp; RELATED OF</td>\n",
       "      <td>COMPLETED</td>\n",
       "      <td>MISDEMEANOR</td>\n",
       "      <td>STREET</td>\n",
       "      <td>40.880071</td>\n",
       "      <td>-73.885859</td>\n",
       "      <td>0 days</td>\n",
       "    </tr>\n",
       "    <tr>\n",
       "      <td>34</td>\n",
       "      <td>406817519</td>\n",
       "      <td>2012-01-01</td>\n",
       "      <td>2012-01-01</td>\n",
       "      <td>2012-01-01</td>\n",
       "      <td>18.0</td>\n",
       "      <td>MANHATTAN</td>\n",
       "      <td>MISCELLANEOUS PENAL LAW</td>\n",
       "      <td>COMPLETED</td>\n",
       "      <td>VIOLATION</td>\n",
       "      <td>HOTEL/MOTEL</td>\n",
       "      <td>40.762762</td>\n",
       "      <td>-73.979447</td>\n",
       "      <td>0 days</td>\n",
       "    </tr>\n",
       "  </tbody>\n",
       "</table>\n",
       "</div>"
      ],
      "text/plain": [
       "    CMPLNT_NUM CMPLNT_FR_DT CMPLNT_TO_DT     RPT_DT  ADDR_PCT_CD    BORO_NM  \\\n",
       "11   545939924   2012-01-01   2012-01-01 2018-03-24        110.0     QUEENS   \n",
       "30   959113645   2012-01-01   2012-01-01 2012-01-01         73.0   BROOKLYN   \n",
       "31   421552963   2012-01-01   2012-01-01 2012-01-01        104.0     QUEENS   \n",
       "33   864061201   2012-01-01   2012-01-01 2012-01-01         52.0      BRONX   \n",
       "34   406817519   2012-01-01   2012-01-01 2012-01-01         18.0  MANHATTAN   \n",
       "\n",
       "                         OFNS_DESC CRM_ATPT_CPTD_CD   LAW_CAT_CD  \\\n",
       "11                      SEX CRIMES        COMPLETED  MISDEMEANOR   \n",
       "30               DANGEROUS WEAPONS        COMPLETED  MISDEMEANOR   \n",
       "31                   PETIT LARCENY        COMPLETED  MISDEMEANOR   \n",
       "33  CRIMINAL MISCHIEF & RELATED OF        COMPLETED  MISDEMEANOR   \n",
       "34         MISCELLANEOUS PENAL LAW        COMPLETED    VIOLATION   \n",
       "\n",
       "       PREM_TYP_DESC   Latitude  Longitude CRIME_DURATION  \n",
       "11   RESIDENCE-HOUSE  40.745253 -73.870063         0 days  \n",
       "30            STREET  40.663680 -73.912124         0 days  \n",
       "31  DEPARTMENT STORE  40.712362 -73.891225         0 days  \n",
       "33            STREET  40.880071 -73.885859         0 days  \n",
       "34       HOTEL/MOTEL  40.762762 -73.979447         0 days  "
      ]
     },
     "execution_count": 21,
     "metadata": {},
     "output_type": "execute_result"
    }
   ],
   "source": [
    "crime_sample.head()"
   ]
  },
  {
   "cell_type": "code",
   "execution_count": 30,
   "metadata": {},
   "outputs": [],
   "source": [
    "crime_sample.to_csv('../data/NYPD_One_Day_Crimes_2012to2016.csv')"
   ]
  },
  {
   "cell_type": "markdown",
   "metadata": {},
   "source": [
    "### Crime Lat/Long to NTA"
   ]
  },
  {
   "cell_type": "code",
   "execution_count": 39,
   "metadata": {},
   "outputs": [],
   "source": [
    "import geopandas as gpd\n",
    "import numpy as np\n",
    "import pandas as pd\n",
    "from shapely.geometry import Point\n",
    "import matplotlib.pylab as plt\n",
    "import geopy"
   ]
  },
  {
   "cell_type": "code",
   "execution_count": 38,
   "metadata": {},
   "outputs": [
    {
     "data": {
      "text/html": [
       "<div>\n",
       "<style scoped>\n",
       "    .dataframe tbody tr th:only-of-type {\n",
       "        vertical-align: middle;\n",
       "    }\n",
       "\n",
       "    .dataframe tbody tr th {\n",
       "        vertical-align: top;\n",
       "    }\n",
       "\n",
       "    .dataframe thead th {\n",
       "        text-align: right;\n",
       "    }\n",
       "</style>\n",
       "<table border=\"1\" class=\"dataframe\">\n",
       "  <thead>\n",
       "    <tr style=\"text-align: right;\">\n",
       "      <th></th>\n",
       "      <th>ntacode</th>\n",
       "      <th>shape_area</th>\n",
       "      <th>county_fips</th>\n",
       "      <th>ntaname</th>\n",
       "      <th>shape_leng</th>\n",
       "      <th>boro_name</th>\n",
       "      <th>boro_code</th>\n",
       "      <th>geometry</th>\n",
       "    </tr>\n",
       "  </thead>\n",
       "  <tbody>\n",
       "    <tr>\n",
       "      <td>0</td>\n",
       "      <td>BK88</td>\n",
       "      <td>54005018.7472</td>\n",
       "      <td>047</td>\n",
       "      <td>Borough Park</td>\n",
       "      <td>39247.2280737</td>\n",
       "      <td>Brooklyn</td>\n",
       "      <td>3</td>\n",
       "      <td>MULTIPOLYGON (((-73.97605 40.63128, -73.97717 ...</td>\n",
       "    </tr>\n",
       "    <tr>\n",
       "      <td>1</td>\n",
       "      <td>QN51</td>\n",
       "      <td>52488276.477</td>\n",
       "      <td>081</td>\n",
       "      <td>Murray Hill</td>\n",
       "      <td>33266.904811</td>\n",
       "      <td>Queens</td>\n",
       "      <td>4</td>\n",
       "      <td>MULTIPOLYGON (((-73.80379 40.77561, -73.80099 ...</td>\n",
       "    </tr>\n",
       "    <tr>\n",
       "      <td>2</td>\n",
       "      <td>QN27</td>\n",
       "      <td>19726845.26</td>\n",
       "      <td>081</td>\n",
       "      <td>East Elmhurst</td>\n",
       "      <td>19816.7115378</td>\n",
       "      <td>Queens</td>\n",
       "      <td>4</td>\n",
       "      <td>MULTIPOLYGON (((-73.86110 40.76366, -73.85993 ...</td>\n",
       "    </tr>\n",
       "    <tr>\n",
       "      <td>3</td>\n",
       "      <td>QN07</td>\n",
       "      <td>22887772.7683</td>\n",
       "      <td>081</td>\n",
       "      <td>Hollis</td>\n",
       "      <td>20976.3358374</td>\n",
       "      <td>Queens</td>\n",
       "      <td>4</td>\n",
       "      <td>MULTIPOLYGON (((-73.75726 40.71814, -73.75589 ...</td>\n",
       "    </tr>\n",
       "    <tr>\n",
       "      <td>4</td>\n",
       "      <td>MN06</td>\n",
       "      <td>10647077.6122</td>\n",
       "      <td>061</td>\n",
       "      <td>Manhattanville</td>\n",
       "      <td>17040.6865482</td>\n",
       "      <td>Manhattan</td>\n",
       "      <td>1</td>\n",
       "      <td>MULTIPOLYGON (((-73.94608 40.82126, -73.94640 ...</td>\n",
       "    </tr>\n",
       "  </tbody>\n",
       "</table>\n",
       "</div>"
      ],
      "text/plain": [
       "  ntacode     shape_area county_fips         ntaname     shape_leng  \\\n",
       "0    BK88  54005018.7472         047    Borough Park  39247.2280737   \n",
       "1    QN51   52488276.477         081     Murray Hill   33266.904811   \n",
       "2    QN27    19726845.26         081   East Elmhurst  19816.7115378   \n",
       "3    QN07  22887772.7683         081          Hollis  20976.3358374   \n",
       "4    MN06  10647077.6122         061  Manhattanville  17040.6865482   \n",
       "\n",
       "   boro_name boro_code                                           geometry  \n",
       "0   Brooklyn         3  MULTIPOLYGON (((-73.97605 40.63128, -73.97717 ...  \n",
       "1     Queens         4  MULTIPOLYGON (((-73.80379 40.77561, -73.80099 ...  \n",
       "2     Queens         4  MULTIPOLYGON (((-73.86110 40.76366, -73.85993 ...  \n",
       "3     Queens         4  MULTIPOLYGON (((-73.75726 40.71814, -73.75589 ...  \n",
       "4  Manhattan         1  MULTIPOLYGON (((-73.94608 40.82126, -73.94640 ...  "
      ]
     },
     "execution_count": 38,
     "metadata": {},
     "output_type": "execute_result"
    }
   ],
   "source": [
    "nta = gpd.read_file('../data/Neighborhood Tabulation Areas.geojson')\n",
    "nta.head()"
   ]
  },
  {
   "cell_type": "code",
   "execution_count": 44,
   "metadata": {},
   "outputs": [
    {
     "data": {
      "text/plain": [
       "Latitude     float64\n",
       "Longitude    float64\n",
       "dtype: object"
      ]
     },
     "execution_count": 44,
     "metadata": {},
     "output_type": "execute_result"
    }
   ],
   "source": [
    "# make sure lat long variables are numeric\n",
    "crime_sample[['Latitude', 'Longitude']].dtypes "
   ]
  },
  {
   "cell_type": "code",
   "execution_count": 45,
   "metadata": {
    "scrolled": true
   },
   "outputs": [
    {
     "data": {
      "text/html": [
       "<div>\n",
       "<style scoped>\n",
       "    .dataframe tbody tr th:only-of-type {\n",
       "        vertical-align: middle;\n",
       "    }\n",
       "\n",
       "    .dataframe tbody tr th {\n",
       "        vertical-align: top;\n",
       "    }\n",
       "\n",
       "    .dataframe thead th {\n",
       "        text-align: right;\n",
       "    }\n",
       "</style>\n",
       "<table border=\"1\" class=\"dataframe\">\n",
       "  <thead>\n",
       "    <tr style=\"text-align: right;\">\n",
       "      <th></th>\n",
       "      <th>Latitude</th>\n",
       "      <th>Longitude</th>\n",
       "    </tr>\n",
       "  </thead>\n",
       "  <tbody>\n",
       "    <tr>\n",
       "      <td>False</td>\n",
       "      <td>1573540</td>\n",
       "      <td>1573540</td>\n",
       "    </tr>\n",
       "    <tr>\n",
       "      <td>True</td>\n",
       "      <td>65</td>\n",
       "      <td>65</td>\n",
       "    </tr>\n",
       "  </tbody>\n",
       "</table>\n",
       "</div>"
      ],
      "text/plain": [
       "       Latitude  Longitude\n",
       "False   1573540    1573540\n",
       "True         65         65"
      ]
     },
     "execution_count": 45,
     "metadata": {},
     "output_type": "execute_result"
    }
   ],
   "source": [
    "# data cleaning, we wanna remove entries where lat long are null before we do spatial join\n",
    "# check out how many rows with lat, long columns each as null\n",
    "crime_sample[['Latitude', 'Longitude']].isnull().apply(pd.value_counts)"
   ]
  },
  {
   "cell_type": "code",
   "execution_count": 47,
   "metadata": {
    "scrolled": true
   },
   "outputs": [
    {
     "data": {
      "text/html": [
       "<div>\n",
       "<style scoped>\n",
       "    .dataframe tbody tr th:only-of-type {\n",
       "        vertical-align: middle;\n",
       "    }\n",
       "\n",
       "    .dataframe tbody tr th {\n",
       "        vertical-align: top;\n",
       "    }\n",
       "\n",
       "    .dataframe thead th {\n",
       "        text-align: right;\n",
       "    }\n",
       "</style>\n",
       "<table border=\"1\" class=\"dataframe\">\n",
       "  <thead>\n",
       "    <tr style=\"text-align: right;\">\n",
       "      <th></th>\n",
       "      <th>CMPLNT_NUM</th>\n",
       "      <th>CMPLNT_FR_DT</th>\n",
       "      <th>CMPLNT_TO_DT</th>\n",
       "      <th>RPT_DT</th>\n",
       "      <th>ADDR_PCT_CD</th>\n",
       "      <th>BORO_NM</th>\n",
       "      <th>OFNS_DESC</th>\n",
       "      <th>CRM_ATPT_CPTD_CD</th>\n",
       "      <th>LAW_CAT_CD</th>\n",
       "      <th>PREM_TYP_DESC</th>\n",
       "      <th>Latitude</th>\n",
       "      <th>Longitude</th>\n",
       "      <th>CRIME_DURATION</th>\n",
       "    </tr>\n",
       "  </thead>\n",
       "  <tbody>\n",
       "    <tr>\n",
       "      <td>325380</td>\n",
       "      <td>418121578</td>\n",
       "      <td>2012-08-18</td>\n",
       "      <td>2012-08-18</td>\n",
       "      <td>2012-09-17</td>\n",
       "      <td>41.0</td>\n",
       "      <td>BRONX</td>\n",
       "      <td>SEX CRIMES</td>\n",
       "      <td>COMPLETED</td>\n",
       "      <td>MISDEMEANOR</td>\n",
       "      <td>OTHER</td>\n",
       "      <td>NaN</td>\n",
       "      <td>NaN</td>\n",
       "      <td>0 days</td>\n",
       "    </tr>\n",
       "    <tr>\n",
       "      <td>442936</td>\n",
       "      <td>553721561</td>\n",
       "      <td>2012-11-13</td>\n",
       "      <td>2012-11-13</td>\n",
       "      <td>2012-11-20</td>\n",
       "      <td>41.0</td>\n",
       "      <td>BRONX</td>\n",
       "      <td>SEX CRIMES</td>\n",
       "      <td>COMPLETED</td>\n",
       "      <td>MISDEMEANOR</td>\n",
       "      <td>OTHER</td>\n",
       "      <td>NaN</td>\n",
       "      <td>NaN</td>\n",
       "      <td>0 days</td>\n",
       "    </tr>\n",
       "    <tr>\n",
       "      <td>573114</td>\n",
       "      <td>873355026</td>\n",
       "      <td>2013-02-23</td>\n",
       "      <td>2013-02-23</td>\n",
       "      <td>2013-02-23</td>\n",
       "      <td>41.0</td>\n",
       "      <td>BRONX</td>\n",
       "      <td>SEX CRIMES</td>\n",
       "      <td>COMPLETED</td>\n",
       "      <td>MISDEMEANOR</td>\n",
       "      <td>OTHER</td>\n",
       "      <td>NaN</td>\n",
       "      <td>NaN</td>\n",
       "      <td>0 days</td>\n",
       "    </tr>\n",
       "    <tr>\n",
       "      <td>703443</td>\n",
       "      <td>631989915</td>\n",
       "      <td>2013-06-02</td>\n",
       "      <td>2013-06-02</td>\n",
       "      <td>2013-06-04</td>\n",
       "      <td>41.0</td>\n",
       "      <td>BRONX</td>\n",
       "      <td>RAPE</td>\n",
       "      <td>COMPLETED</td>\n",
       "      <td>FELONY</td>\n",
       "      <td>OTHER</td>\n",
       "      <td>NaN</td>\n",
       "      <td>NaN</td>\n",
       "      <td>0 days</td>\n",
       "    </tr>\n",
       "    <tr>\n",
       "      <td>793506</td>\n",
       "      <td>210615669</td>\n",
       "      <td>2013-08-04</td>\n",
       "      <td>2013-08-04</td>\n",
       "      <td>2013-08-07</td>\n",
       "      <td>41.0</td>\n",
       "      <td>BRONX</td>\n",
       "      <td>SEX CRIMES</td>\n",
       "      <td>COMPLETED</td>\n",
       "      <td>FELONY</td>\n",
       "      <td>OTHER</td>\n",
       "      <td>NaN</td>\n",
       "      <td>NaN</td>\n",
       "      <td>0 days</td>\n",
       "    </tr>\n",
       "    <tr>\n",
       "      <td>...</td>\n",
       "      <td>...</td>\n",
       "      <td>...</td>\n",
       "      <td>...</td>\n",
       "      <td>...</td>\n",
       "      <td>...</td>\n",
       "      <td>...</td>\n",
       "      <td>...</td>\n",
       "      <td>...</td>\n",
       "      <td>...</td>\n",
       "      <td>...</td>\n",
       "      <td>...</td>\n",
       "      <td>...</td>\n",
       "      <td>...</td>\n",
       "    </tr>\n",
       "    <tr>\n",
       "      <td>2400286</td>\n",
       "      <td>642961942</td>\n",
       "      <td>2016-11-22</td>\n",
       "      <td>2016-11-22</td>\n",
       "      <td>2016-11-22</td>\n",
       "      <td>41.0</td>\n",
       "      <td>BRONX</td>\n",
       "      <td>SEX CRIMES</td>\n",
       "      <td>COMPLETED</td>\n",
       "      <td>MISDEMEANOR</td>\n",
       "      <td>OTHER</td>\n",
       "      <td>NaN</td>\n",
       "      <td>NaN</td>\n",
       "      <td>0 days</td>\n",
       "    </tr>\n",
       "    <tr>\n",
       "      <td>2413185</td>\n",
       "      <td>417709920</td>\n",
       "      <td>2016-12-02</td>\n",
       "      <td>2016-12-02</td>\n",
       "      <td>2016-12-04</td>\n",
       "      <td>41.0</td>\n",
       "      <td>BRONX</td>\n",
       "      <td>SEX CRIMES</td>\n",
       "      <td>COMPLETED</td>\n",
       "      <td>FELONY</td>\n",
       "      <td>OTHER</td>\n",
       "      <td>NaN</td>\n",
       "      <td>NaN</td>\n",
       "      <td>0 days</td>\n",
       "    </tr>\n",
       "    <tr>\n",
       "      <td>2421596</td>\n",
       "      <td>870161243</td>\n",
       "      <td>2016-12-09</td>\n",
       "      <td>2016-12-09</td>\n",
       "      <td>2016-12-12</td>\n",
       "      <td>41.0</td>\n",
       "      <td>BRONX</td>\n",
       "      <td>SEX CRIMES</td>\n",
       "      <td>ATTEMPTED</td>\n",
       "      <td>FELONY</td>\n",
       "      <td>OTHER</td>\n",
       "      <td>NaN</td>\n",
       "      <td>NaN</td>\n",
       "      <td>0 days</td>\n",
       "    </tr>\n",
       "    <tr>\n",
       "      <td>2423012</td>\n",
       "      <td>296032210</td>\n",
       "      <td>2016-12-10</td>\n",
       "      <td>2016-12-10</td>\n",
       "      <td>2016-12-11</td>\n",
       "      <td>41.0</td>\n",
       "      <td>BRONX</td>\n",
       "      <td>SEX CRIMES</td>\n",
       "      <td>COMPLETED</td>\n",
       "      <td>MISDEMEANOR</td>\n",
       "      <td>OTHER</td>\n",
       "      <td>NaN</td>\n",
       "      <td>NaN</td>\n",
       "      <td>0 days</td>\n",
       "    </tr>\n",
       "    <tr>\n",
       "      <td>2440493</td>\n",
       "      <td>632288569</td>\n",
       "      <td>2016-12-25</td>\n",
       "      <td>2016-12-25</td>\n",
       "      <td>2016-12-28</td>\n",
       "      <td>41.0</td>\n",
       "      <td>BRONX</td>\n",
       "      <td>SEX CRIMES</td>\n",
       "      <td>COMPLETED</td>\n",
       "      <td>FELONY</td>\n",
       "      <td>OTHER</td>\n",
       "      <td>NaN</td>\n",
       "      <td>NaN</td>\n",
       "      <td>0 days</td>\n",
       "    </tr>\n",
       "  </tbody>\n",
       "</table>\n",
       "<p>65 rows × 13 columns</p>\n",
       "</div>"
      ],
      "text/plain": [
       "         CMPLNT_NUM CMPLNT_FR_DT CMPLNT_TO_DT     RPT_DT  ADDR_PCT_CD BORO_NM  \\\n",
       "325380    418121578   2012-08-18   2012-08-18 2012-09-17         41.0   BRONX   \n",
       "442936    553721561   2012-11-13   2012-11-13 2012-11-20         41.0   BRONX   \n",
       "573114    873355026   2013-02-23   2013-02-23 2013-02-23         41.0   BRONX   \n",
       "703443    631989915   2013-06-02   2013-06-02 2013-06-04         41.0   BRONX   \n",
       "793506    210615669   2013-08-04   2013-08-04 2013-08-07         41.0   BRONX   \n",
       "...             ...          ...          ...        ...          ...     ...   \n",
       "2400286   642961942   2016-11-22   2016-11-22 2016-11-22         41.0   BRONX   \n",
       "2413185   417709920   2016-12-02   2016-12-02 2016-12-04         41.0   BRONX   \n",
       "2421596   870161243   2016-12-09   2016-12-09 2016-12-12         41.0   BRONX   \n",
       "2423012   296032210   2016-12-10   2016-12-10 2016-12-11         41.0   BRONX   \n",
       "2440493   632288569   2016-12-25   2016-12-25 2016-12-28         41.0   BRONX   \n",
       "\n",
       "          OFNS_DESC CRM_ATPT_CPTD_CD   LAW_CAT_CD PREM_TYP_DESC  Latitude  \\\n",
       "325380   SEX CRIMES        COMPLETED  MISDEMEANOR         OTHER       NaN   \n",
       "442936   SEX CRIMES        COMPLETED  MISDEMEANOR         OTHER       NaN   \n",
       "573114   SEX CRIMES        COMPLETED  MISDEMEANOR         OTHER       NaN   \n",
       "703443         RAPE        COMPLETED       FELONY         OTHER       NaN   \n",
       "793506   SEX CRIMES        COMPLETED       FELONY         OTHER       NaN   \n",
       "...             ...              ...          ...           ...       ...   \n",
       "2400286  SEX CRIMES        COMPLETED  MISDEMEANOR         OTHER       NaN   \n",
       "2413185  SEX CRIMES        COMPLETED       FELONY         OTHER       NaN   \n",
       "2421596  SEX CRIMES        ATTEMPTED       FELONY         OTHER       NaN   \n",
       "2423012  SEX CRIMES        COMPLETED  MISDEMEANOR         OTHER       NaN   \n",
       "2440493  SEX CRIMES        COMPLETED       FELONY         OTHER       NaN   \n",
       "\n",
       "         Longitude CRIME_DURATION  \n",
       "325380         NaN         0 days  \n",
       "442936         NaN         0 days  \n",
       "573114         NaN         0 days  \n",
       "703443         NaN         0 days  \n",
       "793506         NaN         0 days  \n",
       "...            ...            ...  \n",
       "2400286        NaN         0 days  \n",
       "2413185        NaN         0 days  \n",
       "2421596        NaN         0 days  \n",
       "2423012        NaN         0 days  \n",
       "2440493        NaN         0 days  \n",
       "\n",
       "[65 rows x 13 columns]"
      ]
     },
     "execution_count": 47,
     "metadata": {},
     "output_type": "execute_result"
    }
   ],
   "source": [
    "# the offending 20 rows\n",
    "crime_sample[crime_sample.Latitude.isnull()]"
   ]
  },
  {
   "cell_type": "code",
   "execution_count": 50,
   "metadata": {},
   "outputs": [
    {
     "data": {
      "text/plain": [
       "(1573540, 13)"
      ]
     },
     "execution_count": 50,
     "metadata": {},
     "output_type": "execute_result"
    }
   ],
   "source": [
    "# drop the offending rows\n",
    "crime_sample = crime_sample.dropna(subset=['Latitude', 'Longitude'])\n",
    "crime_sample.shape # 20 fewer rows"
   ]
  },
  {
   "cell_type": "code",
   "execution_count": 51,
   "metadata": {},
   "outputs": [],
   "source": [
    "# Create crime geodataframe\n",
    "crime_sample['geometry'] = crime_sample.apply(lambda crime_sample: Point((crime_sample.Longitude, crime_sample.Latitude)), axis=1)\n",
    "crime_gdf = gpd.GeoDataFrame(crime_sample, geometry = 'geometry')"
   ]
  },
  {
   "cell_type": "code",
   "execution_count": 52,
   "metadata": {},
   "outputs": [
    {
     "data": {
      "text/html": [
       "<div>\n",
       "<style scoped>\n",
       "    .dataframe tbody tr th:only-of-type {\n",
       "        vertical-align: middle;\n",
       "    }\n",
       "\n",
       "    .dataframe tbody tr th {\n",
       "        vertical-align: top;\n",
       "    }\n",
       "\n",
       "    .dataframe thead th {\n",
       "        text-align: right;\n",
       "    }\n",
       "</style>\n",
       "<table border=\"1\" class=\"dataframe\">\n",
       "  <thead>\n",
       "    <tr style=\"text-align: right;\">\n",
       "      <th></th>\n",
       "      <th>CMPLNT_NUM</th>\n",
       "      <th>CMPLNT_FR_DT</th>\n",
       "      <th>CMPLNT_TO_DT</th>\n",
       "      <th>RPT_DT</th>\n",
       "      <th>ADDR_PCT_CD</th>\n",
       "      <th>BORO_NM</th>\n",
       "      <th>OFNS_DESC</th>\n",
       "      <th>CRM_ATPT_CPTD_CD</th>\n",
       "      <th>LAW_CAT_CD</th>\n",
       "      <th>PREM_TYP_DESC</th>\n",
       "      <th>Latitude</th>\n",
       "      <th>Longitude</th>\n",
       "      <th>CRIME_DURATION</th>\n",
       "      <th>geometry</th>\n",
       "    </tr>\n",
       "  </thead>\n",
       "  <tbody>\n",
       "    <tr>\n",
       "      <td>11</td>\n",
       "      <td>545939924</td>\n",
       "      <td>2012-01-01</td>\n",
       "      <td>2012-01-01</td>\n",
       "      <td>2018-03-24</td>\n",
       "      <td>110.0</td>\n",
       "      <td>QUEENS</td>\n",
       "      <td>SEX CRIMES</td>\n",
       "      <td>COMPLETED</td>\n",
       "      <td>MISDEMEANOR</td>\n",
       "      <td>RESIDENCE-HOUSE</td>\n",
       "      <td>40.745253</td>\n",
       "      <td>-73.870063</td>\n",
       "      <td>0 days</td>\n",
       "      <td>POINT (-73.87006 40.74525)</td>\n",
       "    </tr>\n",
       "    <tr>\n",
       "      <td>30</td>\n",
       "      <td>959113645</td>\n",
       "      <td>2012-01-01</td>\n",
       "      <td>2012-01-01</td>\n",
       "      <td>2012-01-01</td>\n",
       "      <td>73.0</td>\n",
       "      <td>BROOKLYN</td>\n",
       "      <td>DANGEROUS WEAPONS</td>\n",
       "      <td>COMPLETED</td>\n",
       "      <td>MISDEMEANOR</td>\n",
       "      <td>STREET</td>\n",
       "      <td>40.663680</td>\n",
       "      <td>-73.912124</td>\n",
       "      <td>0 days</td>\n",
       "      <td>POINT (-73.91212 40.66368)</td>\n",
       "    </tr>\n",
       "  </tbody>\n",
       "</table>\n",
       "</div>"
      ],
      "text/plain": [
       "    CMPLNT_NUM CMPLNT_FR_DT CMPLNT_TO_DT     RPT_DT  ADDR_PCT_CD   BORO_NM  \\\n",
       "11   545939924   2012-01-01   2012-01-01 2018-03-24        110.0    QUEENS   \n",
       "30   959113645   2012-01-01   2012-01-01 2012-01-01         73.0  BROOKLYN   \n",
       "\n",
       "            OFNS_DESC CRM_ATPT_CPTD_CD   LAW_CAT_CD    PREM_TYP_DESC  \\\n",
       "11         SEX CRIMES        COMPLETED  MISDEMEANOR  RESIDENCE-HOUSE   \n",
       "30  DANGEROUS WEAPONS        COMPLETED  MISDEMEANOR           STREET   \n",
       "\n",
       "     Latitude  Longitude CRIME_DURATION                    geometry  \n",
       "11  40.745253 -73.870063         0 days  POINT (-73.87006 40.74525)  \n",
       "30  40.663680 -73.912124         0 days  POINT (-73.91212 40.66368)  "
      ]
     },
     "execution_count": 52,
     "metadata": {},
     "output_type": "execute_result"
    }
   ],
   "source": [
    "crime_gdf.head(2)"
   ]
  },
  {
   "cell_type": "code",
   "execution_count": 53,
   "metadata": {},
   "outputs": [],
   "source": [
    "crime_gdf.crs = nta.crs # ensure they are on the same CRS projection\n",
    "crime_nta = gpd.sjoin(crime_gdf, nta, op=\"intersects\")"
   ]
  },
  {
   "cell_type": "code",
   "execution_count": 54,
   "metadata": {
    "scrolled": false
   },
   "outputs": [
    {
     "data": {
      "text/html": [
       "<div>\n",
       "<style scoped>\n",
       "    .dataframe tbody tr th:only-of-type {\n",
       "        vertical-align: middle;\n",
       "    }\n",
       "\n",
       "    .dataframe tbody tr th {\n",
       "        vertical-align: top;\n",
       "    }\n",
       "\n",
       "    .dataframe thead th {\n",
       "        text-align: right;\n",
       "    }\n",
       "</style>\n",
       "<table border=\"1\" class=\"dataframe\">\n",
       "  <thead>\n",
       "    <tr style=\"text-align: right;\">\n",
       "      <th></th>\n",
       "      <th>CMPLNT_NUM</th>\n",
       "      <th>CMPLNT_FR_DT</th>\n",
       "      <th>CMPLNT_TO_DT</th>\n",
       "      <th>RPT_DT</th>\n",
       "      <th>ADDR_PCT_CD</th>\n",
       "      <th>BORO_NM</th>\n",
       "      <th>OFNS_DESC</th>\n",
       "      <th>CRM_ATPT_CPTD_CD</th>\n",
       "      <th>LAW_CAT_CD</th>\n",
       "      <th>PREM_TYP_DESC</th>\n",
       "      <th>...</th>\n",
       "      <th>CRIME_DURATION</th>\n",
       "      <th>geometry</th>\n",
       "      <th>index_right</th>\n",
       "      <th>ntacode</th>\n",
       "      <th>shape_area</th>\n",
       "      <th>county_fips</th>\n",
       "      <th>ntaname</th>\n",
       "      <th>shape_leng</th>\n",
       "      <th>boro_name</th>\n",
       "      <th>boro_code</th>\n",
       "    </tr>\n",
       "  </thead>\n",
       "  <tbody>\n",
       "    <tr>\n",
       "      <td>11</td>\n",
       "      <td>545939924</td>\n",
       "      <td>2012-01-01</td>\n",
       "      <td>2012-01-01</td>\n",
       "      <td>2018-03-24</td>\n",
       "      <td>110.0</td>\n",
       "      <td>QUEENS</td>\n",
       "      <td>SEX CRIMES</td>\n",
       "      <td>COMPLETED</td>\n",
       "      <td>MISDEMEANOR</td>\n",
       "      <td>RESIDENCE-HOUSE</td>\n",
       "      <td>...</td>\n",
       "      <td>0 days</td>\n",
       "      <td>POINT (-73.87006 40.74525)</td>\n",
       "      <td>57</td>\n",
       "      <td>QN29</td>\n",
       "      <td>32675347.1604</td>\n",
       "      <td>081</td>\n",
       "      <td>Elmhurst</td>\n",
       "      <td>36711.3368893</td>\n",
       "      <td>Queens</td>\n",
       "      <td>4</td>\n",
       "    </tr>\n",
       "    <tr>\n",
       "      <td>60</td>\n",
       "      <td>563246152</td>\n",
       "      <td>2012-01-01</td>\n",
       "      <td>2012-01-01</td>\n",
       "      <td>2012-01-01</td>\n",
       "      <td>110.0</td>\n",
       "      <td>QUEENS</td>\n",
       "      <td>PETIT LARCENY</td>\n",
       "      <td>COMPLETED</td>\n",
       "      <td>MISDEMEANOR</td>\n",
       "      <td>CHAIN STORE</td>\n",
       "      <td>...</td>\n",
       "      <td>0 days</td>\n",
       "      <td>POINT (-73.87545 40.73533)</td>\n",
       "      <td>57</td>\n",
       "      <td>QN29</td>\n",
       "      <td>32675347.1604</td>\n",
       "      <td>081</td>\n",
       "      <td>Elmhurst</td>\n",
       "      <td>36711.3368893</td>\n",
       "      <td>Queens</td>\n",
       "      <td>4</td>\n",
       "    </tr>\n",
       "  </tbody>\n",
       "</table>\n",
       "<p>2 rows × 22 columns</p>\n",
       "</div>"
      ],
      "text/plain": [
       "    CMPLNT_NUM CMPLNT_FR_DT CMPLNT_TO_DT     RPT_DT  ADDR_PCT_CD BORO_NM  \\\n",
       "11   545939924   2012-01-01   2012-01-01 2018-03-24        110.0  QUEENS   \n",
       "60   563246152   2012-01-01   2012-01-01 2012-01-01        110.0  QUEENS   \n",
       "\n",
       "        OFNS_DESC CRM_ATPT_CPTD_CD   LAW_CAT_CD    PREM_TYP_DESC  ...  \\\n",
       "11     SEX CRIMES        COMPLETED  MISDEMEANOR  RESIDENCE-HOUSE  ...   \n",
       "60  PETIT LARCENY        COMPLETED  MISDEMEANOR      CHAIN STORE  ...   \n",
       "\n",
       "    CRIME_DURATION                    geometry index_right ntacode  \\\n",
       "11          0 days  POINT (-73.87006 40.74525)          57    QN29   \n",
       "60          0 days  POINT (-73.87545 40.73533)          57    QN29   \n",
       "\n",
       "       shape_area county_fips   ntaname     shape_leng boro_name boro_code  \n",
       "11  32675347.1604         081  Elmhurst  36711.3368893    Queens         4  \n",
       "60  32675347.1604         081  Elmhurst  36711.3368893    Queens         4  \n",
       "\n",
       "[2 rows x 22 columns]"
      ]
     },
     "execution_count": 54,
     "metadata": {},
     "output_type": "execute_result"
    }
   ],
   "source": [
    "crime_nta.head(2)"
   ]
  },
  {
   "cell_type": "code",
   "execution_count": 63,
   "metadata": {},
   "outputs": [
    {
     "data": {
      "text/plain": [
       "(1573438, 22)"
      ]
     },
     "execution_count": 63,
     "metadata": {},
     "output_type": "execute_result"
    }
   ],
   "source": [
    "crime_nta.shape"
   ]
  },
  {
   "cell_type": "code",
   "execution_count": 56,
   "metadata": {},
   "outputs": [
    {
     "data": {
      "text/plain": [
       "True     1568389\n",
       "False       5049\n",
       "dtype: int64"
      ]
     },
     "execution_count": 56,
     "metadata": {},
     "output_type": "execute_result"
    }
   ],
   "source": [
    "# sanity check for spatial join\n",
    "(crime_nta.BORO_NM == crime_nta.boro_name.str.upper()).value_counts()\n",
    "\n",
    "# 5049 rows with different boroughs specified?"
   ]
  },
  {
   "cell_type": "code",
   "execution_count": 57,
   "metadata": {},
   "outputs": [
    {
     "data": {
      "text/html": [
       "<div>\n",
       "<style scoped>\n",
       "    .dataframe tbody tr th:only-of-type {\n",
       "        vertical-align: middle;\n",
       "    }\n",
       "\n",
       "    .dataframe tbody tr th {\n",
       "        vertical-align: top;\n",
       "    }\n",
       "\n",
       "    .dataframe thead th {\n",
       "        text-align: right;\n",
       "    }\n",
       "</style>\n",
       "<table border=\"1\" class=\"dataframe\">\n",
       "  <thead>\n",
       "    <tr style=\"text-align: right;\">\n",
       "      <th></th>\n",
       "      <th>CMPLNT_FR_DT</th>\n",
       "      <th>BORO_NM</th>\n",
       "      <th>boro_name</th>\n",
       "    </tr>\n",
       "  </thead>\n",
       "  <tbody>\n",
       "    <tr>\n",
       "      <td>439403</td>\n",
       "      <td>2012-11-10</td>\n",
       "      <td>MANHATTAN</td>\n",
       "      <td>Queens</td>\n",
       "    </tr>\n",
       "    <tr>\n",
       "      <td>448607</td>\n",
       "      <td>2012-11-17</td>\n",
       "      <td>MANHATTAN</td>\n",
       "      <td>Queens</td>\n",
       "    </tr>\n",
       "    <tr>\n",
       "      <td>988804</td>\n",
       "      <td>2013-12-22</td>\n",
       "      <td>MANHATTAN</td>\n",
       "      <td>Queens</td>\n",
       "    </tr>\n",
       "    <tr>\n",
       "      <td>2141891</td>\n",
       "      <td>2016-05-14</td>\n",
       "      <td>MANHATTAN</td>\n",
       "      <td>Queens</td>\n",
       "    </tr>\n",
       "    <tr>\n",
       "      <td>429144</td>\n",
       "      <td>2012-10-31</td>\n",
       "      <td>BRONX</td>\n",
       "      <td>Brooklyn</td>\n",
       "    </tr>\n",
       "  </tbody>\n",
       "</table>\n",
       "</div>"
      ],
      "text/plain": [
       "        CMPLNT_FR_DT    BORO_NM boro_name\n",
       "439403    2012-11-10  MANHATTAN    Queens\n",
       "448607    2012-11-17  MANHATTAN    Queens\n",
       "988804    2013-12-22  MANHATTAN    Queens\n",
       "2141891   2016-05-14  MANHATTAN    Queens\n",
       "429144    2012-10-31      BRONX  Brooklyn"
      ]
     },
     "execution_count": 57,
     "metadata": {},
     "output_type": "execute_result"
    }
   ],
   "source": [
    "error_df = crime_nta[['CMPLNT_FR_DT', 'BORO_NM', 'boro_name']][~(crime_nta.BORO_NM == crime_nta.boro_name.str.upper())]\n",
    "error_df.head()\n",
    "# some instances where crime dataset doesn't specify borough\n",
    "# other instances where crime dataset"
   ]
  },
  {
   "cell_type": "code",
   "execution_count": 58,
   "metadata": {},
   "outputs": [
    {
     "name": "stdout",
     "output_type": "stream",
     "text": [
      "num of rows with different/wrong boroughs=5024\n",
      "that's 0.0031930079227780184% of dataset\n"
     ]
    }
   ],
   "source": [
    "# num of rows where crime dataset's borough is diff from nta dataset's borough\n",
    "num_diff_boro = len(error_df[~error_df.BORO_NM.isnull()])\n",
    "print(f\"num of rows with different/wrong boroughs={num_diff_boro}\")\n",
    "print(f\"that's {num_diff_boro/len(crime_nta)}% of dataset\")"
   ]
  },
  {
   "cell_type": "code",
   "execution_count": 76,
   "metadata": {
    "scrolled": true
   },
   "outputs": [
    {
     "data": {
      "text/html": [
       "<div>\n",
       "<style scoped>\n",
       "    .dataframe tbody tr th:only-of-type {\n",
       "        vertical-align: middle;\n",
       "    }\n",
       "\n",
       "    .dataframe tbody tr th {\n",
       "        vertical-align: top;\n",
       "    }\n",
       "\n",
       "    .dataframe thead th {\n",
       "        text-align: right;\n",
       "    }\n",
       "</style>\n",
       "<table border=\"1\" class=\"dataframe\">\n",
       "  <thead>\n",
       "    <tr style=\"text-align: right;\">\n",
       "      <th></th>\n",
       "      <th>CMPLNT_NUM</th>\n",
       "      <th>CMPLNT_FR_DT</th>\n",
       "      <th>CMPLNT_TO_DT</th>\n",
       "      <th>RPT_DT</th>\n",
       "      <th>ADDR_PCT_CD</th>\n",
       "      <th>BORO_NM</th>\n",
       "      <th>OFNS_DESC</th>\n",
       "      <th>CRM_ATPT_CPTD_CD</th>\n",
       "      <th>LAW_CAT_CD</th>\n",
       "      <th>PREM_TYP_DESC</th>\n",
       "      <th>...</th>\n",
       "      <th>CRIME_DURATION</th>\n",
       "      <th>geometry</th>\n",
       "      <th>index_right</th>\n",
       "      <th>ntacode</th>\n",
       "      <th>shape_area</th>\n",
       "      <th>county_fips</th>\n",
       "      <th>ntaname</th>\n",
       "      <th>shape_leng</th>\n",
       "      <th>boro_name</th>\n",
       "      <th>boro_code</th>\n",
       "    </tr>\n",
       "  </thead>\n",
       "  <tbody>\n",
       "    <tr>\n",
       "      <td>11</td>\n",
       "      <td>545939924</td>\n",
       "      <td>2012-01-01</td>\n",
       "      <td>2012-01-01</td>\n",
       "      <td>2018-03-24</td>\n",
       "      <td>110.0</td>\n",
       "      <td>QUEENS</td>\n",
       "      <td>SEX CRIMES</td>\n",
       "      <td>COMPLETED</td>\n",
       "      <td>MISDEMEANOR</td>\n",
       "      <td>RESIDENCE-HOUSE</td>\n",
       "      <td>...</td>\n",
       "      <td>0 days</td>\n",
       "      <td>POINT (-73.87006 40.74525)</td>\n",
       "      <td>57</td>\n",
       "      <td>QN29</td>\n",
       "      <td>32675347.1604</td>\n",
       "      <td>081</td>\n",
       "      <td>Elmhurst</td>\n",
       "      <td>36711.3368893</td>\n",
       "      <td>Queens</td>\n",
       "      <td>4</td>\n",
       "    </tr>\n",
       "    <tr>\n",
       "      <td>60</td>\n",
       "      <td>563246152</td>\n",
       "      <td>2012-01-01</td>\n",
       "      <td>2012-01-01</td>\n",
       "      <td>2012-01-01</td>\n",
       "      <td>110.0</td>\n",
       "      <td>QUEENS</td>\n",
       "      <td>PETIT LARCENY</td>\n",
       "      <td>COMPLETED</td>\n",
       "      <td>MISDEMEANOR</td>\n",
       "      <td>CHAIN STORE</td>\n",
       "      <td>...</td>\n",
       "      <td>0 days</td>\n",
       "      <td>POINT (-73.87545 40.73533)</td>\n",
       "      <td>57</td>\n",
       "      <td>QN29</td>\n",
       "      <td>32675347.1604</td>\n",
       "      <td>081</td>\n",
       "      <td>Elmhurst</td>\n",
       "      <td>36711.3368893</td>\n",
       "      <td>Queens</td>\n",
       "      <td>4</td>\n",
       "    </tr>\n",
       "    <tr>\n",
       "      <td>330</td>\n",
       "      <td>888198452</td>\n",
       "      <td>2012-01-01</td>\n",
       "      <td>2012-01-01</td>\n",
       "      <td>2012-01-01</td>\n",
       "      <td>110.0</td>\n",
       "      <td>QUEENS</td>\n",
       "      <td>MISCELLANEOUS PENAL LAW</td>\n",
       "      <td>COMPLETED</td>\n",
       "      <td>FELONY</td>\n",
       "      <td>RESIDENCE - APT. HOUSE</td>\n",
       "      <td>...</td>\n",
       "      <td>0 days</td>\n",
       "      <td>POINT (-73.87668 40.74585)</td>\n",
       "      <td>57</td>\n",
       "      <td>QN29</td>\n",
       "      <td>32675347.1604</td>\n",
       "      <td>081</td>\n",
       "      <td>Elmhurst</td>\n",
       "      <td>36711.3368893</td>\n",
       "      <td>Queens</td>\n",
       "      <td>4</td>\n",
       "    </tr>\n",
       "    <tr>\n",
       "      <td>427</td>\n",
       "      <td>137420748</td>\n",
       "      <td>2012-01-01</td>\n",
       "      <td>2012-01-01</td>\n",
       "      <td>2012-01-03</td>\n",
       "      <td>110.0</td>\n",
       "      <td>QUEENS</td>\n",
       "      <td>ASSAULT 3 &amp; RELATED OFFENSES</td>\n",
       "      <td>COMPLETED</td>\n",
       "      <td>MISDEMEANOR</td>\n",
       "      <td>STREET</td>\n",
       "      <td>...</td>\n",
       "      <td>0 days</td>\n",
       "      <td>POINT (-73.87471 40.74820)</td>\n",
       "      <td>57</td>\n",
       "      <td>QN29</td>\n",
       "      <td>32675347.1604</td>\n",
       "      <td>081</td>\n",
       "      <td>Elmhurst</td>\n",
       "      <td>36711.3368893</td>\n",
       "      <td>Queens</td>\n",
       "      <td>4</td>\n",
       "    </tr>\n",
       "    <tr>\n",
       "      <td>508</td>\n",
       "      <td>309275160</td>\n",
       "      <td>2012-01-01</td>\n",
       "      <td>2012-01-01</td>\n",
       "      <td>2012-02-05</td>\n",
       "      <td>110.0</td>\n",
       "      <td>QUEENS</td>\n",
       "      <td>CRIMINAL MISCHIEF &amp; RELATED OF</td>\n",
       "      <td>COMPLETED</td>\n",
       "      <td>MISDEMEANOR</td>\n",
       "      <td>RESIDENCE - APT. HOUSE</td>\n",
       "      <td>...</td>\n",
       "      <td>0 days</td>\n",
       "      <td>POINT (-73.87903 40.74276)</td>\n",
       "      <td>57</td>\n",
       "      <td>QN29</td>\n",
       "      <td>32675347.1604</td>\n",
       "      <td>081</td>\n",
       "      <td>Elmhurst</td>\n",
       "      <td>36711.3368893</td>\n",
       "      <td>Queens</td>\n",
       "      <td>4</td>\n",
       "    </tr>\n",
       "  </tbody>\n",
       "</table>\n",
       "<p>5 rows × 22 columns</p>\n",
       "</div>"
      ],
      "text/plain": [
       "     CMPLNT_NUM CMPLNT_FR_DT CMPLNT_TO_DT     RPT_DT  ADDR_PCT_CD BORO_NM  \\\n",
       "11    545939924   2012-01-01   2012-01-01 2018-03-24        110.0  QUEENS   \n",
       "60    563246152   2012-01-01   2012-01-01 2012-01-01        110.0  QUEENS   \n",
       "330   888198452   2012-01-01   2012-01-01 2012-01-01        110.0  QUEENS   \n",
       "427   137420748   2012-01-01   2012-01-01 2012-01-03        110.0  QUEENS   \n",
       "508   309275160   2012-01-01   2012-01-01 2012-02-05        110.0  QUEENS   \n",
       "\n",
       "                          OFNS_DESC CRM_ATPT_CPTD_CD   LAW_CAT_CD  \\\n",
       "11                       SEX CRIMES        COMPLETED  MISDEMEANOR   \n",
       "60                    PETIT LARCENY        COMPLETED  MISDEMEANOR   \n",
       "330         MISCELLANEOUS PENAL LAW        COMPLETED       FELONY   \n",
       "427    ASSAULT 3 & RELATED OFFENSES        COMPLETED  MISDEMEANOR   \n",
       "508  CRIMINAL MISCHIEF & RELATED OF        COMPLETED  MISDEMEANOR   \n",
       "\n",
       "              PREM_TYP_DESC  ...  CRIME_DURATION                    geometry  \\\n",
       "11          RESIDENCE-HOUSE  ...          0 days  POINT (-73.87006 40.74525)   \n",
       "60              CHAIN STORE  ...          0 days  POINT (-73.87545 40.73533)   \n",
       "330  RESIDENCE - APT. HOUSE  ...          0 days  POINT (-73.87668 40.74585)   \n",
       "427                  STREET  ...          0 days  POINT (-73.87471 40.74820)   \n",
       "508  RESIDENCE - APT. HOUSE  ...          0 days  POINT (-73.87903 40.74276)   \n",
       "\n",
       "    index_right ntacode     shape_area county_fips   ntaname     shape_leng  \\\n",
       "11           57    QN29  32675347.1604         081  Elmhurst  36711.3368893   \n",
       "60           57    QN29  32675347.1604         081  Elmhurst  36711.3368893   \n",
       "330          57    QN29  32675347.1604         081  Elmhurst  36711.3368893   \n",
       "427          57    QN29  32675347.1604         081  Elmhurst  36711.3368893   \n",
       "508          57    QN29  32675347.1604         081  Elmhurst  36711.3368893   \n",
       "\n",
       "    boro_name boro_code  \n",
       "11     Queens         4  \n",
       "60     Queens         4  \n",
       "330    Queens         4  \n",
       "427    Queens         4  \n",
       "508    Queens         4  \n",
       "\n",
       "[5 rows x 22 columns]"
      ]
     },
     "execution_count": 76,
     "metadata": {},
     "output_type": "execute_result"
    }
   ],
   "source": [
    "# keep only consistent NTAs\n",
    "crime_nta_1 = crime_nta[(crime_nta.BORO_NM == crime_nta.boro_name.str.upper())]\n",
    "crime_nta_1.head()"
   ]
  },
  {
   "cell_type": "code",
   "execution_count": 77,
   "metadata": {},
   "outputs": [
    {
     "data": {
      "text/plain": [
       "(1568389, 22)"
      ]
     },
     "execution_count": 77,
     "metadata": {},
     "output_type": "execute_result"
    }
   ],
   "source": [
    "crime_nta_1.shape #5049 entries removed"
   ]
  },
  {
   "cell_type": "markdown",
   "metadata": {},
   "source": [
    "### Reformatting Crime Data to be Consistent with ACS Data"
   ]
  },
  {
   "cell_type": "code",
   "execution_count": 78,
   "metadata": {
    "scrolled": true
   },
   "outputs": [
    {
     "data": {
      "text/html": [
       "<div>\n",
       "<style scoped>\n",
       "    .dataframe tbody tr th:only-of-type {\n",
       "        vertical-align: middle;\n",
       "    }\n",
       "\n",
       "    .dataframe tbody tr th {\n",
       "        vertical-align: top;\n",
       "    }\n",
       "\n",
       "    .dataframe thead th {\n",
       "        text-align: right;\n",
       "    }\n",
       "</style>\n",
       "<table border=\"1\" class=\"dataframe\">\n",
       "  <thead>\n",
       "    <tr style=\"text-align: right;\">\n",
       "      <th></th>\n",
       "      <th>CMPLNT_NUM</th>\n",
       "      <th>CMPLNT_FR_DT</th>\n",
       "      <th>CMPLNT_TO_DT</th>\n",
       "      <th>RPT_DT</th>\n",
       "      <th>ADDR_PCT_CD</th>\n",
       "      <th>BORO_NM</th>\n",
       "      <th>OFNS_DESC</th>\n",
       "      <th>CRM_ATPT_CPTD_CD</th>\n",
       "      <th>LAW_CAT_CD</th>\n",
       "      <th>PREM_TYP_DESC</th>\n",
       "      <th>...</th>\n",
       "      <th>CRIME_DURATION</th>\n",
       "      <th>geometry</th>\n",
       "      <th>index_right</th>\n",
       "      <th>ntacode</th>\n",
       "      <th>shape_area</th>\n",
       "      <th>county_fips</th>\n",
       "      <th>ntaname</th>\n",
       "      <th>shape_leng</th>\n",
       "      <th>boro_name</th>\n",
       "      <th>boro_code</th>\n",
       "    </tr>\n",
       "  </thead>\n",
       "  <tbody>\n",
       "    <tr>\n",
       "      <td>11</td>\n",
       "      <td>545939924</td>\n",
       "      <td>2012-01-01</td>\n",
       "      <td>2012-01-01</td>\n",
       "      <td>2018-03-24</td>\n",
       "      <td>110.0</td>\n",
       "      <td>QUEENS</td>\n",
       "      <td>SEX CRIMES</td>\n",
       "      <td>COMPLETED</td>\n",
       "      <td>MISDEMEANOR</td>\n",
       "      <td>RESIDENCE-HOUSE</td>\n",
       "      <td>...</td>\n",
       "      <td>0 days</td>\n",
       "      <td>POINT (-73.87006 40.74525)</td>\n",
       "      <td>57</td>\n",
       "      <td>QN29</td>\n",
       "      <td>32675347.1604</td>\n",
       "      <td>081</td>\n",
       "      <td>Elmhurst</td>\n",
       "      <td>36711.3368893</td>\n",
       "      <td>Queens</td>\n",
       "      <td>4</td>\n",
       "    </tr>\n",
       "    <tr>\n",
       "      <td>60</td>\n",
       "      <td>563246152</td>\n",
       "      <td>2012-01-01</td>\n",
       "      <td>2012-01-01</td>\n",
       "      <td>2012-01-01</td>\n",
       "      <td>110.0</td>\n",
       "      <td>QUEENS</td>\n",
       "      <td>PETIT LARCENY</td>\n",
       "      <td>COMPLETED</td>\n",
       "      <td>MISDEMEANOR</td>\n",
       "      <td>CHAIN STORE</td>\n",
       "      <td>...</td>\n",
       "      <td>0 days</td>\n",
       "      <td>POINT (-73.87545 40.73533)</td>\n",
       "      <td>57</td>\n",
       "      <td>QN29</td>\n",
       "      <td>32675347.1604</td>\n",
       "      <td>081</td>\n",
       "      <td>Elmhurst</td>\n",
       "      <td>36711.3368893</td>\n",
       "      <td>Queens</td>\n",
       "      <td>4</td>\n",
       "    </tr>\n",
       "    <tr>\n",
       "      <td>330</td>\n",
       "      <td>888198452</td>\n",
       "      <td>2012-01-01</td>\n",
       "      <td>2012-01-01</td>\n",
       "      <td>2012-01-01</td>\n",
       "      <td>110.0</td>\n",
       "      <td>QUEENS</td>\n",
       "      <td>MISCELLANEOUS PENAL LAW</td>\n",
       "      <td>COMPLETED</td>\n",
       "      <td>FELONY</td>\n",
       "      <td>RESIDENCE - APT. HOUSE</td>\n",
       "      <td>...</td>\n",
       "      <td>0 days</td>\n",
       "      <td>POINT (-73.87668 40.74585)</td>\n",
       "      <td>57</td>\n",
       "      <td>QN29</td>\n",
       "      <td>32675347.1604</td>\n",
       "      <td>081</td>\n",
       "      <td>Elmhurst</td>\n",
       "      <td>36711.3368893</td>\n",
       "      <td>Queens</td>\n",
       "      <td>4</td>\n",
       "    </tr>\n",
       "    <tr>\n",
       "      <td>427</td>\n",
       "      <td>137420748</td>\n",
       "      <td>2012-01-01</td>\n",
       "      <td>2012-01-01</td>\n",
       "      <td>2012-01-03</td>\n",
       "      <td>110.0</td>\n",
       "      <td>QUEENS</td>\n",
       "      <td>ASSAULT 3 &amp; RELATED OFFENSES</td>\n",
       "      <td>COMPLETED</td>\n",
       "      <td>MISDEMEANOR</td>\n",
       "      <td>STREET</td>\n",
       "      <td>...</td>\n",
       "      <td>0 days</td>\n",
       "      <td>POINT (-73.87471 40.74820)</td>\n",
       "      <td>57</td>\n",
       "      <td>QN29</td>\n",
       "      <td>32675347.1604</td>\n",
       "      <td>081</td>\n",
       "      <td>Elmhurst</td>\n",
       "      <td>36711.3368893</td>\n",
       "      <td>Queens</td>\n",
       "      <td>4</td>\n",
       "    </tr>\n",
       "    <tr>\n",
       "      <td>508</td>\n",
       "      <td>309275160</td>\n",
       "      <td>2012-01-01</td>\n",
       "      <td>2012-01-01</td>\n",
       "      <td>2012-02-05</td>\n",
       "      <td>110.0</td>\n",
       "      <td>QUEENS</td>\n",
       "      <td>CRIMINAL MISCHIEF &amp; RELATED OF</td>\n",
       "      <td>COMPLETED</td>\n",
       "      <td>MISDEMEANOR</td>\n",
       "      <td>RESIDENCE - APT. HOUSE</td>\n",
       "      <td>...</td>\n",
       "      <td>0 days</td>\n",
       "      <td>POINT (-73.87903 40.74276)</td>\n",
       "      <td>57</td>\n",
       "      <td>QN29</td>\n",
       "      <td>32675347.1604</td>\n",
       "      <td>081</td>\n",
       "      <td>Elmhurst</td>\n",
       "      <td>36711.3368893</td>\n",
       "      <td>Queens</td>\n",
       "      <td>4</td>\n",
       "    </tr>\n",
       "  </tbody>\n",
       "</table>\n",
       "<p>5 rows × 22 columns</p>\n",
       "</div>"
      ],
      "text/plain": [
       "     CMPLNT_NUM CMPLNT_FR_DT CMPLNT_TO_DT     RPT_DT  ADDR_PCT_CD BORO_NM  \\\n",
       "11    545939924   2012-01-01   2012-01-01 2018-03-24        110.0  QUEENS   \n",
       "60    563246152   2012-01-01   2012-01-01 2012-01-01        110.0  QUEENS   \n",
       "330   888198452   2012-01-01   2012-01-01 2012-01-01        110.0  QUEENS   \n",
       "427   137420748   2012-01-01   2012-01-01 2012-01-03        110.0  QUEENS   \n",
       "508   309275160   2012-01-01   2012-01-01 2012-02-05        110.0  QUEENS   \n",
       "\n",
       "                          OFNS_DESC CRM_ATPT_CPTD_CD   LAW_CAT_CD  \\\n",
       "11                       SEX CRIMES        COMPLETED  MISDEMEANOR   \n",
       "60                    PETIT LARCENY        COMPLETED  MISDEMEANOR   \n",
       "330         MISCELLANEOUS PENAL LAW        COMPLETED       FELONY   \n",
       "427    ASSAULT 3 & RELATED OFFENSES        COMPLETED  MISDEMEANOR   \n",
       "508  CRIMINAL MISCHIEF & RELATED OF        COMPLETED  MISDEMEANOR   \n",
       "\n",
       "              PREM_TYP_DESC  ...  CRIME_DURATION                    geometry  \\\n",
       "11          RESIDENCE-HOUSE  ...          0 days  POINT (-73.87006 40.74525)   \n",
       "60              CHAIN STORE  ...          0 days  POINT (-73.87545 40.73533)   \n",
       "330  RESIDENCE - APT. HOUSE  ...          0 days  POINT (-73.87668 40.74585)   \n",
       "427                  STREET  ...          0 days  POINT (-73.87471 40.74820)   \n",
       "508  RESIDENCE - APT. HOUSE  ...          0 days  POINT (-73.87903 40.74276)   \n",
       "\n",
       "    index_right ntacode     shape_area county_fips   ntaname     shape_leng  \\\n",
       "11           57    QN29  32675347.1604         081  Elmhurst  36711.3368893   \n",
       "60           57    QN29  32675347.1604         081  Elmhurst  36711.3368893   \n",
       "330          57    QN29  32675347.1604         081  Elmhurst  36711.3368893   \n",
       "427          57    QN29  32675347.1604         081  Elmhurst  36711.3368893   \n",
       "508          57    QN29  32675347.1604         081  Elmhurst  36711.3368893   \n",
       "\n",
       "    boro_name boro_code  \n",
       "11     Queens         4  \n",
       "60     Queens         4  \n",
       "330    Queens         4  \n",
       "427    Queens         4  \n",
       "508    Queens         4  \n",
       "\n",
       "[5 rows x 22 columns]"
      ]
     },
     "execution_count": 78,
     "metadata": {},
     "output_type": "execute_result"
    }
   ],
   "source": [
    "crime_nta_1.head()"
   ]
  },
  {
   "cell_type": "code",
   "execution_count": 97,
   "metadata": {},
   "outputs": [],
   "source": [
    "crime_nta_reduced = crime_nta_1[['LAW_CAT_CD','ntaname']]"
   ]
  },
  {
   "cell_type": "code",
   "execution_count": 98,
   "metadata": {},
   "outputs": [
    {
     "data": {
      "text/html": [
       "<div>\n",
       "<style scoped>\n",
       "    .dataframe tbody tr th:only-of-type {\n",
       "        vertical-align: middle;\n",
       "    }\n",
       "\n",
       "    .dataframe tbody tr th {\n",
       "        vertical-align: top;\n",
       "    }\n",
       "\n",
       "    .dataframe thead th {\n",
       "        text-align: right;\n",
       "    }\n",
       "</style>\n",
       "<table border=\"1\" class=\"dataframe\">\n",
       "  <thead>\n",
       "    <tr style=\"text-align: right;\">\n",
       "      <th></th>\n",
       "      <th>LAW_CAT_CD</th>\n",
       "      <th>ntaname</th>\n",
       "    </tr>\n",
       "  </thead>\n",
       "  <tbody>\n",
       "    <tr>\n",
       "      <td>11</td>\n",
       "      <td>MISDEMEANOR</td>\n",
       "      <td>Elmhurst</td>\n",
       "    </tr>\n",
       "    <tr>\n",
       "      <td>60</td>\n",
       "      <td>MISDEMEANOR</td>\n",
       "      <td>Elmhurst</td>\n",
       "    </tr>\n",
       "    <tr>\n",
       "      <td>330</td>\n",
       "      <td>FELONY</td>\n",
       "      <td>Elmhurst</td>\n",
       "    </tr>\n",
       "    <tr>\n",
       "      <td>427</td>\n",
       "      <td>MISDEMEANOR</td>\n",
       "      <td>Elmhurst</td>\n",
       "    </tr>\n",
       "    <tr>\n",
       "      <td>508</td>\n",
       "      <td>MISDEMEANOR</td>\n",
       "      <td>Elmhurst</td>\n",
       "    </tr>\n",
       "  </tbody>\n",
       "</table>\n",
       "</div>"
      ],
      "text/plain": [
       "      LAW_CAT_CD   ntaname\n",
       "11   MISDEMEANOR  Elmhurst\n",
       "60   MISDEMEANOR  Elmhurst\n",
       "330       FELONY  Elmhurst\n",
       "427  MISDEMEANOR  Elmhurst\n",
       "508  MISDEMEANOR  Elmhurst"
      ]
     },
     "execution_count": 98,
     "metadata": {},
     "output_type": "execute_result"
    }
   ],
   "source": [
    "crime_nta_reduced.head()"
   ]
  },
  {
   "cell_type": "code",
   "execution_count": 99,
   "metadata": {},
   "outputs": [],
   "source": [
    "crime_nta_reduced = crime_nta_reduced.set_index('ntaname')"
   ]
  },
  {
   "cell_type": "code",
   "execution_count": 100,
   "metadata": {},
   "outputs": [
    {
     "data": {
      "text/html": [
       "<div>\n",
       "<style scoped>\n",
       "    .dataframe tbody tr th:only-of-type {\n",
       "        vertical-align: middle;\n",
       "    }\n",
       "\n",
       "    .dataframe tbody tr th {\n",
       "        vertical-align: top;\n",
       "    }\n",
       "\n",
       "    .dataframe thead th {\n",
       "        text-align: right;\n",
       "    }\n",
       "</style>\n",
       "<table border=\"1\" class=\"dataframe\">\n",
       "  <thead>\n",
       "    <tr style=\"text-align: right;\">\n",
       "      <th></th>\n",
       "      <th>LAW_CAT_CD</th>\n",
       "    </tr>\n",
       "    <tr>\n",
       "      <th>ntaname</th>\n",
       "      <th></th>\n",
       "    </tr>\n",
       "  </thead>\n",
       "  <tbody>\n",
       "    <tr>\n",
       "      <td>Elmhurst</td>\n",
       "      <td>MISDEMEANOR</td>\n",
       "    </tr>\n",
       "    <tr>\n",
       "      <td>Elmhurst</td>\n",
       "      <td>MISDEMEANOR</td>\n",
       "    </tr>\n",
       "    <tr>\n",
       "      <td>Elmhurst</td>\n",
       "      <td>FELONY</td>\n",
       "    </tr>\n",
       "    <tr>\n",
       "      <td>Elmhurst</td>\n",
       "      <td>MISDEMEANOR</td>\n",
       "    </tr>\n",
       "    <tr>\n",
       "      <td>Elmhurst</td>\n",
       "      <td>MISDEMEANOR</td>\n",
       "    </tr>\n",
       "  </tbody>\n",
       "</table>\n",
       "</div>"
      ],
      "text/plain": [
       "           LAW_CAT_CD\n",
       "ntaname              \n",
       "Elmhurst  MISDEMEANOR\n",
       "Elmhurst  MISDEMEANOR\n",
       "Elmhurst       FELONY\n",
       "Elmhurst  MISDEMEANOR\n",
       "Elmhurst  MISDEMEANOR"
      ]
     },
     "execution_count": 100,
     "metadata": {},
     "output_type": "execute_result"
    }
   ],
   "source": [
    "crime_nta_reduced.head()"
   ]
  },
  {
   "cell_type": "code",
   "execution_count": 101,
   "metadata": {},
   "outputs": [],
   "source": [
    "# add dummy variables\n",
    "crime_nta_reduced = pd.get_dummies(crime_nta_reduced)"
   ]
  },
  {
   "cell_type": "code",
   "execution_count": 102,
   "metadata": {},
   "outputs": [
    {
     "data": {
      "text/html": [
       "<div>\n",
       "<style scoped>\n",
       "    .dataframe tbody tr th:only-of-type {\n",
       "        vertical-align: middle;\n",
       "    }\n",
       "\n",
       "    .dataframe tbody tr th {\n",
       "        vertical-align: top;\n",
       "    }\n",
       "\n",
       "    .dataframe thead th {\n",
       "        text-align: right;\n",
       "    }\n",
       "</style>\n",
       "<table border=\"1\" class=\"dataframe\">\n",
       "  <thead>\n",
       "    <tr style=\"text-align: right;\">\n",
       "      <th></th>\n",
       "      <th>LAW_CAT_CD_FELONY</th>\n",
       "      <th>LAW_CAT_CD_MISDEMEANOR</th>\n",
       "      <th>LAW_CAT_CD_VIOLATION</th>\n",
       "    </tr>\n",
       "    <tr>\n",
       "      <th>ntaname</th>\n",
       "      <th></th>\n",
       "      <th></th>\n",
       "      <th></th>\n",
       "    </tr>\n",
       "  </thead>\n",
       "  <tbody>\n",
       "    <tr>\n",
       "      <td>Elmhurst</td>\n",
       "      <td>0</td>\n",
       "      <td>1</td>\n",
       "      <td>0</td>\n",
       "    </tr>\n",
       "    <tr>\n",
       "      <td>Elmhurst</td>\n",
       "      <td>0</td>\n",
       "      <td>1</td>\n",
       "      <td>0</td>\n",
       "    </tr>\n",
       "    <tr>\n",
       "      <td>Elmhurst</td>\n",
       "      <td>1</td>\n",
       "      <td>0</td>\n",
       "      <td>0</td>\n",
       "    </tr>\n",
       "    <tr>\n",
       "      <td>Elmhurst</td>\n",
       "      <td>0</td>\n",
       "      <td>1</td>\n",
       "      <td>0</td>\n",
       "    </tr>\n",
       "    <tr>\n",
       "      <td>Elmhurst</td>\n",
       "      <td>0</td>\n",
       "      <td>1</td>\n",
       "      <td>0</td>\n",
       "    </tr>\n",
       "  </tbody>\n",
       "</table>\n",
       "</div>"
      ],
      "text/plain": [
       "          LAW_CAT_CD_FELONY  LAW_CAT_CD_MISDEMEANOR  LAW_CAT_CD_VIOLATION\n",
       "ntaname                                                                  \n",
       "Elmhurst                  0                       1                     0\n",
       "Elmhurst                  0                       1                     0\n",
       "Elmhurst                  1                       0                     0\n",
       "Elmhurst                  0                       1                     0\n",
       "Elmhurst                  0                       1                     0"
      ]
     },
     "execution_count": 102,
     "metadata": {},
     "output_type": "execute_result"
    }
   ],
   "source": [
    "crime_nta_reduced.head()"
   ]
  },
  {
   "cell_type": "code",
   "execution_count": 104,
   "metadata": {},
   "outputs": [],
   "source": [
    "# make pivot table\n",
    "crime_totals = pd.pivot_table(crime_nta_reduced, values = ['LAW_CAT_CD_FELONY', 'LAW_CAT_CD_MISDEMEANOR', 'LAW_CAT_CD_VIOLATION'], index = ['ntaname'], aggfunc=np.sum)"
   ]
  },
  {
   "cell_type": "code",
   "execution_count": 105,
   "metadata": {
    "scrolled": true
   },
   "outputs": [
    {
     "data": {
      "text/html": [
       "<div>\n",
       "<style scoped>\n",
       "    .dataframe tbody tr th:only-of-type {\n",
       "        vertical-align: middle;\n",
       "    }\n",
       "\n",
       "    .dataframe tbody tr th {\n",
       "        vertical-align: top;\n",
       "    }\n",
       "\n",
       "    .dataframe thead th {\n",
       "        text-align: right;\n",
       "    }\n",
       "</style>\n",
       "<table border=\"1\" class=\"dataframe\">\n",
       "  <thead>\n",
       "    <tr style=\"text-align: right;\">\n",
       "      <th></th>\n",
       "      <th>LAW_CAT_CD_FELONY</th>\n",
       "      <th>LAW_CAT_CD_MISDEMEANOR</th>\n",
       "      <th>LAW_CAT_CD_VIOLATION</th>\n",
       "    </tr>\n",
       "    <tr>\n",
       "      <th>ntaname</th>\n",
       "      <th></th>\n",
       "      <th></th>\n",
       "      <th></th>\n",
       "    </tr>\n",
       "  </thead>\n",
       "  <tbody>\n",
       "    <tr>\n",
       "      <td>Airport</td>\n",
       "      <td>99.0</td>\n",
       "      <td>186.0</td>\n",
       "      <td>7.0</td>\n",
       "    </tr>\n",
       "    <tr>\n",
       "      <td>Allerton-Pelham Gardens</td>\n",
       "      <td>752.0</td>\n",
       "      <td>1925.0</td>\n",
       "      <td>444.0</td>\n",
       "    </tr>\n",
       "    <tr>\n",
       "      <td>Annadale-Huguenot-Prince's Bay-Eltingville</td>\n",
       "      <td>431.0</td>\n",
       "      <td>1215.0</td>\n",
       "      <td>464.0</td>\n",
       "    </tr>\n",
       "    <tr>\n",
       "      <td>Arden Heights</td>\n",
       "      <td>263.0</td>\n",
       "      <td>785.0</td>\n",
       "      <td>324.0</td>\n",
       "    </tr>\n",
       "    <tr>\n",
       "      <td>Astoria</td>\n",
       "      <td>4002.0</td>\n",
       "      <td>8082.0</td>\n",
       "      <td>2211.0</td>\n",
       "    </tr>\n",
       "    <tr>\n",
       "      <td>...</td>\n",
       "      <td>...</td>\n",
       "      <td>...</td>\n",
       "      <td>...</td>\n",
       "    </tr>\n",
       "    <tr>\n",
       "      <td>park-cemetery-etc-Bronx</td>\n",
       "      <td>1121.0</td>\n",
       "      <td>2577.0</td>\n",
       "      <td>430.0</td>\n",
       "    </tr>\n",
       "    <tr>\n",
       "      <td>park-cemetery-etc-Brooklyn</td>\n",
       "      <td>1073.0</td>\n",
       "      <td>2020.0</td>\n",
       "      <td>323.0</td>\n",
       "    </tr>\n",
       "    <tr>\n",
       "      <td>park-cemetery-etc-Manhattan</td>\n",
       "      <td>1342.0</td>\n",
       "      <td>2722.0</td>\n",
       "      <td>507.0</td>\n",
       "    </tr>\n",
       "    <tr>\n",
       "      <td>park-cemetery-etc-Queens</td>\n",
       "      <td>946.0</td>\n",
       "      <td>1907.0</td>\n",
       "      <td>197.0</td>\n",
       "    </tr>\n",
       "    <tr>\n",
       "      <td>park-cemetery-etc-Staten Island</td>\n",
       "      <td>4.0</td>\n",
       "      <td>6.0</td>\n",
       "      <td>3.0</td>\n",
       "    </tr>\n",
       "  </tbody>\n",
       "</table>\n",
       "<p>195 rows × 3 columns</p>\n",
       "</div>"
      ],
      "text/plain": [
       "                                            LAW_CAT_CD_FELONY  \\\n",
       "ntaname                                                         \n",
       "Airport                                                  99.0   \n",
       "Allerton-Pelham Gardens                                 752.0   \n",
       "Annadale-Huguenot-Prince's Bay-Eltingville              431.0   \n",
       "Arden Heights                                           263.0   \n",
       "Astoria                                                4002.0   \n",
       "...                                                       ...   \n",
       "park-cemetery-etc-Bronx                                1121.0   \n",
       "park-cemetery-etc-Brooklyn                             1073.0   \n",
       "park-cemetery-etc-Manhattan                            1342.0   \n",
       "park-cemetery-etc-Queens                                946.0   \n",
       "park-cemetery-etc-Staten Island                           4.0   \n",
       "\n",
       "                                            LAW_CAT_CD_MISDEMEANOR  \\\n",
       "ntaname                                                              \n",
       "Airport                                                      186.0   \n",
       "Allerton-Pelham Gardens                                     1925.0   \n",
       "Annadale-Huguenot-Prince's Bay-Eltingville                  1215.0   \n",
       "Arden Heights                                                785.0   \n",
       "Astoria                                                     8082.0   \n",
       "...                                                            ...   \n",
       "park-cemetery-etc-Bronx                                     2577.0   \n",
       "park-cemetery-etc-Brooklyn                                  2020.0   \n",
       "park-cemetery-etc-Manhattan                                 2722.0   \n",
       "park-cemetery-etc-Queens                                    1907.0   \n",
       "park-cemetery-etc-Staten Island                                6.0   \n",
       "\n",
       "                                            LAW_CAT_CD_VIOLATION  \n",
       "ntaname                                                           \n",
       "Airport                                                      7.0  \n",
       "Allerton-Pelham Gardens                                    444.0  \n",
       "Annadale-Huguenot-Prince's Bay-Eltingville                 464.0  \n",
       "Arden Heights                                              324.0  \n",
       "Astoria                                                   2211.0  \n",
       "...                                                          ...  \n",
       "park-cemetery-etc-Bronx                                    430.0  \n",
       "park-cemetery-etc-Brooklyn                                 323.0  \n",
       "park-cemetery-etc-Manhattan                                507.0  \n",
       "park-cemetery-etc-Queens                                   197.0  \n",
       "park-cemetery-etc-Staten Island                              3.0  \n",
       "\n",
       "[195 rows x 3 columns]"
      ]
     },
     "execution_count": 105,
     "metadata": {},
     "output_type": "execute_result"
    }
   ],
   "source": [
    "crime_totals"
   ]
  },
  {
   "cell_type": "code",
   "execution_count": 111,
   "metadata": {},
   "outputs": [],
   "source": [
    "# calculate total crime by nta\n",
    "crime_totals['TOTAL_CRIME_COUNT'] = crime_totals.LAW_CAT_CD_FELONY + crime_totals.LAW_CAT_CD_MISDEMEANOR + crime_totals.LAW_CAT_CD_VIOLATION"
   ]
  },
  {
   "cell_type": "code",
   "execution_count": 112,
   "metadata": {
    "scrolled": true
   },
   "outputs": [
    {
     "data": {
      "text/html": [
       "<div>\n",
       "<style scoped>\n",
       "    .dataframe tbody tr th:only-of-type {\n",
       "        vertical-align: middle;\n",
       "    }\n",
       "\n",
       "    .dataframe tbody tr th {\n",
       "        vertical-align: top;\n",
       "    }\n",
       "\n",
       "    .dataframe thead th {\n",
       "        text-align: right;\n",
       "    }\n",
       "</style>\n",
       "<table border=\"1\" class=\"dataframe\">\n",
       "  <thead>\n",
       "    <tr style=\"text-align: right;\">\n",
       "      <th></th>\n",
       "      <th>LAW_CAT_CD_FELONY</th>\n",
       "      <th>LAW_CAT_CD_MISDEMEANOR</th>\n",
       "      <th>LAW_CAT_CD_VIOLATION</th>\n",
       "      <th>TOTAL_CRIME_COUNT</th>\n",
       "    </tr>\n",
       "    <tr>\n",
       "      <th>ntaname</th>\n",
       "      <th></th>\n",
       "      <th></th>\n",
       "      <th></th>\n",
       "      <th></th>\n",
       "    </tr>\n",
       "  </thead>\n",
       "  <tbody>\n",
       "    <tr>\n",
       "      <td>Airport</td>\n",
       "      <td>99.0</td>\n",
       "      <td>186.0</td>\n",
       "      <td>7.0</td>\n",
       "      <td>292.0</td>\n",
       "    </tr>\n",
       "    <tr>\n",
       "      <td>Allerton-Pelham Gardens</td>\n",
       "      <td>752.0</td>\n",
       "      <td>1925.0</td>\n",
       "      <td>444.0</td>\n",
       "      <td>3121.0</td>\n",
       "    </tr>\n",
       "    <tr>\n",
       "      <td>Annadale-Huguenot-Prince's Bay-Eltingville</td>\n",
       "      <td>431.0</td>\n",
       "      <td>1215.0</td>\n",
       "      <td>464.0</td>\n",
       "      <td>2110.0</td>\n",
       "    </tr>\n",
       "    <tr>\n",
       "      <td>Arden Heights</td>\n",
       "      <td>263.0</td>\n",
       "      <td>785.0</td>\n",
       "      <td>324.0</td>\n",
       "      <td>1372.0</td>\n",
       "    </tr>\n",
       "    <tr>\n",
       "      <td>Astoria</td>\n",
       "      <td>4002.0</td>\n",
       "      <td>8082.0</td>\n",
       "      <td>2211.0</td>\n",
       "      <td>14295.0</td>\n",
       "    </tr>\n",
       "  </tbody>\n",
       "</table>\n",
       "</div>"
      ],
      "text/plain": [
       "                                            LAW_CAT_CD_FELONY  \\\n",
       "ntaname                                                         \n",
       "Airport                                                  99.0   \n",
       "Allerton-Pelham Gardens                                 752.0   \n",
       "Annadale-Huguenot-Prince's Bay-Eltingville              431.0   \n",
       "Arden Heights                                           263.0   \n",
       "Astoria                                                4002.0   \n",
       "\n",
       "                                            LAW_CAT_CD_MISDEMEANOR  \\\n",
       "ntaname                                                              \n",
       "Airport                                                      186.0   \n",
       "Allerton-Pelham Gardens                                     1925.0   \n",
       "Annadale-Huguenot-Prince's Bay-Eltingville                  1215.0   \n",
       "Arden Heights                                                785.0   \n",
       "Astoria                                                     8082.0   \n",
       "\n",
       "                                            LAW_CAT_CD_VIOLATION  \\\n",
       "ntaname                                                            \n",
       "Airport                                                      7.0   \n",
       "Allerton-Pelham Gardens                                    444.0   \n",
       "Annadale-Huguenot-Prince's Bay-Eltingville                 464.0   \n",
       "Arden Heights                                              324.0   \n",
       "Astoria                                                   2211.0   \n",
       "\n",
       "                                            TOTAL_CRIME_COUNT  \n",
       "ntaname                                                        \n",
       "Airport                                                 292.0  \n",
       "Allerton-Pelham Gardens                                3121.0  \n",
       "Annadale-Huguenot-Prince's Bay-Eltingville             2110.0  \n",
       "Arden Heights                                          1372.0  \n",
       "Astoria                                               14295.0  "
      ]
     },
     "execution_count": 112,
     "metadata": {},
     "output_type": "execute_result"
    }
   ],
   "source": [
    "crime_totals.head()"
   ]
  },
  {
   "cell_type": "code",
   "execution_count": 114,
   "metadata": {},
   "outputs": [
    {
     "data": {
      "text/plain": [
       "(195, 4)"
      ]
     },
     "execution_count": 114,
     "metadata": {},
     "output_type": "execute_result"
    }
   ],
   "source": [
    "crime_totals.shape"
   ]
  },
  {
   "cell_type": "code",
   "execution_count": 108,
   "metadata": {},
   "outputs": [
    {
     "data": {
      "text/html": [
       "<div>\n",
       "<style scoped>\n",
       "    .dataframe tbody tr th:only-of-type {\n",
       "        vertical-align: middle;\n",
       "    }\n",
       "\n",
       "    .dataframe tbody tr th {\n",
       "        vertical-align: top;\n",
       "    }\n",
       "\n",
       "    .dataframe thead th {\n",
       "        text-align: right;\n",
       "    }\n",
       "</style>\n",
       "<table border=\"1\" class=\"dataframe\">\n",
       "  <thead>\n",
       "    <tr style=\"text-align: right;\">\n",
       "      <th></th>\n",
       "      <th>LAW_CAT_CD_FELONY</th>\n",
       "      <th>LAW_CAT_CD_MISDEMEANOR</th>\n",
       "      <th>LAW_CAT_CD_VIOLATION</th>\n",
       "    </tr>\n",
       "    <tr>\n",
       "      <th>ntaname</th>\n",
       "      <th></th>\n",
       "      <th></th>\n",
       "      <th></th>\n",
       "    </tr>\n",
       "  </thead>\n",
       "  <tbody>\n",
       "    <tr>\n",
       "      <td>park-cemetery-etc-Staten Island</td>\n",
       "      <td>1</td>\n",
       "      <td>0</td>\n",
       "      <td>0</td>\n",
       "    </tr>\n",
       "    <tr>\n",
       "      <td>park-cemetery-etc-Staten Island</td>\n",
       "      <td>1</td>\n",
       "      <td>0</td>\n",
       "      <td>0</td>\n",
       "    </tr>\n",
       "    <tr>\n",
       "      <td>park-cemetery-etc-Staten Island</td>\n",
       "      <td>0</td>\n",
       "      <td>0</td>\n",
       "      <td>1</td>\n",
       "    </tr>\n",
       "    <tr>\n",
       "      <td>park-cemetery-etc-Staten Island</td>\n",
       "      <td>0</td>\n",
       "      <td>1</td>\n",
       "      <td>0</td>\n",
       "    </tr>\n",
       "    <tr>\n",
       "      <td>park-cemetery-etc-Staten Island</td>\n",
       "      <td>0</td>\n",
       "      <td>1</td>\n",
       "      <td>0</td>\n",
       "    </tr>\n",
       "    <tr>\n",
       "      <td>park-cemetery-etc-Staten Island</td>\n",
       "      <td>0</td>\n",
       "      <td>0</td>\n",
       "      <td>1</td>\n",
       "    </tr>\n",
       "    <tr>\n",
       "      <td>park-cemetery-etc-Staten Island</td>\n",
       "      <td>0</td>\n",
       "      <td>0</td>\n",
       "      <td>1</td>\n",
       "    </tr>\n",
       "    <tr>\n",
       "      <td>park-cemetery-etc-Staten Island</td>\n",
       "      <td>0</td>\n",
       "      <td>1</td>\n",
       "      <td>0</td>\n",
       "    </tr>\n",
       "    <tr>\n",
       "      <td>park-cemetery-etc-Staten Island</td>\n",
       "      <td>1</td>\n",
       "      <td>0</td>\n",
       "      <td>0</td>\n",
       "    </tr>\n",
       "    <tr>\n",
       "      <td>park-cemetery-etc-Staten Island</td>\n",
       "      <td>0</td>\n",
       "      <td>1</td>\n",
       "      <td>0</td>\n",
       "    </tr>\n",
       "    <tr>\n",
       "      <td>park-cemetery-etc-Staten Island</td>\n",
       "      <td>1</td>\n",
       "      <td>0</td>\n",
       "      <td>0</td>\n",
       "    </tr>\n",
       "    <tr>\n",
       "      <td>park-cemetery-etc-Staten Island</td>\n",
       "      <td>0</td>\n",
       "      <td>1</td>\n",
       "      <td>0</td>\n",
       "    </tr>\n",
       "    <tr>\n",
       "      <td>park-cemetery-etc-Staten Island</td>\n",
       "      <td>0</td>\n",
       "      <td>1</td>\n",
       "      <td>0</td>\n",
       "    </tr>\n",
       "  </tbody>\n",
       "</table>\n",
       "</div>"
      ],
      "text/plain": [
       "                                 LAW_CAT_CD_FELONY  LAW_CAT_CD_MISDEMEANOR  \\\n",
       "ntaname                                                                      \n",
       "park-cemetery-etc-Staten Island                  1                       0   \n",
       "park-cemetery-etc-Staten Island                  1                       0   \n",
       "park-cemetery-etc-Staten Island                  0                       0   \n",
       "park-cemetery-etc-Staten Island                  0                       1   \n",
       "park-cemetery-etc-Staten Island                  0                       1   \n",
       "park-cemetery-etc-Staten Island                  0                       0   \n",
       "park-cemetery-etc-Staten Island                  0                       0   \n",
       "park-cemetery-etc-Staten Island                  0                       1   \n",
       "park-cemetery-etc-Staten Island                  1                       0   \n",
       "park-cemetery-etc-Staten Island                  0                       1   \n",
       "park-cemetery-etc-Staten Island                  1                       0   \n",
       "park-cemetery-etc-Staten Island                  0                       1   \n",
       "park-cemetery-etc-Staten Island                  0                       1   \n",
       "\n",
       "                                 LAW_CAT_CD_VIOLATION  \n",
       "ntaname                                                \n",
       "park-cemetery-etc-Staten Island                     0  \n",
       "park-cemetery-etc-Staten Island                     0  \n",
       "park-cemetery-etc-Staten Island                     1  \n",
       "park-cemetery-etc-Staten Island                     0  \n",
       "park-cemetery-etc-Staten Island                     0  \n",
       "park-cemetery-etc-Staten Island                     1  \n",
       "park-cemetery-etc-Staten Island                     1  \n",
       "park-cemetery-etc-Staten Island                     0  \n",
       "park-cemetery-etc-Staten Island                     0  \n",
       "park-cemetery-etc-Staten Island                     0  \n",
       "park-cemetery-etc-Staten Island                     0  \n",
       "park-cemetery-etc-Staten Island                     0  \n",
       "park-cemetery-etc-Staten Island                     0  "
      ]
     },
     "execution_count": 108,
     "metadata": {},
     "output_type": "execute_result"
    }
   ],
   "source": [
    "# sanity check\n",
    "crime_nta_reduced[crime_nta_reduced.index == 'park-cemetery-etc-Staten Island']"
   ]
  },
  {
   "cell_type": "code",
   "execution_count": 113,
   "metadata": {},
   "outputs": [],
   "source": [
    "# save gdf as csv \n",
    "crime_totals.to_csv('../data/Crime_NTA.csv')\n",
    "# crime_totals.to_file(\"../data/crime_NTA.geojson\", driver='GeoJSON') # if we wanna save as geojson"
   ]
  },
  {
   "cell_type": "markdown",
   "metadata": {},
   "source": [
    "### Exploratory Data Analysis\n",
    "##### 1-day crimes from  2012-2016"
   ]
  },
  {
   "cell_type": "code",
   "execution_count": 23,
   "metadata": {},
   "outputs": [
    {
     "data": {
      "text/plain": [
       "(1573605, 13)"
      ]
     },
     "execution_count": 23,
     "metadata": {},
     "output_type": "execute_result"
    }
   ],
   "source": [
    "crime_sample.shape # 1592482 number of records"
   ]
  },
  {
   "cell_type": "code",
   "execution_count": 24,
   "metadata": {},
   "outputs": [
    {
     "data": {
      "text/plain": [
       "Index(['CMPLNT_NUM', 'CMPLNT_FR_DT', 'CMPLNT_TO_DT', 'RPT_DT', 'ADDR_PCT_CD',\n",
       "       'BORO_NM', 'OFNS_DESC', 'CRM_ATPT_CPTD_CD', 'LAW_CAT_CD',\n",
       "       'PREM_TYP_DESC', 'Latitude', 'Longitude', 'CRIME_DURATION'],\n",
       "      dtype='object')"
      ]
     },
     "execution_count": 24,
     "metadata": {},
     "output_type": "execute_result"
    }
   ],
   "source": [
    "crime_sample.columns"
   ]
  },
  {
   "cell_type": "code",
   "execution_count": 25,
   "metadata": {},
   "outputs": [
    {
     "data": {
      "image/png": "[encoded data removed]",
      "text/plain": [
       "<Figure size 360x360 with 1 Axes>"
      ]
     },
     "metadata": {},
     "output_type": "display_data"
    }
   ],
   "source": [
    "ax = crime_sample.LAW_CAT_CD.value_counts().plot.pie(figsize=(5,5), title='Level of offences')"
   ]
  },
  {
   "cell_type": "code",
   "execution_count": 26,
   "metadata": {},
   "outputs": [
    {
     "data": {
      "text/plain": [
       "<matplotlib.axes._subplots.AxesSubplot at 0x124b92210>"
      ]
     },
     "execution_count": 26,
     "metadata": {},
     "output_type": "execute_result"
    },
    {
     "data": {
      "image/png": "[encoded data removed]",
      "text/plain": [
       "<Figure size 360x360 with 1 Axes>"
      ]
     },
     "metadata": {},
     "output_type": "display_data"
    }
   ],
   "source": [
    "crime_sample.CRM_ATPT_CPTD_CD.value_counts().plot.pie(figsize=(5,5), rot=90)"
   ]
  },
  {
   "cell_type": "code",
   "execution_count": 27,
   "metadata": {},
   "outputs": [
    {
     "data": {
      "text/plain": [
       "<matplotlib.axes._subplots.AxesSubplot at 0x123aba5d0>"
      ]
     },
     "execution_count": 27,
     "metadata": {},
     "output_type": "execute_result"
    },
    {
     "data": {
      "image/png": "[encoded data removed]",
      "text/plain": [
       "<Figure size 1224x288 with 1 Axes>"
      ]
     },
     "metadata": {
      "needs_background": "light"
     },
     "output_type": "display_data"
    }
   ],
   "source": [
    "# TODO: geocode lat,lon w NTAs\n",
    "crime_sample.ADDR_PCT_CD.value_counts().plot.bar(figsize=(17, 4), title='Number of crimes by precincts')"
   ]
  },
  {
   "cell_type": "code",
   "execution_count": 28,
   "metadata": {},
   "outputs": [
    {
     "data": {
      "text/plain": [
       "<matplotlib.axes._subplots.AxesSubplot at 0x122c6ec90>"
      ]
     },
     "execution_count": 28,
     "metadata": {},
     "output_type": "execute_result"
    },
    {
     "data": {
      "image/png": "[encoded data removed]",
      "text/plain": [
       "<Figure size 1224x288 with 1 Axes>"
      ]
     },
     "metadata": {
      "needs_background": "light"
     },
     "output_type": "display_data"
    }
   ],
   "source": [
    "# types of crime\n",
    "crime_sample.OFNS_DESC.value_counts().plot.bar(figsize=(17, 4), title='Number of crimes by offence description')"
   ]
  },
  {
   "cell_type": "code",
   "execution_count": 29,
   "metadata": {},
   "outputs": [
    {
     "data": {
      "text/plain": [
       "<matplotlib.axes._subplots.AxesSubplot at 0x123d64b50>"
      ]
     },
     "execution_count": 29,
     "metadata": {},
     "output_type": "execute_result"
    },
    {
     "data": {
      "image/png": "[encoded data removed]",
      "text/plain": [
       "<Figure size 432x288 with 1 Axes>"
      ]
     },
     "metadata": {
      "needs_background": "light"
     },
     "output_type": "display_data"
    }
   ],
   "source": [
    "crime_sample.BORO_NM.value_counts().plot.bar(color='purple', title='Number of crimes by borough')"
   ]
  },
  {
   "cell_type": "code",
   "execution_count": null,
   "metadata": {},
   "outputs": [],
   "source": []
  }
 ],
 "metadata": {
  "kernelspec": {
   "display_name": "Python 3",
   "language": "python",
   "name": "python3"
  },
  "language_info": {
   "codemirror_mode": {
    "name": "ipython",
    "version": 3
   },
   "file_extension": ".py",
   "mimetype": "text/x-python",
   "name": "python",
   "nbconvert_exporter": "python",
   "pygments_lexer": "ipython3",
   "version": "3.7.4"
  }
 },
 "nbformat": 4,
 "nbformat_minor": 2
}
