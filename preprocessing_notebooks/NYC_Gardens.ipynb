{
 "cells": [
  {
   "cell_type": "code",
   "execution_count": 1,
   "metadata": {},
   "outputs": [],
   "source": [
    "import pandas as pd"
   ]
  },
  {
   "cell_type": "code",
   "execution_count": 3,
   "metadata": {},
   "outputs": [
    {
     "data": {
      "text/html": [
       "<div>\n",
       "<style scoped>\n",
       "    .dataframe tbody tr th:only-of-type {\n",
       "        vertical-align: middle;\n",
       "    }\n",
       "\n",
       "    .dataframe tbody tr th {\n",
       "        vertical-align: top;\n",
       "    }\n",
       "\n",
       "    .dataframe thead th {\n",
       "        text-align: right;\n",
       "    }\n",
       "</style>\n",
       "<table border=\"1\" class=\"dataframe\">\n",
       "  <thead>\n",
       "    <tr style=\"text-align: right;\">\n",
       "      <th></th>\n",
       "      <th>PropID</th>\n",
       "      <th>Boro</th>\n",
       "      <th>Community Board</th>\n",
       "      <th>Council District</th>\n",
       "      <th>Garden Name</th>\n",
       "      <th>Address</th>\n",
       "      <th>Size</th>\n",
       "      <th>Jurisdiction</th>\n",
       "      <th>NeighborhoodName</th>\n",
       "      <th>Cross Streets</th>\n",
       "      <th>Latitude</th>\n",
       "      <th>Longitude</th>\n",
       "      <th>Postcode</th>\n",
       "      <th>Census Tract</th>\n",
       "      <th>BIN</th>\n",
       "      <th>BBL</th>\n",
       "      <th>NTA</th>\n",
       "    </tr>\n",
       "  </thead>\n",
       "  <tbody>\n",
       "    <tr>\n",
       "      <th>0</th>\n",
       "      <td>NaN</td>\n",
       "      <td>M</td>\n",
       "      <td>M03</td>\n",
       "      <td>2.0</td>\n",
       "      <td>11 BC Serenity Garden</td>\n",
       "      <td>626 East 11th Street</td>\n",
       "      <td>0.054</td>\n",
       "      <td>DPR</td>\n",
       "      <td>East Village</td>\n",
       "      <td>Avenues B &amp; C</td>\n",
       "      <td>40.727124</td>\n",
       "      <td>-73.978677</td>\n",
       "      <td>10009</td>\n",
       "      <td>28.0</td>\n",
       "      <td>1000000</td>\n",
       "      <td>1003930020</td>\n",
       "      <td>Lower East Side                               ...</td>\n",
       "    </tr>\n",
       "    <tr>\n",
       "      <th>1</th>\n",
       "      <td>NaN</td>\n",
       "      <td>B</td>\n",
       "      <td>B08</td>\n",
       "      <td>36.0</td>\n",
       "      <td>1100 Bergen Street Community Garden</td>\n",
       "      <td>1101 &amp; 1105 Bergen Street</td>\n",
       "      <td>0.207</td>\n",
       "      <td>PRI</td>\n",
       "      <td>Crown Heights</td>\n",
       "      <td>Nostrand &amp; New York Avenues</td>\n",
       "      <td>NaN</td>\n",
       "      <td>NaN</td>\n",
       "      <td>NaN</td>\n",
       "      <td>NaN</td>\n",
       "      <td>NaN</td>\n",
       "      <td>NaN</td>\n",
       "      <td>NaN</td>\n",
       "    </tr>\n",
       "  </tbody>\n",
       "</table>\n",
       "</div>"
      ],
      "text/plain": [
       "  PropID Boro Community Board  Council District  \\\n",
       "0    NaN    M             M03               2.0   \n",
       "1    NaN    B             B08              36.0   \n",
       "\n",
       "                           Garden Name                    Address   Size  \\\n",
       "0                11 BC Serenity Garden       626 East 11th Street  0.054   \n",
       "1  1100 Bergen Street Community Garden  1101 & 1105 Bergen Street  0.207   \n",
       "\n",
       "  Jurisdiction NeighborhoodName                Cross Streets   Latitude  \\\n",
       "0          DPR     East Village                Avenues B & C  40.727124   \n",
       "1          PRI    Crown Heights  Nostrand & New York Avenues        NaN   \n",
       "\n",
       "   Longitude Postcode  Census Tract      BIN         BBL  \\\n",
       "0 -73.978677    10009          28.0  1000000  1003930020   \n",
       "1        NaN      NaN           NaN      NaN         NaN   \n",
       "\n",
       "                                                 NTA  \n",
       "0  Lower East Side                               ...  \n",
       "1                                                NaN  "
      ]
     },
     "execution_count": 3,
     "metadata": {},
     "output_type": "execute_result"
    }
   ],
   "source": [
    "gardens = pd.read_csv('../data/NYC_Greenthumb_Community_Gardens.csv')\n",
    "gardens.head(2)"
   ]
  },
  {
   "cell_type": "code",
   "execution_count": 20,
   "metadata": {},
   "outputs": [
    {
     "data": {
      "text/plain": [
       "array(['Lower East Side', nan, 'East Harlem South', 'East Harlem North',\n",
       "       'East Village'], dtype=object)"
      ]
     },
     "execution_count": 20,
     "metadata": {},
     "output_type": "execute_result"
    }
   ],
   "source": [
    "gardens['NTA'] = gardens.NTA.str.strip() # data cleaning, specifically removing trailing whitespace\n",
    "gardens.NTA.unique()[:5] # check first 5 elements"
   ]
  },
  {
   "cell_type": "code",
   "execution_count": 9,
   "metadata": {},
   "outputs": [
    {
     "data": {
      "text/html": [
       "<div>\n",
       "<style scoped>\n",
       "    .dataframe tbody tr th:only-of-type {\n",
       "        vertical-align: middle;\n",
       "    }\n",
       "\n",
       "    .dataframe tbody tr th {\n",
       "        vertical-align: top;\n",
       "    }\n",
       "\n",
       "    .dataframe thead th {\n",
       "        text-align: right;\n",
       "    }\n",
       "</style>\n",
       "<table border=\"1\" class=\"dataframe\">\n",
       "  <thead>\n",
       "    <tr style=\"text-align: right;\">\n",
       "      <th></th>\n",
       "      <th>ntacode</th>\n",
       "      <th>shape_area</th>\n",
       "      <th>county_fips</th>\n",
       "      <th>ntaname</th>\n",
       "      <th>shape_leng</th>\n",
       "      <th>boro_name</th>\n",
       "      <th>boro_code</th>\n",
       "      <th>geometry</th>\n",
       "    </tr>\n",
       "  </thead>\n",
       "  <tbody>\n",
       "    <tr>\n",
       "      <th>0</th>\n",
       "      <td>BK88</td>\n",
       "      <td>54005018.7472</td>\n",
       "      <td>047</td>\n",
       "      <td>Borough Park</td>\n",
       "      <td>39247.2280737</td>\n",
       "      <td>Brooklyn</td>\n",
       "      <td>3</td>\n",
       "      <td>(POLYGON ((-73.97604935657381 40.6312759056467...</td>\n",
       "    </tr>\n",
       "    <tr>\n",
       "      <th>1</th>\n",
       "      <td>QN51</td>\n",
       "      <td>52488276.477</td>\n",
       "      <td>081</td>\n",
       "      <td>Murray Hill</td>\n",
       "      <td>33266.904811</td>\n",
       "      <td>Queens</td>\n",
       "      <td>4</td>\n",
       "      <td>(POLYGON ((-73.80379022888246 40.7756101117924...</td>\n",
       "    </tr>\n",
       "  </tbody>\n",
       "</table>\n",
       "</div>"
      ],
      "text/plain": [
       "  ntacode     shape_area county_fips       ntaname     shape_leng boro_name  \\\n",
       "0    BK88  54005018.7472         047  Borough Park  39247.2280737  Brooklyn   \n",
       "1    QN51   52488276.477         081   Murray Hill   33266.904811    Queens   \n",
       "\n",
       "  boro_code                                           geometry  \n",
       "0         3  (POLYGON ((-73.97604935657381 40.6312759056467...  \n",
       "1         4  (POLYGON ((-73.80379022888246 40.7756101117924...  "
      ]
     },
     "execution_count": 9,
     "metadata": {},
     "output_type": "execute_result"
    }
   ],
   "source": [
    "import geopandas as gpd\n",
    "nta = gpd.read_file('../data/Neighborhood Tabulation Areas.geojson')\n",
    "nta.head(2)"
   ]
  },
  {
   "cell_type": "code",
   "execution_count": 19,
   "metadata": {},
   "outputs": [
    {
     "data": {
      "text/plain": [
       "array(['Borough Park', 'Murray Hill', 'East Elmhurst', 'Hollis',\n",
       "       'Manhattanville'], dtype=object)"
      ]
     },
     "execution_count": 19,
     "metadata": {},
     "output_type": "execute_result"
    }
   ],
   "source": [
    "nta.ntaname.unique()[:5] # check first 5 elements"
   ]
  },
  {
   "cell_type": "code",
   "execution_count": 17,
   "metadata": {},
   "outputs": [
    {
     "data": {
      "text/plain": [
       "False"
      ]
     },
     "execution_count": 17,
     "metadata": {},
     "output_type": "execute_result"
    }
   ],
   "source": [
    "# not all NTAs in the gardens dataset is inside the NTA dataset\n",
    "garden_set = set(gardens.NTA.unique())\n",
    "nta_set = set(nta.ntaname.unique())\n",
    "garden_set.issubset(nta_set)"
   ]
  },
  {
   "cell_type": "code",
   "execution_count": 18,
   "metadata": {},
   "outputs": [
    {
     "data": {
      "text/plain": [
       "{'', nan}"
      ]
     },
     "execution_count": 18,
     "metadata": {},
     "output_type": "execute_result"
    }
   ],
   "source": [
    "# find out which NTAs are in gardens but not in NTA...turns out to be relatively trivial\n",
    "garden_set.difference(nta_set)"
   ]
  },
  {
   "cell_type": "code",
   "execution_count": 37,
   "metadata": {},
   "outputs": [
    {
     "name": "stdout",
     "output_type": "stream",
     "text": [
      "107 data records with invalid NTAs\n",
      "that's 20.0%\n"
     ]
    }
   ],
   "source": [
    "# check how many records have nta == '' or nan\n",
    "invalid_num = len(gardens[gardens.NTA == '']) + len(gardens[gardens.NTA.isnull()])\n",
    "print(f\"{invalid_num} data records with invalid NTAs\")\n",
    "print(f\"that's {round(invalid_num/len(gardens), 2)*100}% of the dataset\")"
   ]
  },
  {
   "cell_type": "code",
   "execution_count": null,
   "metadata": {},
   "outputs": [],
   "source": [
    "# TODO: geoencode addresses to NTAs\n",
    "# TODO: concat open data dataset to nyrp dataset"
   ]
  }
 ],
 "metadata": {
  "kernelspec": {
   "display_name": "Python 3",
   "language": "python",
   "name": "python3"
  },
  "language_info": {
   "codemirror_mode": {
    "name": "ipython",
    "version": 3
   },
   "file_extension": ".py",
   "mimetype": "text/x-python",
   "name": "python",
   "nbconvert_exporter": "python",
   "pygments_lexer": "ipython3",
   "version": "3.6.2"
  }
 },
 "nbformat": 4,
 "nbformat_minor": 2
}
