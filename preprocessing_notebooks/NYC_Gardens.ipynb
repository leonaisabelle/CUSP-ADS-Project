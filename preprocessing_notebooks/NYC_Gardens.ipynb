{
 "cells": [
  {
   "cell_type": "code",
   "execution_count": 23,
   "metadata": {},
   "outputs": [],
   "source": [
    "import pandas as pd"
   ]
  },
  {
   "cell_type": "code",
   "execution_count": null,
   "metadata": {},
   "outputs": [],
   "source": [
    "# TODO: make a combined dataset for NYRP and NYC greenthumb"
   ]
  },
  {
   "cell_type": "code",
   "execution_count": 24,
   "metadata": {},
   "outputs": [
    {
     "data": {
      "text/html": [
       "<div>\n",
       "<style scoped>\n",
       "    .dataframe tbody tr th:only-of-type {\n",
       "        vertical-align: middle;\n",
       "    }\n",
       "\n",
       "    .dataframe tbody tr th {\n",
       "        vertical-align: top;\n",
       "    }\n",
       "\n",
       "    .dataframe thead th {\n",
       "        text-align: right;\n",
       "    }\n",
       "</style>\n",
       "<table border=\"1\" class=\"dataframe\">\n",
       "  <thead>\n",
       "    <tr style=\"text-align: right;\">\n",
       "      <th></th>\n",
       "      <th>PropID</th>\n",
       "      <th>Boro</th>\n",
       "      <th>Community Board</th>\n",
       "      <th>Council District</th>\n",
       "      <th>Garden Name</th>\n",
       "      <th>Address</th>\n",
       "      <th>Size</th>\n",
       "      <th>Jurisdiction</th>\n",
       "      <th>NeighborhoodName</th>\n",
       "      <th>Cross Streets</th>\n",
       "      <th>Latitude</th>\n",
       "      <th>Longitude</th>\n",
       "      <th>Postcode</th>\n",
       "      <th>Census Tract</th>\n",
       "      <th>BIN</th>\n",
       "      <th>BBL</th>\n",
       "      <th>NTA</th>\n",
       "    </tr>\n",
       "  </thead>\n",
       "  <tbody>\n",
       "    <tr>\n",
       "      <th>0</th>\n",
       "      <td>NaN</td>\n",
       "      <td>M</td>\n",
       "      <td>M03</td>\n",
       "      <td>2.0</td>\n",
       "      <td>11 BC Serenity Garden</td>\n",
       "      <td>626 East 11th Street</td>\n",
       "      <td>0.054</td>\n",
       "      <td>DPR</td>\n",
       "      <td>East Village</td>\n",
       "      <td>Avenues B &amp; C</td>\n",
       "      <td>40.727124</td>\n",
       "      <td>-73.978677</td>\n",
       "      <td>10009</td>\n",
       "      <td>28.0</td>\n",
       "      <td>1000000</td>\n",
       "      <td>1003930020</td>\n",
       "      <td>Lower East Side                               ...</td>\n",
       "    </tr>\n",
       "    <tr>\n",
       "      <th>1</th>\n",
       "      <td>NaN</td>\n",
       "      <td>B</td>\n",
       "      <td>B08</td>\n",
       "      <td>36.0</td>\n",
       "      <td>1100 Bergen Street Community Garden</td>\n",
       "      <td>1101 &amp; 1105 Bergen Street</td>\n",
       "      <td>0.207</td>\n",
       "      <td>PRI</td>\n",
       "      <td>Crown Heights</td>\n",
       "      <td>Nostrand &amp; New York Avenues</td>\n",
       "      <td>NaN</td>\n",
       "      <td>NaN</td>\n",
       "      <td>NaN</td>\n",
       "      <td>NaN</td>\n",
       "      <td>NaN</td>\n",
       "      <td>NaN</td>\n",
       "      <td>NaN</td>\n",
       "    </tr>\n",
       "  </tbody>\n",
       "</table>\n",
       "</div>"
      ],
      "text/plain": [
       "  PropID Boro Community Board  Council District  \\\n",
       "0    NaN    M             M03               2.0   \n",
       "1    NaN    B             B08              36.0   \n",
       "\n",
       "                           Garden Name                    Address   Size  \\\n",
       "0                11 BC Serenity Garden       626 East 11th Street  0.054   \n",
       "1  1100 Bergen Street Community Garden  1101 & 1105 Bergen Street  0.207   \n",
       "\n",
       "  Jurisdiction NeighborhoodName                Cross Streets   Latitude  \\\n",
       "0          DPR     East Village                Avenues B & C  40.727124   \n",
       "1          PRI    Crown Heights  Nostrand & New York Avenues        NaN   \n",
       "\n",
       "   Longitude Postcode  Census Tract      BIN         BBL  \\\n",
       "0 -73.978677    10009          28.0  1000000  1003930020   \n",
       "1        NaN      NaN           NaN      NaN         NaN   \n",
       "\n",
       "                                                 NTA  \n",
       "0  Lower East Side                               ...  \n",
       "1                                                NaN  "
      ]
     },
     "execution_count": 24,
     "metadata": {},
     "output_type": "execute_result"
    }
   ],
   "source": [
    "gardens = pd.read_csv('../data/NYC_Greenthumb_Community_Gardens.csv')\n",
    "gardens.head(2)\n",
    "\n",
    "# good to know that the dataset already has NTA name and borough"
   ]
  },
  {
   "cell_type": "markdown",
   "metadata": {},
   "source": [
    "Data cleaning 1: remove whitespace in NTA column"
   ]
  },
  {
   "cell_type": "code",
   "execution_count": 25,
   "metadata": {},
   "outputs": [
    {
     "data": {
      "text/plain": [
       "array(['Lower East Side                                                            ',\n",
       "       nan,\n",
       "       'East Harlem South                                                          ',\n",
       "       'East Harlem North                                                          ',\n",
       "       'East Village                                                               '],\n",
       "      dtype=object)"
      ]
     },
     "execution_count": 25,
     "metadata": {},
     "output_type": "execute_result"
    }
   ],
   "source": [
    "# before cleaning\n",
    "gardens.NTA.unique()[:5] # check first 5 elements"
   ]
  },
  {
   "cell_type": "code",
   "execution_count": 26,
   "metadata": {},
   "outputs": [
    {
     "data": {
      "text/plain": [
       "array(['Lower East Side', nan, 'East Harlem South', 'East Harlem North',\n",
       "       'East Village'], dtype=object)"
      ]
     },
     "execution_count": 26,
     "metadata": {},
     "output_type": "execute_result"
    }
   ],
   "source": [
    "# remove trailing whitespace in NTA names\n",
    "gardens['NTA'] = gardens.NTA.str.strip() \n",
    "gardens.NTA.unique()[:5] "
   ]
  },
  {
   "cell_type": "markdown",
   "metadata": {},
   "source": [
    "Data cleaning 2: replace boro column with actual names"
   ]
  },
  {
   "cell_type": "code",
   "execution_count": 27,
   "metadata": {},
   "outputs": [
    {
     "data": {
      "text/plain": [
       "array(['M', 'B', 'X', 'Q', 'R'], dtype=object)"
      ]
     },
     "execution_count": 27,
     "metadata": {},
     "output_type": "execute_result"
    }
   ],
   "source": [
    "# before cleaning\n",
    "gardens.Boro.unique()"
   ]
  },
  {
   "cell_type": "code",
   "execution_count": 28,
   "metadata": {},
   "outputs": [
    {
     "data": {
      "text/html": [
       "<div>\n",
       "<style scoped>\n",
       "    .dataframe tbody tr th:only-of-type {\n",
       "        vertical-align: middle;\n",
       "    }\n",
       "\n",
       "    .dataframe tbody tr th {\n",
       "        vertical-align: top;\n",
       "    }\n",
       "\n",
       "    .dataframe thead th {\n",
       "        text-align: right;\n",
       "    }\n",
       "</style>\n",
       "<table border=\"1\" class=\"dataframe\">\n",
       "  <thead>\n",
       "    <tr style=\"text-align: right;\">\n",
       "      <th></th>\n",
       "      <th>PropID</th>\n",
       "      <th>Boro</th>\n",
       "      <th>Community Board</th>\n",
       "      <th>Council District</th>\n",
       "      <th>Garden Name</th>\n",
       "      <th>Address</th>\n",
       "      <th>Size</th>\n",
       "      <th>Jurisdiction</th>\n",
       "      <th>NeighborhoodName</th>\n",
       "      <th>Cross Streets</th>\n",
       "      <th>Latitude</th>\n",
       "      <th>Longitude</th>\n",
       "      <th>Postcode</th>\n",
       "      <th>Census Tract</th>\n",
       "      <th>BIN</th>\n",
       "      <th>BBL</th>\n",
       "      <th>NTA</th>\n",
       "    </tr>\n",
       "  </thead>\n",
       "  <tbody>\n",
       "    <tr>\n",
       "      <th>0</th>\n",
       "      <td>NaN</td>\n",
       "      <td>Manhattan</td>\n",
       "      <td>M03</td>\n",
       "      <td>2.0</td>\n",
       "      <td>11 BC Serenity Garden</td>\n",
       "      <td>626 East 11th Street</td>\n",
       "      <td>0.054</td>\n",
       "      <td>DPR</td>\n",
       "      <td>East Village</td>\n",
       "      <td>Avenues B &amp; C</td>\n",
       "      <td>40.727124</td>\n",
       "      <td>-73.978677</td>\n",
       "      <td>10009</td>\n",
       "      <td>28.0</td>\n",
       "      <td>1000000</td>\n",
       "      <td>1003930020</td>\n",
       "      <td>Lower East Side</td>\n",
       "    </tr>\n",
       "    <tr>\n",
       "      <th>1</th>\n",
       "      <td>NaN</td>\n",
       "      <td>Brooklyn</td>\n",
       "      <td>B08</td>\n",
       "      <td>36.0</td>\n",
       "      <td>1100 Bergen Street Community Garden</td>\n",
       "      <td>1101 &amp; 1105 Bergen Street</td>\n",
       "      <td>0.207</td>\n",
       "      <td>PRI</td>\n",
       "      <td>Crown Heights</td>\n",
       "      <td>Nostrand &amp; New York Avenues</td>\n",
       "      <td>NaN</td>\n",
       "      <td>NaN</td>\n",
       "      <td>NaN</td>\n",
       "      <td>NaN</td>\n",
       "      <td>NaN</td>\n",
       "      <td>NaN</td>\n",
       "      <td>NaN</td>\n",
       "    </tr>\n",
       "  </tbody>\n",
       "</table>\n",
       "</div>"
      ],
      "text/plain": [
       "  PropID       Boro Community Board  Council District  \\\n",
       "0    NaN  Manhattan             M03               2.0   \n",
       "1    NaN   Brooklyn             B08              36.0   \n",
       "\n",
       "                           Garden Name                    Address   Size  \\\n",
       "0                11 BC Serenity Garden       626 East 11th Street  0.054   \n",
       "1  1100 Bergen Street Community Garden  1101 & 1105 Bergen Street  0.207   \n",
       "\n",
       "  Jurisdiction NeighborhoodName                Cross Streets   Latitude  \\\n",
       "0          DPR     East Village                Avenues B & C  40.727124   \n",
       "1          PRI    Crown Heights  Nostrand & New York Avenues        NaN   \n",
       "\n",
       "   Longitude Postcode  Census Tract      BIN         BBL              NTA  \n",
       "0 -73.978677    10009          28.0  1000000  1003930020  Lower East Side  \n",
       "1        NaN      NaN           NaN      NaN         NaN              NaN  "
      ]
     },
     "execution_count": 28,
     "metadata": {},
     "output_type": "execute_result"
    }
   ],
   "source": [
    "# replace boro initial with actual borough name\n",
    "boroughs = {\n",
    "    'M': 'Manhattan', \n",
    "    'B': 'Brooklyn',\n",
    "    'Q': 'Queens',\n",
    "    'X': 'Bronx',\n",
    "    'R': 'Staten Island'\n",
    "}\n",
    "\n",
    "gardens['Boro'].replace(boroughs, inplace=True)\n",
    "gardens.head(2)"
   ]
  },
  {
   "cell_type": "markdown",
   "metadata": {},
   "source": [
    "Data cleaning 3: check if NTA column in this dataset is an accurate subset of NTA dataset"
   ]
  },
  {
   "cell_type": "code",
   "execution_count": 29,
   "metadata": {},
   "outputs": [
    {
     "data": {
      "text/html": [
       "<div>\n",
       "<style scoped>\n",
       "    .dataframe tbody tr th:only-of-type {\n",
       "        vertical-align: middle;\n",
       "    }\n",
       "\n",
       "    .dataframe tbody tr th {\n",
       "        vertical-align: top;\n",
       "    }\n",
       "\n",
       "    .dataframe thead th {\n",
       "        text-align: right;\n",
       "    }\n",
       "</style>\n",
       "<table border=\"1\" class=\"dataframe\">\n",
       "  <thead>\n",
       "    <tr style=\"text-align: right;\">\n",
       "      <th></th>\n",
       "      <th>ntacode</th>\n",
       "      <th>shape_area</th>\n",
       "      <th>county_fips</th>\n",
       "      <th>ntaname</th>\n",
       "      <th>shape_leng</th>\n",
       "      <th>boro_name</th>\n",
       "      <th>boro_code</th>\n",
       "      <th>geometry</th>\n",
       "    </tr>\n",
       "  </thead>\n",
       "  <tbody>\n",
       "    <tr>\n",
       "      <th>0</th>\n",
       "      <td>BK88</td>\n",
       "      <td>54005018.7472</td>\n",
       "      <td>047</td>\n",
       "      <td>Borough Park</td>\n",
       "      <td>39247.2280737</td>\n",
       "      <td>Brooklyn</td>\n",
       "      <td>3</td>\n",
       "      <td>(POLYGON ((-73.97604935657381 40.6312759056467...</td>\n",
       "    </tr>\n",
       "    <tr>\n",
       "      <th>1</th>\n",
       "      <td>QN51</td>\n",
       "      <td>52488276.477</td>\n",
       "      <td>081</td>\n",
       "      <td>Murray Hill</td>\n",
       "      <td>33266.904811</td>\n",
       "      <td>Queens</td>\n",
       "      <td>4</td>\n",
       "      <td>(POLYGON ((-73.80379022888246 40.7756101117924...</td>\n",
       "    </tr>\n",
       "  </tbody>\n",
       "</table>\n",
       "</div>"
      ],
      "text/plain": [
       "  ntacode     shape_area county_fips       ntaname     shape_leng boro_name  \\\n",
       "0    BK88  54005018.7472         047  Borough Park  39247.2280737  Brooklyn   \n",
       "1    QN51   52488276.477         081   Murray Hill   33266.904811    Queens   \n",
       "\n",
       "  boro_code                                           geometry  \n",
       "0         3  (POLYGON ((-73.97604935657381 40.6312759056467...  \n",
       "1         4  (POLYGON ((-73.80379022888246 40.7756101117924...  "
      ]
     },
     "execution_count": 29,
     "metadata": {},
     "output_type": "execute_result"
    }
   ],
   "source": [
    "import geopandas as gpd\n",
    "nta = gpd.read_file('../data/Neighborhood Tabulation Areas.geojson')\n",
    "nta.head(2)"
   ]
  },
  {
   "cell_type": "code",
   "execution_count": 30,
   "metadata": {},
   "outputs": [
    {
     "data": {
      "text/plain": [
       "array(['Borough Park', 'Murray Hill', 'East Elmhurst', 'Hollis',\n",
       "       'Manhattanville'], dtype=object)"
      ]
     },
     "execution_count": 30,
     "metadata": {},
     "output_type": "execute_result"
    }
   ],
   "source": [
    "nta.ntaname.unique()[:5] # check first 5 elements, no whitespace"
   ]
  },
  {
   "cell_type": "code",
   "execution_count": 31,
   "metadata": {},
   "outputs": [
    {
     "data": {
      "text/plain": [
       "False"
      ]
     },
     "execution_count": 31,
     "metadata": {},
     "output_type": "execute_result"
    }
   ],
   "source": [
    "# not all NTAs in the community gardens dataset is inside the NTA dataset\n",
    "garden_set = set(gardens.NTA.unique())\n",
    "nta_set = set(nta.ntaname.unique())\n",
    "garden_set.issubset(nta_set)"
   ]
  },
  {
   "cell_type": "code",
   "execution_count": 32,
   "metadata": {},
   "outputs": [
    {
     "data": {
      "text/plain": [
       "{'', nan}"
      ]
     },
     "execution_count": 32,
     "metadata": {},
     "output_type": "execute_result"
    }
   ],
   "source": [
    "# find out which NTAs are in gardens but not in NTA...turns out to be relatively trivial\n",
    "garden_set.difference(nta_set)"
   ]
  },
  {
   "cell_type": "code",
   "execution_count": 33,
   "metadata": {},
   "outputs": [
    {
     "name": "stdout",
     "output_type": "stream",
     "text": [
      "107 data records with invalid NTAs\n",
      "that's 20.0% of the dataset\n"
     ]
    }
   ],
   "source": [
    "# check how many records have nta == '' or nan\n",
    "invalid_num = len(gardens[gardens.NTA == '']) + len(gardens[gardens.NTA.isnull()])\n",
    "print(f\"{invalid_num} data records with invalid NTAs\")\n",
    "print(f\"that's {round(invalid_num/len(gardens), 2)*100}% of the dataset\")"
   ]
  },
  {
   "cell_type": "markdown",
   "metadata": {},
   "source": [
    "Data cleaning 4: fill in missing/null NTA info"
   ]
  },
  {
   "cell_type": "code",
   "execution_count": 98,
   "metadata": {},
   "outputs": [
    {
     "data": {
      "text/plain": [
       "(105, 17)"
      ]
     },
     "execution_count": 98,
     "metadata": {},
     "output_type": "execute_result"
    }
   ],
   "source": [
    "gardens[gardens.NTA.isnull()].shape\n",
    "# 105 gardens without nta info"
   ]
  },
  {
   "cell_type": "markdown",
   "metadata": {},
   "source": [
    "Data cleaning 5: combining nyrp dataset with greenthumb dataset"
   ]
  },
  {
   "cell_type": "code",
   "execution_count": 39,
   "metadata": {},
   "outputs": [
    {
     "data": {
      "text/html": [
       "<div>\n",
       "<style scoped>\n",
       "    .dataframe tbody tr th:only-of-type {\n",
       "        vertical-align: middle;\n",
       "    }\n",
       "\n",
       "    .dataframe tbody tr th {\n",
       "        vertical-align: top;\n",
       "    }\n",
       "\n",
       "    .dataframe thead th {\n",
       "        text-align: right;\n",
       "    }\n",
       "</style>\n",
       "<table border=\"1\" class=\"dataframe\">\n",
       "  <thead>\n",
       "    <tr style=\"text-align: right;\">\n",
       "      <th></th>\n",
       "      <th>address</th>\n",
       "      <th>coords</th>\n",
       "      <th>lat</th>\n",
       "      <th>long</th>\n",
       "      <th>borough</th>\n",
       "      <th>geometry</th>\n",
       "      <th>index_right</th>\n",
       "      <th>ntacode</th>\n",
       "      <th>shape_area</th>\n",
       "      <th>county_fips</th>\n",
       "      <th>ntaname</th>\n",
       "      <th>shape_leng</th>\n",
       "      <th>boro_name</th>\n",
       "      <th>boro_code</th>\n",
       "    </tr>\n",
       "  </thead>\n",
       "  <tbody>\n",
       "    <tr>\n",
       "      <th>0</th>\n",
       "      <td>735 East 211th St</td>\n",
       "      <td>40.877499,-73.863489</td>\n",
       "      <td>40.877499</td>\n",
       "      <td>-73.863489</td>\n",
       "      <td>Bronx</td>\n",
       "      <td>POINT (-73.863489 40.877499)</td>\n",
       "      <td>75</td>\n",
       "      <td>BX44</td>\n",
       "      <td>3.627360e+07</td>\n",
       "      <td>5</td>\n",
       "      <td>Williamsbridge-Olinville</td>\n",
       "      <td>27351.077379</td>\n",
       "      <td>Bronx</td>\n",
       "      <td>2</td>\n",
       "    </tr>\n",
       "    <tr>\n",
       "      <th>1</th>\n",
       "      <td>1818 Bathgate Ave</td>\n",
       "      <td>40.845051,-73.897747</td>\n",
       "      <td>40.845051</td>\n",
       "      <td>-73.897747</td>\n",
       "      <td>Bronx</td>\n",
       "      <td>POINT (-73.897747 40.845051)</td>\n",
       "      <td>128</td>\n",
       "      <td>BX01</td>\n",
       "      <td>1.645162e+07</td>\n",
       "      <td>5</td>\n",
       "      <td>Claremont-Bathgate</td>\n",
       "      <td>29972.777720</td>\n",
       "      <td>Bronx</td>\n",
       "      <td>2</td>\n",
       "    </tr>\n",
       "  </tbody>\n",
       "</table>\n",
       "</div>"
      ],
      "text/plain": [
       "             address                coords        lat       long borough  \\\n",
       "0  735 East 211th St  40.877499,-73.863489  40.877499 -73.863489   Bronx   \n",
       "1  1818 Bathgate Ave  40.845051,-73.897747  40.845051 -73.897747   Bronx   \n",
       "\n",
       "                       geometry  index_right ntacode    shape_area  \\\n",
       "0  POINT (-73.863489 40.877499)           75    BX44  3.627360e+07   \n",
       "1  POINT (-73.897747 40.845051)          128    BX01  1.645162e+07   \n",
       "\n",
       "   county_fips                   ntaname    shape_leng boro_name  boro_code  \n",
       "0            5  Williamsbridge-Olinville  27351.077379     Bronx          2  \n",
       "1            5        Claremont-Bathgate  29972.777720     Bronx          2  "
      ]
     },
     "execution_count": 39,
     "metadata": {},
     "output_type": "execute_result"
    }
   ],
   "source": [
    "nyrp = pd.read_csv('../data/NYRP_NTA.csv', index_col=0)\n",
    "nyrp.head(2)"
   ]
  },
  {
   "cell_type": "code",
   "execution_count": 40,
   "metadata": {},
   "outputs": [],
   "source": [
    "# rename columns for concat\n",
    "nyrp.rename(columns={\n",
    "    'address': 'Address',\n",
    "    'lat': 'Latitude',\n",
    "    'long': 'Longitude',\n",
    "    'borough': 'Borough',\n",
    "    'ntaname': 'NTA',\n",
    "    'ntacode': 'NTAcode'\n",
    "}, inplace=True) "
   ]
  },
  {
   "cell_type": "code",
   "execution_count": 43,
   "metadata": {},
   "outputs": [
    {
     "data": {
      "text/plain": [
       "(56, 14)"
      ]
     },
     "execution_count": 43,
     "metadata": {},
     "output_type": "execute_result"
    }
   ],
   "source": [
    "nyrp.shape"
   ]
  },
  {
   "cell_type": "code",
   "execution_count": 45,
   "metadata": {},
   "outputs": [
    {
     "data": {
      "text/plain": [
       "(431, 17)"
      ]
     },
     "execution_count": 45,
     "metadata": {},
     "output_type": "execute_result"
    }
   ],
   "source": [
    "gardens[gardens.NTA.notnull()].shape"
   ]
  },
  {
   "cell_type": "code",
   "execution_count": 77,
   "metadata": {},
   "outputs": [
    {
     "data": {
      "text/html": [
       "<div>\n",
       "<style scoped>\n",
       "    .dataframe tbody tr th:only-of-type {\n",
       "        vertical-align: middle;\n",
       "    }\n",
       "\n",
       "    .dataframe tbody tr th {\n",
       "        vertical-align: top;\n",
       "    }\n",
       "\n",
       "    .dataframe thead th {\n",
       "        text-align: right;\n",
       "    }\n",
       "</style>\n",
       "<table border=\"1\" class=\"dataframe\">\n",
       "  <thead>\n",
       "    <tr style=\"text-align: right;\">\n",
       "      <th></th>\n",
       "      <th>Address</th>\n",
       "      <th>Latitude</th>\n",
       "      <th>Longitude</th>\n",
       "      <th>NTA</th>\n",
       "    </tr>\n",
       "  </thead>\n",
       "  <tbody>\n",
       "    <tr>\n",
       "      <th>0</th>\n",
       "      <td>735 East 211th St</td>\n",
       "      <td>40.877499</td>\n",
       "      <td>-73.863489</td>\n",
       "      <td>Williamsbridge-Olinville</td>\n",
       "    </tr>\n",
       "    <tr>\n",
       "      <th>1</th>\n",
       "      <td>1818 Bathgate Ave</td>\n",
       "      <td>40.845051</td>\n",
       "      <td>-73.897747</td>\n",
       "      <td>Claremont-Bathgate</td>\n",
       "    </tr>\n",
       "    <tr>\n",
       "      <th>2</th>\n",
       "      <td>1017 Teller Ave</td>\n",
       "      <td>40.828150</td>\n",
       "      <td>-73.914356</td>\n",
       "      <td>East Concourse-Concourse Village</td>\n",
       "    </tr>\n",
       "    <tr>\n",
       "      <th>3</th>\n",
       "      <td>1328 Clay Ave</td>\n",
       "      <td>40.834934</td>\n",
       "      <td>-73.908892</td>\n",
       "      <td>East Concourse-Concourse Village</td>\n",
       "    </tr>\n",
       "    <tr>\n",
       "      <th>4</th>\n",
       "      <td>2044 Prospect Ave</td>\n",
       "      <td>40.845818</td>\n",
       "      <td>-73.887851</td>\n",
       "      <td>East Tremont</td>\n",
       "    </tr>\n",
       "  </tbody>\n",
       "</table>\n",
       "</div>"
      ],
      "text/plain": [
       "             Address   Latitude  Longitude                               NTA\n",
       "0  735 East 211th St  40.877499 -73.863489          Williamsbridge-Olinville\n",
       "1  1818 Bathgate Ave  40.845051 -73.897747                Claremont-Bathgate\n",
       "2    1017 Teller Ave  40.828150 -73.914356  East Concourse-Concourse Village\n",
       "3      1328 Clay Ave  40.834934 -73.908892  East Concourse-Concourse Village\n",
       "4  2044 Prospect Ave  40.845818 -73.887851                      East Tremont"
      ]
     },
     "execution_count": 77,
     "metadata": {},
     "output_type": "execute_result"
    }
   ],
   "source": [
    "cols = ['Address', 'Latitude', 'Longitude', 'NTA']\n",
    "gardens_combined = pd.concat([nyrp[cols], gardens[gardens.NTA.notnull()][cols]], ignore_index=True)\n",
    "gardens_combined.head()"
   ]
  },
  {
   "cell_type": "code",
   "execution_count": 47,
   "metadata": {},
   "outputs": [
    {
     "data": {
      "text/plain": [
       "True"
      ]
     },
     "execution_count": 47,
     "metadata": {},
     "output_type": "execute_result"
    }
   ],
   "source": [
    "len(gardens_combined) == len(gardens[gardens.NTA.notnull()]) + len(nyrp)"
   ]
  },
  {
   "cell_type": "markdown",
   "metadata": {},
   "source": [
    "Data cleaning: remove entries with same address"
   ]
  },
  {
   "cell_type": "code",
   "execution_count": 91,
   "metadata": {},
   "outputs": [
    {
     "data": {
      "text/plain": [
       "1    473\n",
       "2      7\n",
       "Name: Address, dtype: int64"
      ]
     },
     "execution_count": 91,
     "metadata": {},
     "output_type": "execute_result"
    }
   ],
   "source": [
    "# find out how many duplicates there are\n",
    "gardens_combined.Address.str.lower().value_counts().value_counts()\n",
    "# 7 duplicates "
   ]
  },
  {
   "cell_type": "code",
   "execution_count": 90,
   "metadata": {},
   "outputs": [
    {
     "data": {
      "text/html": [
       "<div>\n",
       "<style scoped>\n",
       "    .dataframe tbody tr th:only-of-type {\n",
       "        vertical-align: middle;\n",
       "    }\n",
       "\n",
       "    .dataframe tbody tr th {\n",
       "        vertical-align: top;\n",
       "    }\n",
       "\n",
       "    .dataframe thead th {\n",
       "        text-align: right;\n",
       "    }\n",
       "</style>\n",
       "<table border=\"1\" class=\"dataframe\">\n",
       "  <thead>\n",
       "    <tr style=\"text-align: right;\">\n",
       "      <th></th>\n",
       "      <th>Address</th>\n",
       "      <th>Latitude</th>\n",
       "      <th>Longitude</th>\n",
       "      <th>NTA</th>\n",
       "    </tr>\n",
       "  </thead>\n",
       "  <tbody>\n",
       "    <tr>\n",
       "      <th>144</th>\n",
       "      <td>3003 Seagirt Boulevard.</td>\n",
       "      <td>40.595964</td>\n",
       "      <td>-73.763133</td>\n",
       "      <td>Hammels-Arverne-Edgemere</td>\n",
       "    </tr>\n",
       "    <tr>\n",
       "      <th>161</th>\n",
       "      <td>429-433 East 117th Street</td>\n",
       "      <td>40.796357</td>\n",
       "      <td>-73.934119</td>\n",
       "      <td>East Harlem North</td>\n",
       "    </tr>\n",
       "    <tr>\n",
       "      <th>164</th>\n",
       "      <td>52 W 129th Street</td>\n",
       "      <td>40.809753</td>\n",
       "      <td>-73.942310</td>\n",
       "      <td>Central Harlem North-Polo Grounds</td>\n",
       "    </tr>\n",
       "    <tr>\n",
       "      <th>168</th>\n",
       "      <td>624-638 East 138th Street</td>\n",
       "      <td>40.806094</td>\n",
       "      <td>-73.915774</td>\n",
       "      <td>Mott Haven-Port Morris</td>\n",
       "    </tr>\n",
       "    <tr>\n",
       "      <th>169</th>\n",
       "      <td>624-638 East 138th Street</td>\n",
       "      <td>40.806094</td>\n",
       "      <td>-73.915774</td>\n",
       "      <td>Mott Haven-Port Morris</td>\n",
       "    </tr>\n",
       "    <tr>\n",
       "      <th>190</th>\n",
       "      <td>2592-2597 Bainbridge Avenue</td>\n",
       "      <td>40.863711</td>\n",
       "      <td>-73.892599</td>\n",
       "      <td>Bedford Park-Fordham North</td>\n",
       "    </tr>\n",
       "    <tr>\n",
       "      <th>191</th>\n",
       "      <td>2592-2597 Bainbridge Avenue</td>\n",
       "      <td>40.863711</td>\n",
       "      <td>-73.892599</td>\n",
       "      <td>Bedford Park-Fordham North</td>\n",
       "    </tr>\n",
       "    <tr>\n",
       "      <th>223</th>\n",
       "      <td>52 W 129th Street</td>\n",
       "      <td>40.809753</td>\n",
       "      <td>-73.942310</td>\n",
       "      <td>Central Harlem North-Polo Grounds</td>\n",
       "    </tr>\n",
       "    <tr>\n",
       "      <th>232</th>\n",
       "      <td>415-421 East 117th Street</td>\n",
       "      <td>40.796450</td>\n",
       "      <td>-73.934347</td>\n",
       "      <td>East Harlem North</td>\n",
       "    </tr>\n",
       "    <tr>\n",
       "      <th>321</th>\n",
       "      <td>953 Gates Avenue</td>\n",
       "      <td>40.688836</td>\n",
       "      <td>-73.927890</td>\n",
       "      <td>Stuyvesant Heights</td>\n",
       "    </tr>\n",
       "    <tr>\n",
       "      <th>421</th>\n",
       "      <td>3003 Seagirt Boulevard.</td>\n",
       "      <td>40.595964</td>\n",
       "      <td>-73.763133</td>\n",
       "      <td>Hammels-Arverne-Edgemere</td>\n",
       "    </tr>\n",
       "    <tr>\n",
       "      <th>449</th>\n",
       "      <td>415-421 East 117th Street</td>\n",
       "      <td>40.796450</td>\n",
       "      <td>-73.934347</td>\n",
       "      <td>East Harlem North</td>\n",
       "    </tr>\n",
       "    <tr>\n",
       "      <th>450</th>\n",
       "      <td>429-433 East 117th Street</td>\n",
       "      <td>40.796357</td>\n",
       "      <td>-73.934119</td>\n",
       "      <td>East Harlem North</td>\n",
       "    </tr>\n",
       "    <tr>\n",
       "      <th>468</th>\n",
       "      <td>953 Gates Avenue</td>\n",
       "      <td>40.688836</td>\n",
       "      <td>-73.927890</td>\n",
       "      <td>Stuyvesant Heights</td>\n",
       "    </tr>\n",
       "  </tbody>\n",
       "</table>\n",
       "</div>"
      ],
      "text/plain": [
       "                         Address   Latitude  Longitude  \\\n",
       "144      3003 Seagirt Boulevard.  40.595964 -73.763133   \n",
       "161    429-433 East 117th Street  40.796357 -73.934119   \n",
       "164            52 W 129th Street  40.809753 -73.942310   \n",
       "168    624-638 East 138th Street  40.806094 -73.915774   \n",
       "169    624-638 East 138th Street  40.806094 -73.915774   \n",
       "190  2592-2597 Bainbridge Avenue  40.863711 -73.892599   \n",
       "191  2592-2597 Bainbridge Avenue  40.863711 -73.892599   \n",
       "223            52 W 129th Street  40.809753 -73.942310   \n",
       "232    415-421 East 117th Street  40.796450 -73.934347   \n",
       "321             953 Gates Avenue  40.688836 -73.927890   \n",
       "421      3003 Seagirt Boulevard.  40.595964 -73.763133   \n",
       "449    415-421 East 117th Street  40.796450 -73.934347   \n",
       "450    429-433 East 117th Street  40.796357 -73.934119   \n",
       "468             953 Gates Avenue  40.688836 -73.927890   \n",
       "\n",
       "                                   NTA  \n",
       "144           Hammels-Arverne-Edgemere  \n",
       "161                  East Harlem North  \n",
       "164  Central Harlem North-Polo Grounds  \n",
       "168             Mott Haven-Port Morris  \n",
       "169             Mott Haven-Port Morris  \n",
       "190         Bedford Park-Fordham North  \n",
       "191         Bedford Park-Fordham North  \n",
       "223  Central Harlem North-Polo Grounds  \n",
       "232                  East Harlem North  \n",
       "321                 Stuyvesant Heights  \n",
       "421           Hammels-Arverne-Edgemere  \n",
       "449                  East Harlem North  \n",
       "450                  East Harlem North  \n",
       "468                 Stuyvesant Heights  "
      ]
     },
     "execution_count": 90,
     "metadata": {},
     "output_type": "execute_result"
    }
   ],
   "source": [
    "# rows that have duplicates\n",
    "gardens_combined[gardens_combined.duplicated(subset='Address', keep=False)]"
   ]
  },
  {
   "cell_type": "code",
   "execution_count": 95,
   "metadata": {},
   "outputs": [
    {
     "data": {
      "text/plain": [
       "(480, 4)"
      ]
     },
     "execution_count": 95,
     "metadata": {},
     "output_type": "execute_result"
    }
   ],
   "source": [
    "gardens_combined.drop_duplicates(subset='Address', keep='first', inplace=True)\n",
    "gardens_combined.shape"
   ]
  },
  {
   "cell_type": "code",
   "execution_count": 96,
   "metadata": {},
   "outputs": [],
   "source": [
    "# save dataset\n",
    "gardens_combined.to_csv('../data/NYC_Community_Gardens_combined.csv')"
   ]
  },
  {
   "cell_type": "code",
   "execution_count": null,
   "metadata": {},
   "outputs": [],
   "source": []
  },
  {
   "cell_type": "code",
   "execution_count": null,
   "metadata": {},
   "outputs": [],
   "source": []
  },
  {
   "cell_type": "code",
   "execution_count": null,
   "metadata": {},
   "outputs": [],
   "source": []
  },
  {
   "cell_type": "code",
   "execution_count": null,
   "metadata": {},
   "outputs": [],
   "source": [
    "# TODO: geoencode addresses to NTAs\n",
    "# TODO: concat open data dataset to nyrp dataset"
   ]
  },
  {
   "cell_type": "code",
   "execution_count": 27,
   "metadata": {},
   "outputs": [
    {
     "data": {
      "text/html": [
       "<div>\n",
       "<style scoped>\n",
       "    .dataframe tbody tr th:only-of-type {\n",
       "        vertical-align: middle;\n",
       "    }\n",
       "\n",
       "    .dataframe tbody tr th {\n",
       "        vertical-align: top;\n",
       "    }\n",
       "\n",
       "    .dataframe thead th {\n",
       "        text-align: right;\n",
       "    }\n",
       "</style>\n",
       "<table border=\"1\" class=\"dataframe\">\n",
       "  <thead>\n",
       "    <tr style=\"text-align: right;\">\n",
       "      <th></th>\n",
       "      <th>PropID</th>\n",
       "      <th>Boro</th>\n",
       "      <th>Community Board</th>\n",
       "      <th>Council District</th>\n",
       "      <th>Garden Name</th>\n",
       "      <th>Address</th>\n",
       "      <th>Size</th>\n",
       "      <th>Jurisdiction</th>\n",
       "      <th>NeighborhoodName</th>\n",
       "      <th>Cross Streets</th>\n",
       "      <th>Latitude</th>\n",
       "      <th>Longitude</th>\n",
       "      <th>Postcode</th>\n",
       "      <th>Census Tract</th>\n",
       "      <th>BIN</th>\n",
       "      <th>BBL</th>\n",
       "      <th>NTA</th>\n",
       "    </tr>\n",
       "  </thead>\n",
       "  <tbody>\n",
       "    <tr>\n",
       "      <th>150</th>\n",
       "      <td>NaN</td>\n",
       "      <td>B</td>\n",
       "      <td>B05</td>\n",
       "      <td>42.0</td>\n",
       "      <td>Euclid Pine Block Association</td>\n",
       "      <td>NaN</td>\n",
       "      <td>0.071</td>\n",
       "      <td>TPL</td>\n",
       "      <td>East New York</td>\n",
       "      <td>Aldride &amp; Bay Vew</td>\n",
       "      <td>NaN</td>\n",
       "      <td>NaN</td>\n",
       "      <td>NaN</td>\n",
       "      <td>NaN</td>\n",
       "      <td>NaN</td>\n",
       "      <td>NaN</td>\n",
       "      <td>NaN</td>\n",
       "    </tr>\n",
       "  </tbody>\n",
       "</table>\n",
       "</div>"
      ],
      "text/plain": [
       "    PropID Boro Community Board  Council District  \\\n",
       "150    NaN    B             B05              42.0   \n",
       "\n",
       "                       Garden Name Address   Size Jurisdiction  \\\n",
       "150  Euclid Pine Block Association     NaN  0.071          TPL   \n",
       "\n",
       "    NeighborhoodName      Cross Streets  Latitude  Longitude Postcode  \\\n",
       "150    East New York  Aldride & Bay Vew       NaN        NaN      NaN   \n",
       "\n",
       "     Census Tract  BIN  BBL  NTA  \n",
       "150           NaN  NaN  NaN  NaN  "
      ]
     },
     "execution_count": 27,
     "metadata": {},
     "output_type": "execute_result"
    }
   ],
   "source": [
    "# i wanna remove rows that don't have address information\n",
    "gardens[gardens.Address.isnull()]"
   ]
  },
  {
   "cell_type": "code",
   "execution_count": 30,
   "metadata": {},
   "outputs": [],
   "source": [
    "gardens.dropna(subset=['Address'], inplace=True)"
   ]
  },
  {
   "cell_type": "code",
   "execution_count": 32,
   "metadata": {},
   "outputs": [
    {
     "data": {
      "text/plain": [
       "104"
      ]
     },
     "execution_count": 32,
     "metadata": {},
     "output_type": "execute_result"
    }
   ],
   "source": [
    "len(gardens[gardens.NTA.isnull()]) # i need to geocode at least 104 records"
   ]
  },
  {
   "cell_type": "code",
   "execution_count": 46,
   "metadata": {},
   "outputs": [
    {
     "data": {
      "text/plain": [
       "0    False\n",
       "1     True\n",
       "2    False\n",
       "3    False\n",
       "4    False\n",
       "Name: NTA, dtype: bool"
      ]
     },
     "execution_count": 46,
     "metadata": {},
     "output_type": "execute_result"
    }
   ],
   "source": [
    "rows_to_geocode = gardens.NTA.isnull()\n",
    "rows_to_geocode.head()"
   ]
  },
  {
   "cell_type": "code",
   "execution_count": 54,
   "metadata": {},
   "outputs": [
    {
     "data": {
      "text/html": [
       "<div>\n",
       "<style scoped>\n",
       "    .dataframe tbody tr th:only-of-type {\n",
       "        vertical-align: middle;\n",
       "    }\n",
       "\n",
       "    .dataframe tbody tr th {\n",
       "        vertical-align: top;\n",
       "    }\n",
       "\n",
       "    .dataframe thead th {\n",
       "        text-align: right;\n",
       "    }\n",
       "</style>\n",
       "<table border=\"1\" class=\"dataframe\">\n",
       "  <thead>\n",
       "    <tr style=\"text-align: right;\">\n",
       "      <th></th>\n",
       "      <th>PropID</th>\n",
       "      <th>Boro</th>\n",
       "      <th>Community Board</th>\n",
       "      <th>Council District</th>\n",
       "      <th>Garden Name</th>\n",
       "      <th>Address</th>\n",
       "      <th>Size</th>\n",
       "      <th>Jurisdiction</th>\n",
       "      <th>NeighborhoodName</th>\n",
       "      <th>Cross Streets</th>\n",
       "      <th>Latitude</th>\n",
       "      <th>Longitude</th>\n",
       "      <th>Postcode</th>\n",
       "      <th>Census Tract</th>\n",
       "      <th>BIN</th>\n",
       "      <th>BBL</th>\n",
       "      <th>NTA</th>\n",
       "    </tr>\n",
       "  </thead>\n",
       "  <tbody>\n",
       "    <tr>\n",
       "      <th>1</th>\n",
       "      <td>NaN</td>\n",
       "      <td>B</td>\n",
       "      <td>B08</td>\n",
       "      <td>36.0</td>\n",
       "      <td>1100 Bergen Street Community Garden</td>\n",
       "      <td>1101 &amp; 1105 Bergen Street</td>\n",
       "      <td>0.207</td>\n",
       "      <td>PRI</td>\n",
       "      <td>Crown Heights</td>\n",
       "      <td>Nostrand &amp; New York Avenues</td>\n",
       "      <td>NaN</td>\n",
       "      <td>NaN</td>\n",
       "      <td>NaN</td>\n",
       "      <td>NaN</td>\n",
       "      <td>NaN</td>\n",
       "      <td>NaN</td>\n",
       "      <td>NaN</td>\n",
       "    </tr>\n",
       "    <tr>\n",
       "      <th>5</th>\n",
       "      <td>NaN</td>\n",
       "      <td>X</td>\n",
       "      <td>X12</td>\n",
       "      <td>15.0</td>\n",
       "      <td>211th Street Block Association.</td>\n",
       "      <td>Carlisle Place</td>\n",
       "      <td>0.182</td>\n",
       "      <td>NYRP</td>\n",
       "      <td>NaN</td>\n",
       "      <td>At E. 211th Street</td>\n",
       "      <td>NaN</td>\n",
       "      <td>NaN</td>\n",
       "      <td>NaN</td>\n",
       "      <td>NaN</td>\n",
       "      <td>NaN</td>\n",
       "      <td>NaN</td>\n",
       "      <td>NaN</td>\n",
       "    </tr>\n",
       "    <tr>\n",
       "      <th>7</th>\n",
       "      <td>B535</td>\n",
       "      <td>B</td>\n",
       "      <td>B05</td>\n",
       "      <td>42.0</td>\n",
       "      <td>400 Montauk Avenue Block Association. (Ismael ...</td>\n",
       "      <td>New Lots Avenue</td>\n",
       "      <td>0.091</td>\n",
       "      <td>DPR</td>\n",
       "      <td>East New York</td>\n",
       "      <td>Active</td>\n",
       "      <td>NaN</td>\n",
       "      <td>NaN</td>\n",
       "      <td>NaN</td>\n",
       "      <td>NaN</td>\n",
       "      <td>NaN</td>\n",
       "      <td>NaN</td>\n",
       "      <td>NaN</td>\n",
       "    </tr>\n",
       "    <tr>\n",
       "      <th>10</th>\n",
       "      <td>NaN</td>\n",
       "      <td>B</td>\n",
       "      <td>B07</td>\n",
       "      <td>0.0</td>\n",
       "      <td>64th Street Community Garden</td>\n",
       "      <td>64th Street</td>\n",
       "      <td>NaN</td>\n",
       "      <td>DOT</td>\n",
       "      <td>Sunset Park</td>\n",
       "      <td>West of 4th Avenue</td>\n",
       "      <td>NaN</td>\n",
       "      <td>NaN</td>\n",
       "      <td>NaN</td>\n",
       "      <td>NaN</td>\n",
       "      <td>NaN</td>\n",
       "      <td>NaN</td>\n",
       "      <td>NaN</td>\n",
       "    </tr>\n",
       "    <tr>\n",
       "      <th>17</th>\n",
       "      <td>B507</td>\n",
       "      <td>B</td>\n",
       "      <td>B03</td>\n",
       "      <td>41.0</td>\n",
       "      <td>A Better Community Garden</td>\n",
       "      <td>762-764 Herkimer Place/13-21 Hunterfly</td>\n",
       "      <td>0.044</td>\n",
       "      <td>DPR</td>\n",
       "      <td>Bed-Stuy</td>\n",
       "      <td>Active</td>\n",
       "      <td>NaN</td>\n",
       "      <td>NaN</td>\n",
       "      <td>NaN</td>\n",
       "      <td>NaN</td>\n",
       "      <td>NaN</td>\n",
       "      <td>NaN</td>\n",
       "      <td>NaN</td>\n",
       "    </tr>\n",
       "  </tbody>\n",
       "</table>\n",
       "</div>"
      ],
      "text/plain": [
       "   PropID Boro Community Board  Council District  \\\n",
       "1     NaN    B             B08              36.0   \n",
       "5     NaN    X             X12              15.0   \n",
       "7    B535    B             B05              42.0   \n",
       "10    NaN    B             B07               0.0   \n",
       "17   B507    B             B03              41.0   \n",
       "\n",
       "                                          Garden Name  \\\n",
       "1                 1100 Bergen Street Community Garden   \n",
       "5                     211th Street Block Association.   \n",
       "7   400 Montauk Avenue Block Association. (Ismael ...   \n",
       "10                       64th Street Community Garden   \n",
       "17                          A Better Community Garden   \n",
       "\n",
       "                                   Address   Size Jurisdiction  \\\n",
       "1                1101 & 1105 Bergen Street  0.207          PRI   \n",
       "5                           Carlisle Place  0.182         NYRP   \n",
       "7                          New Lots Avenue  0.091          DPR   \n",
       "10                             64th Street    NaN          DOT   \n",
       "17  762-764 Herkimer Place/13-21 Hunterfly  0.044          DPR   \n",
       "\n",
       "   NeighborhoodName                Cross Streets  Latitude  Longitude  \\\n",
       "1     Crown Heights  Nostrand & New York Avenues       NaN        NaN   \n",
       "5               NaN           At E. 211th Street       NaN        NaN   \n",
       "7     East New York                       Active       NaN        NaN   \n",
       "10      Sunset Park           West of 4th Avenue       NaN        NaN   \n",
       "17         Bed-Stuy                       Active       NaN        NaN   \n",
       "\n",
       "   Postcode  Census Tract  BIN  BBL  NTA  \n",
       "1       NaN           NaN  NaN  NaN  NaN  \n",
       "5       NaN           NaN  NaN  NaN  NaN  \n",
       "7       NaN           NaN  NaN  NaN  NaN  \n",
       "10      NaN           NaN  NaN  NaN  NaN  \n",
       "17      NaN           NaN  NaN  NaN  NaN  "
      ]
     },
     "execution_count": 54,
     "metadata": {},
     "output_type": "execute_result"
    }
   ],
   "source": [
    "gardens_geocode = gardens[rows_to_geocode]\n",
    "gardens_geocode.head()"
   ]
  },
  {
   "cell_type": "code",
   "execution_count": 95,
   "metadata": {},
   "outputs": [],
   "source": [
    "from geopy.geocoders import Nominatim\n",
    "from geopy.extra.rate_limiter import RateLimiter\n",
    "\n",
    "locator = Nominatim(user_agent=\"myGeocoder\",format_string=\"%s, NY\")\n",
    "geocode = RateLimiter(locator.geocode, min_delay_seconds=1) # limit the rate at which i'm making api requests, so i don't get a service timeout error\n"
   ]
  },
  {
   "cell_type": "code",
   "execution_count": 96,
   "metadata": {},
   "outputs": [
    {
     "name": "stderr",
     "output_type": "stream",
     "text": [
      "/usr/local/Cellar/python3/3.6.2/Frameworks/Python.framework/Versions/3.6/lib/python3.6/site-packages/ipykernel_launcher.py:1: SettingWithCopyWarning: \n",
      "A value is trying to be set on a copy of a slice from a DataFrame.\n",
      "Try using .loc[row_indexer,col_indexer] = value instead\n",
      "\n",
      "See the caveats in the documentation: http://pandas.pydata.org/pandas-docs/stable/indexing.html#indexing-view-versus-copy\n",
      "  \"\"\"Entry point for launching an IPython kernel.\n"
     ]
    }
   ],
   "source": [
    "gardens_geocode['geo_obj'] = gardens_geocode.Address.apply(geocode)"
   ]
  },
  {
   "cell_type": "code",
   "execution_count": 77,
   "metadata": {},
   "outputs": [
    {
     "name": "stderr",
     "output_type": "stream",
     "text": [
      "/usr/local/Cellar/python3/3.6.2/Frameworks/Python.framework/Versions/3.6/lib/python3.6/site-packages/ipykernel_launcher.py:2: SettingWithCopyWarning: \n",
      "A value is trying to be set on a copy of a slice from a DataFrame.\n",
      "Try using .loc[row_indexer,col_indexer] = value instead\n",
      "\n",
      "See the caveats in the documentation: http://pandas.pydata.org/pandas-docs/stable/indexing.html#indexing-view-versus-copy\n",
      "  \n"
     ]
    },
    {
     "data": {
      "text/html": [
       "<div>\n",
       "<style scoped>\n",
       "    .dataframe tbody tr th:only-of-type {\n",
       "        vertical-align: middle;\n",
       "    }\n",
       "\n",
       "    .dataframe tbody tr th {\n",
       "        vertical-align: top;\n",
       "    }\n",
       "\n",
       "    .dataframe thead th {\n",
       "        text-align: right;\n",
       "    }\n",
       "</style>\n",
       "<table border=\"1\" class=\"dataframe\">\n",
       "  <thead>\n",
       "    <tr style=\"text-align: right;\">\n",
       "      <th></th>\n",
       "      <th>PropID</th>\n",
       "      <th>Boro</th>\n",
       "      <th>Community Board</th>\n",
       "      <th>Council District</th>\n",
       "      <th>Garden Name</th>\n",
       "      <th>Address</th>\n",
       "      <th>Size</th>\n",
       "      <th>Jurisdiction</th>\n",
       "      <th>NeighborhoodName</th>\n",
       "      <th>Cross Streets</th>\n",
       "      <th>Latitude</th>\n",
       "      <th>Longitude</th>\n",
       "      <th>Postcode</th>\n",
       "      <th>Census Tract</th>\n",
       "      <th>BIN</th>\n",
       "      <th>BBL</th>\n",
       "      <th>NTA</th>\n",
       "      <th>geo_obj</th>\n",
       "      <th>point</th>\n",
       "      <th>location</th>\n",
       "    </tr>\n",
       "  </thead>\n",
       "  <tbody>\n",
       "    <tr>\n",
       "      <th>1</th>\n",
       "      <td>NaN</td>\n",
       "      <td>B</td>\n",
       "      <td>B08</td>\n",
       "      <td>36.0</td>\n",
       "      <td>1100 Bergen Street Community Garden</td>\n",
       "      <td>1101 &amp; 1105 Bergen Street</td>\n",
       "      <td>0.207</td>\n",
       "      <td>PRI</td>\n",
       "      <td>Crown Heights</td>\n",
       "      <td>Nostrand &amp; New York Avenues</td>\n",
       "      <td>NaN</td>\n",
       "      <td>NaN</td>\n",
       "      <td>NaN</td>\n",
       "      <td>NaN</td>\n",
       "      <td>NaN</td>\n",
       "      <td>NaN</td>\n",
       "      <td>NaN</td>\n",
       "      <td>(1101, Bergen Street, Newark, Essex County, Ne...</td>\n",
       "      <td>(40.706084, -74.210105)</td>\n",
       "      <td>(1100 Bergen Street Community Garden, Bergen S...</td>\n",
       "    </tr>\n",
       "    <tr>\n",
       "      <th>5</th>\n",
       "      <td>NaN</td>\n",
       "      <td>X</td>\n",
       "      <td>X12</td>\n",
       "      <td>15.0</td>\n",
       "      <td>211th Street Block Association.</td>\n",
       "      <td>Carlisle Place</td>\n",
       "      <td>0.182</td>\n",
       "      <td>NYRP</td>\n",
       "      <td>NaN</td>\n",
       "      <td>At E. 211th Street</td>\n",
       "      <td>NaN</td>\n",
       "      <td>NaN</td>\n",
       "      <td>NaN</td>\n",
       "      <td>NaN</td>\n",
       "      <td>NaN</td>\n",
       "      <td>NaN</td>\n",
       "      <td>NaN</td>\n",
       "      <td>(Carlisle Place, Northbrook Park, Spartanburg ...</td>\n",
       "      <td>(35.05312485, -81.9415698018005)</td>\n",
       "      <td>None</td>\n",
       "    </tr>\n",
       "    <tr>\n",
       "      <th>7</th>\n",
       "      <td>B535</td>\n",
       "      <td>B</td>\n",
       "      <td>B05</td>\n",
       "      <td>42.0</td>\n",
       "      <td>400 Montauk Avenue Block Association. (Ismael ...</td>\n",
       "      <td>New Lots Avenue</td>\n",
       "      <td>0.091</td>\n",
       "      <td>DPR</td>\n",
       "      <td>East New York</td>\n",
       "      <td>Active</td>\n",
       "      <td>NaN</td>\n",
       "      <td>NaN</td>\n",
       "      <td>NaN</td>\n",
       "      <td>NaN</td>\n",
       "      <td>NaN</td>\n",
       "      <td>NaN</td>\n",
       "      <td>NaN</td>\n",
       "      <td>(New Lots Avenue, Van Sinderen Avenue, Brownsv...</td>\n",
       "      <td>(40.6589611, -73.8992787)</td>\n",
       "      <td>None</td>\n",
       "    </tr>\n",
       "    <tr>\n",
       "      <th>10</th>\n",
       "      <td>NaN</td>\n",
       "      <td>B</td>\n",
       "      <td>B07</td>\n",
       "      <td>0.0</td>\n",
       "      <td>64th Street Community Garden</td>\n",
       "      <td>64th Street</td>\n",
       "      <td>NaN</td>\n",
       "      <td>DOT</td>\n",
       "      <td>Sunset Park</td>\n",
       "      <td>West of 4th Avenue</td>\n",
       "      <td>NaN</td>\n",
       "      <td>NaN</td>\n",
       "      <td>NaN</td>\n",
       "      <td>NaN</td>\n",
       "      <td>NaN</td>\n",
       "      <td>NaN</td>\n",
       "      <td>NaN</td>\n",
       "      <td>(64th Street, uMngeni Ward 8, uMgeni Local Mun...</td>\n",
       "      <td>(-29.5704293, 30.1872218)</td>\n",
       "      <td>None</td>\n",
       "    </tr>\n",
       "    <tr>\n",
       "      <th>17</th>\n",
       "      <td>B507</td>\n",
       "      <td>B</td>\n",
       "      <td>B03</td>\n",
       "      <td>41.0</td>\n",
       "      <td>A Better Community Garden</td>\n",
       "      <td>762-764 Herkimer Place/13-21 Hunterfly</td>\n",
       "      <td>0.044</td>\n",
       "      <td>DPR</td>\n",
       "      <td>Bed-Stuy</td>\n",
       "      <td>Active</td>\n",
       "      <td>NaN</td>\n",
       "      <td>NaN</td>\n",
       "      <td>NaN</td>\n",
       "      <td>NaN</td>\n",
       "      <td>NaN</td>\n",
       "      <td>NaN</td>\n",
       "      <td>NaN</td>\n",
       "      <td>None</td>\n",
       "      <td>None</td>\n",
       "      <td>None</td>\n",
       "    </tr>\n",
       "  </tbody>\n",
       "</table>\n",
       "</div>"
      ],
      "text/plain": [
       "   PropID Boro Community Board  Council District  \\\n",
       "1     NaN    B             B08              36.0   \n",
       "5     NaN    X             X12              15.0   \n",
       "7    B535    B             B05              42.0   \n",
       "10    NaN    B             B07               0.0   \n",
       "17   B507    B             B03              41.0   \n",
       "\n",
       "                                          Garden Name  \\\n",
       "1                 1100 Bergen Street Community Garden   \n",
       "5                     211th Street Block Association.   \n",
       "7   400 Montauk Avenue Block Association. (Ismael ...   \n",
       "10                       64th Street Community Garden   \n",
       "17                          A Better Community Garden   \n",
       "\n",
       "                                   Address   Size Jurisdiction  \\\n",
       "1                1101 & 1105 Bergen Street  0.207          PRI   \n",
       "5                           Carlisle Place  0.182         NYRP   \n",
       "7                          New Lots Avenue  0.091          DPR   \n",
       "10                             64th Street    NaN          DOT   \n",
       "17  762-764 Herkimer Place/13-21 Hunterfly  0.044          DPR   \n",
       "\n",
       "   NeighborhoodName                Cross Streets  Latitude  Longitude  \\\n",
       "1     Crown Heights  Nostrand & New York Avenues       NaN        NaN   \n",
       "5               NaN           At E. 211th Street       NaN        NaN   \n",
       "7     East New York                       Active       NaN        NaN   \n",
       "10      Sunset Park           West of 4th Avenue       NaN        NaN   \n",
       "17         Bed-Stuy                       Active       NaN        NaN   \n",
       "\n",
       "   Postcode  Census Tract  BIN  BBL  NTA  \\\n",
       "1       NaN           NaN  NaN  NaN  NaN   \n",
       "5       NaN           NaN  NaN  NaN  NaN   \n",
       "7       NaN           NaN  NaN  NaN  NaN   \n",
       "10      NaN           NaN  NaN  NaN  NaN   \n",
       "17      NaN           NaN  NaN  NaN  NaN   \n",
       "\n",
       "                                              geo_obj  \\\n",
       "1   (1101, Bergen Street, Newark, Essex County, Ne...   \n",
       "5   (Carlisle Place, Northbrook Park, Spartanburg ...   \n",
       "7   (New Lots Avenue, Van Sinderen Avenue, Brownsv...   \n",
       "10  (64th Street, uMngeni Ward 8, uMgeni Local Mun...   \n",
       "17                                               None   \n",
       "\n",
       "                               point  \\\n",
       "1            (40.706084, -74.210105)   \n",
       "5   (35.05312485, -81.9415698018005)   \n",
       "7          (40.6589611, -73.8992787)   \n",
       "10         (-29.5704293, 30.1872218)   \n",
       "17                              None   \n",
       "\n",
       "                                             location  \n",
       "1   (1100 Bergen Street Community Garden, Bergen S...  \n",
       "5                                                None  \n",
       "7                                                None  \n",
       "10                                               None  \n",
       "17                                               None  "
      ]
     },
     "execution_count": 77,
     "metadata": {},
     "output_type": "execute_result"
    }
   ],
   "source": [
    "# extract lat, long\n",
    "gardens_geocode['point'] = gardens_geocode['geo_obj'].apply(lambda loc: tuple(loc.point[:2]) if loc else None)\n",
    "gardens_geocode.head()"
   ]
  },
  {
   "cell_type": "code",
   "execution_count": 81,
   "metadata": {},
   "outputs": [
    {
     "data": {
      "text/plain": [
       "(43, 20)"
      ]
     },
     "execution_count": 81,
     "metadata": {},
     "output_type": "execute_result"
    }
   ],
   "source": [
    "unsuccessful_gardens = gardens_geocode[gardens_geocode.point.isnull()]\n",
    "unsuccessful_gardens.shape\n",
    "# 43 gardens whose addresses couldn't be geocoded"
   ]
  },
  {
   "cell_type": "code",
   "execution_count": 82,
   "metadata": {},
   "outputs": [
    {
     "name": "stderr",
     "output_type": "stream",
     "text": [
      "/usr/local/Cellar/python3/3.6.2/Frameworks/Python.framework/Versions/3.6/lib/python3.6/site-packages/ipykernel_launcher.py:1: SettingWithCopyWarning: \n",
      "A value is trying to be set on a copy of a slice from a DataFrame\n",
      "\n",
      "See the caveats in the documentation: http://pandas.pydata.org/pandas-docs/stable/indexing.html#indexing-view-versus-copy\n",
      "  \"\"\"Entry point for launching an IPython kernel.\n"
     ]
    },
    {
     "data": {
      "text/plain": [
       "(61, 20)"
      ]
     },
     "execution_count": 82,
     "metadata": {},
     "output_type": "execute_result"
    }
   ],
   "source": [
    "gardens_geocode.dropna(subset=['point'], inplace=True)\n",
    "gardens_geocode.shape"
   ]
  },
  {
   "cell_type": "code",
   "execution_count": 92,
   "metadata": {},
   "outputs": [
    {
     "name": "stderr",
     "output_type": "stream",
     "text": [
      "/usr/local/Cellar/python3/3.6.2/Frameworks/Python.framework/Versions/3.6/lib/python3.6/site-packages/ipykernel_launcher.py:6: SettingWithCopyWarning: \n",
      "A value is trying to be set on a copy of a slice from a DataFrame.\n",
      "Try using .loc[row_indexer,col_indexer] = value instead\n",
      "\n",
      "See the caveats in the documentation: http://pandas.pydata.org/pandas-docs/stable/indexing.html#indexing-view-versus-copy\n",
      "  \n"
     ]
    },
    {
     "data": {
      "text/html": [
       "<div>\n",
       "<style scoped>\n",
       "    .dataframe tbody tr th:only-of-type {\n",
       "        vertical-align: middle;\n",
       "    }\n",
       "\n",
       "    .dataframe tbody tr th {\n",
       "        vertical-align: top;\n",
       "    }\n",
       "\n",
       "    .dataframe thead th {\n",
       "        text-align: right;\n",
       "    }\n",
       "</style>\n",
       "<table border=\"1\" class=\"dataframe\">\n",
       "  <thead>\n",
       "    <tr style=\"text-align: right;\">\n",
       "      <th></th>\n",
       "      <th>PropID</th>\n",
       "      <th>Boro</th>\n",
       "      <th>Community Board</th>\n",
       "      <th>Council District</th>\n",
       "      <th>Garden Name</th>\n",
       "      <th>Address</th>\n",
       "      <th>Size</th>\n",
       "      <th>Jurisdiction</th>\n",
       "      <th>NeighborhoodName</th>\n",
       "      <th>Cross Streets</th>\n",
       "      <th>...</th>\n",
       "      <th>Longitude</th>\n",
       "      <th>Postcode</th>\n",
       "      <th>Census Tract</th>\n",
       "      <th>BIN</th>\n",
       "      <th>BBL</th>\n",
       "      <th>NTA</th>\n",
       "      <th>geo_obj</th>\n",
       "      <th>point</th>\n",
       "      <th>location</th>\n",
       "      <th>geometry</th>\n",
       "    </tr>\n",
       "  </thead>\n",
       "  <tbody>\n",
       "    <tr>\n",
       "      <th>1</th>\n",
       "      <td>NaN</td>\n",
       "      <td>B</td>\n",
       "      <td>B08</td>\n",
       "      <td>36.0</td>\n",
       "      <td>1100 Bergen Street Community Garden</td>\n",
       "      <td>1101 &amp; 1105 Bergen Street</td>\n",
       "      <td>0.207</td>\n",
       "      <td>PRI</td>\n",
       "      <td>Crown Heights</td>\n",
       "      <td>Nostrand &amp; New York Avenues</td>\n",
       "      <td>...</td>\n",
       "      <td>NaN</td>\n",
       "      <td>NaN</td>\n",
       "      <td>NaN</td>\n",
       "      <td>NaN</td>\n",
       "      <td>NaN</td>\n",
       "      <td>NaN</td>\n",
       "      <td>(1101, Bergen Street, Newark, Essex County, Ne...</td>\n",
       "      <td>(40.706084, -74.210105)</td>\n",
       "      <td>(1100 Bergen Street Community Garden, Bergen S...</td>\n",
       "      <td>POINT (40.706084 -74.210105)</td>\n",
       "    </tr>\n",
       "    <tr>\n",
       "      <th>5</th>\n",
       "      <td>NaN</td>\n",
       "      <td>X</td>\n",
       "      <td>X12</td>\n",
       "      <td>15.0</td>\n",
       "      <td>211th Street Block Association.</td>\n",
       "      <td>Carlisle Place</td>\n",
       "      <td>0.182</td>\n",
       "      <td>NYRP</td>\n",
       "      <td>NaN</td>\n",
       "      <td>At E. 211th Street</td>\n",
       "      <td>...</td>\n",
       "      <td>NaN</td>\n",
       "      <td>NaN</td>\n",
       "      <td>NaN</td>\n",
       "      <td>NaN</td>\n",
       "      <td>NaN</td>\n",
       "      <td>NaN</td>\n",
       "      <td>(Carlisle Place, Northbrook Park, Spartanburg ...</td>\n",
       "      <td>(35.05312485, -81.9415698018005)</td>\n",
       "      <td>None</td>\n",
       "      <td>POINT (35.05312485 -81.9415698018005)</td>\n",
       "    </tr>\n",
       "    <tr>\n",
       "      <th>7</th>\n",
       "      <td>B535</td>\n",
       "      <td>B</td>\n",
       "      <td>B05</td>\n",
       "      <td>42.0</td>\n",
       "      <td>400 Montauk Avenue Block Association. (Ismael ...</td>\n",
       "      <td>New Lots Avenue</td>\n",
       "      <td>0.091</td>\n",
       "      <td>DPR</td>\n",
       "      <td>East New York</td>\n",
       "      <td>Active</td>\n",
       "      <td>...</td>\n",
       "      <td>NaN</td>\n",
       "      <td>NaN</td>\n",
       "      <td>NaN</td>\n",
       "      <td>NaN</td>\n",
       "      <td>NaN</td>\n",
       "      <td>NaN</td>\n",
       "      <td>(New Lots Avenue, Van Sinderen Avenue, Brownsv...</td>\n",
       "      <td>(40.6589611, -73.8992787)</td>\n",
       "      <td>None</td>\n",
       "      <td>POINT (40.6589611 -73.8992787)</td>\n",
       "    </tr>\n",
       "    <tr>\n",
       "      <th>10</th>\n",
       "      <td>NaN</td>\n",
       "      <td>B</td>\n",
       "      <td>B07</td>\n",
       "      <td>0.0</td>\n",
       "      <td>64th Street Community Garden</td>\n",
       "      <td>64th Street</td>\n",
       "      <td>NaN</td>\n",
       "      <td>DOT</td>\n",
       "      <td>Sunset Park</td>\n",
       "      <td>West of 4th Avenue</td>\n",
       "      <td>...</td>\n",
       "      <td>NaN</td>\n",
       "      <td>NaN</td>\n",
       "      <td>NaN</td>\n",
       "      <td>NaN</td>\n",
       "      <td>NaN</td>\n",
       "      <td>NaN</td>\n",
       "      <td>(64th Street, uMngeni Ward 8, uMgeni Local Mun...</td>\n",
       "      <td>(-29.5704293, 30.1872218)</td>\n",
       "      <td>None</td>\n",
       "      <td>POINT (-29.5704293 30.1872218)</td>\n",
       "    </tr>\n",
       "    <tr>\n",
       "      <th>19</th>\n",
       "      <td>NaN</td>\n",
       "      <td>B</td>\n",
       "      <td>B04</td>\n",
       "      <td>37.0</td>\n",
       "      <td>Aberdeen Street II Garden Projects</td>\n",
       "      <td>Aberdeen Street</td>\n",
       "      <td>0.253</td>\n",
       "      <td>NYRP</td>\n",
       "      <td>NaN</td>\n",
       "      <td>NaN</td>\n",
       "      <td>...</td>\n",
       "      <td>NaN</td>\n",
       "      <td>NaN</td>\n",
       "      <td>NaN</td>\n",
       "      <td>NaN</td>\n",
       "      <td>NaN</td>\n",
       "      <td>NaN</td>\n",
       "      <td>(Aberdeen Street, Lee Gardens, Overland Park, ...</td>\n",
       "      <td>(38.952041, -94.621602)</td>\n",
       "      <td>None</td>\n",
       "      <td>POINT (38.952041 -94.621602)</td>\n",
       "    </tr>\n",
       "  </tbody>\n",
       "</table>\n",
       "<p>5 rows × 21 columns</p>\n",
       "</div>"
      ],
      "text/plain": [
       "   PropID Boro Community Board  Council District  \\\n",
       "1     NaN    B             B08              36.0   \n",
       "5     NaN    X             X12              15.0   \n",
       "7    B535    B             B05              42.0   \n",
       "10    NaN    B             B07               0.0   \n",
       "19    NaN    B             B04              37.0   \n",
       "\n",
       "                                          Garden Name  \\\n",
       "1                 1100 Bergen Street Community Garden   \n",
       "5                     211th Street Block Association.   \n",
       "7   400 Montauk Avenue Block Association. (Ismael ...   \n",
       "10                       64th Street Community Garden   \n",
       "19                 Aberdeen Street II Garden Projects   \n",
       "\n",
       "                      Address   Size Jurisdiction NeighborhoodName  \\\n",
       "1   1101 & 1105 Bergen Street  0.207          PRI    Crown Heights   \n",
       "5              Carlisle Place  0.182         NYRP              NaN   \n",
       "7             New Lots Avenue  0.091          DPR    East New York   \n",
       "10                64th Street    NaN          DOT      Sunset Park   \n",
       "19            Aberdeen Street  0.253         NYRP              NaN   \n",
       "\n",
       "                  Cross Streets                  ...                    \\\n",
       "1   Nostrand & New York Avenues                  ...                     \n",
       "5            At E. 211th Street                  ...                     \n",
       "7                        Active                  ...                     \n",
       "10           West of 4th Avenue                  ...                     \n",
       "19                          NaN                  ...                     \n",
       "\n",
       "    Longitude  Postcode Census Tract  BIN  BBL  NTA  \\\n",
       "1         NaN       NaN          NaN  NaN  NaN  NaN   \n",
       "5         NaN       NaN          NaN  NaN  NaN  NaN   \n",
       "7         NaN       NaN          NaN  NaN  NaN  NaN   \n",
       "10        NaN       NaN          NaN  NaN  NaN  NaN   \n",
       "19        NaN       NaN          NaN  NaN  NaN  NaN   \n",
       "\n",
       "                                              geo_obj  \\\n",
       "1   (1101, Bergen Street, Newark, Essex County, Ne...   \n",
       "5   (Carlisle Place, Northbrook Park, Spartanburg ...   \n",
       "7   (New Lots Avenue, Van Sinderen Avenue, Brownsv...   \n",
       "10  (64th Street, uMngeni Ward 8, uMgeni Local Mun...   \n",
       "19  (Aberdeen Street, Lee Gardens, Overland Park, ...   \n",
       "\n",
       "                               point  \\\n",
       "1            (40.706084, -74.210105)   \n",
       "5   (35.05312485, -81.9415698018005)   \n",
       "7          (40.6589611, -73.8992787)   \n",
       "10         (-29.5704293, 30.1872218)   \n",
       "19           (38.952041, -94.621602)   \n",
       "\n",
       "                                             location  \\\n",
       "1   (1100 Bergen Street Community Garden, Bergen S...   \n",
       "5                                                None   \n",
       "7                                                None   \n",
       "10                                               None   \n",
       "19                                               None   \n",
       "\n",
       "                                 geometry  \n",
       "1            POINT (40.706084 -74.210105)  \n",
       "5   POINT (35.05312485 -81.9415698018005)  \n",
       "7          POINT (40.6589611 -73.8992787)  \n",
       "10         POINT (-29.5704293 30.1872218)  \n",
       "19           POINT (38.952041 -94.621602)  \n",
       "\n",
       "[5 rows x 21 columns]"
      ]
     },
     "execution_count": 92,
     "metadata": {},
     "output_type": "execute_result"
    }
   ],
   "source": [
    "# spatial join w nta\n",
    "# first, convert to dataframe\n",
    "from shapely.geometry import Point\n",
    "import geopandas as gpd\n",
    "\n",
    "gardens_geocode['geometry'] = gardens_geocode.point.apply(Point)\n",
    "gardens_geocode_gdf = gpd.GeoDataFrame(gardens_geocode, geometry='geometry')\n",
    "gardens_geocode_gdf.head()\n",
    "\n",
    "\n",
    "# set projection for gardens to a compatible one\n",
    "# gardens_geocode_gdf.crs = nta.crs"
   ]
  }
 ],
 "metadata": {
  "kernelspec": {
   "display_name": "Python 3",
   "language": "python",
   "name": "python3"
  },
  "language_info": {
   "codemirror_mode": {
    "name": "ipython",
    "version": 3
   },
   "file_extension": ".py",
   "mimetype": "text/x-python",
   "name": "python",
   "nbconvert_exporter": "python",
   "pygments_lexer": "ipython3",
   "version": "3.6.2"
  }
 },
 "nbformat": 4,
 "nbformat_minor": 2
}
