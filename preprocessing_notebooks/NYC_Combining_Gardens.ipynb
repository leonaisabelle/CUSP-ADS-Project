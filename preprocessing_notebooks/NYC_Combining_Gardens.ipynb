{
 "cells": [
  {
   "cell_type": "code",
   "execution_count": 1,
   "metadata": {},
   "outputs": [],
   "source": [
    "import pandas as pd"
   ]
  },
  {
   "cell_type": "code",
   "execution_count": 2,
   "metadata": {},
   "outputs": [],
   "source": [
    "# TODO: make a combined dataset for NYRP and NYC greenthumb"
   ]
  },
  {
   "cell_type": "code",
   "execution_count": 2,
   "metadata": {},
   "outputs": [
    {
     "data": {
      "text/html": [
       "<div>\n",
       "<style scoped>\n",
       "    .dataframe tbody tr th:only-of-type {\n",
       "        vertical-align: middle;\n",
       "    }\n",
       "\n",
       "    .dataframe tbody tr th {\n",
       "        vertical-align: top;\n",
       "    }\n",
       "\n",
       "    .dataframe thead th {\n",
       "        text-align: right;\n",
       "    }\n",
       "</style>\n",
       "<table border=\"1\" class=\"dataframe\">\n",
       "  <thead>\n",
       "    <tr style=\"text-align: right;\">\n",
       "      <th></th>\n",
       "      <th>PropID</th>\n",
       "      <th>Boro</th>\n",
       "      <th>Community Board</th>\n",
       "      <th>Council District</th>\n",
       "      <th>Garden Name</th>\n",
       "      <th>Address</th>\n",
       "      <th>Size</th>\n",
       "      <th>Jurisdiction</th>\n",
       "      <th>NeighborhoodName</th>\n",
       "      <th>Cross Streets</th>\n",
       "      <th>Latitude</th>\n",
       "      <th>Longitude</th>\n",
       "      <th>Postcode</th>\n",
       "      <th>Census Tract</th>\n",
       "      <th>BIN</th>\n",
       "      <th>BBL</th>\n",
       "      <th>NTA</th>\n",
       "    </tr>\n",
       "  </thead>\n",
       "  <tbody>\n",
       "    <tr>\n",
       "      <th>0</th>\n",
       "      <td>NaN</td>\n",
       "      <td>M</td>\n",
       "      <td>M03</td>\n",
       "      <td>2.0</td>\n",
       "      <td>11 BC Serenity Garden</td>\n",
       "      <td>626 East 11th Street</td>\n",
       "      <td>0.054</td>\n",
       "      <td>DPR</td>\n",
       "      <td>East Village</td>\n",
       "      <td>Avenues B &amp; C</td>\n",
       "      <td>40.727124</td>\n",
       "      <td>-73.978677</td>\n",
       "      <td>10009</td>\n",
       "      <td>28.0</td>\n",
       "      <td>1000000</td>\n",
       "      <td>1003930020</td>\n",
       "      <td>Lower East Side                               ...</td>\n",
       "    </tr>\n",
       "    <tr>\n",
       "      <th>1</th>\n",
       "      <td>NaN</td>\n",
       "      <td>B</td>\n",
       "      <td>B08</td>\n",
       "      <td>36.0</td>\n",
       "      <td>1100 Bergen Street Community Garden</td>\n",
       "      <td>1101 &amp; 1105 Bergen Street</td>\n",
       "      <td>0.207</td>\n",
       "      <td>PRI</td>\n",
       "      <td>Crown Heights</td>\n",
       "      <td>Nostrand &amp; New York Avenues</td>\n",
       "      <td>NaN</td>\n",
       "      <td>NaN</td>\n",
       "      <td>NaN</td>\n",
       "      <td>NaN</td>\n",
       "      <td>NaN</td>\n",
       "      <td>NaN</td>\n",
       "      <td>NaN</td>\n",
       "    </tr>\n",
       "  </tbody>\n",
       "</table>\n",
       "</div>"
      ],
      "text/plain": [
       "  PropID Boro Community Board  Council District  \\\n",
       "0    NaN    M             M03               2.0   \n",
       "1    NaN    B             B08              36.0   \n",
       "\n",
       "                           Garden Name                    Address   Size  \\\n",
       "0                11 BC Serenity Garden       626 East 11th Street  0.054   \n",
       "1  1100 Bergen Street Community Garden  1101 & 1105 Bergen Street  0.207   \n",
       "\n",
       "  Jurisdiction NeighborhoodName                Cross Streets   Latitude  \\\n",
       "0          DPR     East Village                Avenues B & C  40.727124   \n",
       "1          PRI    Crown Heights  Nostrand & New York Avenues        NaN   \n",
       "\n",
       "   Longitude Postcode  Census Tract      BIN         BBL  \\\n",
       "0 -73.978677    10009          28.0  1000000  1003930020   \n",
       "1        NaN      NaN           NaN      NaN         NaN   \n",
       "\n",
       "                                                 NTA  \n",
       "0  Lower East Side                               ...  \n",
       "1                                                NaN  "
      ]
     },
     "execution_count": 2,
     "metadata": {},
     "output_type": "execute_result"
    }
   ],
   "source": [
    "greenthumb = pd.read_csv('../data/NYC_Greenthumb_Community_Gardens.csv')\n",
    "greenthumb.head(2)\n",
    "\n",
    "# good to know that the dataset already has NTA name and borough"
   ]
  },
  {
   "cell_type": "markdown",
   "metadata": {},
   "source": [
    "Data cleaning 1: remove whitespace in NTA column"
   ]
  },
  {
   "cell_type": "code",
   "execution_count": 4,
   "metadata": {},
   "outputs": [
    {
     "data": {
      "text/plain": [
       "array(['Lower East Side                                                            ',\n",
       "       nan,\n",
       "       'East Harlem South                                                          ',\n",
       "       'East Harlem North                                                          ',\n",
       "       'East Village                                                               '],\n",
       "      dtype=object)"
      ]
     },
     "execution_count": 4,
     "metadata": {},
     "output_type": "execute_result"
    }
   ],
   "source": [
    "# before cleaning, tons of whitespace in name\n",
    "greenthumb.NTA.unique()[:5]"
   ]
  },
  {
   "cell_type": "code",
   "execution_count": 5,
   "metadata": {},
   "outputs": [
    {
     "data": {
      "text/plain": [
       "array(['Lower East Side', nan, 'East Harlem South', 'East Harlem North',\n",
       "       'East Village'], dtype=object)"
      ]
     },
     "execution_count": 5,
     "metadata": {},
     "output_type": "execute_result"
    }
   ],
   "source": [
    "# remove trailing whitespace in NTA names\n",
    "greenthumb['NTA'] = greenthumb.NTA.str.strip() \n",
    "greenthumb.NTA.unique()[:5] "
   ]
  },
  {
   "cell_type": "markdown",
   "metadata": {},
   "source": [
    "Data cleaning 2: replace boro column with actual names"
   ]
  },
  {
   "cell_type": "code",
   "execution_count": 7,
   "metadata": {},
   "outputs": [
    {
     "data": {
      "text/plain": [
       "array(['M', 'B', 'X', 'Q', 'R'], dtype=object)"
      ]
     },
     "execution_count": 7,
     "metadata": {},
     "output_type": "execute_result"
    }
   ],
   "source": [
    "# before cleaning, just initials\n",
    "greenthumb.Boro.unique()"
   ]
  },
  {
   "cell_type": "code",
   "execution_count": 8,
   "metadata": {},
   "outputs": [
    {
     "data": {
      "text/html": [
       "<div>\n",
       "<style scoped>\n",
       "    .dataframe tbody tr th:only-of-type {\n",
       "        vertical-align: middle;\n",
       "    }\n",
       "\n",
       "    .dataframe tbody tr th {\n",
       "        vertical-align: top;\n",
       "    }\n",
       "\n",
       "    .dataframe thead th {\n",
       "        text-align: right;\n",
       "    }\n",
       "</style>\n",
       "<table border=\"1\" class=\"dataframe\">\n",
       "  <thead>\n",
       "    <tr style=\"text-align: right;\">\n",
       "      <th></th>\n",
       "      <th>PropID</th>\n",
       "      <th>Boro</th>\n",
       "      <th>Community Board</th>\n",
       "      <th>Council District</th>\n",
       "      <th>Garden Name</th>\n",
       "      <th>Address</th>\n",
       "      <th>Size</th>\n",
       "      <th>Jurisdiction</th>\n",
       "      <th>NeighborhoodName</th>\n",
       "      <th>Cross Streets</th>\n",
       "      <th>Latitude</th>\n",
       "      <th>Longitude</th>\n",
       "      <th>Postcode</th>\n",
       "      <th>Census Tract</th>\n",
       "      <th>BIN</th>\n",
       "      <th>BBL</th>\n",
       "      <th>NTA</th>\n",
       "    </tr>\n",
       "  </thead>\n",
       "  <tbody>\n",
       "    <tr>\n",
       "      <th>0</th>\n",
       "      <td>NaN</td>\n",
       "      <td>Manhattan</td>\n",
       "      <td>M03</td>\n",
       "      <td>2.0</td>\n",
       "      <td>11 BC Serenity Garden</td>\n",
       "      <td>626 East 11th Street</td>\n",
       "      <td>0.054</td>\n",
       "      <td>DPR</td>\n",
       "      <td>East Village</td>\n",
       "      <td>Avenues B &amp; C</td>\n",
       "      <td>40.727124</td>\n",
       "      <td>-73.978677</td>\n",
       "      <td>10009</td>\n",
       "      <td>28.0</td>\n",
       "      <td>1000000</td>\n",
       "      <td>1003930020</td>\n",
       "      <td>Lower East Side</td>\n",
       "    </tr>\n",
       "    <tr>\n",
       "      <th>1</th>\n",
       "      <td>NaN</td>\n",
       "      <td>Brooklyn</td>\n",
       "      <td>B08</td>\n",
       "      <td>36.0</td>\n",
       "      <td>1100 Bergen Street Community Garden</td>\n",
       "      <td>1101 &amp; 1105 Bergen Street</td>\n",
       "      <td>0.207</td>\n",
       "      <td>PRI</td>\n",
       "      <td>Crown Heights</td>\n",
       "      <td>Nostrand &amp; New York Avenues</td>\n",
       "      <td>NaN</td>\n",
       "      <td>NaN</td>\n",
       "      <td>NaN</td>\n",
       "      <td>NaN</td>\n",
       "      <td>NaN</td>\n",
       "      <td>NaN</td>\n",
       "      <td>NaN</td>\n",
       "    </tr>\n",
       "  </tbody>\n",
       "</table>\n",
       "</div>"
      ],
      "text/plain": [
       "  PropID       Boro Community Board  Council District  \\\n",
       "0    NaN  Manhattan             M03               2.0   \n",
       "1    NaN   Brooklyn             B08              36.0   \n",
       "\n",
       "                           Garden Name                    Address   Size  \\\n",
       "0                11 BC Serenity Garden       626 East 11th Street  0.054   \n",
       "1  1100 Bergen Street Community Garden  1101 & 1105 Bergen Street  0.207   \n",
       "\n",
       "  Jurisdiction NeighborhoodName                Cross Streets   Latitude  \\\n",
       "0          DPR     East Village                Avenues B & C  40.727124   \n",
       "1          PRI    Crown Heights  Nostrand & New York Avenues        NaN   \n",
       "\n",
       "   Longitude Postcode  Census Tract      BIN         BBL              NTA  \n",
       "0 -73.978677    10009          28.0  1000000  1003930020  Lower East Side  \n",
       "1        NaN      NaN           NaN      NaN         NaN              NaN  "
      ]
     },
     "execution_count": 8,
     "metadata": {},
     "output_type": "execute_result"
    }
   ],
   "source": [
    "# replace boro initial with actual borough name\n",
    "boroughs = {\n",
    "    'M': 'Manhattan', \n",
    "    'B': 'Brooklyn',\n",
    "    'Q': 'Queens',\n",
    "    'X': 'Bronx',\n",
    "    'R': 'Staten Island'\n",
    "}\n",
    "\n",
    "greenthumb['Boro'].replace(boroughs, inplace=True)\n",
    "greenthumb.head(2)"
   ]
  },
  {
   "cell_type": "markdown",
   "metadata": {},
   "source": [
    "Data cleaning 3: check if NTA column in this dataset is an accurate subset of NTA dataset"
   ]
  },
  {
   "cell_type": "code",
   "execution_count": 9,
   "metadata": {},
   "outputs": [
    {
     "data": {
      "text/html": [
       "<div>\n",
       "<style scoped>\n",
       "    .dataframe tbody tr th:only-of-type {\n",
       "        vertical-align: middle;\n",
       "    }\n",
       "\n",
       "    .dataframe tbody tr th {\n",
       "        vertical-align: top;\n",
       "    }\n",
       "\n",
       "    .dataframe thead th {\n",
       "        text-align: right;\n",
       "    }\n",
       "</style>\n",
       "<table border=\"1\" class=\"dataframe\">\n",
       "  <thead>\n",
       "    <tr style=\"text-align: right;\">\n",
       "      <th></th>\n",
       "      <th>ntacode</th>\n",
       "      <th>shape_area</th>\n",
       "      <th>county_fips</th>\n",
       "      <th>ntaname</th>\n",
       "      <th>shape_leng</th>\n",
       "      <th>boro_name</th>\n",
       "      <th>boro_code</th>\n",
       "      <th>geometry</th>\n",
       "    </tr>\n",
       "  </thead>\n",
       "  <tbody>\n",
       "    <tr>\n",
       "      <th>0</th>\n",
       "      <td>BK88</td>\n",
       "      <td>54005018.7472</td>\n",
       "      <td>047</td>\n",
       "      <td>Borough Park</td>\n",
       "      <td>39247.2280737</td>\n",
       "      <td>Brooklyn</td>\n",
       "      <td>3</td>\n",
       "      <td>(POLYGON ((-73.97604935657381 40.6312759056467...</td>\n",
       "    </tr>\n",
       "    <tr>\n",
       "      <th>1</th>\n",
       "      <td>QN51</td>\n",
       "      <td>52488276.477</td>\n",
       "      <td>081</td>\n",
       "      <td>Murray Hill</td>\n",
       "      <td>33266.904811</td>\n",
       "      <td>Queens</td>\n",
       "      <td>4</td>\n",
       "      <td>(POLYGON ((-73.80379022888246 40.7756101117924...</td>\n",
       "    </tr>\n",
       "  </tbody>\n",
       "</table>\n",
       "</div>"
      ],
      "text/plain": [
       "  ntacode     shape_area county_fips       ntaname     shape_leng boro_name  \\\n",
       "0    BK88  54005018.7472         047  Borough Park  39247.2280737  Brooklyn   \n",
       "1    QN51   52488276.477         081   Murray Hill   33266.904811    Queens   \n",
       "\n",
       "  boro_code                                           geometry  \n",
       "0         3  (POLYGON ((-73.97604935657381 40.6312759056467...  \n",
       "1         4  (POLYGON ((-73.80379022888246 40.7756101117924...  "
      ]
     },
     "execution_count": 9,
     "metadata": {},
     "output_type": "execute_result"
    }
   ],
   "source": [
    "import geopandas as gpd\n",
    "nta = gpd.read_file('../data/Neighborhood Tabulation Areas.geojson')\n",
    "nta.head(2)"
   ]
  },
  {
   "cell_type": "code",
   "execution_count": 10,
   "metadata": {},
   "outputs": [
    {
     "data": {
      "text/plain": [
       "array(['Borough Park', 'Murray Hill', 'East Elmhurst', 'Hollis',\n",
       "       'Manhattanville'], dtype=object)"
      ]
     },
     "execution_count": 10,
     "metadata": {},
     "output_type": "execute_result"
    }
   ],
   "source": [
    "nta.ntaname.unique()[:5] # check first 5 elements, no whitespace"
   ]
  },
  {
   "cell_type": "code",
   "execution_count": 12,
   "metadata": {},
   "outputs": [
    {
     "data": {
      "text/plain": [
       "False"
      ]
     },
     "execution_count": 12,
     "metadata": {},
     "output_type": "execute_result"
    }
   ],
   "source": [
    "# not all NTAs in the community gardens dataset is inside the NTA dataset\n",
    "garden_set = set(greenthumb.NTA.unique())\n",
    "nta_set = set(nta.ntaname.unique())\n",
    "garden_set.issubset(nta_set)"
   ]
  },
  {
   "cell_type": "code",
   "execution_count": 13,
   "metadata": {},
   "outputs": [
    {
     "data": {
      "text/plain": [
       "{'', nan}"
      ]
     },
     "execution_count": 13,
     "metadata": {},
     "output_type": "execute_result"
    }
   ],
   "source": [
    "# find out which NTAs are in gardens but not in NTA...turns out to be relatively trivial\n",
    "garden_set.difference(nta_set)"
   ]
  },
  {
   "cell_type": "code",
   "execution_count": 15,
   "metadata": {},
   "outputs": [
    {
     "name": "stdout",
     "output_type": "stream",
     "text": [
      "107 data records with invalid NTAs\n",
      "that's 20.0% of the dataset\n"
     ]
    }
   ],
   "source": [
    "# check how many records have nta == '' or nan\n",
    "invalid_num = len(greenthumb[greenthumb.NTA == '']) + len(greenthumb[greenthumb.NTA.isnull()])\n",
    "print(f\"{invalid_num} data records with invalid NTAs\")\n",
    "print(f\"that's {round(invalid_num/len(greenthumb), 2)*100}% of the dataset\")"
   ]
  },
  {
   "cell_type": "markdown",
   "metadata": {},
   "source": [
    "Data cleaning 4: fill in missing/null NTA info"
   ]
  },
  {
   "cell_type": "code",
   "execution_count": 16,
   "metadata": {},
   "outputs": [
    {
     "data": {
      "text/plain": [
       "(104, 17)"
      ]
     },
     "execution_count": 16,
     "metadata": {},
     "output_type": "execute_result"
    }
   ],
   "source": [
    "# greenthumb to geocode\n",
    "gt_geocode = greenthumb[(greenthumb.Address.notnull()) & (greenthumb.NTA.isnull())]\n",
    "gt_geocode.shape"
   ]
  },
  {
   "cell_type": "code",
   "execution_count": 18,
   "metadata": {},
   "outputs": [
    {
     "data": {
      "text/html": [
       "<div>\n",
       "<style scoped>\n",
       "    .dataframe tbody tr th:only-of-type {\n",
       "        vertical-align: middle;\n",
       "    }\n",
       "\n",
       "    .dataframe tbody tr th {\n",
       "        vertical-align: top;\n",
       "    }\n",
       "\n",
       "    .dataframe thead th {\n",
       "        text-align: right;\n",
       "    }\n",
       "</style>\n",
       "<table border=\"1\" class=\"dataframe\">\n",
       "  <thead>\n",
       "    <tr style=\"text-align: right;\">\n",
       "      <th></th>\n",
       "      <th>PropID</th>\n",
       "      <th>Boro</th>\n",
       "      <th>Community Board</th>\n",
       "      <th>Council District</th>\n",
       "      <th>Garden Name</th>\n",
       "      <th>Address</th>\n",
       "      <th>Size</th>\n",
       "      <th>Jurisdiction</th>\n",
       "      <th>NeighborhoodName</th>\n",
       "      <th>Cross Streets</th>\n",
       "      <th>Latitude</th>\n",
       "      <th>Longitude</th>\n",
       "      <th>Postcode</th>\n",
       "      <th>Census Tract</th>\n",
       "      <th>BIN</th>\n",
       "      <th>BBL</th>\n",
       "      <th>NTA</th>\n",
       "    </tr>\n",
       "  </thead>\n",
       "  <tbody>\n",
       "    <tr>\n",
       "      <th>1</th>\n",
       "      <td>NaN</td>\n",
       "      <td>Brooklyn</td>\n",
       "      <td>B08</td>\n",
       "      <td>36.0</td>\n",
       "      <td>1100 Bergen Street Community Garden</td>\n",
       "      <td>1101 &amp; 1105 Bergen Street</td>\n",
       "      <td>0.207</td>\n",
       "      <td>PRI</td>\n",
       "      <td>Crown Heights</td>\n",
       "      <td>Nostrand &amp; New York Avenues</td>\n",
       "      <td>NaN</td>\n",
       "      <td>NaN</td>\n",
       "      <td>NaN</td>\n",
       "      <td>NaN</td>\n",
       "      <td>NaN</td>\n",
       "      <td>NaN</td>\n",
       "      <td>NaN</td>\n",
       "    </tr>\n",
       "    <tr>\n",
       "      <th>5</th>\n",
       "      <td>NaN</td>\n",
       "      <td>Bronx</td>\n",
       "      <td>X12</td>\n",
       "      <td>15.0</td>\n",
       "      <td>211th Street Block Association.</td>\n",
       "      <td>Carlisle Place</td>\n",
       "      <td>0.182</td>\n",
       "      <td>NYRP</td>\n",
       "      <td>NaN</td>\n",
       "      <td>At E. 211th Street</td>\n",
       "      <td>NaN</td>\n",
       "      <td>NaN</td>\n",
       "      <td>NaN</td>\n",
       "      <td>NaN</td>\n",
       "      <td>NaN</td>\n",
       "      <td>NaN</td>\n",
       "      <td>NaN</td>\n",
       "    </tr>\n",
       "  </tbody>\n",
       "</table>\n",
       "</div>"
      ],
      "text/plain": [
       "  PropID      Boro Community Board  Council District  \\\n",
       "1    NaN  Brooklyn             B08              36.0   \n",
       "5    NaN     Bronx             X12              15.0   \n",
       "\n",
       "                           Garden Name                    Address   Size  \\\n",
       "1  1100 Bergen Street Community Garden  1101 & 1105 Bergen Street  0.207   \n",
       "5      211th Street Block Association.             Carlisle Place  0.182   \n",
       "\n",
       "  Jurisdiction NeighborhoodName                Cross Streets  Latitude  \\\n",
       "1          PRI    Crown Heights  Nostrand & New York Avenues       NaN   \n",
       "5         NYRP              NaN           At E. 211th Street       NaN   \n",
       "\n",
       "   Longitude Postcode  Census Tract  BIN  BBL  NTA  \n",
       "1        NaN      NaN           NaN  NaN  NaN  NaN  \n",
       "5        NaN      NaN           NaN  NaN  NaN  NaN  "
      ]
     },
     "execution_count": 18,
     "metadata": {},
     "output_type": "execute_result"
    }
   ],
   "source": [
    "gt_geocode.head(2)"
   ]
  },
  {
   "cell_type": "code",
   "execution_count": 20,
   "metadata": {},
   "outputs": [
    {
     "name": "stderr",
     "output_type": "stream",
     "text": [
      "/usr/local/Cellar/python3/3.6.2/Frameworks/Python.framework/Versions/3.6/lib/python3.6/site-packages/ipykernel_launcher.py:1: SettingWithCopyWarning: \n",
      "A value is trying to be set on a copy of a slice from a DataFrame.\n",
      "Try using .loc[row_indexer,col_indexer] = value instead\n",
      "\n",
      "See the caveats in the documentation: http://pandas.pydata.org/pandas-docs/stable/indexing.html#indexing-view-versus-copy\n",
      "  \"\"\"Entry point for launching an IPython kernel.\n"
     ]
    },
    {
     "data": {
      "text/html": [
       "<div>\n",
       "<style scoped>\n",
       "    .dataframe tbody tr th:only-of-type {\n",
       "        vertical-align: middle;\n",
       "    }\n",
       "\n",
       "    .dataframe tbody tr th {\n",
       "        vertical-align: top;\n",
       "    }\n",
       "\n",
       "    .dataframe thead th {\n",
       "        text-align: right;\n",
       "    }\n",
       "</style>\n",
       "<table border=\"1\" class=\"dataframe\">\n",
       "  <thead>\n",
       "    <tr style=\"text-align: right;\">\n",
       "      <th></th>\n",
       "      <th>Boro</th>\n",
       "      <th>Address</th>\n",
       "      <th>Full_Address</th>\n",
       "      <th>NTA</th>\n",
       "    </tr>\n",
       "  </thead>\n",
       "  <tbody>\n",
       "    <tr>\n",
       "      <th>1</th>\n",
       "      <td>Brooklyn</td>\n",
       "      <td>1101 &amp; 1105 Bergen Street</td>\n",
       "      <td>1101 &amp; 1105 Bergen Street, Brooklyn, NY</td>\n",
       "      <td>NaN</td>\n",
       "    </tr>\n",
       "    <tr>\n",
       "      <th>5</th>\n",
       "      <td>Bronx</td>\n",
       "      <td>Carlisle Place</td>\n",
       "      <td>Carlisle Place, Bronx, NY</td>\n",
       "      <td>NaN</td>\n",
       "    </tr>\n",
       "    <tr>\n",
       "      <th>7</th>\n",
       "      <td>Brooklyn</td>\n",
       "      <td>New Lots Avenue</td>\n",
       "      <td>New Lots Avenue, Brooklyn, NY</td>\n",
       "      <td>NaN</td>\n",
       "    </tr>\n",
       "    <tr>\n",
       "      <th>10</th>\n",
       "      <td>Brooklyn</td>\n",
       "      <td>64th Street</td>\n",
       "      <td>64th Street, Brooklyn, NY</td>\n",
       "      <td>NaN</td>\n",
       "    </tr>\n",
       "    <tr>\n",
       "      <th>17</th>\n",
       "      <td>Brooklyn</td>\n",
       "      <td>762-764 Herkimer Place/13-21 Hunterfly</td>\n",
       "      <td>762-764 Herkimer Place/13-21 Hunterfly, Brookl...</td>\n",
       "      <td>NaN</td>\n",
       "    </tr>\n",
       "  </tbody>\n",
       "</table>\n",
       "</div>"
      ],
      "text/plain": [
       "        Boro                                 Address  \\\n",
       "1   Brooklyn               1101 & 1105 Bergen Street   \n",
       "5      Bronx                          Carlisle Place   \n",
       "7   Brooklyn                         New Lots Avenue   \n",
       "10  Brooklyn                             64th Street   \n",
       "17  Brooklyn  762-764 Herkimer Place/13-21 Hunterfly   \n",
       "\n",
       "                                         Full_Address  NTA  \n",
       "1             1101 & 1105 Bergen Street, Brooklyn, NY  NaN  \n",
       "5                           Carlisle Place, Bronx, NY  NaN  \n",
       "7                       New Lots Avenue, Brooklyn, NY  NaN  \n",
       "10                          64th Street, Brooklyn, NY  NaN  \n",
       "17  762-764 Herkimer Place/13-21 Hunterfly, Brookl...  NaN  "
      ]
     },
     "execution_count": 20,
     "metadata": {},
     "output_type": "execute_result"
    }
   ],
   "source": [
    "gt_geocode['Full_Address'] = gt_geocode.Address + \", \" + gt_geocode.Boro + \", NY\"\n",
    "gt_geocode = gt_geocode[['Boro', 'Address', 'Full_Address', 'NTA']]\n",
    "gt_geocode.head()"
   ]
  },
  {
   "cell_type": "code",
   "execution_count": 17,
   "metadata": {},
   "outputs": [],
   "source": [
    "# geocode using Full_Address"
   ]
  },
  {
   "cell_type": "code",
   "execution_count": 21,
   "metadata": {},
   "outputs": [],
   "source": [
    "from geopy.geocoders import Nominatim\n",
    "from geopy.extra.rate_limiter import RateLimiter\n",
    "\n",
    "locator = Nominatim(user_agent=\"myGeocoder\")\n",
    "geocode = RateLimiter(locator.geocode, min_delay_seconds=1) # limit the rate at which i'm making api requests, so i don't get a service timeout error"
   ]
  },
  {
   "cell_type": "code",
   "execution_count": 22,
   "metadata": {
    "scrolled": true
   },
   "outputs": [
    {
     "name": "stderr",
     "output_type": "stream",
     "text": [
      "RateLimiter caught an error, retrying (0/2 tries). Called with (*('Riverside Park/138th Street, Manhattan, NY',), **{}).\n",
      "Traceback (most recent call last):\n",
      "  File \"/usr/local/Cellar/python3/3.6.2/Frameworks/Python.framework/Versions/3.6/lib/python3.6/urllib/request.py\", line 1318, in do_open\n",
      "    encode_chunked=req.has_header('Transfer-encoding'))\n",
      "  File \"/usr/local/Cellar/python3/3.6.2/Frameworks/Python.framework/Versions/3.6/lib/python3.6/http/client.py\", line 1239, in request\n",
      "    self._send_request(method, url, body, headers, encode_chunked)\n",
      "  File \"/usr/local/Cellar/python3/3.6.2/Frameworks/Python.framework/Versions/3.6/lib/python3.6/http/client.py\", line 1285, in _send_request\n",
      "    self.endheaders(body, encode_chunked=encode_chunked)\n",
      "  File \"/usr/local/Cellar/python3/3.6.2/Frameworks/Python.framework/Versions/3.6/lib/python3.6/http/client.py\", line 1234, in endheaders\n",
      "    self._send_output(message_body, encode_chunked=encode_chunked)\n",
      "  File \"/usr/local/Cellar/python3/3.6.2/Frameworks/Python.framework/Versions/3.6/lib/python3.6/http/client.py\", line 1026, in _send_output\n",
      "    self.send(msg)\n",
      "  File \"/usr/local/Cellar/python3/3.6.2/Frameworks/Python.framework/Versions/3.6/lib/python3.6/http/client.py\", line 964, in send\n",
      "    self.connect()\n",
      "  File \"/usr/local/Cellar/python3/3.6.2/Frameworks/Python.framework/Versions/3.6/lib/python3.6/http/client.py\", line 1392, in connect\n",
      "    super().connect()\n",
      "  File \"/usr/local/Cellar/python3/3.6.2/Frameworks/Python.framework/Versions/3.6/lib/python3.6/http/client.py\", line 936, in connect\n",
      "    (self.host,self.port), self.timeout, self.source_address)\n",
      "  File \"/usr/local/Cellar/python3/3.6.2/Frameworks/Python.framework/Versions/3.6/lib/python3.6/socket.py\", line 722, in create_connection\n",
      "    raise err\n",
      "  File \"/usr/local/Cellar/python3/3.6.2/Frameworks/Python.framework/Versions/3.6/lib/python3.6/socket.py\", line 713, in create_connection\n",
      "    sock.connect(sa)\n",
      "socket.timeout: timed out\n",
      "\n",
      "During handling of the above exception, another exception occurred:\n",
      "\n",
      "Traceback (most recent call last):\n",
      "  File \"/usr/local/Cellar/python3/3.6.2/Frameworks/Python.framework/Versions/3.6/lib/python3.6/site-packages/geopy/geocoders/base.py\", line 355, in _call_geocoder\n",
      "    page = requester(req, timeout=timeout, **kwargs)\n",
      "  File \"/usr/local/Cellar/python3/3.6.2/Frameworks/Python.framework/Versions/3.6/lib/python3.6/urllib/request.py\", line 526, in open\n",
      "    response = self._open(req, data)\n",
      "  File \"/usr/local/Cellar/python3/3.6.2/Frameworks/Python.framework/Versions/3.6/lib/python3.6/urllib/request.py\", line 544, in _open\n",
      "    '_open', req)\n",
      "  File \"/usr/local/Cellar/python3/3.6.2/Frameworks/Python.framework/Versions/3.6/lib/python3.6/urllib/request.py\", line 504, in _call_chain\n",
      "    result = func(*args)\n",
      "  File \"/usr/local/Cellar/python3/3.6.2/Frameworks/Python.framework/Versions/3.6/lib/python3.6/urllib/request.py\", line 1361, in https_open\n",
      "    context=self._context, check_hostname=self._check_hostname)\n",
      "  File \"/usr/local/Cellar/python3/3.6.2/Frameworks/Python.framework/Versions/3.6/lib/python3.6/urllib/request.py\", line 1320, in do_open\n",
      "    raise URLError(err)\n",
      "urllib.error.URLError: <urlopen error timed out>\n",
      "\n",
      "During handling of the above exception, another exception occurred:\n",
      "\n",
      "Traceback (most recent call last):\n",
      "  File \"/usr/local/Cellar/python3/3.6.2/Frameworks/Python.framework/Versions/3.6/lib/python3.6/site-packages/geopy/extra/rate_limiter.py\", line 126, in __call__\n",
      "    return self.func(*args, **kwargs)\n",
      "  File \"/usr/local/Cellar/python3/3.6.2/Frameworks/Python.framework/Versions/3.6/lib/python3.6/site-packages/geopy/geocoders/osm.py\", line 387, in geocode\n",
      "    self._call_geocoder(url, timeout=timeout), exactly_one\n",
      "  File \"/usr/local/Cellar/python3/3.6.2/Frameworks/Python.framework/Versions/3.6/lib/python3.6/site-packages/geopy/geocoders/base.py\", line 378, in _call_geocoder\n",
      "    raise GeocoderTimedOut('Service timed out')\n",
      "geopy.exc.GeocoderTimedOut: Service timed out\n"
     ]
    },
    {
     "data": {
      "text/html": [
       "<div>\n",
       "<style scoped>\n",
       "    .dataframe tbody tr th:only-of-type {\n",
       "        vertical-align: middle;\n",
       "    }\n",
       "\n",
       "    .dataframe tbody tr th {\n",
       "        vertical-align: top;\n",
       "    }\n",
       "\n",
       "    .dataframe thead th {\n",
       "        text-align: right;\n",
       "    }\n",
       "</style>\n",
       "<table border=\"1\" class=\"dataframe\">\n",
       "  <thead>\n",
       "    <tr style=\"text-align: right;\">\n",
       "      <th></th>\n",
       "      <th>Boro</th>\n",
       "      <th>Address</th>\n",
       "      <th>Full_Address</th>\n",
       "      <th>NTA</th>\n",
       "      <th>Point</th>\n",
       "    </tr>\n",
       "  </thead>\n",
       "  <tbody>\n",
       "    <tr>\n",
       "      <th>1</th>\n",
       "      <td>Brooklyn</td>\n",
       "      <td>1101 &amp; 1105 Bergen Street</td>\n",
       "      <td>1101 &amp; 1105 Bergen Street, Brooklyn, NY</td>\n",
       "      <td>NaN</td>\n",
       "      <td>(-73.949439375, 40.67615225)</td>\n",
       "    </tr>\n",
       "    <tr>\n",
       "      <th>5</th>\n",
       "      <td>Bronx</td>\n",
       "      <td>Carlisle Place</td>\n",
       "      <td>Carlisle Place, Bronx, NY</td>\n",
       "      <td>NaN</td>\n",
       "      <td>(-73.863012, 40.878598)</td>\n",
       "    </tr>\n",
       "    <tr>\n",
       "      <th>7</th>\n",
       "      <td>Brooklyn</td>\n",
       "      <td>New Lots Avenue</td>\n",
       "      <td>New Lots Avenue, Brooklyn, NY</td>\n",
       "      <td>NaN</td>\n",
       "      <td>(-73.8992787, 40.6589611)</td>\n",
       "    </tr>\n",
       "    <tr>\n",
       "      <th>10</th>\n",
       "      <td>Brooklyn</td>\n",
       "      <td>64th Street</td>\n",
       "      <td>64th Street, Brooklyn, NY</td>\n",
       "      <td>NaN</td>\n",
       "      <td>(-74.0231939, 40.6400567)</td>\n",
       "    </tr>\n",
       "    <tr>\n",
       "      <th>17</th>\n",
       "      <td>Brooklyn</td>\n",
       "      <td>762-764 Herkimer Place/13-21 Hunterfly</td>\n",
       "      <td>762-764 Herkimer Place/13-21 Hunterfly, Brookl...</td>\n",
       "      <td>NaN</td>\n",
       "      <td>None</td>\n",
       "    </tr>\n",
       "  </tbody>\n",
       "</table>\n",
       "</div>"
      ],
      "text/plain": [
       "        Boro                                 Address  \\\n",
       "1   Brooklyn               1101 & 1105 Bergen Street   \n",
       "5      Bronx                          Carlisle Place   \n",
       "7   Brooklyn                         New Lots Avenue   \n",
       "10  Brooklyn                             64th Street   \n",
       "17  Brooklyn  762-764 Herkimer Place/13-21 Hunterfly   \n",
       "\n",
       "                                         Full_Address  NTA  \\\n",
       "1             1101 & 1105 Bergen Street, Brooklyn, NY  NaN   \n",
       "5                           Carlisle Place, Bronx, NY  NaN   \n",
       "7                       New Lots Avenue, Brooklyn, NY  NaN   \n",
       "10                          64th Street, Brooklyn, NY  NaN   \n",
       "17  762-764 Herkimer Place/13-21 Hunterfly, Brookl...  NaN   \n",
       "\n",
       "                           Point  \n",
       "1   (-73.949439375, 40.67615225)  \n",
       "5        (-73.863012, 40.878598)  \n",
       "7      (-73.8992787, 40.6589611)  \n",
       "10     (-74.0231939, 40.6400567)  \n",
       "17                          None  "
      ]
     },
     "execution_count": 22,
     "metadata": {},
     "output_type": "execute_result"
    }
   ],
   "source": [
    "gt_geocode['Point'] = gt_geocode.Full_Address.apply(geocode).apply(lambda loc: tuple([loc.point[1], loc.point[0]]) if loc else None)\n",
    "gt_geocode.head()\n"
   ]
  },
  {
   "cell_type": "code",
   "execution_count": 23,
   "metadata": {},
   "outputs": [
    {
     "data": {
      "text/plain": [
       "55"
      ]
     },
     "execution_count": 23,
     "metadata": {},
     "output_type": "execute_result"
    }
   ],
   "source": [
    "len(gt_geocode[gt_geocode.Point.isnull()]) # still 55 addresses that cant be geocoded"
   ]
  },
  {
   "cell_type": "code",
   "execution_count": 24,
   "metadata": {},
   "outputs": [
    {
     "data": {
      "text/html": [
       "<div>\n",
       "<style scoped>\n",
       "    .dataframe tbody tr th:only-of-type {\n",
       "        vertical-align: middle;\n",
       "    }\n",
       "\n",
       "    .dataframe tbody tr th {\n",
       "        vertical-align: top;\n",
       "    }\n",
       "\n",
       "    .dataframe thead th {\n",
       "        text-align: right;\n",
       "    }\n",
       "</style>\n",
       "<table border=\"1\" class=\"dataframe\">\n",
       "  <thead>\n",
       "    <tr style=\"text-align: right;\">\n",
       "      <th></th>\n",
       "      <th>Boro</th>\n",
       "      <th>Address</th>\n",
       "      <th>Full_Address</th>\n",
       "      <th>NTA</th>\n",
       "      <th>Point</th>\n",
       "    </tr>\n",
       "  </thead>\n",
       "  <tbody>\n",
       "    <tr>\n",
       "      <th>1</th>\n",
       "      <td>Brooklyn</td>\n",
       "      <td>1101 &amp; 1105 Bergen Street</td>\n",
       "      <td>1101 &amp; 1105 Bergen Street, Brooklyn, NY</td>\n",
       "      <td>NaN</td>\n",
       "      <td>(-73.949439375, 40.67615225)</td>\n",
       "    </tr>\n",
       "    <tr>\n",
       "      <th>5</th>\n",
       "      <td>Bronx</td>\n",
       "      <td>Carlisle Place</td>\n",
       "      <td>Carlisle Place, Bronx, NY</td>\n",
       "      <td>NaN</td>\n",
       "      <td>(-73.863012, 40.878598)</td>\n",
       "    </tr>\n",
       "    <tr>\n",
       "      <th>7</th>\n",
       "      <td>Brooklyn</td>\n",
       "      <td>New Lots Avenue</td>\n",
       "      <td>New Lots Avenue, Brooklyn, NY</td>\n",
       "      <td>NaN</td>\n",
       "      <td>(-73.8992787, 40.6589611)</td>\n",
       "    </tr>\n",
       "    <tr>\n",
       "      <th>10</th>\n",
       "      <td>Brooklyn</td>\n",
       "      <td>64th Street</td>\n",
       "      <td>64th Street, Brooklyn, NY</td>\n",
       "      <td>NaN</td>\n",
       "      <td>(-74.0231939, 40.6400567)</td>\n",
       "    </tr>\n",
       "    <tr>\n",
       "      <th>19</th>\n",
       "      <td>Brooklyn</td>\n",
       "      <td>Aberdeen Street</td>\n",
       "      <td>Aberdeen Street, Brooklyn, NY</td>\n",
       "      <td>NaN</td>\n",
       "      <td>(-73.9055714, 40.6824518)</td>\n",
       "    </tr>\n",
       "  </tbody>\n",
       "</table>\n",
       "</div>"
      ],
      "text/plain": [
       "        Boro                    Address  \\\n",
       "1   Brooklyn  1101 & 1105 Bergen Street   \n",
       "5      Bronx             Carlisle Place   \n",
       "7   Brooklyn            New Lots Avenue   \n",
       "10  Brooklyn                64th Street   \n",
       "19  Brooklyn            Aberdeen Street   \n",
       "\n",
       "                               Full_Address  NTA                         Point  \n",
       "1   1101 & 1105 Bergen Street, Brooklyn, NY  NaN  (-73.949439375, 40.67615225)  \n",
       "5                 Carlisle Place, Bronx, NY  NaN       (-73.863012, 40.878598)  \n",
       "7             New Lots Avenue, Brooklyn, NY  NaN     (-73.8992787, 40.6589611)  \n",
       "10                64th Street, Brooklyn, NY  NaN     (-74.0231939, 40.6400567)  \n",
       "19            Aberdeen Street, Brooklyn, NY  NaN     (-73.9055714, 40.6824518)  "
      ]
     },
     "execution_count": 24,
     "metadata": {},
     "output_type": "execute_result"
    }
   ],
   "source": [
    "# check that those successfully geocoded are within new york\n",
    "success = gt_geocode[gt_geocode.Point.notnull()]\n",
    "success.head()"
   ]
  },
  {
   "cell_type": "code",
   "execution_count": 25,
   "metadata": {},
   "outputs": [],
   "source": [
    "from shapely.geometry import Point\n",
    "import geopandas as gpd\n",
    "\n",
    "def make_gdf(df, point_col_name='Point'): # eg data.Point\n",
    "    df['geometry'] = df[point_col_name].apply(Point)\n",
    "    gdf = gpd.GeoDataFrame(df, geometry='geometry')\n",
    "    return gdf"
   ]
  },
  {
   "cell_type": "code",
   "execution_count": 27,
   "metadata": {},
   "outputs": [
    {
     "name": "stderr",
     "output_type": "stream",
     "text": [
      "/usr/local/Cellar/python3/3.6.2/Frameworks/Python.framework/Versions/3.6/lib/python3.6/site-packages/ipykernel_launcher.py:5: SettingWithCopyWarning: \n",
      "A value is trying to be set on a copy of a slice from a DataFrame.\n",
      "Try using .loc[row_indexer,col_indexer] = value instead\n",
      "\n",
      "See the caveats in the documentation: http://pandas.pydata.org/pandas-docs/stable/indexing.html#indexing-view-versus-copy\n",
      "  \"\"\"\n"
     ]
    },
    {
     "data": {
      "text/html": [
       "<div>\n",
       "<style scoped>\n",
       "    .dataframe tbody tr th:only-of-type {\n",
       "        vertical-align: middle;\n",
       "    }\n",
       "\n",
       "    .dataframe tbody tr th {\n",
       "        vertical-align: top;\n",
       "    }\n",
       "\n",
       "    .dataframe thead th {\n",
       "        text-align: right;\n",
       "    }\n",
       "</style>\n",
       "<table border=\"1\" class=\"dataframe\">\n",
       "  <thead>\n",
       "    <tr style=\"text-align: right;\">\n",
       "      <th></th>\n",
       "      <th>Boro</th>\n",
       "      <th>Address</th>\n",
       "      <th>Full_Address</th>\n",
       "      <th>NTA</th>\n",
       "      <th>Point</th>\n",
       "      <th>geometry</th>\n",
       "    </tr>\n",
       "  </thead>\n",
       "  <tbody>\n",
       "    <tr>\n",
       "      <th>1</th>\n",
       "      <td>Brooklyn</td>\n",
       "      <td>1101 &amp; 1105 Bergen Street</td>\n",
       "      <td>1101 &amp; 1105 Bergen Street, Brooklyn, NY</td>\n",
       "      <td>NaN</td>\n",
       "      <td>(-73.949439375, 40.67615225)</td>\n",
       "      <td>POINT (-73.949439375 40.67615225)</td>\n",
       "    </tr>\n",
       "    <tr>\n",
       "      <th>5</th>\n",
       "      <td>Bronx</td>\n",
       "      <td>Carlisle Place</td>\n",
       "      <td>Carlisle Place, Bronx, NY</td>\n",
       "      <td>NaN</td>\n",
       "      <td>(-73.863012, 40.878598)</td>\n",
       "      <td>POINT (-73.863012 40.878598)</td>\n",
       "    </tr>\n",
       "  </tbody>\n",
       "</table>\n",
       "</div>"
      ],
      "text/plain": [
       "       Boro                    Address  \\\n",
       "1  Brooklyn  1101 & 1105 Bergen Street   \n",
       "5     Bronx             Carlisle Place   \n",
       "\n",
       "                              Full_Address  NTA                         Point  \\\n",
       "1  1101 & 1105 Bergen Street, Brooklyn, NY  NaN  (-73.949439375, 40.67615225)   \n",
       "5                Carlisle Place, Bronx, NY  NaN       (-73.863012, 40.878598)   \n",
       "\n",
       "                            geometry  \n",
       "1  POINT (-73.949439375 40.67615225)  \n",
       "5       POINT (-73.863012 40.878598)  "
      ]
     },
     "execution_count": 27,
     "metadata": {},
     "output_type": "execute_result"
    }
   ],
   "source": [
    "gdf = make_gdf(gt_geocode[gt_geocode.Point.notnull()])\n",
    "gdf.head(2)"
   ]
  },
  {
   "cell_type": "code",
   "execution_count": 28,
   "metadata": {},
   "outputs": [],
   "source": [
    "def join_nta(nta, gdf_to_join):\n",
    "    gdf_to_join.crs = nta.crs\n",
    "    return gpd.sjoin(gdf_to_join, nta, op='intersects')"
   ]
  },
  {
   "cell_type": "code",
   "execution_count": 50,
   "metadata": {},
   "outputs": [
    {
     "data": {
      "text/html": [
       "<div>\n",
       "<style scoped>\n",
       "    .dataframe tbody tr th:only-of-type {\n",
       "        vertical-align: middle;\n",
       "    }\n",
       "\n",
       "    .dataframe tbody tr th {\n",
       "        vertical-align: top;\n",
       "    }\n",
       "\n",
       "    .dataframe thead th {\n",
       "        text-align: right;\n",
       "    }\n",
       "</style>\n",
       "<table border=\"1\" class=\"dataframe\">\n",
       "  <thead>\n",
       "    <tr style=\"text-align: right;\">\n",
       "      <th></th>\n",
       "      <th>Boro</th>\n",
       "      <th>Address</th>\n",
       "      <th>Full_Address</th>\n",
       "      <th>NTA</th>\n",
       "      <th>Point</th>\n",
       "      <th>geometry</th>\n",
       "      <th>index_right</th>\n",
       "      <th>ntacode</th>\n",
       "      <th>shape_area</th>\n",
       "      <th>county_fips</th>\n",
       "      <th>ntaname</th>\n",
       "      <th>shape_leng</th>\n",
       "      <th>boro_name</th>\n",
       "      <th>boro_code</th>\n",
       "    </tr>\n",
       "  </thead>\n",
       "  <tbody>\n",
       "    <tr>\n",
       "      <th>17</th>\n",
       "      <td>Brooklyn</td>\n",
       "      <td>762-764 Herkimer Place/13-21 Hunterfly</td>\n",
       "      <td>762-764 Herkimer Place/13-21 Hunterfly, Brookl...</td>\n",
       "      <td>NaN</td>\n",
       "      <td>(-73.927007, 40.67803)</td>\n",
       "      <td>POINT (-73.927007 40.67803)</td>\n",
       "      <td>30</td>\n",
       "      <td>BK61</td>\n",
       "      <td>51619074.188</td>\n",
       "      <td>047</td>\n",
       "      <td>Crown Heights North</td>\n",
       "      <td>35635.5428561</td>\n",
       "      <td>Brooklyn</td>\n",
       "      <td>3</td>\n",
       "    </tr>\n",
       "    <tr>\n",
       "      <th>133</th>\n",
       "      <td>Brooklyn</td>\n",
       "      <td>Eastern Pkwy.,W/O Franklin</td>\n",
       "      <td>Eastern Pkwy.,W/O Franklin, Brooklyn, NY</td>\n",
       "      <td>NaN</td>\n",
       "      <td>(-73.954455, 40.670787)</td>\n",
       "      <td>POINT (-73.954455 40.670787)</td>\n",
       "      <td>30</td>\n",
       "      <td>BK61</td>\n",
       "      <td>51619074.188</td>\n",
       "      <td>047</td>\n",
       "      <td>Crown Heights North</td>\n",
       "      <td>35635.5428561</td>\n",
       "      <td>Brooklyn</td>\n",
       "      <td>3</td>\n",
       "    </tr>\n",
       "  </tbody>\n",
       "</table>\n",
       "</div>"
      ],
      "text/plain": [
       "         Boro                                 Address  \\\n",
       "17   Brooklyn  762-764 Herkimer Place/13-21 Hunterfly   \n",
       "133  Brooklyn              Eastern Pkwy.,W/O Franklin   \n",
       "\n",
       "                                          Full_Address  NTA  \\\n",
       "17   762-764 Herkimer Place/13-21 Hunterfly, Brookl...  NaN   \n",
       "133           Eastern Pkwy.,W/O Franklin, Brooklyn, NY  NaN   \n",
       "\n",
       "                       Point                      geometry  index_right  \\\n",
       "17    (-73.927007, 40.67803)   POINT (-73.927007 40.67803)           30   \n",
       "133  (-73.954455, 40.670787)  POINT (-73.954455 40.670787)           30   \n",
       "\n",
       "    ntacode    shape_area county_fips              ntaname     shape_leng  \\\n",
       "17     BK61  51619074.188         047  Crown Heights North  35635.5428561   \n",
       "133    BK61  51619074.188         047  Crown Heights North  35635.5428561   \n",
       "\n",
       "    boro_name boro_code  \n",
       "17   Brooklyn         3  \n",
       "133  Brooklyn         3  "
      ]
     },
     "execution_count": 50,
     "metadata": {},
     "output_type": "execute_result"
    }
   ],
   "source": [
    "joined = join_nta(nta, gdf)\n",
    "joined.head(2)"
   ]
  },
  {
   "cell_type": "code",
   "execution_count": 51,
   "metadata": {},
   "outputs": [
    {
     "data": {
      "text/plain": [
       "False    47\n",
       "Name: ntaname, dtype: int64"
      ]
     },
     "execution_count": 51,
     "metadata": {},
     "output_type": "execute_result"
    }
   ],
   "source": [
    "joined.ntaname.isnull().value_counts() # yay all were spatially joined"
   ]
  },
  {
   "cell_type": "code",
   "execution_count": 52,
   "metadata": {},
   "outputs": [
    {
     "data": {
      "text/html": [
       "<div>\n",
       "<style scoped>\n",
       "    .dataframe tbody tr th:only-of-type {\n",
       "        vertical-align: middle;\n",
       "    }\n",
       "\n",
       "    .dataframe tbody tr th {\n",
       "        vertical-align: top;\n",
       "    }\n",
       "\n",
       "    .dataframe thead th {\n",
       "        text-align: right;\n",
       "    }\n",
       "</style>\n",
       "<table border=\"1\" class=\"dataframe\">\n",
       "  <thead>\n",
       "    <tr style=\"text-align: right;\">\n",
       "      <th></th>\n",
       "      <th>Address</th>\n",
       "      <th>Latitude</th>\n",
       "      <th>Longitude</th>\n",
       "      <th>NTA</th>\n",
       "    </tr>\n",
       "  </thead>\n",
       "  <tbody>\n",
       "    <tr>\n",
       "      <th>17</th>\n",
       "      <td>762-764 Herkimer Place/13-21 Hunterfly</td>\n",
       "      <td>-73.927007</td>\n",
       "      <td>40.678030</td>\n",
       "      <td>Crown Heights North</td>\n",
       "    </tr>\n",
       "    <tr>\n",
       "      <th>133</th>\n",
       "      <td>Eastern Pkwy.,W/O Franklin</td>\n",
       "      <td>-73.954455</td>\n",
       "      <td>40.670787</td>\n",
       "      <td>Crown Heights North</td>\n",
       "    </tr>\n",
       "    <tr>\n",
       "      <th>426</th>\n",
       "      <td>Hunterfly Place and Atlantic Avenue</td>\n",
       "      <td>-73.927609</td>\n",
       "      <td>40.677592</td>\n",
       "      <td>Crown Heights North</td>\n",
       "    </tr>\n",
       "    <tr>\n",
       "      <th>21</th>\n",
       "      <td>1980 Lafayette Avenue/Stickball Avenue</td>\n",
       "      <td>-73.854449</td>\n",
       "      <td>40.821774</td>\n",
       "      <td>Soundview-Castle Hill-Clason Point-Harding Park</td>\n",
       "    </tr>\n",
       "    <tr>\n",
       "      <th>30</th>\n",
       "      <td>35th St. Bet. 35th &amp; 36th Aves</td>\n",
       "      <td>-73.923622</td>\n",
       "      <td>40.756476</td>\n",
       "      <td>Astoria</td>\n",
       "    </tr>\n",
       "  </tbody>\n",
       "</table>\n",
       "</div>"
      ],
      "text/plain": [
       "                                    Address   Latitude  Longitude  \\\n",
       "17   762-764 Herkimer Place/13-21 Hunterfly -73.927007  40.678030   \n",
       "133              Eastern Pkwy.,W/O Franklin -73.954455  40.670787   \n",
       "426     Hunterfly Place and Atlantic Avenue -73.927609  40.677592   \n",
       "21   1980 Lafayette Avenue/Stickball Avenue -73.854449  40.821774   \n",
       "30           35th St. Bet. 35th & 36th Aves -73.923622  40.756476   \n",
       "\n",
       "                                                 NTA  \n",
       "17                               Crown Heights North  \n",
       "133                              Crown Heights North  \n",
       "426                              Crown Heights North  \n",
       "21   Soundview-Castle Hill-Clason Point-Harding Park  \n",
       "30                                           Astoria  "
      ]
     },
     "execution_count": 52,
     "metadata": {},
     "output_type": "execute_result"
    }
   ],
   "source": [
    "joined['Latitude'] = joined.geometry.x\n",
    "joined['Longitude'] = joined.geometry.y\n",
    "joined = joined[['Address', 'Latitude', 'Longitude', 'ntaname']]\n",
    "joined.rename(columns={'ntaname': 'NTA'}, inplace=True)\n",
    "joined.head() # yay!"
   ]
  },
  {
   "cell_type": "markdown",
   "metadata": {},
   "source": [
    "Investigate the cases where geocoding failed"
   ]
  },
  {
   "cell_type": "code",
   "execution_count": 54,
   "metadata": {},
   "outputs": [
    {
     "data": {
      "text/plain": [
       "(55, 5)"
      ]
     },
     "execution_count": 54,
     "metadata": {},
     "output_type": "execute_result"
    }
   ],
   "source": [
    "# now to geocode the 55 that failed earlier\n",
    "failures = gt_geocode[gt_geocode.Point.isnull()]\n",
    "failures.shape"
   ]
  },
  {
   "cell_type": "code",
   "execution_count": 55,
   "metadata": {},
   "outputs": [],
   "source": [
    "failures.to_csv('../data/greenthumb_geocode_failures.csv') # export to do manual geocoding"
   ]
  },
  {
   "cell_type": "code",
   "execution_count": 56,
   "metadata": {},
   "outputs": [
    {
     "data": {
      "text/html": [
       "<div>\n",
       "<style scoped>\n",
       "    .dataframe tbody tr th:only-of-type {\n",
       "        vertical-align: middle;\n",
       "    }\n",
       "\n",
       "    .dataframe tbody tr th {\n",
       "        vertical-align: top;\n",
       "    }\n",
       "\n",
       "    .dataframe thead th {\n",
       "        text-align: right;\n",
       "    }\n",
       "</style>\n",
       "<table border=\"1\" class=\"dataframe\">\n",
       "  <thead>\n",
       "    <tr style=\"text-align: right;\">\n",
       "      <th></th>\n",
       "      <th>Boro</th>\n",
       "      <th>Address</th>\n",
       "      <th>Full_Address</th>\n",
       "      <th>NTA</th>\n",
       "      <th>Point</th>\n",
       "    </tr>\n",
       "  </thead>\n",
       "  <tbody>\n",
       "    <tr>\n",
       "      <th>17</th>\n",
       "      <td>Brooklyn</td>\n",
       "      <td>762-764 Herkimer Place/13-21 Hunterfly</td>\n",
       "      <td>762-764 Herkimer Place/13-21 Hunterfly, Brookl...</td>\n",
       "      <td>NaN</td>\n",
       "      <td>40.678030, -73.927007</td>\n",
       "    </tr>\n",
       "    <tr>\n",
       "      <th>21</th>\n",
       "      <td>Bronx</td>\n",
       "      <td>1980 Lafayette Avenue/Stickball Avenue</td>\n",
       "      <td>1980 Lafayette Avenue/Stickball Avenue, Bronx, NY</td>\n",
       "      <td>NaN</td>\n",
       "      <td>40.821774, -73.854449</td>\n",
       "    </tr>\n",
       "    <tr>\n",
       "      <th>30</th>\n",
       "      <td>Queens</td>\n",
       "      <td>35th St. Bet. 35th &amp; 36th Aves</td>\n",
       "      <td>35th St. Bet. 35th &amp; 36th Aves, Queens, NY</td>\n",
       "      <td>NaN</td>\n",
       "      <td>40.756476, -73.923622</td>\n",
       "    </tr>\n",
       "    <tr>\n",
       "      <th>41</th>\n",
       "      <td>Brooklyn</td>\n",
       "      <td>93-95 Malcolm X Avenue</td>\n",
       "      <td>93-95 Malcolm X Avenue, Brooklyn, NY</td>\n",
       "      <td>NaN</td>\n",
       "      <td>40.690746, -73.929372</td>\n",
       "    </tr>\n",
       "    <tr>\n",
       "      <th>101</th>\n",
       "      <td>Manhattan</td>\n",
       "      <td>320 96th Street NY NY 10128</td>\n",
       "      <td>320 96th Street NY NY 10128</td>\n",
       "      <td>NaN</td>\n",
       "      <td>40.783460, -73.945095</td>\n",
       "    </tr>\n",
       "  </tbody>\n",
       "</table>\n",
       "</div>"
      ],
      "text/plain": [
       "          Boro                                 Address  \\\n",
       "17    Brooklyn  762-764 Herkimer Place/13-21 Hunterfly   \n",
       "21       Bronx  1980 Lafayette Avenue/Stickball Avenue   \n",
       "30      Queens          35th St. Bet. 35th & 36th Aves   \n",
       "41    Brooklyn                  93-95 Malcolm X Avenue   \n",
       "101  Manhattan             320 96th Street NY NY 10128   \n",
       "\n",
       "                                          Full_Address  NTA  \\\n",
       "17   762-764 Herkimer Place/13-21 Hunterfly, Brookl...  NaN   \n",
       "21   1980 Lafayette Avenue/Stickball Avenue, Bronx, NY  NaN   \n",
       "30          35th St. Bet. 35th & 36th Aves, Queens, NY  NaN   \n",
       "41                93-95 Malcolm X Avenue, Brooklyn, NY  NaN   \n",
       "101                        320 96th Street NY NY 10128  NaN   \n",
       "\n",
       "                     Point  \n",
       "17   40.678030, -73.927007  \n",
       "21   40.821774, -73.854449  \n",
       "30   40.756476, -73.923622  \n",
       "41   40.690746, -73.929372  \n",
       "101  40.783460, -73.945095  "
      ]
     },
     "execution_count": 56,
     "metadata": {},
     "output_type": "execute_result"
    }
   ],
   "source": [
    "failures = pd.read_csv('../data/greenthumb_geocode_failures_cleaned.csv', index_col=0)\n",
    "failures.head()"
   ]
  },
  {
   "cell_type": "code",
   "execution_count": 57,
   "metadata": {},
   "outputs": [
    {
     "data": {
      "text/html": [
       "<div>\n",
       "<style scoped>\n",
       "    .dataframe tbody tr th:only-of-type {\n",
       "        vertical-align: middle;\n",
       "    }\n",
       "\n",
       "    .dataframe tbody tr th {\n",
       "        vertical-align: top;\n",
       "    }\n",
       "\n",
       "    .dataframe thead th {\n",
       "        text-align: right;\n",
       "    }\n",
       "</style>\n",
       "<table border=\"1\" class=\"dataframe\">\n",
       "  <thead>\n",
       "    <tr style=\"text-align: right;\">\n",
       "      <th></th>\n",
       "      <th>Boro</th>\n",
       "      <th>Address</th>\n",
       "      <th>Full_Address</th>\n",
       "      <th>NTA</th>\n",
       "      <th>Point</th>\n",
       "    </tr>\n",
       "  </thead>\n",
       "  <tbody>\n",
       "    <tr>\n",
       "      <th>17</th>\n",
       "      <td>Brooklyn</td>\n",
       "      <td>762-764 Herkimer Place/13-21 Hunterfly</td>\n",
       "      <td>762-764 Herkimer Place/13-21 Hunterfly, Brookl...</td>\n",
       "      <td>NaN</td>\n",
       "      <td>(-73.927007, 40.67803)</td>\n",
       "    </tr>\n",
       "    <tr>\n",
       "      <th>21</th>\n",
       "      <td>Bronx</td>\n",
       "      <td>1980 Lafayette Avenue/Stickball Avenue</td>\n",
       "      <td>1980 Lafayette Avenue/Stickball Avenue, Bronx, NY</td>\n",
       "      <td>NaN</td>\n",
       "      <td>(-73.854449, 40.821774)</td>\n",
       "    </tr>\n",
       "    <tr>\n",
       "      <th>30</th>\n",
       "      <td>Queens</td>\n",
       "      <td>35th St. Bet. 35th &amp; 36th Aves</td>\n",
       "      <td>35th St. Bet. 35th &amp; 36th Aves, Queens, NY</td>\n",
       "      <td>NaN</td>\n",
       "      <td>(-73.923622, 40.756476)</td>\n",
       "    </tr>\n",
       "    <tr>\n",
       "      <th>41</th>\n",
       "      <td>Brooklyn</td>\n",
       "      <td>93-95 Malcolm X Avenue</td>\n",
       "      <td>93-95 Malcolm X Avenue, Brooklyn, NY</td>\n",
       "      <td>NaN</td>\n",
       "      <td>(-73.929372, 40.690746)</td>\n",
       "    </tr>\n",
       "    <tr>\n",
       "      <th>101</th>\n",
       "      <td>Manhattan</td>\n",
       "      <td>320 96th Street NY NY 10128</td>\n",
       "      <td>320 96th Street NY NY 10128</td>\n",
       "      <td>NaN</td>\n",
       "      <td>(-73.945095, 40.78346)</td>\n",
       "    </tr>\n",
       "  </tbody>\n",
       "</table>\n",
       "</div>"
      ],
      "text/plain": [
       "          Boro                                 Address  \\\n",
       "17    Brooklyn  762-764 Herkimer Place/13-21 Hunterfly   \n",
       "21       Bronx  1980 Lafayette Avenue/Stickball Avenue   \n",
       "30      Queens          35th St. Bet. 35th & 36th Aves   \n",
       "41    Brooklyn                  93-95 Malcolm X Avenue   \n",
       "101  Manhattan             320 96th Street NY NY 10128   \n",
       "\n",
       "                                          Full_Address  NTA  \\\n",
       "17   762-764 Herkimer Place/13-21 Hunterfly, Brookl...  NaN   \n",
       "21   1980 Lafayette Avenue/Stickball Avenue, Bronx, NY  NaN   \n",
       "30          35th St. Bet. 35th & 36th Aves, Queens, NY  NaN   \n",
       "41                93-95 Malcolm X Avenue, Brooklyn, NY  NaN   \n",
       "101                        320 96th Street NY NY 10128  NaN   \n",
       "\n",
       "                       Point  \n",
       "17    (-73.927007, 40.67803)  \n",
       "21   (-73.854449, 40.821774)  \n",
       "30   (-73.923622, 40.756476)  \n",
       "41   (-73.929372, 40.690746)  \n",
       "101   (-73.945095, 40.78346)  "
      ]
     },
     "execution_count": 57,
     "metadata": {},
     "output_type": "execute_result"
    }
   ],
   "source": [
    "def split_pt(s):\n",
    "    temp = s.split(', ')\n",
    "    return tuple([float(temp[1]), float(temp[0])]) # long, lat\n",
    "\n",
    "failures['Point'] = failures.Point.apply(split_pt)\n",
    "failures.head()"
   ]
  },
  {
   "cell_type": "code",
   "execution_count": 58,
   "metadata": {},
   "outputs": [
    {
     "data": {
      "text/html": [
       "<div>\n",
       "<style scoped>\n",
       "    .dataframe tbody tr th:only-of-type {\n",
       "        vertical-align: middle;\n",
       "    }\n",
       "\n",
       "    .dataframe tbody tr th {\n",
       "        vertical-align: top;\n",
       "    }\n",
       "\n",
       "    .dataframe thead th {\n",
       "        text-align: right;\n",
       "    }\n",
       "</style>\n",
       "<table border=\"1\" class=\"dataframe\">\n",
       "  <thead>\n",
       "    <tr style=\"text-align: right;\">\n",
       "      <th></th>\n",
       "      <th>Boro</th>\n",
       "      <th>Address</th>\n",
       "      <th>Full_Address</th>\n",
       "      <th>NTA</th>\n",
       "      <th>Point</th>\n",
       "      <th>geometry</th>\n",
       "    </tr>\n",
       "  </thead>\n",
       "  <tbody>\n",
       "    <tr>\n",
       "      <th>17</th>\n",
       "      <td>Brooklyn</td>\n",
       "      <td>762-764 Herkimer Place/13-21 Hunterfly</td>\n",
       "      <td>762-764 Herkimer Place/13-21 Hunterfly, Brookl...</td>\n",
       "      <td>NaN</td>\n",
       "      <td>(-73.927007, 40.67803)</td>\n",
       "      <td>POINT (-73.927007 40.67803)</td>\n",
       "    </tr>\n",
       "    <tr>\n",
       "      <th>21</th>\n",
       "      <td>Bronx</td>\n",
       "      <td>1980 Lafayette Avenue/Stickball Avenue</td>\n",
       "      <td>1980 Lafayette Avenue/Stickball Avenue, Bronx, NY</td>\n",
       "      <td>NaN</td>\n",
       "      <td>(-73.854449, 40.821774)</td>\n",
       "      <td>POINT (-73.854449 40.821774)</td>\n",
       "    </tr>\n",
       "  </tbody>\n",
       "</table>\n",
       "</div>"
      ],
      "text/plain": [
       "        Boro                                 Address  \\\n",
       "17  Brooklyn  762-764 Herkimer Place/13-21 Hunterfly   \n",
       "21     Bronx  1980 Lafayette Avenue/Stickball Avenue   \n",
       "\n",
       "                                         Full_Address  NTA  \\\n",
       "17  762-764 Herkimer Place/13-21 Hunterfly, Brookl...  NaN   \n",
       "21  1980 Lafayette Avenue/Stickball Avenue, Bronx, NY  NaN   \n",
       "\n",
       "                      Point                      geometry  \n",
       "17   (-73.927007, 40.67803)   POINT (-73.927007 40.67803)  \n",
       "21  (-73.854449, 40.821774)  POINT (-73.854449 40.821774)  "
      ]
     },
     "execution_count": 58,
     "metadata": {},
     "output_type": "execute_result"
    }
   ],
   "source": [
    "gdf = make_gdf(failures, 'Point')\n",
    "gdf.head(2)"
   ]
  },
  {
   "cell_type": "code",
   "execution_count": 62,
   "metadata": {},
   "outputs": [
    {
     "data": {
      "text/html": [
       "<div>\n",
       "<style scoped>\n",
       "    .dataframe tbody tr th:only-of-type {\n",
       "        vertical-align: middle;\n",
       "    }\n",
       "\n",
       "    .dataframe tbody tr th {\n",
       "        vertical-align: top;\n",
       "    }\n",
       "\n",
       "    .dataframe thead th {\n",
       "        text-align: right;\n",
       "    }\n",
       "</style>\n",
       "<table border=\"1\" class=\"dataframe\">\n",
       "  <thead>\n",
       "    <tr style=\"text-align: right;\">\n",
       "      <th></th>\n",
       "      <th>Boro</th>\n",
       "      <th>Address</th>\n",
       "      <th>Full_Address</th>\n",
       "      <th>NTA</th>\n",
       "      <th>Point</th>\n",
       "      <th>geometry</th>\n",
       "      <th>index_right</th>\n",
       "      <th>ntacode</th>\n",
       "      <th>shape_area</th>\n",
       "      <th>county_fips</th>\n",
       "      <th>ntaname</th>\n",
       "      <th>shape_leng</th>\n",
       "      <th>boro_name</th>\n",
       "      <th>boro_code</th>\n",
       "    </tr>\n",
       "  </thead>\n",
       "  <tbody>\n",
       "    <tr>\n",
       "      <th>17</th>\n",
       "      <td>Brooklyn</td>\n",
       "      <td>762-764 Herkimer Place/13-21 Hunterfly</td>\n",
       "      <td>762-764 Herkimer Place/13-21 Hunterfly, Brookl...</td>\n",
       "      <td>NaN</td>\n",
       "      <td>(-73.927007, 40.67803)</td>\n",
       "      <td>POINT (-73.927007 40.67803)</td>\n",
       "      <td>30</td>\n",
       "      <td>BK61</td>\n",
       "      <td>51619074.188</td>\n",
       "      <td>047</td>\n",
       "      <td>Crown Heights North</td>\n",
       "      <td>35635.5428561</td>\n",
       "      <td>Brooklyn</td>\n",
       "      <td>3</td>\n",
       "    </tr>\n",
       "    <tr>\n",
       "      <th>133</th>\n",
       "      <td>Brooklyn</td>\n",
       "      <td>Eastern Pkwy.,W/O Franklin</td>\n",
       "      <td>Eastern Pkwy.,W/O Franklin, Brooklyn, NY</td>\n",
       "      <td>NaN</td>\n",
       "      <td>(-73.954455, 40.670787)</td>\n",
       "      <td>POINT (-73.954455 40.670787)</td>\n",
       "      <td>30</td>\n",
       "      <td>BK61</td>\n",
       "      <td>51619074.188</td>\n",
       "      <td>047</td>\n",
       "      <td>Crown Heights North</td>\n",
       "      <td>35635.5428561</td>\n",
       "      <td>Brooklyn</td>\n",
       "      <td>3</td>\n",
       "    </tr>\n",
       "  </tbody>\n",
       "</table>\n",
       "</div>"
      ],
      "text/plain": [
       "         Boro                                 Address  \\\n",
       "17   Brooklyn  762-764 Herkimer Place/13-21 Hunterfly   \n",
       "133  Brooklyn              Eastern Pkwy.,W/O Franklin   \n",
       "\n",
       "                                          Full_Address  NTA  \\\n",
       "17   762-764 Herkimer Place/13-21 Hunterfly, Brookl...  NaN   \n",
       "133           Eastern Pkwy.,W/O Franklin, Brooklyn, NY  NaN   \n",
       "\n",
       "                       Point                      geometry  index_right  \\\n",
       "17    (-73.927007, 40.67803)   POINT (-73.927007 40.67803)           30   \n",
       "133  (-73.954455, 40.670787)  POINT (-73.954455 40.670787)           30   \n",
       "\n",
       "    ntacode    shape_area county_fips              ntaname     shape_leng  \\\n",
       "17     BK61  51619074.188         047  Crown Heights North  35635.5428561   \n",
       "133    BK61  51619074.188         047  Crown Heights North  35635.5428561   \n",
       "\n",
       "    boro_name boro_code  \n",
       "17   Brooklyn         3  \n",
       "133  Brooklyn         3  "
      ]
     },
     "execution_count": 62,
     "metadata": {},
     "output_type": "execute_result"
    }
   ],
   "source": [
    "joined2 = join_nta(nta, gdf)\n",
    "joined2.head(2)"
   ]
  },
  {
   "cell_type": "code",
   "execution_count": 63,
   "metadata": {},
   "outputs": [
    {
     "data": {
      "text/html": [
       "<div>\n",
       "<style scoped>\n",
       "    .dataframe tbody tr th:only-of-type {\n",
       "        vertical-align: middle;\n",
       "    }\n",
       "\n",
       "    .dataframe tbody tr th {\n",
       "        vertical-align: top;\n",
       "    }\n",
       "\n",
       "    .dataframe thead th {\n",
       "        text-align: right;\n",
       "    }\n",
       "</style>\n",
       "<table border=\"1\" class=\"dataframe\">\n",
       "  <thead>\n",
       "    <tr style=\"text-align: right;\">\n",
       "      <th></th>\n",
       "      <th>Address</th>\n",
       "      <th>Latitude</th>\n",
       "      <th>Longitude</th>\n",
       "      <th>NTA</th>\n",
       "    </tr>\n",
       "  </thead>\n",
       "  <tbody>\n",
       "    <tr>\n",
       "      <th>17</th>\n",
       "      <td>762-764 Herkimer Place/13-21 Hunterfly</td>\n",
       "      <td>-73.927007</td>\n",
       "      <td>40.678030</td>\n",
       "      <td>Crown Heights North</td>\n",
       "    </tr>\n",
       "    <tr>\n",
       "      <th>133</th>\n",
       "      <td>Eastern Pkwy.,W/O Franklin</td>\n",
       "      <td>-73.954455</td>\n",
       "      <td>40.670787</td>\n",
       "      <td>Crown Heights North</td>\n",
       "    </tr>\n",
       "    <tr>\n",
       "      <th>426</th>\n",
       "      <td>Hunterfly Place and Atlantic Avenue</td>\n",
       "      <td>-73.927609</td>\n",
       "      <td>40.677592</td>\n",
       "      <td>Crown Heights North</td>\n",
       "    </tr>\n",
       "    <tr>\n",
       "      <th>21</th>\n",
       "      <td>1980 Lafayette Avenue/Stickball Avenue</td>\n",
       "      <td>-73.854449</td>\n",
       "      <td>40.821774</td>\n",
       "      <td>Soundview-Castle Hill-Clason Point-Harding Park</td>\n",
       "    </tr>\n",
       "    <tr>\n",
       "      <th>30</th>\n",
       "      <td>35th St. Bet. 35th &amp; 36th Aves</td>\n",
       "      <td>-73.923622</td>\n",
       "      <td>40.756476</td>\n",
       "      <td>Astoria</td>\n",
       "    </tr>\n",
       "  </tbody>\n",
       "</table>\n",
       "</div>"
      ],
      "text/plain": [
       "                                    Address   Latitude  Longitude  \\\n",
       "17   762-764 Herkimer Place/13-21 Hunterfly -73.927007  40.678030   \n",
       "133              Eastern Pkwy.,W/O Franklin -73.954455  40.670787   \n",
       "426     Hunterfly Place and Atlantic Avenue -73.927609  40.677592   \n",
       "21   1980 Lafayette Avenue/Stickball Avenue -73.854449  40.821774   \n",
       "30           35th St. Bet. 35th & 36th Aves -73.923622  40.756476   \n",
       "\n",
       "                                                 NTA  \n",
       "17                               Crown Heights North  \n",
       "133                              Crown Heights North  \n",
       "426                              Crown Heights North  \n",
       "21   Soundview-Castle Hill-Clason Point-Harding Park  \n",
       "30                                           Astoria  "
      ]
     },
     "execution_count": 63,
     "metadata": {},
     "output_type": "execute_result"
    }
   ],
   "source": [
    "joined2['Latitude'] = joined2.geometry.x\n",
    "joined2['Longitude'] = joined2.geometry.y\n",
    "joined2 = joined2[['Address', 'Latitude', 'Longitude', 'ntaname']]\n",
    "joined2.rename(columns={'ntaname': 'NTA'}, inplace=True)\n",
    "joined2.head()"
   ]
  },
  {
   "cell_type": "markdown",
   "metadata": {},
   "source": [
    "# Data cleaning 5: combining all datasets\n"
   ]
  },
  {
   "cell_type": "code",
   "execution_count": 67,
   "metadata": {},
   "outputs": [],
   "source": [
    "COLS = ['Address', 'Latitude', 'Longitude', 'NTA'] # columns i want in the final dataset"
   ]
  },
  {
   "cell_type": "code",
   "execution_count": 68,
   "metadata": {},
   "outputs": [
    {
     "data": {
      "text/html": [
       "<div>\n",
       "<style scoped>\n",
       "    .dataframe tbody tr th:only-of-type {\n",
       "        vertical-align: middle;\n",
       "    }\n",
       "\n",
       "    .dataframe tbody tr th {\n",
       "        vertical-align: top;\n",
       "    }\n",
       "\n",
       "    .dataframe thead th {\n",
       "        text-align: right;\n",
       "    }\n",
       "</style>\n",
       "<table border=\"1\" class=\"dataframe\">\n",
       "  <thead>\n",
       "    <tr style=\"text-align: right;\">\n",
       "      <th></th>\n",
       "      <th>address</th>\n",
       "      <th>coords</th>\n",
       "      <th>lat</th>\n",
       "      <th>long</th>\n",
       "      <th>borough</th>\n",
       "      <th>geometry</th>\n",
       "      <th>index_right</th>\n",
       "      <th>ntacode</th>\n",
       "      <th>shape_area</th>\n",
       "      <th>county_fips</th>\n",
       "      <th>ntaname</th>\n",
       "      <th>shape_leng</th>\n",
       "      <th>boro_name</th>\n",
       "      <th>boro_code</th>\n",
       "    </tr>\n",
       "  </thead>\n",
       "  <tbody>\n",
       "    <tr>\n",
       "      <th>0</th>\n",
       "      <td>735 East 211th St</td>\n",
       "      <td>40.877499,-73.863489</td>\n",
       "      <td>40.877499</td>\n",
       "      <td>-73.863489</td>\n",
       "      <td>Bronx</td>\n",
       "      <td>POINT (-73.863489 40.877499)</td>\n",
       "      <td>75</td>\n",
       "      <td>BX44</td>\n",
       "      <td>3.627360e+07</td>\n",
       "      <td>5</td>\n",
       "      <td>Williamsbridge-Olinville</td>\n",
       "      <td>27351.077379</td>\n",
       "      <td>Bronx</td>\n",
       "      <td>2</td>\n",
       "    </tr>\n",
       "    <tr>\n",
       "      <th>1</th>\n",
       "      <td>1818 Bathgate Ave</td>\n",
       "      <td>40.845051,-73.897747</td>\n",
       "      <td>40.845051</td>\n",
       "      <td>-73.897747</td>\n",
       "      <td>Bronx</td>\n",
       "      <td>POINT (-73.897747 40.845051)</td>\n",
       "      <td>128</td>\n",
       "      <td>BX01</td>\n",
       "      <td>1.645162e+07</td>\n",
       "      <td>5</td>\n",
       "      <td>Claremont-Bathgate</td>\n",
       "      <td>29972.777720</td>\n",
       "      <td>Bronx</td>\n",
       "      <td>2</td>\n",
       "    </tr>\n",
       "  </tbody>\n",
       "</table>\n",
       "</div>"
      ],
      "text/plain": [
       "             address                coords        lat       long borough  \\\n",
       "0  735 East 211th St  40.877499,-73.863489  40.877499 -73.863489   Bronx   \n",
       "1  1818 Bathgate Ave  40.845051,-73.897747  40.845051 -73.897747   Bronx   \n",
       "\n",
       "                       geometry  index_right ntacode    shape_area  \\\n",
       "0  POINT (-73.863489 40.877499)           75    BX44  3.627360e+07   \n",
       "1  POINT (-73.897747 40.845051)          128    BX01  1.645162e+07   \n",
       "\n",
       "   county_fips                   ntaname    shape_leng boro_name  boro_code  \n",
       "0            5  Williamsbridge-Olinville  27351.077379     Bronx          2  \n",
       "1            5        Claremont-Bathgate  29972.777720     Bronx          2  "
      ]
     },
     "execution_count": 68,
     "metadata": {},
     "output_type": "execute_result"
    }
   ],
   "source": [
    "# dataset 1\n",
    "nyrp = pd.read_csv('../data/NYRP_NTA.csv', index_col=0)\n",
    "nyrp.head(2)"
   ]
  },
  {
   "cell_type": "code",
   "execution_count": 71,
   "metadata": {},
   "outputs": [
    {
     "data": {
      "text/html": [
       "<div>\n",
       "<style scoped>\n",
       "    .dataframe tbody tr th:only-of-type {\n",
       "        vertical-align: middle;\n",
       "    }\n",
       "\n",
       "    .dataframe tbody tr th {\n",
       "        vertical-align: top;\n",
       "    }\n",
       "\n",
       "    .dataframe thead th {\n",
       "        text-align: right;\n",
       "    }\n",
       "</style>\n",
       "<table border=\"1\" class=\"dataframe\">\n",
       "  <thead>\n",
       "    <tr style=\"text-align: right;\">\n",
       "      <th></th>\n",
       "      <th>Address</th>\n",
       "      <th>Latitude</th>\n",
       "      <th>Longitude</th>\n",
       "      <th>NTA</th>\n",
       "    </tr>\n",
       "  </thead>\n",
       "  <tbody>\n",
       "    <tr>\n",
       "      <th>0</th>\n",
       "      <td>735 East 211th St</td>\n",
       "      <td>40.877499</td>\n",
       "      <td>-73.863489</td>\n",
       "      <td>Williamsbridge-Olinville</td>\n",
       "    </tr>\n",
       "    <tr>\n",
       "      <th>1</th>\n",
       "      <td>1818 Bathgate Ave</td>\n",
       "      <td>40.845051</td>\n",
       "      <td>-73.897747</td>\n",
       "      <td>Claremont-Bathgate</td>\n",
       "    </tr>\n",
       "  </tbody>\n",
       "</table>\n",
       "</div>"
      ],
      "text/plain": [
       "             Address   Latitude  Longitude                       NTA\n",
       "0  735 East 211th St  40.877499 -73.863489  Williamsbridge-Olinville\n",
       "1  1818 Bathgate Ave  40.845051 -73.897747        Claremont-Bathgate"
      ]
     },
     "execution_count": 71,
     "metadata": {},
     "output_type": "execute_result"
    }
   ],
   "source": [
    "# rename columns for concat\n",
    "nyrp.rename(columns={\n",
    "    'address': 'Address',\n",
    "    'lat': 'Latitude',\n",
    "    'long': 'Longitude',\n",
    "    'borough': 'Borough',\n",
    "    'ntaname': 'NTA',\n",
    "}, inplace=True) \n",
    "nyrp = nyrp[COLS]\n",
    "nyrp.head(2)"
   ]
  },
  {
   "cell_type": "code",
   "execution_count": 74,
   "metadata": {},
   "outputs": [
    {
     "data": {
      "text/html": [
       "<div>\n",
       "<style scoped>\n",
       "    .dataframe tbody tr th:only-of-type {\n",
       "        vertical-align: middle;\n",
       "    }\n",
       "\n",
       "    .dataframe tbody tr th {\n",
       "        vertical-align: top;\n",
       "    }\n",
       "\n",
       "    .dataframe thead th {\n",
       "        text-align: right;\n",
       "    }\n",
       "</style>\n",
       "<table border=\"1\" class=\"dataframe\">\n",
       "  <thead>\n",
       "    <tr style=\"text-align: right;\">\n",
       "      <th></th>\n",
       "      <th>Address</th>\n",
       "      <th>Latitude</th>\n",
       "      <th>Longitude</th>\n",
       "      <th>NTA</th>\n",
       "    </tr>\n",
       "  </thead>\n",
       "  <tbody>\n",
       "    <tr>\n",
       "      <th>0</th>\n",
       "      <td>626 East 11th Street</td>\n",
       "      <td>40.727124</td>\n",
       "      <td>-73.978677</td>\n",
       "      <td>Lower East Side</td>\n",
       "    </tr>\n",
       "    <tr>\n",
       "      <th>2</th>\n",
       "      <td>1651 Madison Avenue</td>\n",
       "      <td>40.796295</td>\n",
       "      <td>-73.947533</td>\n",
       "      <td>East Harlem South</td>\n",
       "    </tr>\n",
       "  </tbody>\n",
       "</table>\n",
       "</div>"
      ],
      "text/plain": [
       "                Address   Latitude  Longitude                NTA\n",
       "0  626 East 11th Street  40.727124 -73.978677    Lower East Side\n",
       "2   1651 Madison Avenue  40.796295 -73.947533  East Harlem South"
      ]
     },
     "execution_count": 74,
     "metadata": {},
     "output_type": "execute_result"
    }
   ],
   "source": [
    "greenthumb = greenthumb[greenthumb.NTA.notnull()][COLS] # dataset 2\n",
    "greenthumb.head(2)"
   ]
  },
  {
   "cell_type": "code",
   "execution_count": 76,
   "metadata": {},
   "outputs": [
    {
     "data": {
      "text/html": [
       "<div>\n",
       "<style scoped>\n",
       "    .dataframe tbody tr th:only-of-type {\n",
       "        vertical-align: middle;\n",
       "    }\n",
       "\n",
       "    .dataframe tbody tr th {\n",
       "        vertical-align: top;\n",
       "    }\n",
       "\n",
       "    .dataframe thead th {\n",
       "        text-align: right;\n",
       "    }\n",
       "</style>\n",
       "<table border=\"1\" class=\"dataframe\">\n",
       "  <thead>\n",
       "    <tr style=\"text-align: right;\">\n",
       "      <th></th>\n",
       "      <th>Address</th>\n",
       "      <th>Latitude</th>\n",
       "      <th>Longitude</th>\n",
       "      <th>NTA</th>\n",
       "    </tr>\n",
       "  </thead>\n",
       "  <tbody>\n",
       "    <tr>\n",
       "      <th>17</th>\n",
       "      <td>762-764 Herkimer Place/13-21 Hunterfly</td>\n",
       "      <td>-73.927007</td>\n",
       "      <td>40.678030</td>\n",
       "      <td>Crown Heights North</td>\n",
       "    </tr>\n",
       "    <tr>\n",
       "      <th>133</th>\n",
       "      <td>Eastern Pkwy.,W/O Franklin</td>\n",
       "      <td>-73.954455</td>\n",
       "      <td>40.670787</td>\n",
       "      <td>Crown Heights North</td>\n",
       "    </tr>\n",
       "  </tbody>\n",
       "</table>\n",
       "</div>"
      ],
      "text/plain": [
       "                                    Address   Latitude  Longitude  \\\n",
       "17   762-764 Herkimer Place/13-21 Hunterfly -73.927007  40.678030   \n",
       "133              Eastern Pkwy.,W/O Franklin -73.954455  40.670787   \n",
       "\n",
       "                     NTA  \n",
       "17   Crown Heights North  \n",
       "133  Crown Heights North  "
      ]
     },
     "execution_count": 76,
     "metadata": {},
     "output_type": "execute_result"
    }
   ],
   "source": [
    "greenthumb_geocoded = joined # dataset 3, gardens in greenthumb that didn't have NTA info initially, which i later geocoded\n",
    "greenthumb_geocoded.head(2)"
   ]
  },
  {
   "cell_type": "code",
   "execution_count": 77,
   "metadata": {},
   "outputs": [
    {
     "data": {
      "text/html": [
       "<div>\n",
       "<style scoped>\n",
       "    .dataframe tbody tr th:only-of-type {\n",
       "        vertical-align: middle;\n",
       "    }\n",
       "\n",
       "    .dataframe tbody tr th {\n",
       "        vertical-align: top;\n",
       "    }\n",
       "\n",
       "    .dataframe thead th {\n",
       "        text-align: right;\n",
       "    }\n",
       "</style>\n",
       "<table border=\"1\" class=\"dataframe\">\n",
       "  <thead>\n",
       "    <tr style=\"text-align: right;\">\n",
       "      <th></th>\n",
       "      <th>Address</th>\n",
       "      <th>Latitude</th>\n",
       "      <th>Longitude</th>\n",
       "      <th>NTA</th>\n",
       "    </tr>\n",
       "  </thead>\n",
       "  <tbody>\n",
       "    <tr>\n",
       "      <th>17</th>\n",
       "      <td>762-764 Herkimer Place/13-21 Hunterfly</td>\n",
       "      <td>-73.927007</td>\n",
       "      <td>40.678030</td>\n",
       "      <td>Crown Heights North</td>\n",
       "    </tr>\n",
       "    <tr>\n",
       "      <th>133</th>\n",
       "      <td>Eastern Pkwy.,W/O Franklin</td>\n",
       "      <td>-73.954455</td>\n",
       "      <td>40.670787</td>\n",
       "      <td>Crown Heights North</td>\n",
       "    </tr>\n",
       "  </tbody>\n",
       "</table>\n",
       "</div>"
      ],
      "text/plain": [
       "                                    Address   Latitude  Longitude  \\\n",
       "17   762-764 Herkimer Place/13-21 Hunterfly -73.927007  40.678030   \n",
       "133              Eastern Pkwy.,W/O Franklin -73.954455  40.670787   \n",
       "\n",
       "                     NTA  \n",
       "17   Crown Heights North  \n",
       "133  Crown Heights North  "
      ]
     },
     "execution_count": 77,
     "metadata": {},
     "output_type": "execute_result"
    }
   ],
   "source": [
    "greenthumb_geocoded2 = joined2\n",
    "greenthumb_geocoded2.head(2)"
   ]
  },
  {
   "cell_type": "code",
   "execution_count": 79,
   "metadata": {},
   "outputs": [
    {
     "data": {
      "text/html": [
       "<div>\n",
       "<style scoped>\n",
       "    .dataframe tbody tr th:only-of-type {\n",
       "        vertical-align: middle;\n",
       "    }\n",
       "\n",
       "    .dataframe tbody tr th {\n",
       "        vertical-align: top;\n",
       "    }\n",
       "\n",
       "    .dataframe thead th {\n",
       "        text-align: right;\n",
       "    }\n",
       "</style>\n",
       "<table border=\"1\" class=\"dataframe\">\n",
       "  <thead>\n",
       "    <tr style=\"text-align: right;\">\n",
       "      <th></th>\n",
       "      <th>Address</th>\n",
       "      <th>Latitude</th>\n",
       "      <th>Longitude</th>\n",
       "      <th>NTA</th>\n",
       "    </tr>\n",
       "  </thead>\n",
       "  <tbody>\n",
       "    <tr>\n",
       "      <th>0</th>\n",
       "      <td>735 East 211th St</td>\n",
       "      <td>40.877499</td>\n",
       "      <td>-73.863489</td>\n",
       "      <td>Williamsbridge-Olinville</td>\n",
       "    </tr>\n",
       "    <tr>\n",
       "      <th>1</th>\n",
       "      <td>1818 Bathgate Ave</td>\n",
       "      <td>40.845051</td>\n",
       "      <td>-73.897747</td>\n",
       "      <td>Claremont-Bathgate</td>\n",
       "    </tr>\n",
       "    <tr>\n",
       "      <th>2</th>\n",
       "      <td>1017 Teller Ave</td>\n",
       "      <td>40.828150</td>\n",
       "      <td>-73.914356</td>\n",
       "      <td>East Concourse-Concourse Village</td>\n",
       "    </tr>\n",
       "    <tr>\n",
       "      <th>3</th>\n",
       "      <td>1328 Clay Ave</td>\n",
       "      <td>40.834934</td>\n",
       "      <td>-73.908892</td>\n",
       "      <td>East Concourse-Concourse Village</td>\n",
       "    </tr>\n",
       "    <tr>\n",
       "      <th>4</th>\n",
       "      <td>2044 Prospect Ave</td>\n",
       "      <td>40.845818</td>\n",
       "      <td>-73.887851</td>\n",
       "      <td>East Tremont</td>\n",
       "    </tr>\n",
       "  </tbody>\n",
       "</table>\n",
       "</div>"
      ],
      "text/plain": [
       "             Address   Latitude  Longitude                               NTA\n",
       "0  735 East 211th St  40.877499 -73.863489          Williamsbridge-Olinville\n",
       "1  1818 Bathgate Ave  40.845051 -73.897747                Claremont-Bathgate\n",
       "2    1017 Teller Ave  40.828150 -73.914356  East Concourse-Concourse Village\n",
       "3      1328 Clay Ave  40.834934 -73.908892  East Concourse-Concourse Village\n",
       "4  2044 Prospect Ave  40.845818 -73.887851                      East Tremont"
      ]
     },
     "execution_count": 79,
     "metadata": {},
     "output_type": "execute_result"
    }
   ],
   "source": [
    "gardens_combined = pd.concat([nyrp, greenthumb, greenthumb_geocoded, greenthumb_geocoded2], ignore_index=True)\n",
    "gardens_combined.head()"
   ]
  },
  {
   "cell_type": "code",
   "execution_count": 80,
   "metadata": {},
   "outputs": [
    {
     "data": {
      "text/plain": [
       "(581, 4)"
      ]
     },
     "execution_count": 80,
     "metadata": {},
     "output_type": "execute_result"
    }
   ],
   "source": [
    "gardens_combined.shape"
   ]
  },
  {
   "cell_type": "markdown",
   "metadata": {},
   "source": [
    "# Data cleaning: remove duplicates ie gardens of same address"
   ]
  },
  {
   "cell_type": "code",
   "execution_count": 93,
   "metadata": {},
   "outputs": [
    {
     "data": {
      "text/plain": [
       "54"
      ]
     },
     "execution_count": 93,
     "metadata": {},
     "output_type": "execute_result"
    }
   ],
   "source": [
    "# num of duplicates\n",
    "len(gardens_combined[gardens_combined.duplicated(subset='Address')])"
   ]
  },
  {
   "cell_type": "code",
   "execution_count": 95,
   "metadata": {},
   "outputs": [
    {
     "data": {
      "text/plain": [
       "(581, 4)"
      ]
     },
     "execution_count": 95,
     "metadata": {},
     "output_type": "execute_result"
    }
   ],
   "source": [
    "gardens_combined.shape # num gardens before"
   ]
  },
  {
   "cell_type": "code",
   "execution_count": 96,
   "metadata": {},
   "outputs": [
    {
     "data": {
      "text/plain": [
       "(527, 4)"
      ]
     },
     "execution_count": 96,
     "metadata": {},
     "output_type": "execute_result"
    }
   ],
   "source": [
    "gardens_combined.drop_duplicates(subset='Address', keep='first', inplace=True)\n",
    "gardens_combined.shape # num gardens after"
   ]
  },
  {
   "cell_type": "code",
   "execution_count": 97,
   "metadata": {},
   "outputs": [],
   "source": [
    "# save dataset\n",
    "gardens_combined.to_csv('../data/NYC_Community_Gardens_combined.csv')"
   ]
  }
 ],
 "metadata": {
  "kernelspec": {
   "display_name": "Python 3",
   "language": "python",
   "name": "python3"
  },
  "language_info": {
   "codemirror_mode": {
    "name": "ipython",
    "version": 3
   },
   "file_extension": ".py",
   "mimetype": "text/x-python",
   "name": "python",
   "nbconvert_exporter": "python",
   "pygments_lexer": "ipython3",
   "version": "3.6.2"
  }
 },
 "nbformat": 4,
 "nbformat_minor": 2
}
