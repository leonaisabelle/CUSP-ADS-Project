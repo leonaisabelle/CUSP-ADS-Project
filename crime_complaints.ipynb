{
 "cells": [
  {
   "cell_type": "code",
   "execution_count": 1,
   "metadata": {},
   "outputs": [],
   "source": [
    "import pandas as pd\n",
    "import numpy as np\n",
    "import urllib.parse\n",
    "import matplotlib.pyplot as plt\n",
    "\n",
    "%matplotlib inline"
   ]
  },
  {
   "cell_type": "code",
   "execution_count": 2,
   "metadata": {},
   "outputs": [],
   "source": [
    "APP_TOKEN = '2EqneQvd21Xp25hEqUeBSW2b6' # lets me query more data faster than guest user\n",
    "MAX_PG_LIMIT = 50000 # maximum allowable on socrata"
   ]
  },
  {
   "cell_type": "code",
   "execution_count": 3,
   "metadata": {},
   "outputs": [
    {
     "data": {
      "text/html": [
       "<div>\n",
       "<style scoped>\n",
       "    .dataframe tbody tr th:only-of-type {\n",
       "        vertical-align: middle;\n",
       "    }\n",
       "\n",
       "    .dataframe tbody tr th {\n",
       "        vertical-align: top;\n",
       "    }\n",
       "\n",
       "    .dataframe thead th {\n",
       "        text-align: right;\n",
       "    }\n",
       "</style>\n",
       "<table border=\"1\" class=\"dataframe\">\n",
       "  <thead>\n",
       "    <tr style=\"text-align: right;\">\n",
       "      <th></th>\n",
       "      <th>addr_pct_cd</th>\n",
       "      <th>boro_nm</th>\n",
       "      <th>cmplnt_fr_dt</th>\n",
       "      <th>cmplnt_fr_tm</th>\n",
       "      <th>cmplnt_num</th>\n",
       "      <th>cmplnt_to_dt</th>\n",
       "      <th>cmplnt_to_tm</th>\n",
       "      <th>crm_atpt_cptd_cd</th>\n",
       "      <th>hadevelopt</th>\n",
       "      <th>housing_psa</th>\n",
       "      <th>...</th>\n",
       "      <th>station_name</th>\n",
       "      <th>susp_age_group</th>\n",
       "      <th>susp_race</th>\n",
       "      <th>susp_sex</th>\n",
       "      <th>transit_district</th>\n",
       "      <th>vic_age_group</th>\n",
       "      <th>vic_race</th>\n",
       "      <th>vic_sex</th>\n",
       "      <th>x_coord_cd</th>\n",
       "      <th>y_coord_cd</th>\n",
       "    </tr>\n",
       "  </thead>\n",
       "  <tbody>\n",
       "    <tr>\n",
       "      <th>0</th>\n",
       "      <td>25</td>\n",
       "      <td>MANHATTAN</td>\n",
       "      <td>2019-05-21T00:00:00.000</td>\n",
       "      <td>17:00:00</td>\n",
       "      <td>264363701</td>\n",
       "      <td>2019-05-22T00:00:00.000</td>\n",
       "      <td>20:00:00</td>\n",
       "      <td>COMPLETED</td>\n",
       "      <td>NaN</td>\n",
       "      <td>645.0</td>\n",
       "      <td>...</td>\n",
       "      <td>NaN</td>\n",
       "      <td>UNKNOWN</td>\n",
       "      <td>BLACK</td>\n",
       "      <td>M</td>\n",
       "      <td>NaN</td>\n",
       "      <td>&lt;18</td>\n",
       "      <td>BLACK</td>\n",
       "      <td>F</td>\n",
       "      <td>1001322</td>\n",
       "      <td>235045</td>\n",
       "    </tr>\n",
       "    <tr>\n",
       "      <th>1</th>\n",
       "      <td>48</td>\n",
       "      <td>BRONX</td>\n",
       "      <td>2019-03-24T00:00:00.000</td>\n",
       "      <td>14:25:00</td>\n",
       "      <td>883586818</td>\n",
       "      <td>2019-03-24T00:00:00.000</td>\n",
       "      <td>14:30:00</td>\n",
       "      <td>COMPLETED</td>\n",
       "      <td>NaN</td>\n",
       "      <td>NaN</td>\n",
       "      <td>...</td>\n",
       "      <td>NaN</td>\n",
       "      <td>&lt;18</td>\n",
       "      <td>WHITE HISPANIC</td>\n",
       "      <td>F</td>\n",
       "      <td>NaN</td>\n",
       "      <td>&lt;18</td>\n",
       "      <td>BLACK HISPANIC</td>\n",
       "      <td>F</td>\n",
       "      <td>1014258</td>\n",
       "      <td>246497</td>\n",
       "    </tr>\n",
       "    <tr>\n",
       "      <th>2</th>\n",
       "      <td>47</td>\n",
       "      <td>BRONX</td>\n",
       "      <td>2019-06-21T00:00:00.000</td>\n",
       "      <td>20:14:00</td>\n",
       "      <td>802992789</td>\n",
       "      <td>2019-06-21T00:00:00.000</td>\n",
       "      <td>21:19:00</td>\n",
       "      <td>COMPLETED</td>\n",
       "      <td>NaN</td>\n",
       "      <td>NaN</td>\n",
       "      <td>...</td>\n",
       "      <td>NaN</td>\n",
       "      <td>UNKNOWN</td>\n",
       "      <td>UNKNOWN</td>\n",
       "      <td>M</td>\n",
       "      <td>NaN</td>\n",
       "      <td>&lt;18</td>\n",
       "      <td>WHITE HISPANIC</td>\n",
       "      <td>M</td>\n",
       "      <td>1022660</td>\n",
       "      <td>260115</td>\n",
       "    </tr>\n",
       "    <tr>\n",
       "      <th>3</th>\n",
       "      <td>7</td>\n",
       "      <td>MANHATTAN</td>\n",
       "      <td>2019-06-23T00:00:00.000</td>\n",
       "      <td>07:00:00</td>\n",
       "      <td>279614624</td>\n",
       "      <td>2019-06-23T00:00:00.000</td>\n",
       "      <td>07:30:00</td>\n",
       "      <td>COMPLETED</td>\n",
       "      <td>NaN</td>\n",
       "      <td>NaN</td>\n",
       "      <td>...</td>\n",
       "      <td>NaN</td>\n",
       "      <td>UNKNOWN</td>\n",
       "      <td>WHITE HISPANIC</td>\n",
       "      <td>F</td>\n",
       "      <td>NaN</td>\n",
       "      <td>25-44</td>\n",
       "      <td>WHITE</td>\n",
       "      <td>F</td>\n",
       "      <td>988934</td>\n",
       "      <td>200565</td>\n",
       "    </tr>\n",
       "    <tr>\n",
       "      <th>4</th>\n",
       "      <td>5</td>\n",
       "      <td>MANHATTAN</td>\n",
       "      <td>2019-06-01T00:00:00.000</td>\n",
       "      <td>00:06:00</td>\n",
       "      <td>747856938</td>\n",
       "      <td>2019-06-01T00:00:00.000</td>\n",
       "      <td>00:07:00</td>\n",
       "      <td>COMPLETED</td>\n",
       "      <td>NaN</td>\n",
       "      <td>NaN</td>\n",
       "      <td>...</td>\n",
       "      <td>NaN</td>\n",
       "      <td>NaN</td>\n",
       "      <td>NaN</td>\n",
       "      <td>NaN</td>\n",
       "      <td>NaN</td>\n",
       "      <td>UNKNOWN</td>\n",
       "      <td>UNKNOWN</td>\n",
       "      <td>D</td>\n",
       "      <td>985184</td>\n",
       "      <td>198231</td>\n",
       "    </tr>\n",
       "  </tbody>\n",
       "</table>\n",
       "<p>5 rows × 35 columns</p>\n",
       "</div>"
      ],
      "text/plain": [
       "   addr_pct_cd    boro_nm             cmplnt_fr_dt cmplnt_fr_tm  cmplnt_num  \\\n",
       "0           25  MANHATTAN  2019-05-21T00:00:00.000     17:00:00   264363701   \n",
       "1           48      BRONX  2019-03-24T00:00:00.000     14:25:00   883586818   \n",
       "2           47      BRONX  2019-06-21T00:00:00.000     20:14:00   802992789   \n",
       "3            7  MANHATTAN  2019-06-23T00:00:00.000     07:00:00   279614624   \n",
       "4            5  MANHATTAN  2019-06-01T00:00:00.000     00:06:00   747856938   \n",
       "\n",
       "              cmplnt_to_dt cmplnt_to_tm crm_atpt_cptd_cd hadevelopt  \\\n",
       "0  2019-05-22T00:00:00.000     20:00:00        COMPLETED        NaN   \n",
       "1  2019-03-24T00:00:00.000     14:30:00        COMPLETED        NaN   \n",
       "2  2019-06-21T00:00:00.000     21:19:00        COMPLETED        NaN   \n",
       "3  2019-06-23T00:00:00.000     07:30:00        COMPLETED        NaN   \n",
       "4  2019-06-01T00:00:00.000     00:07:00        COMPLETED        NaN   \n",
       "\n",
       "   housing_psa    ...     station_name  susp_age_group       susp_race  \\\n",
       "0        645.0    ...              NaN         UNKNOWN           BLACK   \n",
       "1          NaN    ...              NaN             <18  WHITE HISPANIC   \n",
       "2          NaN    ...              NaN         UNKNOWN         UNKNOWN   \n",
       "3          NaN    ...              NaN         UNKNOWN  WHITE HISPANIC   \n",
       "4          NaN    ...              NaN             NaN             NaN   \n",
       "\n",
       "  susp_sex  transit_district vic_age_group        vic_race  vic_sex  \\\n",
       "0        M               NaN           <18           BLACK        F   \n",
       "1        F               NaN           <18  BLACK HISPANIC        F   \n",
       "2        M               NaN           <18  WHITE HISPANIC        M   \n",
       "3        F               NaN         25-44           WHITE        F   \n",
       "4      NaN               NaN       UNKNOWN         UNKNOWN        D   \n",
       "\n",
       "  x_coord_cd y_coord_cd  \n",
       "0    1001322     235045  \n",
       "1    1014258     246497  \n",
       "2    1022660     260115  \n",
       "3     988934     200565  \n",
       "4     985184     198231  \n",
       "\n",
       "[5 rows x 35 columns]"
      ]
     },
     "execution_count": 3,
     "metadata": {},
     "output_type": "execute_result"
    }
   ],
   "source": [
    "params = urllib.parse.urlencode({'$$app_token': APP_TOKEN,\n",
    "                                 '$where': 'parks_nm IS NOT NULL', \n",
    "                                 '$limit': MAX_PG_LIMIT})\n",
    "\n",
    "crime_in_parks = pd.read_json(\"https://data.cityofnewyork.us/resource/5uac-w243.json?\" + params)\n",
    "crime_in_parks.head()"
   ]
  },
  {
   "cell_type": "code",
   "execution_count": 4,
   "metadata": {},
   "outputs": [
    {
     "data": {
      "text/plain": [
       "(1640, 35)"
      ]
     },
     "execution_count": 4,
     "metadata": {},
     "output_type": "execute_result"
    }
   ],
   "source": [
    "crime_in_parks.shape"
   ]
  },
  {
   "cell_type": "markdown",
   "metadata": {},
   "source": [
    "# Data Cleaning"
   ]
  },
  {
   "cell_type": "code",
   "execution_count": 5,
   "metadata": {},
   "outputs": [],
   "source": [
    "# change specific fields to datetime datatype\n",
    "date_list = ['cmplnt_fr_dt', 'cmplnt_fr_tm', 'cmplnt_to_dt', 'cmplnt_to_tm', 'rpt_dt']\n",
    "crime_in_parks = crime_in_parks.apply(lambda x: pd.to_datetime(x) if x.name in date_list else x)"
   ]
  },
  {
   "cell_type": "markdown",
   "metadata": {},
   "source": [
    "# Analysis"
   ]
  },
  {
   "cell_type": "markdown",
   "metadata": {},
   "source": [
    "### Number of in-park crimes over time"
   ]
  },
  {
   "cell_type": "code",
   "execution_count": 6,
   "metadata": {},
   "outputs": [],
   "source": [
    "# agreegate number of inpark crimes by year and month\n",
    "inpark_dt = crime_in_parks['cmplnt_num'].groupby(crime_in_parks['cmplnt_fr_dt'].dt.to_period(\"M\")).agg('count')"
   ]
  },
  {
   "cell_type": "code",
   "execution_count": 7,
   "metadata": {},
   "outputs": [
    {
     "data": {
      "text/plain": [
       "Text(0,0.5,'Count')"
      ]
     },
     "execution_count": 7,
     "metadata": {},
     "output_type": "execute_result"
    },
    {
     "data": {
      "image/png": "[encoded data removed]",
      "text/plain": [
       "<Figure size 432x288 with 1 Axes>"
      ]
     },
     "metadata": {
      "needs_background": "light"
     },
     "output_type": "display_data"
    }
   ],
   "source": [
    "# plot inpark crime \n",
    "ax = inpark_dt.plot.bar(color='b', title='Number of in-park crime complaints by (Year, Month)')\n",
    "ax.set_xlabel('(Year, Month)')\n",
    "ax.set_ylabel('Count')"
   ]
  },
  {
   "cell_type": "code",
   "execution_count": 8,
   "metadata": {},
   "outputs": [
    {
     "data": {
      "text/plain": [
       "Text(0,0.5,'Count')"
      ]
     },
     "execution_count": 8,
     "metadata": {},
     "output_type": "execute_result"
    },
    {
     "data": {
      "image/png": "[encoded data removed]",
      "text/plain": [
       "<Figure size 432x288 with 1 Axes>"
      ]
     },
     "metadata": {
      "needs_background": "light"
     },
     "output_type": "display_data"
    }
   ],
   "source": [
    "# plot for 2018-2019\n",
    "ax = inpark_dt[inpark_dt.index.year > 2017].plot.bar(color='b', title='Number of in-park crime complaints by (Year, Month)')\n",
    "ax.set_xlabel('(Year, Month)')\n",
    "ax.set_ylabel('Count')"
   ]
  },
  {
   "cell_type": "markdown",
   "metadata": {},
   "source": [
    "### Total crimes over time"
   ]
  },
  {
   "cell_type": "code",
   "execution_count": 9,
   "metadata": {},
   "outputs": [],
   "source": [
    "# load df\n",
    "crime_18_19 = pd.read_csv('NYPD_Complaint_Data_2018to19.csv')\n",
    "crime_18_19['CMPLNT_FR_DT'] = pd.to_datetime(crime_18_19['CMPLNT_FR_DT'])"
   ]
  },
  {
   "cell_type": "code",
   "execution_count": 10,
   "metadata": {},
   "outputs": [],
   "source": [
    "# aggregate over year, mth\n",
    "overall_dt = crime_18_19['CMPLNT_NUM'].groupby(crime_18_19['CMPLNT_FR_DT'].dt.to_period(\"M\")).agg('count')"
   ]
  },
  {
   "cell_type": "code",
   "execution_count": 11,
   "metadata": {},
   "outputs": [
    {
     "data": {
      "text/plain": [
       "Text(0,0.5,'Count')"
      ]
     },
     "execution_count": 11,
     "metadata": {},
     "output_type": "execute_result"
    },
    {
     "data": {
      "image/png": "[encoded data removed]",
      "text/plain": [
       "<Figure size 432x288 with 1 Axes>"
      ]
     },
     "metadata": {
      "needs_background": "light"
     },
     "output_type": "display_data"
    }
   ],
   "source": [
    "# plot overall crime\n",
    "ax = overall_dt.plot.bar(color='b', title='Total crime complaints by (Year, Month)')\n",
    "ax.set_xlabel('(Year, Month)')\n",
    "ax.set_ylabel('Count')"
   ]
  }
 ],
 "metadata": {
  "kernelspec": {
   "display_name": "Python 2",
   "language": "python",
   "name": "python2"
  },
  "language_info": {
   "codemirror_mode": {
    "name": "ipython",
    "version": 2
   },
   "file_extension": ".py",
   "mimetype": "text/x-python",
   "name": "python",
   "nbconvert_exporter": "python",
   "pygments_lexer": "ipython2",
   "version": "2.7.16"
  }
 },
 "nbformat": 4,
 "nbformat_minor": 2
}
